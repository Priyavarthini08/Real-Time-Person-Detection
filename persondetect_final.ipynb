{
  "cells": [
    {
      "cell_type": "code",
      "execution_count": null,
      "metadata": {
        "colab": {
          "base_uri": "https://localhost:8080/"
        },
        "id": "Q1NuP-t2hspW",
        "outputId": "315398e7-99cc-4281-a70b-da3cb9b9b70d"
      },
      "outputs": [
        {
          "output_type": "stream",
          "name": "stdout",
          "text": [
            "Ultralytics YOLOv8.2.81 🚀 Python-3.10.12 torch-2.3.1+cu121 CPU (Intel Xeon 2.20GHz)\n",
            "Setup complete ✅ (2 CPUs, 12.7 GB RAM, 33.7/107.7 GB disk)\n"
          ]
        }
      ],
      "source": [
        "%pip install ultralytics\n",
        "import ultralytics\n",
        "ultralytics.checks()"
      ]
    },
    {
      "cell_type": "code",
      "execution_count": null,
      "metadata": {
        "colab": {
          "base_uri": "https://localhost:8080/"
        },
        "id": "1W3FiHwSiSbf",
        "outputId": "41ec2d30-9193-4a87-eeed-2562c2a870d0"
      },
      "outputs": [
        {
          "output_type": "stream",
          "name": "stdout",
          "text": [
            "Downloading https://github.com/ultralytics/assets/releases/download/v8.2.0/yolov8n.pt to 'yolov8n.pt'...\n",
            "100% 6.25M/6.25M [00:00<00:00, 66.2MB/s]\n",
            "Ultralytics YOLOv8.2.81 🚀 Python-3.10.12 torch-2.3.1+cu121 CPU (Intel Xeon 2.20GHz)\n",
            "YOLOv8n summary (fused): 168 layers, 3,151,904 parameters, 0 gradients, 8.7 GFLOPs\n",
            "\n",
            "Downloading https://ultralytics.com/images/zidane.jpg to 'zidane.jpg'...\n",
            "100% 49.2k/49.2k [00:00<00:00, 4.37MB/s]\n",
            "image 1/1 /content/zidane.jpg: 384x640 2 persons, 1 tie, 329.3ms\n",
            "Speed: 13.6ms preprocess, 329.3ms inference, 30.6ms postprocess per image at shape (1, 3, 384, 640)\n",
            "Results saved to \u001b[1mruns/detect/predict\u001b[0m\n",
            "💡 Learn more at https://docs.ultralytics.com/modes/predict\n"
          ]
        }
      ],
      "source": [
        "# Run inference on an image with YOLOv8n\n",
        "!yolo predict model=yolov8n.pt source='https://ultralytics.com/images/zidane.jpg'"
      ]
    },
    {
      "cell_type": "code",
      "execution_count": null,
      "metadata": {
        "colab": {
          "base_uri": "https://localhost:8080/"
        },
        "id": "37ryY65xiTN_",
        "outputId": "9e9f8b2c-dd77-46dc-8351-ee872e6266f6"
      },
      "outputs": [
        {
          "output_type": "stream",
          "name": "stdout",
          "text": [
            "Archive:  /content/dataset.zip\n",
            "   creating: dataset/\n",
            "  inflating: dataset/.DS_Store       \n",
            "  inflating: __MACOSX/dataset/._.DS_Store  \n",
            "   creating: dataset/train/\n",
            "   creating: dataset/val/\n",
            "   creating: dataset/train/images/\n",
            "   creating: dataset/train/labels/\n",
            "   creating: dataset/val/images/\n",
            "   creating: dataset/val/labels/\n",
            "  inflating: dataset/train/images/001516.jpg  \n",
            "  inflating: __MACOSX/dataset/train/images/._001516.jpg  \n",
            "  inflating: dataset/train/images/001502.jpg  \n",
            "  inflating: __MACOSX/dataset/train/images/._001502.jpg  \n",
            "  inflating: dataset/train/images/-1817-_png_jpg.rf.0c0c9d7ee4b875c6ad49937fc72182f6.jpg  \n",
            "  inflating: __MACOSX/dataset/train/images/._-1817-_png_jpg.rf.0c0c9d7ee4b875c6ad49937fc72182f6.jpg  \n",
            "  inflating: dataset/train/images/005200.jpg  \n",
            "  inflating: __MACOSX/dataset/train/images/._005200.jpg  \n",
            "  inflating: dataset/train/images/001890.jpg  \n",
            "  inflating: __MACOSX/dataset/train/images/._001890.jpg  \n",
            "  inflating: dataset/train/images/001476.jpg  \n",
            "  inflating: __MACOSX/dataset/train/images/._001476.jpg  \n",
            "  inflating: dataset/train/images/001338.jpg  \n",
            "  inflating: __MACOSX/dataset/train/images/._001338.jpg  \n",
            "  inflating: dataset/train/images/ppe_0886_jpg.rf.ad5ddd17cb1d27b716f5681b4aae8fd3.jpg  \n",
            "  inflating: __MACOSX/dataset/train/images/._ppe_0886_jpg.rf.ad5ddd17cb1d27b716f5681b4aae8fd3.jpg  \n",
            "  inflating: dataset/train/images/ppe_0941_jpg.rf.c7fcf7d8f89d423c80586709b693b697.jpg  \n",
            "  inflating: __MACOSX/dataset/train/images/._ppe_0941_jpg.rf.c7fcf7d8f89d423c80586709b693b697.jpg  \n",
            "  inflating: dataset/train/images/005188.jpg  \n",
            "  inflating: __MACOSX/dataset/train/images/._005188.jpg  \n",
            "  inflating: dataset/train/images/image_217_jpg.rf.1e4d9fbf97a087648742078ff5941b67.jpg  \n",
            "  inflating: __MACOSX/dataset/train/images/._image_217_jpg.rf.1e4d9fbf97a087648742078ff5941b67.jpg  \n",
            "  inflating: dataset/train/images/001305.jpg  \n",
            "  inflating: __MACOSX/dataset/train/images/._001305.jpg  \n",
            "  inflating: dataset/train/images/001852.jpg  \n",
            "  inflating: __MACOSX/dataset/train/images/._001852.jpg  \n",
            "  inflating: dataset/train/images/001846.jpg  \n",
            "  inflating: __MACOSX/dataset/train/images/._001846.jpg  \n",
            "  inflating: dataset/train/images/001649.jpg  \n",
            "  inflating: __MACOSX/dataset/train/images/._001649.jpg  \n",
            "  inflating: dataset/train/images/001661.jpg  \n",
            "  inflating: __MACOSX/dataset/train/images/._001661.jpg  \n",
            "  inflating: dataset/train/images/001926.jpg  \n",
            "  inflating: __MACOSX/dataset/train/images/._001926.jpg  \n",
            "  inflating: dataset/train/images/001932.jpg  \n",
            "  inflating: __MACOSX/dataset/train/images/._001932.jpg  \n",
            "  inflating: dataset/train/images/TsirinTu0018_jpg.rf.3fe2fc0fdb3a31434f1bac91d61e53be.jpg  \n",
            "  inflating: __MACOSX/dataset/train/images/._TsirinTu0018_jpg.rf.3fe2fc0fdb3a31434f1bac91d61e53be.jpg  \n",
            "  inflating: dataset/train/images/001729.jpg  \n",
            "  inflating: __MACOSX/dataset/train/images/._001729.jpg  \n",
            "  inflating: dataset/train/images/005201.jpg  \n",
            "  inflating: __MACOSX/dataset/train/images/._005201.jpg  \n",
            "  inflating: dataset/train/images/005003.jpg  \n",
            "  inflating: __MACOSX/dataset/train/images/._005003.jpg  \n",
            "  inflating: dataset/train/images/001271.jpg  \n",
            "  inflating: __MACOSX/dataset/train/images/._001271.jpg  \n",
            "  inflating: dataset/train/images/001501.jpg  \n",
            "  inflating: __MACOSX/dataset/train/images/._001501.jpg  \n",
            "  inflating: dataset/train/images/001071.jpg  \n",
            "  inflating: __MACOSX/dataset/train/images/._001071.jpg  \n",
            "  inflating: dataset/train/images/001059.jpg  \n",
            "  inflating: __MACOSX/dataset/train/images/._001059.jpg  \n",
            "  inflating: dataset/train/images/001930.jpg  \n",
            "  inflating: __MACOSX/dataset/train/images/._001930.jpg  \n",
            "  inflating: dataset/train/images/001111.jpg  \n",
            "  inflating: __MACOSX/dataset/train/images/._001111.jpg  \n",
            "  inflating: dataset/train/images/Video2_174_jpg.rf.d04a29e17bdf3c1135e2a0d6744250c0.jpg  \n",
            "  inflating: __MACOSX/dataset/train/images/._Video2_174_jpg.rf.d04a29e17bdf3c1135e2a0d6744250c0.jpg  \n",
            "  inflating: dataset/train/images/001878.jpg  \n",
            "  inflating: __MACOSX/dataset/train/images/._001878.jpg  \n",
            "  inflating: dataset/train/images/005175.jpg  \n",
            "  inflating: __MACOSX/dataset/train/images/._005175.jpg  \n",
            "  inflating: dataset/train/images/001448.jpg  \n",
            "  inflating: __MACOSX/dataset/train/images/._001448.jpg  \n",
            "  inflating: dataset/train/images/-2180-_png_jpg.rf.9d63bb305e7747d22fe9a196dcc5ce13.jpg  \n",
            "  inflating: __MACOSX/dataset/train/images/._-2180-_png_jpg.rf.9d63bb305e7747d22fe9a196dcc5ce13.jpg  \n",
            "  inflating: dataset/train/images/001474.jpg  \n",
            "  inflating: __MACOSX/dataset/train/images/._001474.jpg  \n",
            "  inflating: dataset/train/images/001689.jpg  \n",
            "  inflating: __MACOSX/dataset/train/images/._001689.jpg  \n",
            "  inflating: dataset/train/images/ppe_1202_jpg.rf.c2963de6cf48426e058b866f008b72f0.jpg  \n",
            "  inflating: __MACOSX/dataset/train/images/._ppe_1202_jpg.rf.c2963de6cf48426e058b866f008b72f0.jpg  \n",
            "  inflating: dataset/train/images/001931.jpg  \n",
            "  inflating: __MACOSX/dataset/train/images/._001931.jpg  \n",
            "  inflating: dataset/train/images/005028.jpg  \n",
            "  inflating: __MACOSX/dataset/train/images/._005028.jpg  \n",
            "  inflating: dataset/train/images/001514.jpg  \n",
            "  inflating: __MACOSX/dataset/train/images/._001514.jpg  \n",
            "  inflating: dataset/train/images/005000.jpg  \n",
            "  inflating: __MACOSX/dataset/train/images/._005000.jpg  \n",
            "  inflating: dataset/train/images/005038.jpg  \n",
            "  inflating: __MACOSX/dataset/train/images/._005038.jpg  \n",
            "  inflating: dataset/train/images/005212.jpg  \n",
            "  inflating: __MACOSX/dataset/train/images/._005212.jpg  \n",
            "  inflating: dataset/train/images/001921.jpg  \n",
            "  inflating: __MACOSX/dataset/train/images/._001921.jpg  \n",
            "  inflating: dataset/train/images/001855.jpg  \n",
            "  inflating: __MACOSX/dataset/train/images/._001855.jpg  \n",
            "  inflating: dataset/train/images/001841.jpg  \n",
            "  inflating: __MACOSX/dataset/train/images/._001841.jpg  \n",
            "  inflating: dataset/train/images/images85_jpg.rf.63100ad7637913c912a58d3538cae4bd.jpg  \n",
            "  inflating: __MACOSX/dataset/train/images/._images85_jpg.rf.63100ad7637913c912a58d3538cae4bd.jpg  \n",
            "  inflating: dataset/train/images/001302.jpg  \n",
            "  inflating: __MACOSX/dataset/train/images/._001302.jpg  \n",
            "  inflating: dataset/train/images/005164.jpg  \n",
            "  inflating: __MACOSX/dataset/train/images/._005164.jpg  \n",
            "  inflating: dataset/train/images/Video2_42_jpg.rf.f8ab7627f1a6ff7bcb89500ce01f949a.jpg  \n",
            "  inflating: __MACOSX/dataset/train/images/._Video2_42_jpg.rf.f8ab7627f1a6ff7bcb89500ce01f949a.jpg  \n",
            "  inflating: dataset/train/images/001303.jpg  \n",
            "  inflating: __MACOSX/dataset/train/images/._001303.jpg  \n",
            "  inflating: dataset/train/images/005159.jpg  \n",
            "  inflating: __MACOSX/dataset/train/images/._005159.jpg  \n",
            "  inflating: dataset/train/images/001840.jpg  \n",
            "  inflating: __MACOSX/dataset/train/images/._001840.jpg  \n",
            "  inflating: dataset/train/images/001854.jpg  \n",
            "  inflating: __MACOSX/dataset/train/images/._001854.jpg  \n",
            "  inflating: dataset/train/images/001129.jpg  \n",
            "  inflating: __MACOSX/dataset/train/images/._001129.jpg  \n",
            "  inflating: dataset/train/images/001713.jpg  \n",
            "  inflating: __MACOSX/dataset/train/images/._001713.jpg  \n",
            "  inflating: dataset/train/images/-1832-_png_jpg.rf.d56cb4edba4c059bdfa7f2c581d26a19.jpg  \n",
            "  inflating: __MACOSX/dataset/train/images/._-1832-_png_jpg.rf.d56cb4edba4c059bdfa7f2c581d26a19.jpg  \n",
            "  inflating: dataset/train/images/005013.jpg  \n",
            "  inflating: __MACOSX/dataset/train/images/._005013.jpg  \n",
            "  inflating: dataset/train/images/001344_jpg.rf.1c7c5ed37e407155e2d7cf0216f893ed.jpg  \n",
            "  inflating: __MACOSX/dataset/train/images/._001344_jpg.rf.1c7c5ed37e407155e2d7cf0216f893ed.jpg  \n",
            "  inflating: dataset/train/images/001711.jpg  \n",
            "  inflating: __MACOSX/dataset/train/images/._001711.jpg  \n",
            "  inflating: dataset/train/images/001659.jpg  \n",
            "  inflating: __MACOSX/dataset/train/images/._001659.jpg  \n",
            "  inflating: dataset/train/images/001842.jpg  \n",
            "  inflating: __MACOSX/dataset/train/images/._001842.jpg  \n",
            "  inflating: dataset/train/images/00550_jpg.rf.956081908ad03e1ac7531cf1445c948a.jpg  \n",
            "  inflating: __MACOSX/dataset/train/images/._00550_jpg.rf.956081908ad03e1ac7531cf1445c948a.jpg  \n",
            "  inflating: dataset/train/images/005198.jpg  \n",
            "  inflating: __MACOSX/dataset/train/images/._005198.jpg  \n",
            "  inflating: dataset/train/images/005166.jpg  \n",
            "  inflating: __MACOSX/dataset/train/images/._005166.jpg  \n",
            "  inflating: dataset/train/images/001843.jpg  \n",
            "  inflating: __MACOSX/dataset/train/images/._001843.jpg  \n",
            "  inflating: dataset/train/images/-1532-_png_jpg.rf.08a5b6985f24bfe7efefdb45c04469c2.jpg  \n",
            "  inflating: __MACOSX/dataset/train/images/._-1532-_png_jpg.rf.08a5b6985f24bfe7efefdb45c04469c2.jpg  \n",
            "  inflating: dataset/train/images/001664.jpg  \n",
            "  inflating: __MACOSX/dataset/train/images/._001664.jpg  \n",
            "  inflating: dataset/train/images/001710.jpg  \n",
            "  inflating: __MACOSX/dataset/train/images/._001710.jpg  \n",
            "  inflating: dataset/train/images/001738.jpg  \n",
            "  inflating: __MACOSX/dataset/train/images/._001738.jpg  \n",
            "  inflating: dataset/train/images/001213.jpg  \n",
            "  inflating: __MACOSX/dataset/train/images/._001213.jpg  \n",
            "  inflating: dataset/train/images/001561.jpg  \n",
            "  inflating: __MACOSX/dataset/train/images/._001561.jpg  \n",
            "  inflating: dataset/train/images/006336_jpg.rf.4882fa277106be1378a906016ab8a711.jpg  \n",
            "  inflating: __MACOSX/dataset/train/images/._006336_jpg.rf.4882fa277106be1378a906016ab8a711.jpg  \n",
            "  inflating: dataset/train/images/image_108_jpg.rf.6b8ca4832a9576fc6d610029fbaed93a.jpg  \n",
            "  inflating: __MACOSX/dataset/train/images/._image_108_jpg.rf.6b8ca4832a9576fc6d610029fbaed93a.jpg  \n",
            "  inflating: dataset/train/images/001987.jpg  \n",
            "  inflating: __MACOSX/dataset/train/images/._001987.jpg  \n",
            "  inflating: dataset/train/images/001788.jpg  \n",
            "  inflating: __MACOSX/dataset/train/images/._001788.jpg  \n",
            "  inflating: dataset/train/images/-1571-_png_jpg.rf.ccf919d5ea025ddc24cf0a707b331249.jpg  \n",
            "  inflating: __MACOSX/dataset/train/images/._-1571-_png_jpg.rf.ccf919d5ea025ddc24cf0a707b331249.jpg  \n",
            "  inflating: dataset/train/images/001367.jpg  \n",
            "  inflating: __MACOSX/dataset/train/images/._001367.jpg  \n",
            "  inflating: dataset/train/images/005129.jpg  \n",
            "  inflating: __MACOSX/dataset/train/images/._005129.jpg  \n",
            "  inflating: dataset/train/images/005128.jpg  \n",
            "  inflating: __MACOSX/dataset/train/images/._005128.jpg  \n",
            "  inflating: dataset/train/images/005114.jpg  \n",
            "  inflating: __MACOSX/dataset/train/images/._005114.jpg  \n",
            "  inflating: dataset/train/images/001831.jpg  \n",
            "  inflating: __MACOSX/dataset/train/images/._001831.jpg  \n",
            "  inflating: dataset/train/images/-2338-_png_jpg.rf.e79ac380146af51e53738fd6184e1808.jpg  \n",
            "  inflating: __MACOSX/dataset/train/images/._-2338-_png_jpg.rf.e79ac380146af51e53738fd6184e1808.jpg  \n",
            "  inflating: dataset/train/images/image_227_jpg.rf.0f48674aea1b8aaf3e7baac80abf9ea4.jpg  \n",
            "  inflating: __MACOSX/dataset/train/images/._image_227_jpg.rf.0f48674aea1b8aaf3e7baac80abf9ea4.jpg  \n",
            "  inflating: dataset/train/images/001164.jpg  \n",
            "  inflating: __MACOSX/dataset/train/images/._001164.jpg  \n",
            "  inflating: dataset/train/images/001951.jpg  \n",
            "  inflating: __MACOSX/dataset/train/images/._001951.jpg  \n",
            "  inflating: dataset/train/images/005289.jpg  \n",
            "  inflating: __MACOSX/dataset/train/images/._005289.jpg  \n",
            "  inflating: dataset/train/images/005262.jpg  \n",
            "  inflating: __MACOSX/dataset/train/images/._005262.jpg  \n",
            "  inflating: dataset/train/images/image_166_jpg.rf.0c224aad30b67729bbd50121255b0e0c.jpg  \n",
            "  inflating: __MACOSX/dataset/train/images/._image_166_jpg.rf.0c224aad30b67729bbd50121255b0e0c.jpg  \n",
            "  inflating: dataset/train/images/YouTube-FreeStockFootage_Child-playing-with-parents-JoyLaughterHD-RQ_qqCZOkZk-720p_mp4-34_jpg.rf.01d6349eabce5613415c586a543c9f0b.jpg  \n",
            "  inflating: __MACOSX/dataset/train/images/._YouTube-FreeStockFootage_Child-playing-with-parents-JoyLaughterHD-RQ_qqCZOkZk-720p_mp4-34_jpg.rf.01d6349eabce5613415c586a543c9f0b.jpg  \n",
            "  inflating: dataset/train/images/001589.jpg  \n",
            "  inflating: __MACOSX/dataset/train/images/._001589.jpg  \n",
            "  inflating: dataset/train/images/helmet999908_jpg.rf.eb7ec7dc0f18f138ae8ef798ce105624.jpg  \n",
            "  inflating: __MACOSX/dataset/train/images/._helmet999908_jpg.rf.eb7ec7dc0f18f138ae8ef798ce105624.jpg  \n",
            "  inflating: dataset/train/images/001760.jpg  \n",
            "  inflating: __MACOSX/dataset/train/images/._001760.jpg  \n",
            "  inflating: dataset/train/images/005260.jpg  \n",
            "  inflating: __MACOSX/dataset/train/images/._005260.jpg  \n",
            "  inflating: dataset/train/images/001990.jpg  \n",
            "  inflating: __MACOSX/dataset/train/images/._001990.jpg  \n",
            "  inflating: dataset/train/images/001953.jpg  \n",
            "  inflating: __MACOSX/dataset/train/images/._001953.jpg  \n",
            "  inflating: dataset/train/images/Video2_91_jpg.rf.faca99c76175b53a646f60aa1abc4b14.jpg  \n",
            "  inflating: __MACOSX/dataset/train/images/._Video2_91_jpg.rf.faca99c76175b53a646f60aa1abc4b14.jpg  \n",
            "  inflating: dataset/train/images/001199.jpg  \n",
            "  inflating: __MACOSX/dataset/train/images/._001199.jpg  \n",
            "  inflating: dataset/train/images/-2091-_png_jpg.rf.24a38225fa17a89f450e6fcf90584bb5.jpg  \n",
            "  inflating: __MACOSX/dataset/train/images/._-2091-_png_jpg.rf.24a38225fa17a89f450e6fcf90584bb5.jpg  \n",
            "  inflating: dataset/train/images/001358.jpg  \n",
            "  inflating: __MACOSX/dataset/train/images/._001358.jpg  \n",
            "  inflating: dataset/train/images/001365.jpg  \n",
            "  inflating: __MACOSX/dataset/train/images/._001365.jpg  \n",
            "  inflating: dataset/train/images/001417.jpg  \n",
            "  inflating: __MACOSX/dataset/train/images/._001417.jpg  \n",
            "  inflating: dataset/train/images/001198.jpg  \n",
            "  inflating: __MACOSX/dataset/train/images/._001198.jpg  \n",
            "  inflating: dataset/train/images/ppe_1189_jpg.rf.f6977c81a4c10b70e7d36a5b90956b94.jpg  \n",
            "  inflating: __MACOSX/dataset/train/images/._ppe_1189_jpg.rf.f6977c81a4c10b70e7d36a5b90956b94.jpg  \n",
            "  inflating: dataset/train/images/001173.jpg  \n",
            "  inflating: __MACOSX/dataset/train/images/._001173.jpg  \n",
            "  inflating: dataset/train/images/001952.jpg  \n",
            "  inflating: __MACOSX/dataset/train/images/._001952.jpg  \n",
            "  inflating: dataset/train/images/001229.jpg  \n",
            "  inflating: __MACOSX/dataset/train/images/._001229.jpg  \n",
            "  inflating: dataset/train/images/001201.jpg  \n",
            "  inflating: __MACOSX/dataset/train/images/._001201.jpg  \n",
            "  inflating: dataset/train/images/001003.jpg  \n",
            "  inflating: __MACOSX/dataset/train/images/._001003.jpg  \n",
            "  inflating: dataset/train/images/001177.jpg  \n",
            "  inflating: __MACOSX/dataset/train/images/._001177.jpg  \n",
            "  inflating: dataset/train/images/001611.jpg  \n",
            "  inflating: __MACOSX/dataset/train/images/._001611.jpg  \n",
            "  inflating: dataset/train/images/001188.jpg  \n",
            "  inflating: __MACOSX/dataset/train/images/._001188.jpg  \n",
            "  inflating: dataset/train/images/001836.jpg  \n",
            "  inflating: __MACOSX/dataset/train/images/._001836.jpg  \n",
            "  inflating: dataset/train/images/-4100-_png_jpg.rf.aebfe87c2b4f556f03d14fc3cc6facf7.jpg  \n",
            "  inflating: __MACOSX/dataset/train/images/._-4100-_png_jpg.rf.aebfe87c2b4f556f03d14fc3cc6facf7.jpg  \n",
            "  inflating: dataset/train/images/005113.jpg  \n",
            "  inflating: __MACOSX/dataset/train/images/._005113.jpg  \n",
            "  inflating: dataset/train/images/00570_jpg.rf.8ef9857b5322e813de5cbd952d01b137.jpg  \n",
            "  inflating: __MACOSX/dataset/train/images/._00570_jpg.rf.8ef9857b5322e813de5cbd952d01b137.jpg  \n",
            "  inflating: dataset/train/images/005106.jpg  \n",
            "  inflating: __MACOSX/dataset/train/images/._005106.jpg  \n",
            "  inflating: dataset/train/images/001406.jpg  \n",
            "  inflating: __MACOSX/dataset/train/images/._001406.jpg  \n",
            "  inflating: dataset/train/images/001412.jpg  \n",
            "  inflating: __MACOSX/dataset/train/images/._001412.jpg  \n",
            "  inflating: dataset/train/images/001837.jpg  \n",
            "  inflating: __MACOSX/dataset/train/images/._001837.jpg  \n",
            "  inflating: dataset/train/images/001604.jpg  \n",
            "  inflating: __MACOSX/dataset/train/images/._001604.jpg  \n",
            "  inflating: dataset/train/images/001943.jpg  \n",
            "  inflating: __MACOSX/dataset/train/images/._001943.jpg  \n",
            "  inflating: dataset/train/images/image_108_jpg.rf.a2a7f9dd16e7a136d02fb42a810d1644.jpg  \n",
            "  inflating: __MACOSX/dataset/train/images/._image_108_jpg.rf.a2a7f9dd16e7a136d02fb42a810d1644.jpg  \n",
            "  inflating: dataset/train/images/001758.jpg  \n",
            "  inflating: __MACOSX/dataset/train/images/._001758.jpg  \n",
            "  inflating: dataset/train/images/005099.jpg  \n",
            "  inflating: __MACOSX/dataset/train/images/._005099.jpg  \n",
            "  inflating: dataset/train/images/001202.jpg  \n",
            "  inflating: __MACOSX/dataset/train/images/._001202.jpg  \n",
            "  inflating: dataset/train/images/YouTube-FreeStockFootage_Child-playing-with-parents-JoyLaughterHD-RQ_qqCZOkZk-720p_mp4-35_jpg.rf.d03a2efbca9287a52d02a3d428d2aaf5.jpg  \n",
            "  inflating: __MACOSX/dataset/train/images/._YouTube-FreeStockFootage_Child-playing-with-parents-JoyLaughterHD-RQ_qqCZOkZk-720p_mp4-35_jpg.rf.d03a2efbca9287a52d02a3d428d2aaf5.jpg  \n",
            "  inflating: dataset/train/images/image_217_jpg.rf.460f83c2cb3f8a18689f92b2f8835f9a.jpg  \n",
            "  inflating: __MACOSX/dataset/train/images/._image_217_jpg.rf.460f83c2cb3f8a18689f92b2f8835f9a.jpg  \n",
            "  inflating: dataset/train/images/001969.jpg  \n",
            "  inflating: __MACOSX/dataset/train/images/._001969.jpg  \n",
            "  inflating: dataset/train/images/YouTube-FREE-AerialStockFootage_CityUrban-YKY3Mm5P1tE-720p_mp4-31_jpg.rf.c88b23a01eb99ef16b5208d11dd5764f.jpg  \n",
            "  inflating: __MACOSX/dataset/train/images/._YouTube-FREE-AerialStockFootage_CityUrban-YKY3Mm5P1tE-720p_mp4-31_jpg.rf.c88b23a01eb99ef16b5208d11dd5764f.jpg  \n",
            "  inflating: dataset/train/images/001809.jpg  \n",
            "  inflating: __MACOSX/dataset/train/images/._001809.jpg  \n",
            "  inflating: dataset/train/images/001438.jpg  \n",
            "  inflating: __MACOSX/dataset/train/images/._001438.jpg  \n",
            "  inflating: dataset/train/images/005138.jpg  \n",
            "  inflating: __MACOSX/dataset/train/images/._005138.jpg  \n",
            "  inflating: dataset/train/images/001376.jpg  \n",
            "  inflating: __MACOSX/dataset/train/images/._001376.jpg  \n",
            "  inflating: dataset/train/images/001363.jpg  \n",
            "  inflating: __MACOSX/dataset/train/images/._001363.jpg  \n",
            "  inflating: dataset/train/images/image_190_jpg.rf.2e92814af735dd1c2f54325bac2750f3.jpg  \n",
            "  inflating: __MACOSX/dataset/train/images/._image_190_jpg.rf.2e92814af735dd1c2f54325bac2750f3.jpg  \n",
            "  inflating: dataset/train/images/youtube-6_jpg.rf.a9f31f242ee7d731c625ed07f6002b9b.jpg  \n",
            "  inflating: __MACOSX/dataset/train/images/._youtube-6_jpg.rf.a9f31f242ee7d731c625ed07f6002b9b.jpg  \n",
            "  inflating: dataset/train/images/001834.jpg  \n",
            "  inflating: __MACOSX/dataset/train/images/._001834.jpg  \n",
            "  inflating: dataset/train/images/image_237_jpg.rf.353ad34ef2718e9f9e14f8a21bc5afa6.jpg  \n",
            "  inflating: __MACOSX/dataset/train/images/._image_237_jpg.rf.353ad34ef2718e9f9e14f8a21bc5afa6.jpg  \n",
            "  inflating: dataset/train/images/Video2_150_jpg.rf.b9afc4a41d95211f77fb12a37629e211.jpg  \n",
            "  inflating: __MACOSX/dataset/train/images/._Video2_150_jpg.rf.b9afc4a41d95211f77fb12a37629e211.jpg  \n",
            "  inflating: dataset/train/images/005273.jpg  \n",
            "  inflating: __MACOSX/dataset/train/images/._005273.jpg  \n",
            "  inflating: dataset/train/images/001773.jpg  \n",
            "  inflating: __MACOSX/dataset/train/images/._001773.jpg  \n",
            "  inflating: dataset/train/images/001029.jpg  \n",
            "  inflating: __MACOSX/dataset/train/images/._001029.jpg  \n",
            "  inflating: dataset/train/images/001997.jpg  \n",
            "  inflating: __MACOSX/dataset/train/images/._001997.jpg  \n",
            "  inflating: dataset/train/images/005071.jpg  \n",
            "  inflating: __MACOSX/dataset/train/images/._005071.jpg  \n",
            "  inflating: dataset/train/images/001232.jpg  \n",
            "  inflating: __MACOSX/dataset/train/images/._001232.jpg  \n",
            "  inflating: dataset/train/images/006369_jpg.rf.5a962f5cea4ec0c8758fdca0b035728d.jpg  \n",
            "  inflating: __MACOSX/dataset/train/images/._006369_jpg.rf.5a962f5cea4ec0c8758fdca0b035728d.jpg  \n",
            "  inflating: dataset/train/images/001568.jpg  \n",
            "  inflating: __MACOSX/dataset/train/images/._001568.jpg  \n",
            "  inflating: dataset/train/images/005097.jpg  \n",
            "  inflating: __MACOSX/dataset/train/images/._005097.jpg  \n",
            "  inflating: dataset/train/images/001597.jpg  \n",
            "  inflating: __MACOSX/dataset/train/images/._001597.jpg  \n",
            "  inflating: dataset/train/images/005242.jpg  \n",
            "  inflating: __MACOSX/dataset/train/images/._005242.jpg  \n",
            "  inflating: dataset/train/images/001781.jpg  \n",
            "  inflating: __MACOSX/dataset/train/images/._001781.jpg  \n",
            "  inflating: dataset/train/images/001971.jpg  \n",
            "  inflating: __MACOSX/dataset/train/images/._001971.jpg  \n",
            "  inflating: dataset/train/images/001187.jpg  \n",
            "  inflating: __MACOSX/dataset/train/images/._001187.jpg  \n",
            "  inflating: dataset/train/images/-2293-_png_jpg.rf.b1d581d625ae74bb60b5d56e7b562654.jpg  \n",
            "  inflating: __MACOSX/dataset/train/images/._-2293-_png_jpg.rf.b1d581d625ae74bb60b5d56e7b562654.jpg  \n",
            "  inflating: dataset/train/images/001811.jpg  \n",
            "  inflating: __MACOSX/dataset/train/images/._001811.jpg  \n",
            "  inflating: dataset/train/images/001391.jpg  \n",
            "  inflating: __MACOSX/dataset/train/images/._001391.jpg  \n",
            "  inflating: dataset/train/images/-4216-_png_jpg.rf.881e17f72716e3cbdaa9d20cf9558142.jpg  \n",
            "  inflating: __MACOSX/dataset/train/images/._-4216-_png_jpg.rf.881e17f72716e3cbdaa9d20cf9558142.jpg  \n",
            "  inflating: dataset/train/images/001347.jpg  \n",
            "  inflating: __MACOSX/dataset/train/images/._001347.jpg  \n",
            "  inflating: dataset/train/images/001810.jpg  \n",
            "  inflating: __MACOSX/dataset/train/images/._001810.jpg  \n",
            "  inflating: dataset/train/images/001186.jpg  \n",
            "  inflating: __MACOSX/dataset/train/images/._001186.jpg  \n",
            "  inflating: dataset/train/images/001179.jpg  \n",
            "  inflating: __MACOSX/dataset/train/images/._001179.jpg  \n",
            "  inflating: dataset/train/images/001637.jpg  \n",
            "  inflating: __MACOSX/dataset/train/images/._001637.jpg  \n",
            "  inflating: dataset/train/images/005280.jpg  \n",
            "  inflating: __MACOSX/dataset/train/images/._005280.jpg  \n",
            "  inflating: dataset/train/images/images-2022-07-04T013101_jpg.rf.61a513fd8447097dc3c37ad8e6ab7e78.jpg  \n",
            "  inflating: __MACOSX/dataset/train/images/._images-2022-07-04T013101_jpg.rf.61a513fd8447097dc3c37ad8e6ab7e78.jpg  \n",
            "  inflating: dataset/train/images/001757.jpg  \n",
            "  inflating: __MACOSX/dataset/train/images/._001757.jpg  \n",
            "  inflating: dataset/train/images/005069.jpg  \n",
            "  inflating: __MACOSX/dataset/train/images/._005069.jpg  \n",
            "  inflating: dataset/train/images/001541.jpg  \n",
            "  inflating: __MACOSX/dataset/train/images/._001541.jpg  \n",
            "  inflating: dataset/train/images/005055.jpg  \n",
            "  inflating: __MACOSX/dataset/train/images/._005055.jpg  \n",
            "  inflating: dataset/train/images/001225.jpg  \n",
            "  inflating: __MACOSX/dataset/train/images/._001225.jpg  \n",
            "  inflating: dataset/train/images/001231.jpg  \n",
            "  inflating: __MACOSX/dataset/train/images/._001231.jpg  \n",
            "  inflating: dataset/train/images/005057.jpg  \n",
            "  inflating: __MACOSX/dataset/train/images/._005057.jpg  \n",
            "  inflating: dataset/train/images/001580.jpg  \n",
            "  inflating: __MACOSX/dataset/train/images/._001580.jpg  \n",
            "  inflating: dataset/train/images/001147.jpg  \n",
            "  inflating: __MACOSX/dataset/train/images/._001147.jpg  \n",
            "  inflating: dataset/train/images/helmet999958_jpg.rf.c20b516a6a36203afcd0cd426a11b71c.jpg  \n",
            "  inflating: __MACOSX/dataset/train/images/._helmet999958_jpg.rf.c20b516a6a36203afcd0cd426a11b71c.jpg  \n",
            "  inflating: dataset/train/images/001190.jpg  \n",
            "  inflating: __MACOSX/dataset/train/images/._001190.jpg  \n",
            "  inflating: dataset/train/images/001812.jpg  \n",
            "  inflating: __MACOSX/dataset/train/images/._001812.jpg  \n",
            "  inflating: dataset/train/images/001392.jpg  \n",
            "  inflating: __MACOSX/dataset/train/images/._001392.jpg  \n",
            "  inflating: dataset/train/images/ppe_1022_jpg.rf.589fdbf689e5614020d4706c7a5f5083.jpg  \n",
            "  inflating: __MACOSX/dataset/train/images/._ppe_1022_jpg.rf.589fdbf689e5614020d4706c7a5f5083.jpg  \n",
            "  inflating: dataset/train/images/001393.jpg  \n",
            "  inflating: __MACOSX/dataset/train/images/._001393.jpg  \n",
            "  inflating: dataset/train/images/001436.jpg  \n",
            "  inflating: __MACOSX/dataset/train/images/._001436.jpg  \n",
            "  inflating: dataset/train/images/001185.jpg  \n",
            "  inflating: __MACOSX/dataset/train/images/._001185.jpg  \n",
            "  inflating: dataset/train/images/001191.jpg  \n",
            "  inflating: __MACOSX/dataset/train/images/._001191.jpg  \n",
            "  inflating: dataset/train/images/001146.jpg  \n",
            "  inflating: __MACOSX/dataset/train/images/._001146.jpg  \n",
            "  inflating: dataset/train/images/001634.jpg  \n",
            "  inflating: __MACOSX/dataset/train/images/._001634.jpg  \n",
            "  inflating: dataset/train/images/images-2022-07-04T013042_jpg.rf.b978dadc52cedd1622e4ef2c8cd1489d.jpg  \n",
            "  inflating: __MACOSX/dataset/train/images/._images-2022-07-04T013042_jpg.rf.b978dadc52cedd1622e4ef2c8cd1489d.jpg  \n",
            "  inflating: dataset/train/images/image_159_jpg.rf.0483e0dd4df48c05815b5b0d751cbbc3.jpg  \n",
            "  inflating: __MACOSX/dataset/train/images/._image_159_jpg.rf.0483e0dd4df48c05815b5b0d751cbbc3.jpg  \n",
            "  inflating: dataset/train/images/005268.jpg  \n",
            "  inflating: __MACOSX/dataset/train/images/._005268.jpg  \n",
            "  inflating: dataset/train/images/005240.jpg  \n",
            "  inflating: __MACOSX/dataset/train/images/._005240.jpg  \n",
            "  inflating: dataset/train/images/005081.jpg  \n",
            "  inflating: __MACOSX/dataset/train/images/._005081.jpg  \n",
            "  inflating: dataset/train/images/001224.jpg  \n",
            "  inflating: __MACOSX/dataset/train/images/._001224.jpg  \n",
            "  inflating: dataset/train/images/Video3_234_jpg.rf.471c24f2553d586d17a85abce416276b.jpg  \n",
            "  inflating: __MACOSX/dataset/train/images/._Video3_234_jpg.rf.471c24f2553d586d17a85abce416276b.jpg  \n",
            "  inflating: dataset/train/images/001546.jpg  \n",
            "  inflating: __MACOSX/dataset/train/images/._001546.jpg  \n",
            "  inflating: dataset/train/images/005278.jpg  \n",
            "  inflating: __MACOSX/dataset/train/images/._005278.jpg  \n",
            "  inflating: dataset/train/images/00617_jpg.rf.6c879ad11ecb4c30ed430299227b33d0.jpg  \n",
            "  inflating: __MACOSX/dataset/train/images/._00617_jpg.rf.6c879ad11ecb4c30ed430299227b33d0.jpg  \n",
            "  inflating: dataset/train/images/005244.jpg  \n",
            "  inflating: __MACOSX/dataset/train/images/._005244.jpg  \n",
            "  inflating: dataset/train/images/005250.jpg  \n",
            "  inflating: __MACOSX/dataset/train/images/._005250.jpg  \n",
            "  inflating: dataset/train/images/001618.jpg  \n",
            "  inflating: __MACOSX/dataset/train/images/._001618.jpg  \n",
            "  inflating: dataset/train/images/001142.jpg  \n",
            "  inflating: __MACOSX/dataset/train/images/._001142.jpg  \n",
            "  inflating: dataset/train/images/005132.jpg  \n",
            "  inflating: __MACOSX/dataset/train/images/._005132.jpg  \n",
            "  inflating: dataset/train/images/005126.jpg  \n",
            "  inflating: __MACOSX/dataset/train/images/._005126.jpg  \n",
            "  inflating: dataset/train/images/001426.jpg  \n",
            "  inflating: __MACOSX/dataset/train/images/._001426.jpg  \n",
            "  inflating: dataset/train/images/001397.jpg  \n",
            "  inflating: __MACOSX/dataset/train/images/._001397.jpg  \n",
            "  inflating: dataset/train/images/001341.jpg  \n",
            "  inflating: __MACOSX/dataset/train/images/._001341.jpg  \n",
            "  inflating: dataset/train/images/001180.jpg  \n",
            "  inflating: __MACOSX/dataset/train/images/._001180.jpg  \n",
            "  inflating: dataset/train/images/001143.jpg  \n",
            "  inflating: __MACOSX/dataset/train/images/._001143.jpg  \n",
            "  inflating: dataset/train/images/001157.jpg  \n",
            "  inflating: __MACOSX/dataset/train/images/._001157.jpg  \n",
            "  inflating: dataset/train/images/001792.jpg  \n",
            "  inflating: __MACOSX/dataset/train/images/._001792.jpg  \n",
            "  inflating: dataset/train/images/001751.jpg  \n",
            "  inflating: __MACOSX/dataset/train/images/._001751.jpg  \n",
            "  inflating: dataset/train/images/001989.jpg  \n",
            "  inflating: __MACOSX/dataset/train/images/._001989.jpg  \n",
            "  inflating: dataset/train/images/001037.jpg  \n",
            "  inflating: __MACOSX/dataset/train/images/._001037.jpg  \n",
            "  inflating: dataset/train/images/001553.jpg  \n",
            "  inflating: __MACOSX/dataset/train/images/._001553.jpg  \n",
            "  inflating: dataset/train/images/001547.jpg  \n",
            "  inflating: __MACOSX/dataset/train/images/._001547.jpg  \n",
            "  inflating: dataset/train/images/001221.jpg  \n",
            "  inflating: __MACOSX/dataset/train/images/._001221.jpg  \n",
            "  inflating: dataset/train/images/001209.jpg  \n",
            "  inflating: __MACOSX/dataset/train/images/._001209.jpg  \n",
            "  inflating: dataset/train/images/001545.jpg  \n",
            "  inflating: __MACOSX/dataset/train/images/._001545.jpg  \n",
            "  inflating: dataset/train/images/005092.jpg  \n",
            "  inflating: __MACOSX/dataset/train/images/._005092.jpg  \n",
            "  inflating: dataset/train/images/005086.jpg  \n",
            "  inflating: __MACOSX/dataset/train/images/._005086.jpg  \n",
            "  inflating: dataset/train/images/ppe_1130_jpg.rf.88358e5b86cdc4d55d4689abe5cb87e4.jpg  \n",
            "  inflating: __MACOSX/dataset/train/images/._ppe_1130_jpg.rf.88358e5b86cdc4d55d4689abe5cb87e4.jpg  \n",
            "  inflating: dataset/train/images/001747.jpg  \n",
            "  inflating: __MACOSX/dataset/train/images/._001747.jpg  \n",
            "  inflating: dataset/train/images/001948.jpg  \n",
            "  inflating: __MACOSX/dataset/train/images/._001948.jpg  \n",
            "  inflating: dataset/train/images/001155.jpg  \n",
            "  inflating: __MACOSX/dataset/train/images/._001155.jpg  \n",
            "  inflating: dataset/train/images/005119.jpg  \n",
            "  inflating: __MACOSX/dataset/train/images/._005119.jpg  \n",
            "  inflating: dataset/train/images/-1579-_png_jpg.rf.c8f91ec3791bf03ccf9eca6c29f62aec.jpg  \n",
            "  inflating: __MACOSX/dataset/train/images/._-1579-_png_jpg.rf.c8f91ec3791bf03ccf9eca6c29f62aec.jpg  \n",
            "  inflating: dataset/train/images/001395.jpg  \n",
            "  inflating: __MACOSX/dataset/train/images/._001395.jpg  \n",
            "  inflating: dataset/train/images/-1477-_png_jpg.rf.bac8d06edca64da17ced23797d0e2339.jpg  \n",
            "  inflating: __MACOSX/dataset/train/images/._-1477-_png_jpg.rf.bac8d06edca64da17ced23797d0e2339.jpg  \n",
            "  inflating: dataset/train/images/001381.jpg  \n",
            "  inflating: __MACOSX/dataset/train/images/._001381.jpg  \n",
            "  inflating: dataset/train/images/001107_jpg.rf.ddc4b21edf46aaa9518dfe33a381ff29.jpg  \n",
            "  inflating: __MACOSX/dataset/train/images/._001107_jpg.rf.ddc4b21edf46aaa9518dfe33a381ff29.jpg  \n",
            "  inflating: dataset/train/images/001418.jpg  \n",
            "  inflating: __MACOSX/dataset/train/images/._001418.jpg  \n",
            "  inflating: dataset/train/images/-1597-_png_jpg.rf.3bd5df66feaa51e0d65197b4acaf356f.jpg  \n",
            "  inflating: __MACOSX/dataset/train/images/._-1597-_png_jpg.rf.3bd5df66feaa51e0d65197b4acaf356f.jpg  \n",
            "  inflating: dataset/train/images/001183.jpg  \n",
            "  inflating: __MACOSX/dataset/train/images/._001183.jpg  \n",
            "  inflating: dataset/train/images/gettyimages-650169013-612x612_jpg.rf.90fc5c76e7c05968c9b793beb168af66.jpg  \n",
            "  inflating: __MACOSX/dataset/train/images/._gettyimages-650169013-612x612_jpg.rf.90fc5c76e7c05968c9b793beb168af66.jpg  \n",
            "  inflating: dataset/train/images/001961.jpg  \n",
            "  inflating: __MACOSX/dataset/train/images/._001961.jpg  \n",
            "  inflating: dataset/train/images/001746.jpg  \n",
            "  inflating: __MACOSX/dataset/train/images/._001746.jpg  \n",
            "  inflating: dataset/train/images/001752.jpg  \n",
            "  inflating: __MACOSX/dataset/train/images/._001752.jpg  \n",
            "  inflating: dataset/train/images/image_158_jpg.rf.21b1c9f094c45914d813470b6a644c58.jpg  \n",
            "  inflating: __MACOSX/dataset/train/images/._image_158_jpg.rf.21b1c9f094c45914d813470b6a644c58.jpg  \n",
            "  inflating: dataset/train/images/005087.jpg  \n",
            "  inflating: __MACOSX/dataset/train/images/._005087.jpg  \n",
            "  inflating: dataset/train/images/001222.jpg  \n",
            "  inflating: __MACOSX/dataset/train/images/._001222.jpg  \n",
            "  inflating: dataset/train/images/001544.jpg  \n",
            "  inflating: __MACOSX/dataset/train/images/._001544.jpg  \n",
            "  inflating: dataset/train/images/001236.jpg  \n",
            "  inflating: __MACOSX/dataset/train/images/._001236.jpg  \n",
            "  inflating: dataset/train/images/image_146_jpg.rf.ffe871c6889f76ba6b6e19534dce0fb6.jpg  \n",
            "  inflating: __MACOSX/dataset/train/images/._image_146_jpg.rf.ffe871c6889f76ba6b6e19534dce0fb6.jpg  \n",
            "  inflating: dataset/train/images/001669.jpg  \n",
            "  inflating: __MACOSX/dataset/train/images/._001669.jpg  \n",
            "  inflating: dataset/train/images/001682.jpg  \n",
            "  inflating: __MACOSX/dataset/train/images/._001682.jpg  \n",
            "  inflating: dataset/train/images/001696.jpg  \n",
            "  inflating: __MACOSX/dataset/train/images/._001696.jpg  \n",
            "  inflating: dataset/train/images/001325.jpg  \n",
            "  inflating: __MACOSX/dataset/train/images/._001325.jpg  \n",
            "  inflating: dataset/train/images/001331.jpg  \n",
            "  inflating: __MACOSX/dataset/train/images/._001331.jpg  \n",
            "  inflating: dataset/train/images/001318.jpg  \n",
            "  inflating: __MACOSX/dataset/train/images/._001318.jpg  \n",
            "  inflating: dataset/train/images/001330.jpg  \n",
            "  inflating: __MACOSX/dataset/train/images/._001330.jpg  \n",
            "  inflating: dataset/train/images/001442.jpg  \n",
            "  inflating: __MACOSX/dataset/train/images/._001442.jpg  \n",
            "  inflating: dataset/train/images/001324.jpg  \n",
            "  inflating: __MACOSX/dataset/train/images/._001324.jpg  \n",
            "  inflating: dataset/train/images/001873.jpg  \n",
            "  inflating: __MACOSX/dataset/train/images/._001873.jpg  \n",
            "  inflating: dataset/train/images/001668.jpg  \n",
            "  inflating: __MACOSX/dataset/train/images/._001668.jpg  \n",
            "  inflating: dataset/train/images/001898.jpg  \n",
            "  inflating: __MACOSX/dataset/train/images/._001898.jpg  \n",
            "  inflating: dataset/train/images/001913.jpg  \n",
            "  inflating: __MACOSX/dataset/train/images/._001913.jpg  \n",
            "  inflating: dataset/train/images/001085.jpg  \n",
            "  inflating: __MACOSX/dataset/train/images/._001085.jpg  \n",
            "  inflating: dataset/train/images/Video2_143_jpg.rf.7035ecddb4b2c8cfdbd5a004d946a496.jpg  \n",
            "  inflating: __MACOSX/dataset/train/images/._Video2_143_jpg.rf.7035ecddb4b2c8cfdbd5a004d946a496.jpg  \n",
            "  inflating: dataset/train/images/001250.jpg  \n",
            "  inflating: __MACOSX/dataset/train/images/._001250.jpg  \n",
            "  inflating: dataset/train/images/001291.jpg  \n",
            "  inflating: __MACOSX/dataset/train/images/._001291.jpg  \n",
            "  inflating: dataset/train/images/-2435-_png_jpg.rf.d88968da6353df51746244bb3619cc5a.jpg  \n",
            "  inflating: __MACOSX/dataset/train/images/._-2435-_png_jpg.rf.d88968da6353df51746244bb3619cc5a.jpg  \n",
            "  inflating: dataset/train/images/005222.jpg  \n",
            "  inflating: __MACOSX/dataset/train/images/._005222.jpg  \n",
            "  inflating: dataset/train/images/001939.jpg  \n",
            "  inflating: __MACOSX/dataset/train/images/._001939.jpg  \n",
            "  inflating: dataset/train/images/001093.jpg  \n",
            "  inflating: __MACOSX/dataset/train/images/._001093.jpg  \n",
            "  inflating: dataset/train/images/001333_jpg.rf.25550b8186ab6e741765efbb21e9e59e.jpg  \n",
            "  inflating: __MACOSX/dataset/train/images/._001333_jpg.rf.25550b8186ab6e741765efbb21e9e59e.jpg  \n",
            "  inflating: dataset/train/images/001911.jpg  \n",
            "  inflating: __MACOSX/dataset/train/images/._001911.jpg  \n",
            "  inflating: dataset/train/images/001056_jpg.rf.fb5d9fbc2ccfa43ca89d84be6d2a98ea.jpg  \n",
            "  inflating: __MACOSX/dataset/train/images/._001056_jpg.rf.fb5d9fbc2ccfa43ca89d84be6d2a98ea.jpg  \n",
            "  inflating: dataset/train/images/001642.jpg  \n",
            "  inflating: __MACOSX/dataset/train/images/._001642.jpg  \n",
            "  inflating: dataset/train/images/001865.jpg  \n",
            "  inflating: __MACOSX/dataset/train/images/._001865.jpg  \n",
            "  inflating: dataset/train/images/001454.jpg  \n",
            "  inflating: __MACOSX/dataset/train/images/._001454.jpg  \n",
            "  inflating: dataset/train/images/001332.jpg  \n",
            "  inflating: __MACOSX/dataset/train/images/._001332.jpg  \n",
            "  inflating: dataset/train/images/005154.jpg  \n",
            "  inflating: __MACOSX/dataset/train/images/._005154.jpg  \n",
            "  inflating: dataset/train/images/005197.jpg  \n",
            "  inflating: __MACOSX/dataset/train/images/._005197.jpg  \n",
            "  inflating: dataset/train/images/001302_jpg.rf.6e51fb4e9255ceda9bca16f35d4ae32b.jpg  \n",
            "  inflating: __MACOSX/dataset/train/images/._001302_jpg.rf.6e51fb4e9255ceda9bca16f35d4ae32b.jpg  \n",
            "  inflating: dataset/train/images/005141.jpg  \n",
            "  inflating: __MACOSX/dataset/train/images/._005141.jpg  \n",
            "  inflating: dataset/train/images/001455.jpg  \n",
            "  inflating: __MACOSX/dataset/train/images/._001455.jpg  \n",
            "  inflating: dataset/train/images/001858.jpg  \n",
            "  inflating: __MACOSX/dataset/train/images/._001858.jpg  \n",
            "  inflating: dataset/train/images/001657.jpg  \n",
            "  inflating: __MACOSX/dataset/train/images/._001657.jpg  \n",
            "  inflating: dataset/train/images/001910.jpg  \n",
            "  inflating: __MACOSX/dataset/train/images/._001910.jpg  \n",
            "  inflating: dataset/train/images/001092.jpg  \n",
            "  inflating: __MACOSX/dataset/train/images/._001092.jpg  \n",
            "  inflating: dataset/train/images/001086.jpg  \n",
            "  inflating: __MACOSX/dataset/train/images/._001086.jpg  \n",
            "  inflating: dataset/train/images/RPReplay_Final1667001201_MP4-459_jpg.rf.352ca04a4c2cc5df8bf2dd3d8c01c120.jpg  \n",
            "  inflating: __MACOSX/dataset/train/images/._RPReplay_Final1667001201_MP4-459_jpg.rf.352ca04a4c2cc5df8bf2dd3d8c01c120.jpg  \n",
            "  inflating: dataset/train/images/image_154_jpg.rf.8b5af37534dcf73cb9cd2833f7630273.jpg  \n",
            "  inflating: __MACOSX/dataset/train/images/._image_154_jpg.rf.8b5af37534dcf73cb9cd2833f7630273.jpg  \n",
            "  inflating: dataset/train/images/005237.jpg  \n",
            "  inflating: __MACOSX/dataset/train/images/._005237.jpg  \n",
            "  inflating: dataset/train/images/001045.jpg  \n",
            "  inflating: __MACOSX/dataset/train/images/._001045.jpg  \n",
            "  inflating: dataset/train/images/001284.jpg  \n",
            "  inflating: __MACOSX/dataset/train/images/._001284.jpg  \n",
            "  inflating: dataset/train/images/005009.jpg  \n",
            "  inflating: __MACOSX/dataset/train/images/._005009.jpg  \n",
            "  inflating: dataset/train/images/001509.jpg  \n",
            "  inflating: __MACOSX/dataset/train/images/._001509.jpg  \n",
            "  inflating: dataset/train/images/001535.jpg  \n",
            "  inflating: __MACOSX/dataset/train/images/._001535.jpg  \n",
            "  inflating: dataset/train/images/001531.jpg  \n",
            "  inflating: __MACOSX/dataset/train/images/._001531.jpg  \n",
            "  inflating: dataset/train/images/005031.jpg  \n",
            "  inflating: __MACOSX/dataset/train/images/._005031.jpg  \n",
            "  inflating: dataset/train/images/001257.jpg  \n",
            "  inflating: __MACOSX/dataset/train/images/._001257.jpg  \n",
            "  inflating: dataset/train/images/-2390-_png_jpg.rf.fa4cf091a0bc051c044e2505719d3971.jpg  \n",
            "  inflating: __MACOSX/dataset/train/images/._-2390-_png_jpg.rf.fa4cf091a0bc051c044e2505719d3971.jpg  \n",
            "  inflating: dataset/train/images/001280.jpg  \n",
            "  inflating: __MACOSX/dataset/train/images/._001280.jpg  \n",
            "  inflating: dataset/train/images/001727.jpg  \n",
            "  inflating: __MACOSX/dataset/train/images/._001727.jpg  \n",
            "  inflating: dataset/train/images/001082.jpg  \n",
            "  inflating: __MACOSX/dataset/train/images/._001082.jpg  \n",
            "  inflating: dataset/train/images/001109.jpg  \n",
            "  inflating: __MACOSX/dataset/train/images/._001109.jpg  \n",
            "  inflating: dataset/train/images/001647.jpg  \n",
            "  inflating: __MACOSX/dataset/train/images/._001647.jpg  \n",
            "  inflating: dataset/train/images/image_123_jpg.rf.97f3e3dfff77ad0bdf3ed26cebb847c2.jpg  \n",
            "  inflating: __MACOSX/dataset/train/images/._image_123_jpg.rf.97f3e3dfff77ad0bdf3ed26cebb847c2.jpg  \n",
            "  inflating: dataset/train/images/001479.jpg  \n",
            "  inflating: __MACOSX/dataset/train/images/._001479.jpg  \n",
            "  inflating: dataset/train/images/001451.jpg  \n",
            "  inflating: __MACOSX/dataset/train/images/._001451.jpg  \n",
            "  inflating: dataset/train/images/006276_jpg.rf.4da030f18de405fcd561b953c26f9383.jpg  \n",
            "  inflating: __MACOSX/dataset/train/images/._006276_jpg.rf.4da030f18de405fcd561b953c26f9383.jpg  \n",
            "  inflating: dataset/train/images/Video3_42_jpg.rf.38bac29f7f62c6a04896444e6e26a925.jpg  \n",
            "  inflating: __MACOSX/dataset/train/images/._Video3_42_jpg.rf.38bac29f7f62c6a04896444e6e26a925.jpg  \n",
            "  inflating: dataset/train/images/005145.jpg  \n",
            "  inflating: __MACOSX/dataset/train/images/._005145.jpg  \n",
            "  inflating: dataset/train/images/001323.jpg  \n",
            "  inflating: __MACOSX/dataset/train/images/._001323.jpg  \n",
            "  inflating: dataset/train/images/001486.jpg  \n",
            "  inflating: __MACOSX/dataset/train/images/._001486.jpg  \n",
            "  inflating: dataset/train/images/001487.jpg  \n",
            "  inflating: __MACOSX/dataset/train/images/._001487.jpg  \n",
            "  inflating: dataset/train/images/001646.jpg  \n",
            "  inflating: __MACOSX/dataset/train/images/._001646.jpg  \n",
            "  inflating: dataset/train/images/-184-_png_jpg.rf.b02963998a79b9ad5079f57b65130bc2.jpg  \n",
            "  inflating: __MACOSX/dataset/train/images/._-184-_png_jpg.rf.b02963998a79b9ad5079f57b65130bc2.jpg  \n",
            "  inflating: dataset/train/images/001083.jpg  \n",
            "  inflating: __MACOSX/dataset/train/images/._001083.jpg  \n",
            "  inflating: dataset/train/images/001054.jpg  \n",
            "  inflating: __MACOSX/dataset/train/images/._001054.jpg  \n",
            "  inflating: dataset/train/images/001295.jpg  \n",
            "  inflating: __MACOSX/dataset/train/images/._001295.jpg  \n",
            "  inflating: dataset/train/images/001242.jpg  \n",
            "  inflating: __MACOSX/dataset/train/images/._001242.jpg  \n",
            "  inflating: dataset/train/images/001532.jpg  \n",
            "  inflating: __MACOSX/dataset/train/images/._001532.jpg  \n",
            "  inflating: dataset/train/images/001297.jpg  \n",
            "  inflating: __MACOSX/dataset/train/images/._001297.jpg  \n",
            "  inflating: dataset/train/images/Video1_2_jpg.rf.0754a5fb79396bd903a4ded0145f7bc9.jpg  \n",
            "  inflating: __MACOSX/dataset/train/images/._Video1_2_jpg.rf.0754a5fb79396bd903a4ded0145f7bc9.jpg  \n",
            "  inflating: dataset/train/images/001042.jpg  \n",
            "  inflating: __MACOSX/dataset/train/images/._001042.jpg  \n",
            "  inflating: dataset/train/images/001693.jpg  \n",
            "  inflating: __MACOSX/dataset/train/images/._001693.jpg  \n",
            "  inflating: dataset/train/images/001308.jpg  \n",
            "  inflating: __MACOSX/dataset/train/images/._001308.jpg  \n",
            "  inflating: dataset/train/images/001320.jpg  \n",
            "  inflating: __MACOSX/dataset/train/images/._001320.jpg  \n",
            "  inflating: dataset/train/images/005190.jpg  \n",
            "  inflating: __MACOSX/dataset/train/images/._005190.jpg  \n",
            "  inflating: dataset/train/images/005184.jpg  \n",
            "  inflating: __MACOSX/dataset/train/images/._005184.jpg  \n",
            "  inflating: dataset/train/images/001453.jpg  \n",
            "  inflating: __MACOSX/dataset/train/images/._001453.jpg  \n",
            "  inflating: dataset/train/images/001321.jpg  \n",
            "  inflating: __MACOSX/dataset/train/images/._001321.jpg  \n",
            "  inflating: dataset/train/images/-4379-_png_jpg.rf.03c410bbf91f791a4bade1f8673fa79c.jpg  \n",
            "  inflating: __MACOSX/dataset/train/images/._-4379-_png_jpg.rf.03c410bbf91f791a4bade1f8673fa79c.jpg  \n",
            "  inflating: dataset/train/images/001686.jpg  \n",
            "  inflating: __MACOSX/dataset/train/images/._001686.jpg  \n",
            "  inflating: dataset/train/images/001889.jpg  \n",
            "  inflating: __MACOSX/dataset/train/images/._001889.jpg  \n",
            "  inflating: dataset/train/images/001645.jpg  \n",
            "  inflating: __MACOSX/dataset/train/images/._001645.jpg  \n",
            "  inflating: dataset/train/images/001080.jpg  \n",
            "  inflating: __MACOSX/dataset/train/images/._001080.jpg  \n",
            "  inflating: dataset/train/images/001916.jpg  \n",
            "  inflating: __MACOSX/dataset/train/images/._001916.jpg  \n",
            "  inflating: dataset/train/images/005225.jpg  \n",
            "  inflating: __MACOSX/dataset/train/images/._005225.jpg  \n",
            "  inflating: dataset/train/images/001725.jpg  \n",
            "  inflating: __MACOSX/dataset/train/images/._001725.jpg  \n",
            "  inflating: dataset/train/images/005219.jpg  \n",
            "  inflating: __MACOSX/dataset/train/images/._005219.jpg  \n",
            "  inflating: dataset/train/images/Aitin1170_jpg.rf.1b9fa28a4e61ee842a39db039d69d464.jpg  \n",
            "  inflating: __MACOSX/dataset/train/images/._Aitin1170_jpg.rf.1b9fa28a4e61ee842a39db039d69d464.jpg  \n",
            "  inflating: dataset/train/images/005027.jpg  \n",
            "  inflating: __MACOSX/dataset/train/images/._005027.jpg  \n",
            "  inflating: dataset/train/labels/image_227_jpg.rf.0f48674aea1b8aaf3e7baac80abf9ea4.txt  \n",
            "  inflating: dataset/train/labels/001164.txt  \n",
            "  inflating: dataset/train/labels/001831.txt  \n",
            "  inflating: dataset/train/labels/-2338-_png_jpg.rf.e79ac380146af51e53738fd6184e1808.txt  \n",
            "  inflating: dataset/train/labels/005128.txt  \n",
            "  inflating: dataset/train/labels/005114.txt  \n",
            "  inflating: dataset/train/labels/005262.txt  \n",
            "  inflating: dataset/train/labels/005289.txt  \n",
            "  inflating: dataset/train/labels/001951.txt  \n",
            " extracting: dataset/train/labels/-1571-_png_jpg.rf.ccf919d5ea025ddc24cf0a707b331249.txt  \n",
            "  inflating: dataset/train/labels/001788.txt  \n",
            "  inflating: dataset/train/labels/001987.txt  \n",
            "  inflating: dataset/train/labels/image_108_jpg.rf.6b8ca4832a9576fc6d610029fbaed93a.txt  \n",
            "  inflating: dataset/train/labels/006336_jpg.rf.4882fa277106be1378a906016ab8a711.txt  \n",
            "  inflating: dataset/train/labels/001213.txt  \n",
            "  inflating: dataset/train/labels/001561.txt  \n",
            "  inflating: dataset/train/labels/001367.txt  \n",
            "  inflating: dataset/train/labels/005129.txt  \n",
            "  inflating: dataset/train/labels/001173.txt  \n",
            "  inflating: dataset/train/labels/001198.txt  \n",
            " extracting: dataset/train/labels/ppe_1189_jpg.rf.f6977c81a4c10b70e7d36a5b90956b94.txt  \n",
            "  inflating: dataset/train/labels/001365.txt  \n",
            "  inflating: dataset/train/labels/001417.txt  \n",
            "  inflating: dataset/train/labels/001952.txt  \n",
            "  inflating: dataset/train/labels/001953.txt  \n",
            "  inflating: dataset/train/labels/005260.txt  \n",
            "  inflating: dataset/train/labels/001760.txt  \n",
            "  inflating: dataset/train/labels/001990.txt  \n",
            "  inflating: dataset/train/labels/YouTube-FreeStockFootage_Child-playing-with-parents-JoyLaughterHD-RQ_qqCZOkZk-720p_mp4-34_jpg.rf.01d6349eabce5613415c586a543c9f0b.txt  \n",
            "  inflating: dataset/train/labels/001589.txt  \n",
            "  inflating: dataset/train/labels/helmet999908_jpg.rf.eb7ec7dc0f18f138ae8ef798ce105624.txt  \n",
            "  inflating: dataset/train/labels/image_166_jpg.rf.0c224aad30b67729bbd50121255b0e0c.txt  \n",
            "  inflating: dataset/train/labels/-2091-_png_jpg.rf.24a38225fa17a89f450e6fcf90584bb5.txt  \n",
            "  inflating: dataset/train/labels/001358.txt  \n",
            "  inflating: dataset/train/labels/Video2_91_jpg.rf.faca99c76175b53a646f60aa1abc4b14.txt  \n",
            "  inflating: dataset/train/labels/001199.txt  \n",
            "  inflating: dataset/train/labels/001604.txt  \n",
            "  inflating: dataset/train/labels/001837.txt  \n",
            "  inflating: dataset/train/labels/001406.txt  \n",
            "  inflating: dataset/train/labels/005106.txt  \n",
            "  inflating: dataset/train/labels/001412.txt  \n",
            "  inflating: dataset/train/labels/005099.txt  \n",
            "  inflating: dataset/train/labels/001758.txt  \n",
            "  inflating: dataset/train/labels/image_108_jpg.rf.a2a7f9dd16e7a136d02fb42a810d1644.txt  \n",
            "  inflating: dataset/train/labels/001943.txt  \n",
            "  inflating: dataset/train/labels/001003.txt  \n",
            "  inflating: dataset/train/labels/001229.txt  \n",
            "  inflating: dataset/train/labels/001201.txt  \n",
            "  inflating: dataset/train/labels/00570_jpg.rf.8ef9857b5322e813de5cbd952d01b137.txt  \n",
            "  inflating: dataset/train/labels/005113.txt  \n",
            "  inflating: dataset/train/labels/001836.txt  \n",
            "  inflating: dataset/train/labels/001188.txt  \n",
            "  inflating: dataset/train/labels/-4100-_png_jpg.rf.aebfe87c2b4f556f03d14fc3cc6facf7.txt  \n",
            "  inflating: dataset/train/labels/001611.txt  \n",
            "  inflating: dataset/train/labels/001177.txt  \n",
            "  inflating: dataset/train/labels/Video2_150_jpg.rf.b9afc4a41d95211f77fb12a37629e211.txt  \n",
            " extracting: dataset/train/labels/youtube-6_jpg.rf.a9f31f242ee7d731c625ed07f6002b9b.txt  \n",
            "  inflating: dataset/train/labels/001834.txt  \n",
            "  inflating: dataset/train/labels/image_237_jpg.rf.353ad34ef2718e9f9e14f8a21bc5afa6.txt  \n",
            "  inflating: dataset/train/labels/001363.txt  \n",
            "  inflating: dataset/train/labels/image_190_jpg.rf.2e92814af735dd1c2f54325bac2750f3.txt  \n",
            "  inflating: dataset/train/labels/005071.txt  \n",
            "  inflating: dataset/train/labels/001773.txt  \n",
            "  inflating: dataset/train/labels/005273.txt  \n",
            "  inflating: dataset/train/labels/001997.txt  \n",
            "  inflating: dataset/train/labels/001029.txt  \n",
            "  inflating: dataset/train/labels/001969.txt  \n",
            "  inflating: dataset/train/labels/image_217_jpg.rf.460f83c2cb3f8a18689f92b2f8835f9a.txt  \n",
            "  inflating: dataset/train/labels/YouTube-FreeStockFootage_Child-playing-with-parents-JoyLaughterHD-RQ_qqCZOkZk-720p_mp4-35_jpg.rf.d03a2efbca9287a52d02a3d428d2aaf5.txt  \n",
            "  inflating: dataset/train/labels/001202.txt  \n",
            "  inflating: dataset/train/labels/005138.txt  \n",
            "  inflating: dataset/train/labels/001438.txt  \n",
            "  inflating: dataset/train/labels/001376.txt  \n",
            "  inflating: dataset/train/labels/001809.txt  \n",
            " extracting: dataset/train/labels/YouTube-FREE-AerialStockFootage_CityUrban-YKY3Mm5P1tE-720p_mp4-31_jpg.rf.c88b23a01eb99ef16b5208d11dd5764f.txt  \n",
            "  inflating: dataset/train/labels/001649.txt  \n",
            "  inflating: dataset/train/labels/001661.txt  \n",
            "  inflating: dataset/train/labels/001852.txt  \n",
            "  inflating: dataset/train/labels/001846.txt  \n",
            "  inflating: dataset/train/labels/001305.txt  \n",
            "  inflating: dataset/train/labels/005188.txt  \n",
            "  inflating: dataset/train/labels/image_217_jpg.rf.1e4d9fbf97a087648742078ff5941b67.txt  \n",
            "  inflating: dataset/train/labels/005003.txt  \n",
            "  inflating: dataset/train/labels/001271.txt  \n",
            " extracting: dataset/train/labels/TsirinTu0018_jpg.rf.3fe2fc0fdb3a31434f1bac91d61e53be.txt  \n",
            "  inflating: dataset/train/labels/001729.txt  \n",
            "  inflating: dataset/train/labels/005201.txt  \n",
            "  inflating: dataset/train/labels/001926.txt  \n",
            "  inflating: dataset/train/labels/001932.txt  \n",
            "  inflating: dataset/train/labels/005200.txt  \n",
            "  inflating: dataset/train/labels/-1817-_png_jpg.rf.0c0c9d7ee4b875c6ad49937fc72182f6.txt  \n",
            "  inflating: dataset/train/labels/001516.txt  \n",
            "  inflating: dataset/train/labels/001502.txt  \n",
            "  inflating: dataset/train/labels/ppe_0886_jpg.rf.ad5ddd17cb1d27b716f5681b4aae8fd3.txt  \n",
            "  inflating: dataset/train/labels/ppe_0941_jpg.rf.c7fcf7d8f89d423c80586709b693b697.txt  \n",
            "  inflating: dataset/train/labels/001476.txt  \n",
            "  inflating: dataset/train/labels/001338.txt  \n",
            "  inflating: dataset/train/labels/001890.txt  \n",
            "  inflating: dataset/train/labels/ppe_1202_jpg.rf.c2963de6cf48426e058b866f008b72f0.txt  \n",
            "  inflating: dataset/train/labels/001689.txt  \n",
            "  inflating: dataset/train/labels/001448.txt  \n",
            "  inflating: dataset/train/labels/-2180-_png_jpg.rf.9d63bb305e7747d22fe9a196dcc5ce13.txt  \n",
            "  inflating: dataset/train/labels/001474.txt  \n",
            "  inflating: dataset/train/labels/005028.txt  \n",
            "  inflating: dataset/train/labels/001514.txt  \n",
            "  inflating: dataset/train/labels/005000.txt  \n",
            "  inflating: dataset/train/labels/001931.txt  \n",
            "  inflating: dataset/train/labels/001930.txt  \n",
            "  inflating: dataset/train/labels/001071.txt  \n",
            "  inflating: dataset/train/labels/001059.txt  \n",
            "  inflating: dataset/train/labels/001501.txt  \n",
            "  inflating: dataset/train/labels/005175.txt  \n",
            "  inflating: dataset/train/labels/001878.txt  \n",
            "  inflating: dataset/train/labels/001111.txt  \n",
            "  inflating: dataset/train/labels/Video2_174_jpg.rf.d04a29e17bdf3c1135e2a0d6744250c0.txt  \n",
            "  inflating: dataset/train/labels/001129.txt  \n",
            "  inflating: dataset/train/labels/001840.txt  \n",
            "  inflating: dataset/train/labels/001854.txt  \n",
            "  inflating: dataset/train/labels/001303.txt  \n",
            "  inflating: dataset/train/labels/005159.txt  \n",
            "  inflating: dataset/train/labels/-1832-_png_jpg.rf.d56cb4edba4c059bdfa7f2c581d26a19.txt  \n",
            "  inflating: dataset/train/labels/001713.txt  \n",
            "  inflating: dataset/train/labels/001921.txt  \n",
            "  inflating: dataset/train/labels/005212.txt  \n",
            "  inflating: dataset/train/labels/005038.txt  \n",
            "  inflating: dataset/train/labels/Video2_42_jpg.rf.f8ab7627f1a6ff7bcb89500ce01f949a.txt  \n",
            "  inflating: dataset/train/labels/images85_jpg.rf.63100ad7637913c912a58d3538cae4bd.txt  \n",
            "  inflating: dataset/train/labels/001302.txt  \n",
            "  inflating: dataset/train/labels/005164.txt  \n",
            "  inflating: dataset/train/labels/001855.txt  \n",
            "  inflating: dataset/train/labels/001841.txt  \n",
            "  inflating: dataset/train/labels/001664.txt  \n",
            "  inflating: dataset/train/labels/-1532-_png_jpg.rf.08a5b6985f24bfe7efefdb45c04469c2.txt  \n",
            "  inflating: dataset/train/labels/001843.txt  \n",
            "  inflating: dataset/train/labels/005166.txt  \n",
            "  inflating: dataset/train/labels/001710.txt  \n",
            "  inflating: dataset/train/labels/001738.txt  \n",
            "  inflating: dataset/train/labels/001711.txt  \n",
            "  inflating: dataset/train/labels/001344_jpg.rf.1c7c5ed37e407155e2d7cf0216f893ed.txt  \n",
            "  inflating: dataset/train/labels/005013.txt  \n",
            "  inflating: dataset/train/labels/005198.txt  \n",
            "  inflating: dataset/train/labels/00550_jpg.rf.956081908ad03e1ac7531cf1445c948a.txt  \n",
            "  inflating: dataset/train/labels/001842.txt  \n",
            "  inflating: dataset/train/labels/001659.txt  \n",
            "  inflating: dataset/train/labels/001668.txt  \n",
            "  inflating: dataset/train/labels/001898.txt  \n",
            "  inflating: dataset/train/labels/001873.txt  \n",
            "  inflating: dataset/train/labels/001318.txt  \n",
            "  inflating: dataset/train/labels/001330.txt  \n",
            "  inflating: dataset/train/labels/001324.txt  \n",
            "  inflating: dataset/train/labels/001442.txt  \n",
            "  inflating: dataset/train/labels/Video2_143_jpg.rf.7035ecddb4b2c8cfdbd5a004d946a496.txt  \n",
            "  inflating: dataset/train/labels/001250.txt  \n",
            "  inflating: dataset/train/labels/001913.txt  \n",
            "  inflating: dataset/train/labels/001085.txt  \n",
            "  inflating: dataset/train/labels/image_146_jpg.rf.ffe871c6889f76ba6b6e19534dce0fb6.txt  \n",
            "  inflating: dataset/train/labels/001325.txt  \n",
            "  inflating: dataset/train/labels/001331.txt  \n",
            "  inflating: dataset/train/labels/001682.txt  \n",
            "  inflating: dataset/train/labels/001696.txt  \n",
            "  inflating: dataset/train/labels/001669.txt  \n",
            "  inflating: dataset/train/labels/001657.txt  \n",
            "  inflating: dataset/train/labels/001858.txt  \n",
            "  inflating: dataset/train/labels/005141.txt  \n",
            "  inflating: dataset/train/labels/001455.txt  \n",
            "  inflating: dataset/train/labels/001302_jpg.rf.6e51fb4e9255ceda9bca16f35d4ae32b.txt  \n",
            "  inflating: dataset/train/labels/001509.txt  \n",
            "  inflating: dataset/train/labels/005009.txt  \n",
            "  inflating: dataset/train/labels/001535.txt  \n",
            "  inflating: dataset/train/labels/001284.txt  \n",
            "  inflating: dataset/train/labels/image_154_jpg.rf.8b5af37534dcf73cb9cd2833f7630273.txt  \n",
            "  inflating: dataset/train/labels/005237.txt  \n",
            "  inflating: dataset/train/labels/001045.txt  \n",
            "  inflating: dataset/train/labels/001910.txt  \n",
            "  inflating: dataset/train/labels/001092.txt  \n",
            "  inflating: dataset/train/labels/RPReplay_Final1667001201_MP4-459_jpg.rf.352ca04a4c2cc5df8bf2dd3d8c01c120.txt  \n",
            "  inflating: dataset/train/labels/001086.txt  \n",
            "  inflating: dataset/train/labels/001939.txt  \n",
            "  inflating: dataset/train/labels/001093.txt  \n",
            "  inflating: dataset/train/labels/001911.txt  \n",
            "  inflating: dataset/train/labels/001333_jpg.rf.25550b8186ab6e741765efbb21e9e59e.txt  \n",
            "  inflating: dataset/train/labels/005222.txt  \n",
            "  inflating: dataset/train/labels/-2435-_png_jpg.rf.d88968da6353df51746244bb3619cc5a.txt  \n",
            "  inflating: dataset/train/labels/001291.txt  \n",
            "  inflating: dataset/train/labels/005197.txt  \n",
            "  inflating: dataset/train/labels/001332.txt  \n",
            "  inflating: dataset/train/labels/005154.txt  \n",
            "  inflating: dataset/train/labels/001454.txt  \n",
            "  inflating: dataset/train/labels/001865.txt  \n",
            "  inflating: dataset/train/labels/001056_jpg.rf.fb5d9fbc2ccfa43ca89d84be6d2a98ea.txt  \n",
            "  inflating: dataset/train/labels/001642.txt  \n",
            "  inflating: dataset/train/labels/001646.txt  \n",
            "  inflating: dataset/train/labels/-184-_png_jpg.rf.b02963998a79b9ad5079f57b65130bc2.txt  \n",
            "  inflating: dataset/train/labels/001487.txt  \n",
            "  inflating: dataset/train/labels/001242.txt  \n",
            "  inflating: dataset/train/labels/001295.txt  \n",
            "  inflating: dataset/train/labels/001054.txt  \n",
            "  inflating: dataset/train/labels/001083.txt  \n",
            "  inflating: dataset/train/labels/001082.txt  \n",
            "  inflating: dataset/train/labels/001727.txt  \n",
            " extracting: dataset/train/labels/-2390-_png_jpg.rf.fa4cf091a0bc051c044e2505719d3971.txt  \n",
            "  inflating: dataset/train/labels/001280.txt  \n",
            "  inflating: dataset/train/labels/005031.txt  \n",
            "  inflating: dataset/train/labels/001257.txt  \n",
            "  inflating: dataset/train/labels/001531.txt  \n",
            "  inflating: dataset/train/labels/001486.txt  \n",
            "  inflating: dataset/train/labels/001479.txt  \n",
            "  inflating: dataset/train/labels/001451.txt  \n",
            "  inflating: dataset/train/labels/006276_jpg.rf.4da030f18de405fcd561b953c26f9383.txt  \n",
            "  inflating: dataset/train/labels/Video3_42_jpg.rf.38bac29f7f62c6a04896444e6e26a925.txt  \n",
            "  inflating: dataset/train/labels/005145.txt  \n",
            "  inflating: dataset/train/labels/001323.txt  \n",
            "  inflating: dataset/train/labels/image_123_jpg.rf.97f3e3dfff77ad0bdf3ed26cebb847c2.txt  \n",
            "  inflating: dataset/train/labels/001109.txt  \n",
            "  inflating: dataset/train/labels/001647.txt  \n",
            "  inflating: dataset/train/labels/001889.txt  \n",
            "  inflating: dataset/train/labels/001645.txt  \n",
            "  inflating: dataset/train/labels/001686.txt  \n",
            "  inflating: dataset/train/labels/001453.txt  \n",
            "  inflating: dataset/train/labels/001321.txt  \n",
            "  inflating: dataset/train/labels/-4379-_png_jpg.rf.03c410bbf91f791a4bade1f8673fa79c.txt  \n",
            "  inflating: dataset/train/labels/005190.txt  \n",
            "  inflating: dataset/train/labels/005184.txt  \n",
            "  inflating: dataset/train/labels/005027.txt  \n",
            "  inflating: dataset/train/labels/Aitin1170_jpg.rf.1b9fa28a4e61ee842a39db039d69d464.txt  \n",
            "  inflating: dataset/train/labels/001725.txt  \n",
            "  inflating: dataset/train/labels/005225.txt  \n",
            "  inflating: dataset/train/labels/005219.txt  \n",
            "  inflating: dataset/train/labels/001080.txt  \n",
            "  inflating: dataset/train/labels/001916.txt  \n",
            "  inflating: dataset/train/labels/Video1_2_jpg.rf.0754a5fb79396bd903a4ded0145f7bc9.txt  \n",
            "  inflating: dataset/train/labels/001042.txt  \n",
            "  inflating: dataset/train/labels/001297.txt  \n",
            "  inflating: dataset/train/labels/001532.txt  \n",
            "  inflating: dataset/train/labels/001308.txt  \n",
            "  inflating: dataset/train/labels/001320.txt  \n",
            "  inflating: dataset/train/labels/001693.txt  \n",
            "  inflating: dataset/train/labels/001179.txt  \n",
            "  inflating: dataset/train/labels/001637.txt  \n",
            "  inflating: dataset/train/labels/001810.txt  \n",
            "  inflating: dataset/train/labels/001186.txt  \n",
            "  inflating: dataset/train/labels/001347.txt  \n",
            "  inflating: dataset/train/labels/005069.txt  \n",
            "  inflating: dataset/train/labels/001541.txt  \n",
            "  inflating: dataset/train/labels/005055.txt  \n",
            "  inflating: dataset/train/labels/images-2022-07-04T013101_jpg.rf.61a513fd8447097dc3c37ad8e6ab7e78.txt  \n",
            "  inflating: dataset/train/labels/001757.txt  \n",
            "  inflating: dataset/train/labels/005280.txt  \n",
            "  inflating: dataset/train/labels/001781.txt  \n",
            "  inflating: dataset/train/labels/001971.txt  \n",
            "  inflating: dataset/train/labels/005242.txt  \n",
            "  inflating: dataset/train/labels/001597.txt  \n",
            "  inflating: dataset/train/labels/005097.txt  \n",
            "  inflating: dataset/train/labels/001232.txt  \n",
            "  inflating: dataset/train/labels/006369_jpg.rf.5a962f5cea4ec0c8758fdca0b035728d.txt  \n",
            "  inflating: dataset/train/labels/001568.txt  \n",
            "  inflating: dataset/train/labels/001391.txt  \n",
            "  inflating: dataset/train/labels/-4216-_png_jpg.rf.881e17f72716e3cbdaa9d20cf9558142.txt  \n",
            "  inflating: dataset/train/labels/001187.txt  \n",
            "  inflating: dataset/train/labels/-2293-_png_jpg.rf.b1d581d625ae74bb60b5d56e7b562654.txt  \n",
            "  inflating: dataset/train/labels/001811.txt  \n",
            "  inflating: dataset/train/labels/001146.txt  \n",
            "  inflating: dataset/train/labels/images-2022-07-04T013042_jpg.rf.b978dadc52cedd1622e4ef2c8cd1489d.txt  \n",
            "  inflating: dataset/train/labels/001634.txt  \n",
            "  inflating: dataset/train/labels/001185.txt  \n",
            "  inflating: dataset/train/labels/001191.txt  \n",
            "  inflating: dataset/train/labels/001436.txt  \n",
            "  inflating: dataset/train/labels/ppe_1022_jpg.rf.589fdbf689e5614020d4706c7a5f5083.txt  \n",
            "  inflating: dataset/train/labels/001393.txt  \n",
            "  inflating: dataset/train/labels/001224.txt  \n",
            "  inflating: dataset/train/labels/005081.txt  \n",
            "  inflating: dataset/train/labels/005268.txt  \n",
            "  inflating: dataset/train/labels/005240.txt  \n",
            "  inflating: dataset/train/labels/image_159_jpg.rf.0483e0dd4df48c05815b5b0d751cbbc3.txt  \n",
            "  inflating: dataset/train/labels/001580.txt  \n",
            "  inflating: dataset/train/labels/001225.txt  \n",
            "  inflating: dataset/train/labels/001231.txt  \n",
            "  inflating: dataset/train/labels/005057.txt  \n",
            "  inflating: dataset/train/labels/001392.txt  \n",
            "  inflating: dataset/train/labels/001190.txt  \n",
            "  inflating: dataset/train/labels/001812.txt  \n",
            "  inflating: dataset/train/labels/001147.txt  \n",
            "  inflating: dataset/train/labels/helmet999958_jpg.rf.c20b516a6a36203afcd0cd426a11b71c.txt  \n",
            "  inflating: dataset/train/labels/001143.txt  \n",
            "  inflating: dataset/train/labels/001157.txt  \n",
            "  inflating: dataset/train/labels/001180.txt  \n",
            "  inflating: dataset/train/labels/001341.txt  \n",
            "  inflating: dataset/train/labels/001553.txt  \n",
            "  inflating: dataset/train/labels/001221.txt  \n",
            "  inflating: dataset/train/labels/001547.txt  \n",
            "  inflating: dataset/train/labels/001209.txt  \n",
            "  inflating: dataset/train/labels/001037.txt  \n",
            "  inflating: dataset/train/labels/001989.txt  \n",
            "  inflating: dataset/train/labels/001751.txt  \n",
            "  inflating: dataset/train/labels/001792.txt  \n",
            "  inflating: dataset/train/labels/005278.txt  \n",
            "  inflating: dataset/train/labels/00617_jpg.rf.6c879ad11ecb4c30ed430299227b33d0.txt  \n",
            "  inflating: dataset/train/labels/005244.txt  \n",
            "  inflating: dataset/train/labels/005250.txt  \n",
            "  inflating: dataset/train/labels/Video3_234_jpg.rf.471c24f2553d586d17a85abce416276b.txt  \n",
            "  inflating: dataset/train/labels/001546.txt  \n",
            "  inflating: dataset/train/labels/001397.txt  \n",
            "  inflating: dataset/train/labels/005132.txt  \n",
            "  inflating: dataset/train/labels/001426.txt  \n",
            "  inflating: dataset/train/labels/005126.txt  \n",
            "  inflating: dataset/train/labels/001618.txt  \n",
            "  inflating: dataset/train/labels/001142.txt  \n",
            "  inflating: dataset/train/labels/001183.txt  \n",
            "  inflating: dataset/train/labels/001107_jpg.rf.ddc4b21edf46aaa9518dfe33a381ff29.txt  \n",
            "  inflating: dataset/train/labels/-1597-_png_jpg.rf.3bd5df66feaa51e0d65197b4acaf356f.txt  \n",
            "  inflating: dataset/train/labels/001418.txt  \n",
            "  inflating: dataset/train/labels/001395.txt  \n",
            "  inflating: dataset/train/labels/001381.txt  \n",
            "  inflating: dataset/train/labels/-1477-_png_jpg.rf.bac8d06edca64da17ced23797d0e2339.txt  \n",
            "  inflating: dataset/train/labels/001544.txt  \n",
            "  inflating: dataset/train/labels/001222.txt  \n",
            "  inflating: dataset/train/labels/001236.txt  \n",
            "  inflating: dataset/train/labels/005087.txt  \n",
            "  inflating: dataset/train/labels/001746.txt  \n",
            "  inflating: dataset/train/labels/001752.txt  \n",
            "  inflating: dataset/train/labels/image_158_jpg.rf.21b1c9f094c45914d813470b6a644c58.txt  \n",
            "  inflating: dataset/train/labels/gettyimages-650169013-612x612_jpg.rf.90fc5c76e7c05968c9b793beb168af66.txt  \n",
            "  inflating: dataset/train/labels/001961.txt  \n",
            "  inflating: dataset/train/labels/001948.txt  \n",
            "  inflating: dataset/train/labels/ppe_1130_jpg.rf.88358e5b86cdc4d55d4689abe5cb87e4.txt  \n",
            "  inflating: dataset/train/labels/001747.txt  \n",
            "  inflating: dataset/train/labels/005092.txt  \n",
            "  inflating: dataset/train/labels/005086.txt  \n",
            "  inflating: dataset/train/labels/001545.txt  \n",
            "  inflating: dataset/train/labels/-1579-_png_jpg.rf.c8f91ec3791bf03ccf9eca6c29f62aec.txt  \n",
            "  inflating: dataset/train/labels/005119.txt  \n",
            "  inflating: dataset/train/labels/001155.txt  \n",
            "  inflating: dataset/val/images/005228.jpg  \n",
            "  inflating: __MACOSX/dataset/val/images/._005228.jpg  \n",
            "  inflating: dataset/val/images/001339.jpg  \n",
            "  inflating: __MACOSX/dataset/val/images/._001339.jpg  \n",
            "  inflating: dataset/val/images/Video2_83_jpg.rf.3f002b5fe1217bb7937e1ac3eb8488ae.jpg  \n",
            "  inflating: __MACOSX/dataset/val/images/._Video2_83_jpg.rf.3f002b5fe1217bb7937e1ac3eb8488ae.jpg  \n",
            "  inflating: dataset/val/images/001675.jpg  \n",
            "  inflating: __MACOSX/dataset/val/images/._001675.jpg  \n",
            "  inflating: dataset/val/images/001073.jpg  \n",
            "  inflating: __MACOSX/dataset/val/images/._001073.jpg  \n",
            "  inflating: dataset/val/images/001265.jpg  \n",
            "  inflating: __MACOSX/dataset/val/images/._001265.jpg  \n",
            "  inflating: dataset/val/images/001503.jpg  \n",
            "  inflating: __MACOSX/dataset/val/images/._001503.jpg  \n",
            "  inflating: dataset/val/images/001893.jpg  \n",
            "  inflating: __MACOSX/dataset/val/images/._001893.jpg  \n",
            "  inflating: dataset/val/images/005216.jpg  \n",
            "  inflating: __MACOSX/dataset/val/images/._005216.jpg  \n",
            "  inflating: dataset/val/images/001702.jpg  \n",
            "  inflating: __MACOSX/dataset/val/images/._001702.jpg  \n",
            "  inflating: dataset/val/images/001060.jpg  \n",
            "  inflating: __MACOSX/dataset/val/images/._001060.jpg  \n",
            "  inflating: dataset/val/images/Video3_19_jpg.rf.ae0c1d1923ab81af7575d5d532490729.jpg  \n",
            "  inflating: __MACOSX/dataset/val/images/._Video3_19_jpg.rf.ae0c1d1923ab81af7575d5d532490729.jpg  \n",
            "  inflating: dataset/val/images/001883.jpg  \n",
            "  inflating: __MACOSX/dataset/val/images/._001883.jpg  \n",
            "  inflating: dataset/val/images/001908.jpg  \n",
            "  inflating: __MACOSX/dataset/val/images/._001908.jpg  \n",
            "  inflating: dataset/val/images/001707.jpg  \n",
            "  inflating: __MACOSX/dataset/val/images/._001707.jpg  \n",
            "  inflating: dataset/val/images/005207.jpg  \n",
            "  inflating: __MACOSX/dataset/val/images/._005207.jpg  \n",
            "  inflating: dataset/val/images/YouTube-FreeStockFootage-PersonThinkingDeeply-h-HC-hj-Zo-720p_mp4-7_jpg.rf.4d6b125dc1fa9f9970e29a35bab61c9a.jpg  \n",
            "  inflating: __MACOSX/dataset/val/images/._YouTube-FreeStockFootage-PersonThinkingDeeply-h-HC-hj-Zo-720p_mp4-7_jpg.rf.4d6b125dc1fa9f9970e29a35bab61c9a.jpg  \n",
            "  inflating: dataset/val/images/001739.jpg  \n",
            "  inflating: __MACOSX/dataset/val/images/._001739.jpg  \n",
            "  inflating: dataset/val/images/02567_jpg.rf.d1327d7fe3826f7ae0976fc5e90f94aa.jpg  \n",
            "  inflating: __MACOSX/dataset/val/images/._02567_jpg.rf.d1327d7fe3826f7ae0976fc5e90f94aa.jpg  \n",
            "  inflating: dataset/val/images/helmet999934_jpg.rf.7ac9be3c69da7e2d4edf14bf94abc29c.jpg  \n",
            "  inflating: __MACOSX/dataset/val/images/._helmet999934_jpg.rf.7ac9be3c69da7e2d4edf14bf94abc29c.jpg  \n",
            "  inflating: dataset/val/images/001937.jpg  \n",
            "  inflating: __MACOSX/dataset/val/images/._001937.jpg  \n",
            "  inflating: dataset/val/images/001062.jpg  \n",
            "  inflating: __MACOSX/dataset/val/images/._001062.jpg  \n",
            "  inflating: dataset/val/images/005012.jpg  \n",
            "  inflating: __MACOSX/dataset/val/images/._005012.jpg  \n",
            "  inflating: dataset/val/images/001005.jpg  \n",
            "  inflating: __MACOSX/dataset/val/images/._001005.jpg  \n",
            "  inflating: dataset/val/images/-2398-_png_jpg.rf.bcec23ae95199cde62866097de49e92c.jpg  \n",
            "  inflating: __MACOSX/dataset/val/images/._-2398-_png_jpg.rf.bcec23ae95199cde62866097de49e92c.jpg  \n",
            "  inflating: dataset/val/images/001824.jpg  \n",
            "  inflating: __MACOSX/dataset/val/images/._001824.jpg  \n",
            "  inflating: dataset/val/images/001373.jpg  \n",
            "  inflating: __MACOSX/dataset/val/images/._001373.jpg  \n",
            "  inflating: dataset/val/images/-2391-_png_jpg.rf.8781d03c5c7efeeb7fdaeb65e1dd0fc7.jpg  \n",
            "  inflating: __MACOSX/dataset/val/images/._-2391-_png_jpg.rf.8781d03c5c7efeeb7fdaeb65e1dd0fc7.jpg  \n",
            "  inflating: dataset/val/images/001158.jpg  \n",
            "  inflating: __MACOSX/dataset/val/images/._001158.jpg  \n",
            "  inflating: dataset/val/images/001038.jpg  \n",
            "  inflating: __MACOSX/dataset/val/images/._001038.jpg  \n",
            "  inflating: dataset/val/images/00977_jpg.rf.f95b8f2a8ddd0df6ee5f56d665ebbb55.jpg  \n",
            "  inflating: __MACOSX/dataset/val/images/._00977_jpg.rf.f95b8f2a8ddd0df6ee5f56d665ebbb55.jpg  \n",
            "  inflating: dataset/val/images/001246_jpg.rf.05724a1c67f05c4fbd6fb3d872bc98b4.jpg  \n",
            "  inflating: __MACOSX/dataset/val/images/._001246_jpg.rf.05724a1c67f05c4fbd6fb3d872bc98b4.jpg  \n",
            "  inflating: dataset/val/images/001628.jpg  \n",
            "  inflating: __MACOSX/dataset/val/images/._001628.jpg  \n",
            "  inflating: dataset/val/images/-2082-_png_jpg.rf.7b89e77b67643cd28c0ce52ed7e588e3.jpg  \n",
            "  inflating: __MACOSX/dataset/val/images/._-2082-_png_jpg.rf.7b89e77b67643cd28c0ce52ed7e588e3.jpg  \n",
            "  inflating: dataset/val/images/005275.jpg  \n",
            "  inflating: __MACOSX/dataset/val/images/._005275.jpg  \n",
            "  inflating: dataset/val/images/001205.jpg  \n",
            "  inflating: __MACOSX/dataset/val/images/._001205.jpg  \n",
            "  inflating: dataset/val/images/001216_jpg.rf.c7de195db643cb4d72f58f262b39b050.jpg  \n",
            "  inflating: __MACOSX/dataset/val/images/._001216_jpg.rf.c7de195db643cb4d72f58f262b39b050.jpg  \n",
            "  inflating: dataset/val/images/001360.jpg  \n",
            "  inflating: __MACOSX/dataset/val/images/._001360.jpg  \n",
            "  inflating: dataset/val/images/02092_jpg.rf.934d13f377f95d9adae1f393f427ba32.jpg  \n",
            "  inflating: __MACOSX/dataset/val/images/._02092_jpg.rf.934d13f377f95d9adae1f393f427ba32.jpg  \n",
            "  inflating: dataset/val/images/005072.jpg  \n",
            "  inflating: __MACOSX/dataset/val/images/._005072.jpg  \n",
            "  inflating: dataset/val/images/helmet999965_jpg.rf.756eaab75a0b323e1784e0115c0a35e8.jpg  \n",
            "  inflating: __MACOSX/dataset/val/images/._helmet999965_jpg.rf.756eaab75a0b323e1784e0115c0a35e8.jpg  \n",
            "  inflating: dataset/val/images/001388.jpg  \n",
            "  inflating: __MACOSX/dataset/val/images/._001388.jpg  \n",
            "  inflating: dataset/val/images/001411.jpg  \n",
            "  inflating: __MACOSX/dataset/val/images/._001411.jpg  \n",
            "  inflating: dataset/val/images/001175.jpg  \n",
            "  inflating: __MACOSX/dataset/val/images/._001175.jpg  \n",
            "  inflating: dataset/val/images/YouTube-FREE-AerialStockFootage_CityUrban-YKY3Mm5P1tE-720p_mp4-7_jpg.rf.3ad1e4933e697179f9d54d06d31830e4.jpg  \n",
            "  inflating: __MACOSX/dataset/val/images/._YouTube-FREE-AerialStockFootage_CityUrban-YKY3Mm5P1tE-720p_mp4-7_jpg.rf.3ad1e4933e697179f9d54d06d31830e4.jpg  \n",
            "  inflating: dataset/val/images/01338_jpg.rf.e142346c853fbd92e2340e43eb30eecf.jpg  \n",
            "  inflating: __MACOSX/dataset/val/images/._01338_jpg.rf.e142346c853fbd92e2340e43eb30eecf.jpg  \n",
            "  inflating: dataset/val/images/Aitin3205_jpg.rf.0e0bc650138d83144f9e7196dd2bec38.jpg  \n",
            "  inflating: __MACOSX/dataset/val/images/._Aitin3205_jpg.rf.0e0bc650138d83144f9e7196dd2bec38.jpg  \n",
            "  inflating: dataset/val/images/001184.jpg  \n",
            "  inflating: __MACOSX/dataset/val/images/._001184.jpg  \n",
            "  inflating: dataset/val/images/001806.jpg  \n",
            "  inflating: __MACOSX/dataset/val/images/._001806.jpg  \n",
            "  inflating: dataset/val/images/001345.jpg  \n",
            "  inflating: __MACOSX/dataset/val/images/._001345.jpg  \n",
            "  inflating: dataset/val/images/helmet9991123_jpg.rf.b2f88448522c155ac91f0ab719addf38.jpg  \n",
            "  inflating: __MACOSX/dataset/val/images/._helmet9991123_jpg.rf.b2f88448522c155ac91f0ab719addf38.jpg  \n",
            "  inflating: dataset/val/images/001807.jpg  \n",
            "  inflating: __MACOSX/dataset/val/images/._001807.jpg  \n",
            "  inflating: dataset/val/images/001152.jpg  \n",
            "  inflating: __MACOSX/dataset/val/images/._001152.jpg  \n",
            "  inflating: dataset/val/images/image_150_jpg.rf.6b42024e9ab03c2c17d1025c76bff9a0.jpg  \n",
            "  inflating: __MACOSX/dataset/val/images/._image_150_jpg.rf.6b42024e9ab03c2c17d1025c76bff9a0.jpg  \n",
            "  inflating: dataset/val/images/001624.jpg  \n",
            "  inflating: __MACOSX/dataset/val/images/._001624.jpg  \n",
            "  inflating: dataset/val/images/001214_jpg.rf.1341753c952df6e0889b1f781af22c77.jpg  \n",
            "  inflating: __MACOSX/dataset/val/images/._001214_jpg.rf.1341753c952df6e0889b1f781af22c77.jpg  \n",
            "  inflating: dataset/val/images/001631.jpg  \n",
            "  inflating: __MACOSX/dataset/val/images/._001631.jpg  \n",
            "  inflating: dataset/val/images/001619.jpg  \n",
            "  inflating: __MACOSX/dataset/val/images/._001619.jpg  \n",
            "  inflating: dataset/val/images/001551.jpg  \n",
            "  inflating: __MACOSX/dataset/val/images/._001551.jpg  \n",
            "  inflating: dataset/val/images/001223.jpg  \n",
            "  inflating: __MACOSX/dataset/val/images/._001223.jpg  \n",
            "  inflating: dataset/val/images/001974.jpg  \n",
            "  inflating: __MACOSX/dataset/val/images/._001974.jpg  \n",
            "  inflating: dataset/val/images/001790.jpg  \n",
            "  inflating: __MACOSX/dataset/val/images/._001790.jpg  \n",
            "  inflating: dataset/val/images/005284.jpg  \n",
            "  inflating: __MACOSX/dataset/val/images/._005284.jpg  \n",
            "  inflating: dataset/val/images/001627.jpg  \n",
            "  inflating: __MACOSX/dataset/val/images/._001627.jpg  \n",
            "  inflating: dataset/val/images/ppe_0153_jpg.rf.cfc5bb75e388eecc7b459d59d4c41b95.jpg  \n",
            "  inflating: __MACOSX/dataset/val/images/._ppe_0153_jpg.rf.cfc5bb75e388eecc7b459d59d4c41b95.jpg  \n",
            "  inflating: dataset/val/images/001814.jpg  \n",
            "  inflating: __MACOSX/dataset/val/images/._001814.jpg  \n",
            "  inflating: dataset/val/images/001196.jpg  \n",
            "  inflating: __MACOSX/dataset/val/images/._001196.jpg  \n",
            "  inflating: dataset/val/images/-2168-_png_jpg.rf.cd5ce7cad7216bda1d5a2e90d9ccdd4e.jpg  \n",
            "  inflating: __MACOSX/dataset/val/images/._-2168-_png_jpg.rf.cd5ce7cad7216bda1d5a2e90d9ccdd4e.jpg  \n",
            "  inflating: dataset/val/images/001697.jpg  \n",
            "  inflating: __MACOSX/dataset/val/images/._001697.jpg  \n",
            "  inflating: dataset/val/images/001124.jpg  \n",
            "  inflating: __MACOSX/dataset/val/images/._001124.jpg  \n",
            "  inflating: dataset/val/images/001326.jpg  \n",
            "  inflating: __MACOSX/dataset/val/images/._001326.jpg  \n",
            "  inflating: dataset/val/images/005155.jpg  \n",
            "  inflating: __MACOSX/dataset/val/images/._005155.jpg  \n",
            "  inflating: dataset/val/images/005021.jpg  \n",
            "  inflating: __MACOSX/dataset/val/images/._005021.jpg  \n",
            "  inflating: dataset/val/images/-1943-_png_jpg.rf.fe8693f39c8d2c4be6615a63edd3550d.jpg  \n",
            "  inflating: __MACOSX/dataset/val/images/._-1943-_png_jpg.rf.fe8693f39c8d2c4be6615a63edd3550d.jpg  \n",
            "  inflating: dataset/val/images/001096.jpg  \n",
            "  inflating: __MACOSX/dataset/val/images/._001096.jpg  \n",
            "  inflating: dataset/val/images/ppe_1166_jpg.rf.ccad8bba387168ec13aa4f3ce7848f27.jpg  \n",
            "  inflating: __MACOSX/dataset/val/images/._ppe_1166_jpg.rf.ccad8bba387168ec13aa4f3ce7848f27.jpg  \n",
            "  inflating: dataset/val/images/001875.jpg  \n",
            "  inflating: __MACOSX/dataset/val/images/._001875.jpg  \n",
            "  inflating: dataset/val/images/001353_jpg.rf.c0abf8e966961dd3c902dce35a401240.jpg  \n",
            "  inflating: __MACOSX/dataset/val/images/._001353_jpg.rf.c0abf8e966961dd3c902dce35a401240.jpg  \n",
            "  inflating: dataset/val/images/001268.jpg  \n",
            "  inflating: __MACOSX/dataset/val/images/._001268.jpg  \n",
            "  inflating: dataset/val/images/005026.jpg  \n",
            "  inflating: __MACOSX/dataset/val/images/._005026.jpg  \n",
            "  inflating: dataset/val/images/Video2_178_jpg.rf.589896c6e0322de89e52bcd29313c422.jpg  \n",
            "  inflating: __MACOSX/dataset/val/images/._Video2_178_jpg.rf.589896c6e0322de89e52bcd29313c422.jpg  \n",
            "  inflating: dataset/val/images/001687.jpg  \n",
            "  inflating: __MACOSX/dataset/val/images/._001687.jpg  \n",
            "  inflating: dataset/val/images/Video2_38_jpg.rf.a593c2439bc2acd57f3d9e911c710e75.jpg  \n",
            "  inflating: __MACOSX/dataset/val/images/._Video2_38_jpg.rf.a593c2439bc2acd57f3d9e911c710e75.jpg  \n",
            "  inflating: dataset/val/images/001282.jpg  \n",
            "  inflating: __MACOSX/dataset/val/images/._001282.jpg  \n",
            "  inflating: dataset/val/labels/-2391-_png_jpg.rf.8781d03c5c7efeeb7fdaeb65e1dd0fc7.txt  \n",
            "  inflating: dataset/val/labels/001158.txt  \n",
            "  inflating: dataset/val/labels/001038.txt  \n",
            "  inflating: dataset/val/labels/001005.txt  \n",
            "  inflating: dataset/val/labels/001373.txt  \n",
            "  inflating: dataset/val/labels/001824.txt  \n",
            "  inflating: dataset/val/labels/-2398-_png_jpg.rf.bcec23ae95199cde62866097de49e92c.txt  \n",
            "  inflating: dataset/val/labels/001205.txt  \n",
            "  inflating: dataset/val/labels/005275.txt  \n",
            "  inflating: dataset/val/labels/00977_jpg.rf.f95b8f2a8ddd0df6ee5f56d665ebbb55.txt  \n",
            "  inflating: dataset/val/labels/001246_jpg.rf.05724a1c67f05c4fbd6fb3d872bc98b4.txt  \n",
            "  inflating: dataset/val/labels/-2082-_png_jpg.rf.7b89e77b67643cd28c0ce52ed7e588e3.txt  \n",
            "  inflating: dataset/val/labels/001628.txt  \n",
            "  inflating: dataset/val/labels/001360.txt  \n",
            "  inflating: dataset/val/labels/005072.txt  \n",
            "  inflating: dataset/val/labels/02092_jpg.rf.934d13f377f95d9adae1f393f427ba32.txt  \n",
            "  inflating: dataset/val/labels/001216_jpg.rf.c7de195db643cb4d72f58f262b39b050.txt  \n",
            "  inflating: dataset/val/labels/001175.txt  \n",
            "  inflating: dataset/val/labels/001411.txt  \n",
            "  inflating: dataset/val/labels/001388.txt  \n",
            "  inflating: dataset/val/labels/helmet999965_jpg.rf.756eaab75a0b323e1784e0115c0a35e8.txt  \n",
            "  inflating: dataset/val/labels/001675.txt  \n",
            "  inflating: dataset/val/labels/001339.txt  \n",
            "  inflating: dataset/val/labels/Video2_83_jpg.rf.3f002b5fe1217bb7937e1ac3eb8488ae.txt  \n",
            "  inflating: dataset/val/labels/001503.txt  \n",
            "  inflating: dataset/val/labels/001265.txt  \n",
            "  inflating: dataset/val/labels/001073.txt  \n",
            "  inflating: dataset/val/labels/005228.txt  \n",
            "  inflating: dataset/val/labels/005216.txt  \n",
            "  inflating: dataset/val/labels/001702.txt  \n",
            "  inflating: dataset/val/labels/001893.txt  \n",
            "  inflating: dataset/val/labels/001883.txt  \n",
            "  inflating: dataset/val/labels/Video3_19_jpg.rf.ae0c1d1923ab81af7575d5d532490729.txt  \n",
            "  inflating: dataset/val/labels/YouTube-FreeStockFootage-PersonThinkingDeeply-h-HC-hj-Zo-720p_mp4-7_jpg.rf.4d6b125dc1fa9f9970e29a35bab61c9a.txt  \n",
            "  inflating: dataset/val/labels/005207.txt  \n",
            "  inflating: dataset/val/labels/001707.txt  \n",
            "  inflating: dataset/val/labels/001908.txt  \n",
            "  inflating: dataset/val/labels/001060.txt  \n",
            "  inflating: dataset/val/labels/helmet999934_jpg.rf.7ac9be3c69da7e2d4edf14bf94abc29c.txt  \n",
            "  inflating: dataset/val/labels/005012.txt  \n",
            "  inflating: dataset/val/labels/001062.txt  \n",
            "  inflating: dataset/val/labels/001937.txt  \n",
            "  inflating: dataset/val/labels/001739.txt  \n",
            "  inflating: dataset/val/labels/02567_jpg.rf.d1327d7fe3826f7ae0976fc5e90f94aa.txt  \n",
            "  inflating: dataset/val/labels/001697.txt  \n",
            "  inflating: dataset/val/labels/-2168-_png_jpg.rf.cd5ce7cad7216bda1d5a2e90d9ccdd4e.txt  \n",
            "  inflating: dataset/val/labels/005155.txt  \n",
            "  inflating: dataset/val/labels/005021.txt  \n",
            "  inflating: dataset/val/labels/001326.txt  \n",
            "  inflating: dataset/val/labels/001124.txt  \n",
            "  inflating: dataset/val/labels/001875.txt  \n",
            "  inflating: dataset/val/labels/001353_jpg.rf.c0abf8e966961dd3c902dce35a401240.txt  \n",
            "  inflating: dataset/val/labels/001096.txt  \n",
            "  inflating: dataset/val/labels/-1943-_png_jpg.rf.fe8693f39c8d2c4be6615a63edd3550d.txt  \n",
            "  inflating: dataset/val/labels/ppe_1166_jpg.rf.ccad8bba387168ec13aa4f3ce7848f27.txt  \n",
            "  inflating: dataset/val/labels/001282.txt  \n",
            "  inflating: dataset/val/labels/Video2_38_jpg.rf.a593c2439bc2acd57f3d9e911c710e75.txt  \n",
            "  inflating: dataset/val/labels/Video2_178_jpg.rf.589896c6e0322de89e52bcd29313c422.txt  \n",
            "  inflating: dataset/val/labels/001268.txt  \n",
            "  inflating: dataset/val/labels/005026.txt  \n",
            "  inflating: dataset/val/labels/001687.txt  \n",
            "  inflating: dataset/val/labels/01338_jpg.rf.e142346c853fbd92e2340e43eb30eecf.txt  \n",
            " extracting: dataset/val/labels/YouTube-FREE-AerialStockFootage_CityUrban-YKY3Mm5P1tE-720p_mp4-7_jpg.rf.3ad1e4933e697179f9d54d06d31830e4.txt  \n",
            "  inflating: dataset/val/labels/001152.txt  \n",
            "  inflating: dataset/val/labels/001807.txt  \n",
            "  inflating: dataset/val/labels/helmet9991123_jpg.rf.b2f88448522c155ac91f0ab719addf38.txt  \n",
            "  inflating: dataset/val/labels/image_150_jpg.rf.6b42024e9ab03c2c17d1025c76bff9a0.txt  \n",
            "  inflating: dataset/val/labels/Aitin3205_jpg.rf.0e0bc650138d83144f9e7196dd2bec38.txt  \n",
            "  inflating: dataset/val/labels/001345.txt  \n",
            "  inflating: dataset/val/labels/001184.txt  \n",
            "  inflating: dataset/val/labels/001806.txt  \n",
            "  inflating: dataset/val/labels/001631.txt  \n",
            "  inflating: dataset/val/labels/001619.txt  \n",
            "  inflating: dataset/val/labels/001214_jpg.rf.1341753c952df6e0889b1f781af22c77.txt  \n",
            "  inflating: dataset/val/labels/001624.txt  \n",
            "  inflating: dataset/val/labels/001974.txt  \n",
            "  inflating: dataset/val/labels/001790.txt  \n",
            "  inflating: dataset/val/labels/005284.txt  \n",
            "  inflating: dataset/val/labels/001551.txt  \n",
            "  inflating: dataset/val/labels/001223.txt  \n",
            "  inflating: dataset/val/labels/001814.txt  \n",
            "  inflating: dataset/val/labels/001196.txt  \n",
            "  inflating: dataset/val/labels/ppe_0153_jpg.rf.cfc5bb75e388eecc7b459d59d4c41b95.txt  \n",
            "  inflating: dataset/val/labels/001627.txt  \n"
          ]
        }
      ],
      "source": [
        "!unzip /content/dataset.zip"
      ]
    },
    {
      "cell_type": "code",
      "execution_count": null,
      "metadata": {
        "colab": {
          "base_uri": "https://localhost:8080/"
        },
        "id": "OkvKt2l1jNX9",
        "outputId": "1db8f7cc-bd29-4125-ce5e-019b2177b767"
      },
      "outputs": [
        {
          "metadata": {
            "tags": null
          },
          "name": "stdout",
          "output_type": "stream",
          "text": [
            "Ultralytics YOLOv8.2.81 🚀 Python-3.10.12 torch-2.3.1+cu121 CPU (Intel Xeon 2.20GHz)\n",
            "\u001b[34m\u001b[1mengine/trainer: \u001b[0mtask=detect, mode=train, model=yolov8n.pt, data=/content/dataset.yaml, epochs=50, time=None, patience=100, batch=16, imgsz=640, save=True, save_period=-1, cache=False, device=None, workers=4, project=None, name=person_detection, exist_ok=False, pretrained=True, optimizer=auto, verbose=True, seed=0, deterministic=True, single_cls=False, rect=False, cos_lr=False, close_mosaic=10, resume=False, amp=True, fraction=1.0, profile=False, freeze=None, multi_scale=False, overlap_mask=True, mask_ratio=4, dropout=0.0, val=True, split=val, save_json=False, save_hybrid=False, conf=None, iou=0.7, max_det=300, half=False, dnn=False, plots=True, source=None, vid_stride=1, stream_buffer=False, visualize=False, augment=False, agnostic_nms=False, classes=None, retina_masks=False, embed=None, show=False, save_frames=False, save_txt=False, save_conf=False, save_crop=False, show_labels=True, show_conf=True, show_boxes=True, line_width=None, format=torchscript, keras=False, optimize=False, int8=False, dynamic=False, simplify=False, opset=None, workspace=4, nms=False, lr0=0.01, lrf=0.01, momentum=0.937, weight_decay=0.0005, warmup_epochs=3.0, warmup_momentum=0.8, warmup_bias_lr=0.1, box=7.5, cls=0.5, dfl=1.5, pose=12.0, kobj=1.0, label_smoothing=0.0, nbs=64, hsv_h=0.015, hsv_s=0.7, hsv_v=0.4, degrees=0.0, translate=0.1, scale=0.5, shear=0.0, perspective=0.0, flipud=0.0, fliplr=0.5, bgr=0.0, mosaic=1.0, mixup=0.0, copy_paste=0.0, auto_augment=randaugment, erasing=0.4, crop_fraction=1.0, cfg=None, tracker=botsort.yaml, save_dir=runs/detect/person_detection\n",
            "Downloading https://ultralytics.com/assets/Arial.ttf to '/root/.config/Ultralytics/Arial.ttf'...\n"
          ]
        },
        {
          "metadata": {
            "tags": null
          },
          "name": "stderr",
          "output_type": "stream",
          "text": [
            "100%|██████████| 755k/755k [00:00<00:00, 15.8MB/s]\n"
          ]
        },
        {
          "metadata": {
            "tags": null
          },
          "name": "stdout",
          "output_type": "stream",
          "text": [
            "Overriding model.yaml nc=80 with nc=1\n",
            "\n",
            "                   from  n    params  module                                       arguments                     \n",
            "  0                  -1  1       464  ultralytics.nn.modules.conv.Conv             [3, 16, 3, 2]                 \n",
            "  1                  -1  1      4672  ultralytics.nn.modules.conv.Conv             [16, 32, 3, 2]                \n",
            "  2                  -1  1      7360  ultralytics.nn.modules.block.C2f             [32, 32, 1, True]             \n",
            "  3                  -1  1     18560  ultralytics.nn.modules.conv.Conv             [32, 64, 3, 2]                \n",
            "  4                  -1  2     49664  ultralytics.nn.modules.block.C2f             [64, 64, 2, True]             \n",
            "  5                  -1  1     73984  ultralytics.nn.modules.conv.Conv             [64, 128, 3, 2]               \n",
            "  6                  -1  2    197632  ultralytics.nn.modules.block.C2f             [128, 128, 2, True]           \n",
            "  7                  -1  1    295424  ultralytics.nn.modules.conv.Conv             [128, 256, 3, 2]              \n",
            "  8                  -1  1    460288  ultralytics.nn.modules.block.C2f             [256, 256, 1, True]           \n",
            "  9                  -1  1    164608  ultralytics.nn.modules.block.SPPF            [256, 256, 5]                 \n",
            " 10                  -1  1         0  torch.nn.modules.upsampling.Upsample         [None, 2, 'nearest']          \n",
            " 11             [-1, 6]  1         0  ultralytics.nn.modules.conv.Concat           [1]                           \n",
            " 12                  -1  1    148224  ultralytics.nn.modules.block.C2f             [384, 128, 1]                 \n",
            " 13                  -1  1         0  torch.nn.modules.upsampling.Upsample         [None, 2, 'nearest']          \n",
            " 14             [-1, 4]  1         0  ultralytics.nn.modules.conv.Concat           [1]                           \n",
            " 15                  -1  1     37248  ultralytics.nn.modules.block.C2f             [192, 64, 1]                  \n",
            " 16                  -1  1     36992  ultralytics.nn.modules.conv.Conv             [64, 64, 3, 2]                \n",
            " 17            [-1, 12]  1         0  ultralytics.nn.modules.conv.Concat           [1]                           \n",
            " 18                  -1  1    123648  ultralytics.nn.modules.block.C2f             [192, 128, 1]                 \n",
            " 19                  -1  1    147712  ultralytics.nn.modules.conv.Conv             [128, 128, 3, 2]              \n",
            " 20             [-1, 9]  1         0  ultralytics.nn.modules.conv.Concat           [1]                           \n",
            " 21                  -1  1    493056  ultralytics.nn.modules.block.C2f             [384, 256, 1]                 \n",
            " 22        [15, 18, 21]  1    751507  ultralytics.nn.modules.head.Detect           [1, [64, 128, 256]]           \n",
            "Model summary: 225 layers, 3,011,043 parameters, 3,011,027 gradients, 8.2 GFLOPs\n",
            "\n",
            "Transferred 319/355 items from pretrained weights\n",
            "\u001b[34m\u001b[1mTensorBoard: \u001b[0mStart with 'tensorboard --logdir runs/detect/person_detection', view at http://localhost:6006/\n",
            "Freezing layer 'model.22.dfl.conv.weight'\n"
          ]
        },
        {
          "metadata": {
            "tags": null
          },
          "name": "stderr",
          "output_type": "stream",
          "text": [
            "\u001b[34m\u001b[1mtrain: \u001b[0mScanning /content/dataset/train/labels... 332 images, 6 backgrounds, 0 corrupt: 100%|██████████| 332/332 [00:00<00:00, 1294.86it/s]"
          ]
        },
        {
          "metadata": {
            "tags": null
          },
          "name": "stdout",
          "output_type": "stream",
          "text": [
            "\u001b[34m\u001b[1mtrain: \u001b[0mNew cache created: /content/dataset/train/labels.cache\n"
          ]
        },
        {
          "metadata": {
            "tags": null
          },
          "name": "stderr",
          "output_type": "stream",
          "text": [
            "\n"
          ]
        },
        {
          "metadata": {
            "tags": null
          },
          "name": "stdout",
          "output_type": "stream",
          "text": [
            "\u001b[34m\u001b[1malbumentations: \u001b[0mBlur(p=0.01, blur_limit=(3, 7)), MedianBlur(p=0.01, blur_limit=(3, 7)), ToGray(p=0.01), CLAHE(p=0.01, clip_limit=(1, 4.0), tile_grid_size=(8, 8))\n"
          ]
        },
        {
          "metadata": {
            "tags": null
          },
          "name": "stderr",
          "output_type": "stream",
          "text": [
            "\u001b[34m\u001b[1mval: \u001b[0mScanning /content/dataset/val/labels... 84 images, 1 backgrounds, 0 corrupt: 100%|██████████| 84/84 [00:00<00:00, 2040.94it/s]"
          ]
        },
        {
          "metadata": {
            "tags": null
          },
          "name": "stdout",
          "output_type": "stream",
          "text": [
            "\u001b[34m\u001b[1mval: \u001b[0mNew cache created: /content/dataset/val/labels.cache\n"
          ]
        },
        {
          "metadata": {
            "tags": null
          },
          "name": "stderr",
          "output_type": "stream",
          "text": [
            "\n"
          ]
        },
        {
          "metadata": {
            "tags": null
          },
          "name": "stdout",
          "output_type": "stream",
          "text": [
            "Plotting labels to runs/detect/person_detection/labels.jpg... \n",
            "\u001b[34m\u001b[1moptimizer:\u001b[0m 'optimizer=auto' found, ignoring 'lr0=0.01' and 'momentum=0.937' and determining best 'optimizer', 'lr0' and 'momentum' automatically... \n",
            "\u001b[34m\u001b[1moptimizer:\u001b[0m AdamW(lr=0.002, momentum=0.9) with parameter groups 57 weight(decay=0.0), 64 weight(decay=0.0005), 63 bias(decay=0.0)\n",
            "\u001b[34m\u001b[1mTensorBoard: \u001b[0mmodel graph visualization added ✅\n",
            "Image sizes 640 train, 640 val\n",
            "Using 0 dataloader workers\n",
            "Logging results to \u001b[1mruns/detect/person_detection\u001b[0m\n",
            "Starting training for 50 epochs...\n",
            "\n",
            "      Epoch    GPU_mem   box_loss   cls_loss   dfl_loss  Instances       Size\n"
          ]
        },
        {
          "metadata": {
            "tags": null
          },
          "name": "stderr",
          "output_type": "stream",
          "text": [
            "       1/50         0G      0.968      1.823      1.182         85        640: 100%|██████████| 21/21 [05:02<00:00, 14.41s/it]\n",
            "                 Class     Images  Instances      Box(P          R      mAP50  mAP50-95): 100%|██████████| 3/3 [00:25<00:00,  8.48s/it]"
          ]
        },
        {
          "metadata": {
            "tags": null
          },
          "name": "stdout",
          "output_type": "stream",
          "text": [
            "                   all         84        295      0.859      0.614      0.768      0.537\n"
          ]
        },
        {
          "metadata": {
            "tags": null
          },
          "name": "stderr",
          "output_type": "stream",
          "text": [
            "\n"
          ]
        },
        {
          "metadata": {
            "tags": null
          },
          "name": "stdout",
          "output_type": "stream",
          "text": [
            "\n",
            "      Epoch    GPU_mem   box_loss   cls_loss   dfl_loss  Instances       Size\n"
          ]
        },
        {
          "metadata": {
            "tags": null
          },
          "name": "stderr",
          "output_type": "stream",
          "text": [
            "       2/50         0G      1.048      1.258      1.235         71        640: 100%|██████████| 21/21 [04:57<00:00, 14.15s/it]\n",
            "                 Class     Images  Instances      Box(P          R      mAP50  mAP50-95): 100%|██████████| 3/3 [00:23<00:00,  7.98s/it]"
          ]
        },
        {
          "metadata": {
            "tags": null
          },
          "name": "stdout",
          "output_type": "stream",
          "text": [
            "                   all         84        295      0.902      0.563      0.698      0.435\n"
          ]
        },
        {
          "metadata": {
            "tags": null
          },
          "name": "stderr",
          "output_type": "stream",
          "text": [
            "\n"
          ]
        },
        {
          "metadata": {
            "tags": null
          },
          "name": "stdout",
          "output_type": "stream",
          "text": [
            "\n",
            "      Epoch    GPU_mem   box_loss   cls_loss   dfl_loss  Instances       Size\n"
          ]
        },
        {
          "metadata": {
            "tags": null
          },
          "name": "stderr",
          "output_type": "stream",
          "text": [
            "       3/50         0G      1.123      1.318      1.264         60        640: 100%|██████████| 21/21 [04:51<00:00, 13.88s/it]\n",
            "                 Class     Images  Instances      Box(P          R      mAP50  mAP50-95): 100%|██████████| 3/3 [00:24<00:00,  8.27s/it]"
          ]
        },
        {
          "metadata": {
            "tags": null
          },
          "name": "stdout",
          "output_type": "stream",
          "text": [
            "                   all         84        295      0.722      0.525       0.62      0.356\n"
          ]
        },
        {
          "metadata": {
            "tags": null
          },
          "name": "stderr",
          "output_type": "stream",
          "text": [
            "\n"
          ]
        },
        {
          "metadata": {
            "tags": null
          },
          "name": "stdout",
          "output_type": "stream",
          "text": [
            "\n",
            "      Epoch    GPU_mem   box_loss   cls_loss   dfl_loss  Instances       Size\n"
          ]
        },
        {
          "metadata": {
            "tags": null
          },
          "name": "stderr",
          "output_type": "stream",
          "text": [
            "       4/50         0G       1.15      1.311      1.292         64        640: 100%|██████████| 21/21 [04:55<00:00, 14.09s/it]\n",
            "                 Class     Images  Instances      Box(P          R      mAP50  mAP50-95): 100%|██████████| 3/3 [00:24<00:00,  8.18s/it]"
          ]
        },
        {
          "metadata": {
            "tags": null
          },
          "name": "stdout",
          "output_type": "stream",
          "text": [
            "                   all         84        295       0.72      0.549      0.625      0.377\n"
          ]
        },
        {
          "metadata": {
            "tags": null
          },
          "name": "stderr",
          "output_type": "stream",
          "text": [
            "\n"
          ]
        },
        {
          "metadata": {
            "tags": null
          },
          "name": "stdout",
          "output_type": "stream",
          "text": [
            "\n",
            "      Epoch    GPU_mem   box_loss   cls_loss   dfl_loss  Instances       Size\n"
          ]
        },
        {
          "metadata": {
            "tags": null
          },
          "name": "stderr",
          "output_type": "stream",
          "text": [
            "       5/50         0G      1.168      1.279      1.321         94        640: 100%|██████████| 21/21 [04:54<00:00, 14.04s/it]\n",
            "                 Class     Images  Instances      Box(P          R      mAP50  mAP50-95): 100%|██████████| 3/3 [00:25<00:00,  8.49s/it]"
          ]
        },
        {
          "metadata": {
            "tags": null
          },
          "name": "stdout",
          "output_type": "stream",
          "text": [
            "                   all         84        295      0.661      0.613      0.695      0.389\n"
          ]
        },
        {
          "metadata": {
            "tags": null
          },
          "name": "stderr",
          "output_type": "stream",
          "text": [
            "\n"
          ]
        },
        {
          "metadata": {
            "tags": null
          },
          "name": "stdout",
          "output_type": "stream",
          "text": [
            "\n",
            "      Epoch    GPU_mem   box_loss   cls_loss   dfl_loss  Instances       Size\n"
          ]
        },
        {
          "metadata": {
            "tags": null
          },
          "name": "stderr",
          "output_type": "stream",
          "text": [
            "       6/50         0G      1.186      1.246        1.3         65        640: 100%|██████████| 21/21 [04:52<00:00, 13.92s/it]\n",
            "                 Class     Images  Instances      Box(P          R      mAP50  mAP50-95): 100%|██████████| 3/3 [00:25<00:00,  8.37s/it]"
          ]
        },
        {
          "metadata": {
            "tags": null
          },
          "name": "stdout",
          "output_type": "stream",
          "text": [
            "                   all         84        295      0.607      0.519      0.557      0.339\n"
          ]
        },
        {
          "metadata": {
            "tags": null
          },
          "name": "stderr",
          "output_type": "stream",
          "text": [
            "\n"
          ]
        },
        {
          "metadata": {
            "tags": null
          },
          "name": "stdout",
          "output_type": "stream",
          "text": [
            "\n",
            "      Epoch    GPU_mem   box_loss   cls_loss   dfl_loss  Instances       Size\n"
          ]
        },
        {
          "metadata": {
            "tags": null
          },
          "name": "stderr",
          "output_type": "stream",
          "text": [
            "       7/50         0G      1.189      1.341      1.335         93        640: 100%|██████████| 21/21 [05:08<00:00, 14.70s/it]\n",
            "                 Class     Images  Instances      Box(P          R      mAP50  mAP50-95): 100%|██████████| 3/3 [00:24<00:00,  8.22s/it]"
          ]
        },
        {
          "metadata": {
            "tags": null
          },
          "name": "stdout",
          "output_type": "stream",
          "text": [
            "                   all         84        295      0.702      0.634      0.711      0.415\n"
          ]
        },
        {
          "metadata": {
            "tags": null
          },
          "name": "stderr",
          "output_type": "stream",
          "text": [
            "\n"
          ]
        },
        {
          "metadata": {
            "tags": null
          },
          "name": "stdout",
          "output_type": "stream",
          "text": [
            "\n",
            "      Epoch    GPU_mem   box_loss   cls_loss   dfl_loss  Instances       Size\n"
          ]
        },
        {
          "metadata": {
            "tags": null
          },
          "name": "stderr",
          "output_type": "stream",
          "text": [
            "       8/50         0G      1.127      1.248      1.321         64        640: 100%|██████████| 21/21 [04:53<00:00, 13.99s/it]\n",
            "                 Class     Images  Instances      Box(P          R      mAP50  mAP50-95): 100%|██████████| 3/3 [00:24<00:00,  8.16s/it]"
          ]
        },
        {
          "metadata": {
            "tags": null
          },
          "name": "stdout",
          "output_type": "stream",
          "text": [
            "                   all         84        295      0.681      0.666      0.719      0.402\n"
          ]
        },
        {
          "metadata": {
            "tags": null
          },
          "name": "stderr",
          "output_type": "stream",
          "text": [
            "\n"
          ]
        },
        {
          "metadata": {
            "tags": null
          },
          "name": "stdout",
          "output_type": "stream",
          "text": [
            "\n",
            "      Epoch    GPU_mem   box_loss   cls_loss   dfl_loss  Instances       Size\n"
          ]
        },
        {
          "metadata": {
            "tags": null
          },
          "name": "stderr",
          "output_type": "stream",
          "text": [
            "       9/50         0G      1.142      1.201      1.286         80        640: 100%|██████████| 21/21 [04:57<00:00, 14.17s/it]\n",
            "                 Class     Images  Instances      Box(P          R      mAP50  mAP50-95): 100%|██████████| 3/3 [00:24<00:00,  8.07s/it]"
          ]
        },
        {
          "metadata": {
            "tags": null
          },
          "name": "stdout",
          "output_type": "stream",
          "text": [
            "                   all         84        295       0.77      0.763      0.823      0.483\n"
          ]
        },
        {
          "metadata": {
            "tags": null
          },
          "name": "stderr",
          "output_type": "stream",
          "text": [
            "\n"
          ]
        },
        {
          "metadata": {
            "tags": null
          },
          "name": "stdout",
          "output_type": "stream",
          "text": [
            "\n",
            "      Epoch    GPU_mem   box_loss   cls_loss   dfl_loss  Instances       Size\n"
          ]
        },
        {
          "metadata": {
            "tags": null
          },
          "name": "stderr",
          "output_type": "stream",
          "text": [
            "      10/50         0G      1.113      1.151      1.282         44        640: 100%|██████████| 21/21 [04:47<00:00, 13.70s/it]\n",
            "                 Class     Images  Instances      Box(P          R      mAP50  mAP50-95): 100%|██████████| 3/3 [00:24<00:00,  8.14s/it]"
          ]
        },
        {
          "metadata": {
            "tags": null
          },
          "name": "stdout",
          "output_type": "stream",
          "text": [
            "                   all         84        295      0.783      0.671      0.796      0.489\n"
          ]
        },
        {
          "metadata": {
            "tags": null
          },
          "name": "stderr",
          "output_type": "stream",
          "text": [
            "\n"
          ]
        },
        {
          "metadata": {
            "tags": null
          },
          "name": "stdout",
          "output_type": "stream",
          "text": [
            "\n",
            "      Epoch    GPU_mem   box_loss   cls_loss   dfl_loss  Instances       Size\n"
          ]
        },
        {
          "metadata": {
            "tags": null
          },
          "name": "stderr",
          "output_type": "stream",
          "text": [
            "      11/50         0G        1.1      1.134      1.262         86        640: 100%|██████████| 21/21 [04:53<00:00, 13.99s/it]\n",
            "                 Class     Images  Instances      Box(P          R      mAP50  mAP50-95): 100%|██████████| 3/3 [00:24<00:00,  8.11s/it]"
          ]
        },
        {
          "metadata": {
            "tags": null
          },
          "name": "stdout",
          "output_type": "stream",
          "text": [
            "                   all         84        295      0.842      0.685      0.771      0.494\n"
          ]
        },
        {
          "metadata": {
            "tags": null
          },
          "name": "stderr",
          "output_type": "stream",
          "text": [
            "\n"
          ]
        },
        {
          "metadata": {
            "tags": null
          },
          "name": "stdout",
          "output_type": "stream",
          "text": [
            "\n",
            "      Epoch    GPU_mem   box_loss   cls_loss   dfl_loss  Instances       Size\n"
          ]
        },
        {
          "metadata": {
            "tags": null
          },
          "name": "stderr",
          "output_type": "stream",
          "text": [
            "      12/50         0G       1.07      1.088      1.252         84        640: 100%|██████████| 21/21 [04:53<00:00, 14.00s/it]\n",
            "                 Class     Images  Instances      Box(P          R      mAP50  mAP50-95): 100%|██████████| 3/3 [00:23<00:00,  7.98s/it]"
          ]
        },
        {
          "metadata": {
            "tags": null
          },
          "name": "stdout",
          "output_type": "stream",
          "text": [
            "                   all         84        295       0.74      0.688      0.773       0.51\n"
          ]
        },
        {
          "metadata": {
            "tags": null
          },
          "name": "stderr",
          "output_type": "stream",
          "text": [
            "\n"
          ]
        },
        {
          "metadata": {
            "tags": null
          },
          "name": "stdout",
          "output_type": "stream",
          "text": [
            "\n",
            "      Epoch    GPU_mem   box_loss   cls_loss   dfl_loss  Instances       Size\n"
          ]
        },
        {
          "metadata": {
            "tags": null
          },
          "name": "stderr",
          "output_type": "stream",
          "text": [
            "      13/50         0G       1.06      1.104      1.252         66        640: 100%|██████████| 21/21 [04:47<00:00, 13.71s/it]\n",
            "                 Class     Images  Instances      Box(P          R      mAP50  mAP50-95): 100%|██████████| 3/3 [00:24<00:00,  8.04s/it]"
          ]
        },
        {
          "metadata": {
            "tags": null
          },
          "name": "stdout",
          "output_type": "stream",
          "text": [
            "                   all         84        295      0.806      0.681      0.762        0.5\n"
          ]
        },
        {
          "metadata": {
            "tags": null
          },
          "name": "stderr",
          "output_type": "stream",
          "text": [
            "\n"
          ]
        },
        {
          "metadata": {
            "tags": null
          },
          "name": "stdout",
          "output_type": "stream",
          "text": [
            "\n",
            "      Epoch    GPU_mem   box_loss   cls_loss   dfl_loss  Instances       Size\n"
          ]
        },
        {
          "metadata": {
            "tags": null
          },
          "name": "stderr",
          "output_type": "stream",
          "text": [
            "      14/50         0G      1.063      1.066      1.263         64        640: 100%|██████████| 21/21 [04:47<00:00, 13.71s/it]\n",
            "                 Class     Images  Instances      Box(P          R      mAP50  mAP50-95): 100%|██████████| 3/3 [00:24<00:00,  8.08s/it]"
          ]
        },
        {
          "metadata": {
            "tags": null
          },
          "name": "stdout",
          "output_type": "stream",
          "text": [
            "                   all         84        295      0.685      0.586      0.671      0.357\n"
          ]
        },
        {
          "metadata": {
            "tags": null
          },
          "name": "stderr",
          "output_type": "stream",
          "text": [
            "\n"
          ]
        },
        {
          "metadata": {
            "tags": null
          },
          "name": "stdout",
          "output_type": "stream",
          "text": [
            "\n",
            "      Epoch    GPU_mem   box_loss   cls_loss   dfl_loss  Instances       Size\n"
          ]
        },
        {
          "metadata": {
            "tags": null
          },
          "name": "stderr",
          "output_type": "stream",
          "text": [
            "      15/50         0G      1.072      1.037      1.239         75        640: 100%|██████████| 21/21 [04:53<00:00, 13.96s/it]\n",
            "                 Class     Images  Instances      Box(P          R      mAP50  mAP50-95): 100%|██████████| 3/3 [00:22<00:00,  7.56s/it]"
          ]
        },
        {
          "metadata": {
            "tags": null
          },
          "name": "stdout",
          "output_type": "stream",
          "text": [
            "                   all         84        295      0.747      0.719      0.788      0.478\n"
          ]
        },
        {
          "metadata": {
            "tags": null
          },
          "name": "stderr",
          "output_type": "stream",
          "text": [
            "\n"
          ]
        },
        {
          "metadata": {
            "tags": null
          },
          "name": "stdout",
          "output_type": "stream",
          "text": [
            "\n",
            "      Epoch    GPU_mem   box_loss   cls_loss   dfl_loss  Instances       Size\n"
          ]
        },
        {
          "metadata": {
            "tags": null
          },
          "name": "stderr",
          "output_type": "stream",
          "text": [
            "      16/50         0G      1.038      1.041      1.229         95        640: 100%|██████████| 21/21 [04:46<00:00, 13.63s/it]\n",
            "                 Class     Images  Instances      Box(P          R      mAP50  mAP50-95): 100%|██████████| 3/3 [00:24<00:00,  8.03s/it]"
          ]
        },
        {
          "metadata": {
            "tags": null
          },
          "name": "stdout",
          "output_type": "stream",
          "text": [
            "                   all         84        295      0.783      0.674      0.772      0.478\n"
          ]
        },
        {
          "metadata": {
            "tags": null
          },
          "name": "stderr",
          "output_type": "stream",
          "text": [
            "\n"
          ]
        },
        {
          "metadata": {
            "tags": null
          },
          "name": "stdout",
          "output_type": "stream",
          "text": [
            "\n",
            "      Epoch    GPU_mem   box_loss   cls_loss   dfl_loss  Instances       Size\n"
          ]
        },
        {
          "metadata": {
            "tags": null
          },
          "name": "stderr",
          "output_type": "stream",
          "text": [
            "      17/50         0G      1.092      1.035      1.258         85        640: 100%|██████████| 21/21 [04:52<00:00, 13.93s/it]\n",
            "                 Class     Images  Instances      Box(P          R      mAP50  mAP50-95): 100%|██████████| 3/3 [00:22<00:00,  7.50s/it]"
          ]
        },
        {
          "metadata": {
            "tags": null
          },
          "name": "stdout",
          "output_type": "stream",
          "text": [
            "                   all         84        295      0.878       0.73      0.844      0.544\n"
          ]
        },
        {
          "metadata": {
            "tags": null
          },
          "name": "stderr",
          "output_type": "stream",
          "text": [
            "\n"
          ]
        },
        {
          "metadata": {
            "tags": null
          },
          "name": "stdout",
          "output_type": "stream",
          "text": [
            "\n",
            "      Epoch    GPU_mem   box_loss   cls_loss   dfl_loss  Instances       Size\n"
          ]
        },
        {
          "metadata": {
            "tags": null
          },
          "name": "stderr",
          "output_type": "stream",
          "text": [
            "      18/50         0G      1.021     0.9845      1.212        109        640: 100%|██████████| 21/21 [04:48<00:00, 13.73s/it]\n",
            "                 Class     Images  Instances      Box(P          R      mAP50  mAP50-95): 100%|██████████| 3/3 [00:24<00:00,  8.04s/it]"
          ]
        },
        {
          "metadata": {
            "tags": null
          },
          "name": "stdout",
          "output_type": "stream",
          "text": [
            "                   all         84        295      0.856      0.739      0.832      0.551\n"
          ]
        },
        {
          "metadata": {
            "tags": null
          },
          "name": "stderr",
          "output_type": "stream",
          "text": [
            "\n"
          ]
        },
        {
          "metadata": {
            "tags": null
          },
          "name": "stdout",
          "output_type": "stream",
          "text": [
            "\n",
            "      Epoch    GPU_mem   box_loss   cls_loss   dfl_loss  Instances       Size\n"
          ]
        },
        {
          "metadata": {
            "tags": null
          },
          "name": "stderr",
          "output_type": "stream",
          "text": [
            "      19/50         0G     0.9622     0.9205      1.173         56        640: 100%|██████████| 21/21 [04:54<00:00, 14.01s/it]\n",
            "                 Class     Images  Instances      Box(P          R      mAP50  mAP50-95): 100%|██████████| 3/3 [00:23<00:00,  7.94s/it]"
          ]
        },
        {
          "metadata": {
            "tags": null
          },
          "name": "stdout",
          "output_type": "stream",
          "text": [
            "                   all         84        295      0.828      0.756      0.826      0.547\n"
          ]
        },
        {
          "metadata": {
            "tags": null
          },
          "name": "stderr",
          "output_type": "stream",
          "text": [
            "\n"
          ]
        },
        {
          "metadata": {
            "tags": null
          },
          "name": "stdout",
          "output_type": "stream",
          "text": [
            "\n",
            "      Epoch    GPU_mem   box_loss   cls_loss   dfl_loss  Instances       Size\n"
          ]
        },
        {
          "metadata": {
            "tags": null
          },
          "name": "stderr",
          "output_type": "stream",
          "text": [
            "      20/50         0G     0.9358     0.9023      1.168         79        640: 100%|██████████| 21/21 [04:52<00:00, 13.90s/it]\n",
            "                 Class     Images  Instances      Box(P          R      mAP50  mAP50-95): 100%|██████████| 3/3 [00:23<00:00,  7.85s/it]"
          ]
        },
        {
          "metadata": {
            "tags": null
          },
          "name": "stdout",
          "output_type": "stream",
          "text": [
            "                   all         84        295      0.845      0.742      0.817      0.551\n"
          ]
        },
        {
          "metadata": {
            "tags": null
          },
          "name": "stderr",
          "output_type": "stream",
          "text": [
            "\n"
          ]
        },
        {
          "metadata": {
            "tags": null
          },
          "name": "stdout",
          "output_type": "stream",
          "text": [
            "\n",
            "      Epoch    GPU_mem   box_loss   cls_loss   dfl_loss  Instances       Size\n"
          ]
        },
        {
          "metadata": {
            "tags": null
          },
          "name": "stderr",
          "output_type": "stream",
          "text": [
            "      21/50         0G     0.9695      0.915      1.182         50        640: 100%|██████████| 21/21 [04:54<00:00, 14.02s/it]\n",
            "                 Class     Images  Instances      Box(P          R      mAP50  mAP50-95): 100%|██████████| 3/3 [00:24<00:00,  8.10s/it]"
          ]
        },
        {
          "metadata": {
            "tags": null
          },
          "name": "stdout",
          "output_type": "stream",
          "text": [
            "                   all         84        295      0.824      0.746      0.806      0.545\n"
          ]
        },
        {
          "metadata": {
            "tags": null
          },
          "name": "stderr",
          "output_type": "stream",
          "text": [
            "\n"
          ]
        },
        {
          "metadata": {
            "tags": null
          },
          "name": "stdout",
          "output_type": "stream",
          "text": [
            "\n",
            "      Epoch    GPU_mem   box_loss   cls_loss   dfl_loss  Instances       Size\n"
          ]
        },
        {
          "metadata": {
            "tags": null
          },
          "name": "stderr",
          "output_type": "stream",
          "text": [
            "      22/50         0G     0.9182     0.8872      1.168         79        640: 100%|██████████| 21/21 [04:52<00:00, 13.94s/it]\n",
            "                 Class     Images  Instances      Box(P          R      mAP50  mAP50-95): 100%|██████████| 3/3 [00:23<00:00,  7.95s/it]"
          ]
        },
        {
          "metadata": {
            "tags": null
          },
          "name": "stdout",
          "output_type": "stream",
          "text": [
            "                   all         84        295       0.84      0.765      0.854      0.582\n"
          ]
        },
        {
          "metadata": {
            "tags": null
          },
          "name": "stderr",
          "output_type": "stream",
          "text": [
            "\n"
          ]
        },
        {
          "metadata": {
            "tags": null
          },
          "name": "stdout",
          "output_type": "stream",
          "text": [
            "\n",
            "      Epoch    GPU_mem   box_loss   cls_loss   dfl_loss  Instances       Size\n"
          ]
        },
        {
          "metadata": {
            "tags": null
          },
          "name": "stderr",
          "output_type": "stream",
          "text": [
            "      23/50         0G     0.9336     0.8893       1.17         98        640: 100%|██████████| 21/21 [04:54<00:00, 14.04s/it]\n",
            "                 Class     Images  Instances      Box(P          R      mAP50  mAP50-95): 100%|██████████| 3/3 [00:24<00:00,  8.12s/it]"
          ]
        },
        {
          "metadata": {
            "tags": null
          },
          "name": "stdout",
          "output_type": "stream",
          "text": [
            "                   all         84        295      0.783      0.797      0.832       0.58\n"
          ]
        },
        {
          "metadata": {
            "tags": null
          },
          "name": "stderr",
          "output_type": "stream",
          "text": [
            "\n"
          ]
        },
        {
          "metadata": {
            "tags": null
          },
          "name": "stdout",
          "output_type": "stream",
          "text": [
            "\n",
            "      Epoch    GPU_mem   box_loss   cls_loss   dfl_loss  Instances       Size\n"
          ]
        },
        {
          "metadata": {
            "tags": null
          },
          "name": "stderr",
          "output_type": "stream",
          "text": [
            "      24/50         0G     0.8911     0.8421      1.141         80        640: 100%|██████████| 21/21 [04:50<00:00, 13.84s/it]\n",
            "                 Class     Images  Instances      Box(P          R      mAP50  mAP50-95): 100%|██████████| 3/3 [00:23<00:00,  7.69s/it]"
          ]
        },
        {
          "metadata": {
            "tags": null
          },
          "name": "stdout",
          "output_type": "stream",
          "text": [
            "                   all         84        295      0.795      0.776      0.843      0.554\n"
          ]
        },
        {
          "metadata": {
            "tags": null
          },
          "name": "stderr",
          "output_type": "stream",
          "text": [
            "\n"
          ]
        },
        {
          "metadata": {
            "tags": null
          },
          "name": "stdout",
          "output_type": "stream",
          "text": [
            "\n",
            "      Epoch    GPU_mem   box_loss   cls_loss   dfl_loss  Instances       Size\n"
          ]
        },
        {
          "metadata": {
            "tags": null
          },
          "name": "stderr",
          "output_type": "stream",
          "text": [
            "      25/50         0G     0.9031     0.8418      1.157         76        640: 100%|██████████| 21/21 [04:48<00:00, 13.72s/it]\n",
            "                 Class     Images  Instances      Box(P          R      mAP50  mAP50-95): 100%|██████████| 3/3 [00:24<00:00,  8.16s/it]"
          ]
        },
        {
          "metadata": {
            "tags": null
          },
          "name": "stdout",
          "output_type": "stream",
          "text": [
            "                   all         84        295      0.867      0.756      0.876      0.609\n"
          ]
        },
        {
          "metadata": {
            "tags": null
          },
          "name": "stderr",
          "output_type": "stream",
          "text": [
            "\n"
          ]
        },
        {
          "metadata": {
            "tags": null
          },
          "name": "stdout",
          "output_type": "stream",
          "text": [
            "\n",
            "      Epoch    GPU_mem   box_loss   cls_loss   dfl_loss  Instances       Size\n"
          ]
        },
        {
          "metadata": {
            "tags": null
          },
          "name": "stderr",
          "output_type": "stream",
          "text": [
            "      26/50         0G     0.8796     0.8282      1.146         64        640: 100%|██████████| 21/21 [04:53<00:00, 13.99s/it]\n",
            "                 Class     Images  Instances      Box(P          R      mAP50  mAP50-95): 100%|██████████| 3/3 [00:23<00:00,  7.94s/it]"
          ]
        },
        {
          "metadata": {
            "tags": null
          },
          "name": "stdout",
          "output_type": "stream",
          "text": [
            "                   all         84        295      0.866      0.783      0.863      0.611\n"
          ]
        },
        {
          "metadata": {
            "tags": null
          },
          "name": "stderr",
          "output_type": "stream",
          "text": [
            "\n"
          ]
        },
        {
          "metadata": {
            "tags": null
          },
          "name": "stdout",
          "output_type": "stream",
          "text": [
            "\n",
            "      Epoch    GPU_mem   box_loss   cls_loss   dfl_loss  Instances       Size\n"
          ]
        },
        {
          "metadata": {
            "tags": null
          },
          "name": "stderr",
          "output_type": "stream",
          "text": [
            "      27/50         0G     0.8427     0.8249      1.122         75        640: 100%|██████████| 21/21 [04:50<00:00, 13.83s/it]\n",
            "                 Class     Images  Instances      Box(P          R      mAP50  mAP50-95): 100%|██████████| 3/3 [00:23<00:00,  7.94s/it]"
          ]
        },
        {
          "metadata": {
            "tags": null
          },
          "name": "stdout",
          "output_type": "stream",
          "text": [
            "                   all         84        295      0.841      0.753      0.833      0.584\n"
          ]
        },
        {
          "metadata": {
            "tags": null
          },
          "name": "stderr",
          "output_type": "stream",
          "text": [
            "\n"
          ]
        },
        {
          "metadata": {
            "tags": null
          },
          "name": "stdout",
          "output_type": "stream",
          "text": [
            "\n",
            "      Epoch    GPU_mem   box_loss   cls_loss   dfl_loss  Instances       Size\n"
          ]
        },
        {
          "metadata": {
            "tags": null
          },
          "name": "stderr",
          "output_type": "stream",
          "text": [
            "      28/50         0G     0.8583     0.7832       1.11         86        640: 100%|██████████| 21/21 [04:48<00:00, 13.74s/it]\n",
            "                 Class     Images  Instances      Box(P          R      mAP50  mAP50-95): 100%|██████████| 3/3 [00:23<00:00,  7.91s/it]"
          ]
        },
        {
          "metadata": {
            "tags": null
          },
          "name": "stdout",
          "output_type": "stream",
          "text": [
            "                   all         84        295      0.841      0.803      0.865      0.616\n"
          ]
        },
        {
          "metadata": {
            "tags": null
          },
          "name": "stderr",
          "output_type": "stream",
          "text": [
            "\n"
          ]
        },
        {
          "metadata": {
            "tags": null
          },
          "name": "stdout",
          "output_type": "stream",
          "text": [
            "\n",
            "      Epoch    GPU_mem   box_loss   cls_loss   dfl_loss  Instances       Size\n"
          ]
        },
        {
          "metadata": {
            "tags": null
          },
          "name": "stderr",
          "output_type": "stream",
          "text": [
            "      29/50         0G     0.8448     0.7757      1.128         67        640: 100%|██████████| 21/21 [05:27<00:00, 15.57s/it]\n",
            "                 Class     Images  Instances      Box(P          R      mAP50  mAP50-95): 100%|██████████| 3/3 [00:26<00:00,  8.86s/it]"
          ]
        },
        {
          "metadata": {
            "tags": null
          },
          "name": "stdout",
          "output_type": "stream",
          "text": [
            "                   all         84        295      0.849      0.782      0.861      0.617\n"
          ]
        },
        {
          "metadata": {
            "tags": null
          },
          "name": "stderr",
          "output_type": "stream",
          "text": [
            "\n"
          ]
        },
        {
          "metadata": {
            "tags": null
          },
          "name": "stdout",
          "output_type": "stream",
          "text": [
            "\n",
            "      Epoch    GPU_mem   box_loss   cls_loss   dfl_loss  Instances       Size\n"
          ]
        },
        {
          "metadata": {
            "tags": null
          },
          "name": "stderr",
          "output_type": "stream",
          "text": [
            "      30/50         0G     0.8528     0.7858      1.119         67        640: 100%|██████████| 21/21 [04:57<00:00, 14.17s/it]\n",
            "                 Class     Images  Instances      Box(P          R      mAP50  mAP50-95): 100%|██████████| 3/3 [00:23<00:00,  7.82s/it]"
          ]
        },
        {
          "metadata": {
            "tags": null
          },
          "name": "stdout",
          "output_type": "stream",
          "text": [
            "                   all         84        295      0.896      0.731      0.852        0.6\n"
          ]
        },
        {
          "metadata": {
            "tags": null
          },
          "name": "stderr",
          "output_type": "stream",
          "text": [
            "\n"
          ]
        },
        {
          "metadata": {
            "tags": null
          },
          "name": "stdout",
          "output_type": "stream",
          "text": [
            "\n",
            "      Epoch    GPU_mem   box_loss   cls_loss   dfl_loss  Instances       Size\n"
          ]
        },
        {
          "metadata": {
            "tags": null
          },
          "name": "stderr",
          "output_type": "stream",
          "text": [
            "      31/50         0G     0.8746     0.7819      1.135         69        640: 100%|██████████| 21/21 [04:43<00:00, 13.48s/it]\n",
            "                 Class     Images  Instances      Box(P          R      mAP50  mAP50-95): 100%|██████████| 3/3 [00:23<00:00,  7.83s/it]"
          ]
        },
        {
          "metadata": {
            "tags": null
          },
          "name": "stdout",
          "output_type": "stream",
          "text": [
            "                   all         84        295      0.863      0.759      0.855       0.62\n"
          ]
        },
        {
          "metadata": {
            "tags": null
          },
          "name": "stderr",
          "output_type": "stream",
          "text": [
            "\n"
          ]
        },
        {
          "metadata": {
            "tags": null
          },
          "name": "stdout",
          "output_type": "stream",
          "text": [
            "\n",
            "      Epoch    GPU_mem   box_loss   cls_loss   dfl_loss  Instances       Size\n"
          ]
        },
        {
          "output_type": "stream",
          "name": "stderr",
          "text": [
            "      32/50         0G     0.7928     0.7456      1.081         87        640: 100%|██████████| 21/21 [04:50<00:00, 13.83s/it]\n",
            "                 Class     Images  Instances      Box(P          R      mAP50  mAP50-95): 100%|██████████| 3/3 [00:22<00:00,  7.59s/it]"
          ]
        },
        {
          "output_type": "stream",
          "name": "stdout",
          "text": [
            "                   all         84        295      0.897       0.78      0.863      0.622\n"
          ]
        },
        {
          "output_type": "stream",
          "name": "stderr",
          "text": [
            "\n"
          ]
        },
        {
          "output_type": "stream",
          "name": "stdout",
          "text": [
            "\n",
            "      Epoch    GPU_mem   box_loss   cls_loss   dfl_loss  Instances       Size\n"
          ]
        },
        {
          "output_type": "stream",
          "name": "stderr",
          "text": [
            "      33/50         0G     0.8311     0.7515      1.111         49        640: 100%|██████████| 21/21 [04:47<00:00, 13.69s/it]\n",
            "                 Class     Images  Instances      Box(P          R      mAP50  mAP50-95): 100%|██████████| 3/3 [00:24<00:00,  8.05s/it]"
          ]
        },
        {
          "output_type": "stream",
          "name": "stdout",
          "text": [
            "                   all         84        295      0.891      0.773      0.873      0.644\n"
          ]
        },
        {
          "output_type": "stream",
          "name": "stderr",
          "text": [
            "\n"
          ]
        },
        {
          "output_type": "stream",
          "name": "stdout",
          "text": [
            "\n",
            "      Epoch    GPU_mem   box_loss   cls_loss   dfl_loss  Instances       Size\n"
          ]
        },
        {
          "output_type": "stream",
          "name": "stderr",
          "text": [
            "      34/50         0G     0.8029     0.7178      1.098         78        640: 100%|██████████| 21/21 [04:49<00:00, 13.80s/it]\n",
            "                 Class     Images  Instances      Box(P          R      mAP50  mAP50-95): 100%|██████████| 3/3 [00:23<00:00,  7.74s/it]"
          ]
        },
        {
          "output_type": "stream",
          "name": "stdout",
          "text": [
            "                   all         84        295       0.87      0.792      0.858      0.627\n"
          ]
        },
        {
          "output_type": "stream",
          "name": "stderr",
          "text": [
            "\n"
          ]
        },
        {
          "output_type": "stream",
          "name": "stdout",
          "text": [
            "\n",
            "      Epoch    GPU_mem   box_loss   cls_loss   dfl_loss  Instances       Size\n"
          ]
        },
        {
          "output_type": "stream",
          "name": "stderr",
          "text": [
            "      35/50         0G     0.7877     0.7052       1.09         68        640: 100%|██████████| 21/21 [04:51<00:00, 13.90s/it]\n",
            "                 Class     Images  Instances      Box(P          R      mAP50  mAP50-95): 100%|██████████| 3/3 [00:24<00:00,  8.31s/it]"
          ]
        },
        {
          "output_type": "stream",
          "name": "stdout",
          "text": [
            "                   all         84        295      0.868      0.801       0.88      0.638\n"
          ]
        },
        {
          "output_type": "stream",
          "name": "stderr",
          "text": [
            "\n"
          ]
        },
        {
          "output_type": "stream",
          "name": "stdout",
          "text": [
            "\n",
            "      Epoch    GPU_mem   box_loss   cls_loss   dfl_loss  Instances       Size\n"
          ]
        },
        {
          "output_type": "stream",
          "name": "stderr",
          "text": [
            "      36/50         0G      0.789     0.7033      1.081         70        640: 100%|██████████| 21/21 [04:54<00:00, 14.03s/it]\n",
            "                 Class     Images  Instances      Box(P          R      mAP50  mAP50-95): 100%|██████████| 3/3 [00:23<00:00,  7.96s/it]"
          ]
        },
        {
          "output_type": "stream",
          "name": "stdout",
          "text": [
            "                   all         84        295      0.936      0.763      0.883      0.653\n"
          ]
        },
        {
          "output_type": "stream",
          "name": "stderr",
          "text": [
            "\n"
          ]
        },
        {
          "output_type": "stream",
          "name": "stdout",
          "text": [
            "\n",
            "      Epoch    GPU_mem   box_loss   cls_loss   dfl_loss  Instances       Size\n"
          ]
        },
        {
          "output_type": "stream",
          "name": "stderr",
          "text": [
            "      37/50         0G     0.7247     0.6793      1.047         66        640: 100%|██████████| 21/21 [04:54<00:00, 14.04s/it]\n",
            "                 Class     Images  Instances      Box(P          R      mAP50  mAP50-95): 100%|██████████| 3/3 [00:22<00:00,  7.54s/it]"
          ]
        },
        {
          "output_type": "stream",
          "name": "stdout",
          "text": [
            "                   all         84        295      0.869      0.787      0.865      0.646\n"
          ]
        },
        {
          "output_type": "stream",
          "name": "stderr",
          "text": [
            "\n"
          ]
        },
        {
          "output_type": "stream",
          "name": "stdout",
          "text": [
            "\n",
            "      Epoch    GPU_mem   box_loss   cls_loss   dfl_loss  Instances       Size\n"
          ]
        },
        {
          "output_type": "stream",
          "name": "stderr",
          "text": [
            "      38/50         0G      0.752      0.664      1.061         84        640: 100%|██████████| 21/21 [04:49<00:00, 13.77s/it]\n",
            "                 Class     Images  Instances      Box(P          R      mAP50  mAP50-95): 100%|██████████| 3/3 [00:24<00:00,  8.26s/it]"
          ]
        },
        {
          "output_type": "stream",
          "name": "stdout",
          "text": [
            "                   all         84        295      0.877      0.817      0.891      0.658\n"
          ]
        },
        {
          "output_type": "stream",
          "name": "stderr",
          "text": [
            "\n"
          ]
        },
        {
          "output_type": "stream",
          "name": "stdout",
          "text": [
            "\n",
            "      Epoch    GPU_mem   box_loss   cls_loss   dfl_loss  Instances       Size\n"
          ]
        },
        {
          "output_type": "stream",
          "name": "stderr",
          "text": [
            "      39/50         0G     0.7134     0.6569      1.053         75        640: 100%|██████████| 21/21 [04:56<00:00, 14.14s/it]\n",
            "                 Class     Images  Instances      Box(P          R      mAP50  mAP50-95): 100%|██████████| 3/3 [00:24<00:00,  8.07s/it]"
          ]
        },
        {
          "output_type": "stream",
          "name": "stdout",
          "text": [
            "                   all         84        295      0.865      0.837        0.9      0.651\n"
          ]
        },
        {
          "output_type": "stream",
          "name": "stderr",
          "text": [
            "\n"
          ]
        },
        {
          "output_type": "stream",
          "name": "stdout",
          "text": [
            "\n",
            "      Epoch    GPU_mem   box_loss   cls_loss   dfl_loss  Instances       Size\n"
          ]
        },
        {
          "output_type": "stream",
          "name": "stderr",
          "text": [
            "      40/50         0G     0.7347     0.6427       1.06         93        640: 100%|██████████| 21/21 [04:50<00:00, 13.85s/it]\n",
            "                 Class     Images  Instances      Box(P          R      mAP50  mAP50-95): 100%|██████████| 3/3 [00:24<00:00,  8.14s/it]"
          ]
        },
        {
          "output_type": "stream",
          "name": "stdout",
          "text": [
            "                   all         84        295      0.869      0.807      0.877      0.657\n"
          ]
        },
        {
          "output_type": "stream",
          "name": "stderr",
          "text": [
            "\n"
          ]
        },
        {
          "output_type": "stream",
          "name": "stdout",
          "text": [
            "Closing dataloader mosaic\n",
            "\u001b[34m\u001b[1malbumentations: \u001b[0mBlur(p=0.01, blur_limit=(3, 7)), MedianBlur(p=0.01, blur_limit=(3, 7)), ToGray(p=0.01), CLAHE(p=0.01, clip_limit=(1, 4.0), tile_grid_size=(8, 8))\n",
            "\n",
            "      Epoch    GPU_mem   box_loss   cls_loss   dfl_loss  Instances       Size\n"
          ]
        },
        {
          "output_type": "stream",
          "name": "stderr",
          "text": [
            "      41/50         0G     0.6479     0.5858     0.9932         33        640: 100%|██████████| 21/21 [04:48<00:00, 13.75s/it]\n",
            "                 Class     Images  Instances      Box(P          R      mAP50  mAP50-95): 100%|██████████| 3/3 [00:23<00:00,  7.95s/it]"
          ]
        },
        {
          "output_type": "stream",
          "name": "stdout",
          "text": [
            "                   all         84        295      0.881        0.8      0.874      0.658\n"
          ]
        },
        {
          "output_type": "stream",
          "name": "stderr",
          "text": [
            "\n"
          ]
        },
        {
          "output_type": "stream",
          "name": "stdout",
          "text": [
            "\n",
            "      Epoch    GPU_mem   box_loss   cls_loss   dfl_loss  Instances       Size\n"
          ]
        },
        {
          "output_type": "stream",
          "name": "stderr",
          "text": [
            "      42/50         0G     0.6234      0.541      0.982         45        640: 100%|██████████| 21/21 [04:43<00:00, 13.48s/it]\n",
            "                 Class     Images  Instances      Box(P          R      mAP50  mAP50-95): 100%|██████████| 3/3 [00:23<00:00,  7.99s/it]"
          ]
        },
        {
          "output_type": "stream",
          "name": "stdout",
          "text": [
            "                   all         84        295      0.905        0.8      0.879      0.662\n"
          ]
        },
        {
          "output_type": "stream",
          "name": "stderr",
          "text": [
            "\n"
          ]
        },
        {
          "output_type": "stream",
          "name": "stdout",
          "text": [
            "\n",
            "      Epoch    GPU_mem   box_loss   cls_loss   dfl_loss  Instances       Size\n"
          ]
        },
        {
          "output_type": "stream",
          "name": "stderr",
          "text": [
            "      43/50         0G     0.6186     0.5311       0.99         24        640: 100%|██████████| 21/21 [04:41<00:00, 13.40s/it]\n",
            "                 Class     Images  Instances      Box(P          R      mAP50  mAP50-95): 100%|██████████| 3/3 [00:24<00:00,  8.03s/it]"
          ]
        },
        {
          "output_type": "stream",
          "name": "stdout",
          "text": [
            "                   all         84        295      0.892       0.81      0.883      0.663\n"
          ]
        },
        {
          "output_type": "stream",
          "name": "stderr",
          "text": [
            "\n"
          ]
        },
        {
          "output_type": "stream",
          "name": "stdout",
          "text": [
            "\n",
            "      Epoch    GPU_mem   box_loss   cls_loss   dfl_loss  Instances       Size\n"
          ]
        },
        {
          "output_type": "stream",
          "name": "stderr",
          "text": [
            "      44/50         0G     0.5805     0.5045     0.9635         26        640: 100%|██████████| 21/21 [04:44<00:00, 13.56s/it]\n",
            "                 Class     Images  Instances      Box(P          R      mAP50  mAP50-95): 100%|██████████| 3/3 [00:23<00:00,  7.92s/it]"
          ]
        },
        {
          "output_type": "stream",
          "name": "stdout",
          "text": [
            "                   all         84        295      0.889      0.831      0.891      0.665\n"
          ]
        },
        {
          "output_type": "stream",
          "name": "stderr",
          "text": [
            "\n"
          ]
        },
        {
          "output_type": "stream",
          "name": "stdout",
          "text": [
            "\n",
            "      Epoch    GPU_mem   box_loss   cls_loss   dfl_loss  Instances       Size\n"
          ]
        },
        {
          "output_type": "stream",
          "name": "stderr",
          "text": [
            "      45/50         0G     0.5629     0.4943     0.9525         26        640: 100%|██████████| 21/21 [04:46<00:00, 13.64s/it]\n",
            "                 Class     Images  Instances      Box(P          R      mAP50  mAP50-95): 100%|██████████| 3/3 [00:23<00:00,  7.83s/it]"
          ]
        },
        {
          "output_type": "stream",
          "name": "stdout",
          "text": [
            "                   all         84        295      0.863      0.831      0.888      0.661\n"
          ]
        },
        {
          "output_type": "stream",
          "name": "stderr",
          "text": [
            "\n"
          ]
        },
        {
          "output_type": "stream",
          "name": "stdout",
          "text": [
            "\n",
            "      Epoch    GPU_mem   box_loss   cls_loss   dfl_loss  Instances       Size\n"
          ]
        },
        {
          "output_type": "stream",
          "name": "stderr",
          "text": [
            "      46/50         0G      0.562     0.4888     0.9565         32        640: 100%|██████████| 21/21 [04:51<00:00, 13.90s/it]\n",
            "                 Class     Images  Instances      Box(P          R      mAP50  mAP50-95): 100%|██████████| 3/3 [00:23<00:00,  7.72s/it]"
          ]
        },
        {
          "output_type": "stream",
          "name": "stdout",
          "text": [
            "                   all         84        295      0.868      0.824      0.883       0.66\n"
          ]
        },
        {
          "output_type": "stream",
          "name": "stderr",
          "text": [
            "\n"
          ]
        },
        {
          "output_type": "stream",
          "name": "stdout",
          "text": [
            "\n",
            "      Epoch    GPU_mem   box_loss   cls_loss   dfl_loss  Instances       Size\n"
          ]
        },
        {
          "output_type": "stream",
          "name": "stderr",
          "text": [
            "      47/50         0G     0.5508     0.4817     0.9617         46        640: 100%|██████████| 21/21 [04:43<00:00, 13.50s/it]\n",
            "                 Class     Images  Instances      Box(P          R      mAP50  mAP50-95): 100%|██████████| 3/3 [00:24<00:00,  8.04s/it]"
          ]
        },
        {
          "output_type": "stream",
          "name": "stdout",
          "text": [
            "                   all         84        295      0.876       0.81      0.885      0.662\n"
          ]
        },
        {
          "output_type": "stream",
          "name": "stderr",
          "text": [
            "\n"
          ]
        },
        {
          "output_type": "stream",
          "name": "stdout",
          "text": [
            "\n",
            "      Epoch    GPU_mem   box_loss   cls_loss   dfl_loss  Instances       Size\n"
          ]
        },
        {
          "output_type": "stream",
          "name": "stderr",
          "text": [
            "      48/50         0G     0.5428     0.4613      0.927         36        640: 100%|██████████| 21/21 [04:55<00:00, 14.09s/it]\n",
            "                 Class     Images  Instances      Box(P          R      mAP50  mAP50-95): 100%|██████████| 3/3 [00:23<00:00,  7.93s/it]"
          ]
        },
        {
          "output_type": "stream",
          "name": "stdout",
          "text": [
            "                   all         84        295      0.893      0.797      0.885      0.658\n"
          ]
        },
        {
          "output_type": "stream",
          "name": "stderr",
          "text": [
            "\n"
          ]
        },
        {
          "output_type": "stream",
          "name": "stdout",
          "text": [
            "\n",
            "      Epoch    GPU_mem   box_loss   cls_loss   dfl_loss  Instances       Size\n"
          ]
        },
        {
          "output_type": "stream",
          "name": "stderr",
          "text": [
            "      49/50         0G     0.5222     0.4542     0.9298         28        640: 100%|██████████| 21/21 [04:44<00:00, 13.55s/it]\n",
            "                 Class     Images  Instances      Box(P          R      mAP50  mAP50-95): 100%|██████████| 3/3 [00:23<00:00,  7.99s/it]"
          ]
        },
        {
          "output_type": "stream",
          "name": "stdout",
          "text": [
            "                   all         84        295      0.889      0.803      0.884      0.661\n"
          ]
        },
        {
          "output_type": "stream",
          "name": "stderr",
          "text": [
            "\n"
          ]
        },
        {
          "output_type": "stream",
          "name": "stdout",
          "text": [
            "\n",
            "      Epoch    GPU_mem   box_loss   cls_loss   dfl_loss  Instances       Size\n"
          ]
        },
        {
          "output_type": "stream",
          "name": "stderr",
          "text": [
            "      50/50         0G     0.5369     0.4698     0.9409         48        640: 100%|██████████| 21/21 [04:42<00:00, 13.44s/it]\n",
            "                 Class     Images  Instances      Box(P          R      mAP50  mAP50-95): 100%|██████████| 3/3 [00:24<00:00,  8.06s/it]"
          ]
        },
        {
          "output_type": "stream",
          "name": "stdout",
          "text": [
            "                   all         84        295      0.914      0.803       0.89      0.668\n"
          ]
        },
        {
          "output_type": "stream",
          "name": "stderr",
          "text": [
            "\n"
          ]
        },
        {
          "output_type": "stream",
          "name": "stdout",
          "text": [
            "\n",
            "50 epochs completed in 4.403 hours.\n",
            "Optimizer stripped from runs/detect/person_detection/weights/last.pt, 6.2MB\n",
            "Optimizer stripped from runs/detect/person_detection/weights/best.pt, 6.2MB\n",
            "\n",
            "Validating runs/detect/person_detection/weights/best.pt...\n",
            "Ultralytics YOLOv8.2.81 🚀 Python-3.10.12 torch-2.3.1+cu121 CPU (Intel Xeon 2.20GHz)\n",
            "Model summary (fused): 168 layers, 3,005,843 parameters, 0 gradients, 8.1 GFLOPs\n"
          ]
        },
        {
          "output_type": "stream",
          "name": "stderr",
          "text": [
            "                 Class     Images  Instances      Box(P          R      mAP50  mAP50-95): 100%|██████████| 3/3 [00:22<00:00,  7.63s/it]\n"
          ]
        },
        {
          "output_type": "stream",
          "name": "stdout",
          "text": [
            "                   all         84        295      0.914      0.803       0.89      0.668\n",
            "Speed: 4.4ms preprocess, 249.6ms inference, 0.0ms loss, 0.7ms postprocess per image\n",
            "Results saved to \u001b[1mruns/detect/person_detection\u001b[0m\n"
          ]
        },
        {
          "output_type": "execute_result",
          "data": {
            "text/plain": [
              "ultralytics.utils.metrics.DetMetrics object with attributes:\n",
              "\n",
              "ap_class_index: array([0])\n",
              "box: ultralytics.utils.metrics.Metric object\n",
              "confusion_matrix: <ultralytics.utils.metrics.ConfusionMatrix object at 0x7f91c6b63310>\n",
              "curves: ['Precision-Recall(B)', 'F1-Confidence(B)', 'Precision-Confidence(B)', 'Recall-Confidence(B)']\n",
              "curves_results: [[array([          0,    0.001001,    0.002002,    0.003003,    0.004004,    0.005005,    0.006006,    0.007007,    0.008008,    0.009009,     0.01001,    0.011011,    0.012012,    0.013013,    0.014014,    0.015015,    0.016016,    0.017017,    0.018018,    0.019019,     0.02002,    0.021021,    0.022022,    0.023023,\n",
              "          0.024024,    0.025025,    0.026026,    0.027027,    0.028028,    0.029029,     0.03003,    0.031031,    0.032032,    0.033033,    0.034034,    0.035035,    0.036036,    0.037037,    0.038038,    0.039039,     0.04004,    0.041041,    0.042042,    0.043043,    0.044044,    0.045045,    0.046046,    0.047047,\n",
              "          0.048048,    0.049049,     0.05005,    0.051051,    0.052052,    0.053053,    0.054054,    0.055055,    0.056056,    0.057057,    0.058058,    0.059059,     0.06006,    0.061061,    0.062062,    0.063063,    0.064064,    0.065065,    0.066066,    0.067067,    0.068068,    0.069069,     0.07007,    0.071071,\n",
              "          0.072072,    0.073073,    0.074074,    0.075075,    0.076076,    0.077077,    0.078078,    0.079079,     0.08008,    0.081081,    0.082082,    0.083083,    0.084084,    0.085085,    0.086086,    0.087087,    0.088088,    0.089089,     0.09009,    0.091091,    0.092092,    0.093093,    0.094094,    0.095095,\n",
              "          0.096096,    0.097097,    0.098098,    0.099099,      0.1001,      0.1011,      0.1021,      0.1031,      0.1041,     0.10511,     0.10611,     0.10711,     0.10811,     0.10911,     0.11011,     0.11111,     0.11211,     0.11311,     0.11411,     0.11512,     0.11612,     0.11712,     0.11812,     0.11912,\n",
              "           0.12012,     0.12112,     0.12212,     0.12312,     0.12412,     0.12513,     0.12613,     0.12713,     0.12813,     0.12913,     0.13013,     0.13113,     0.13213,     0.13313,     0.13413,     0.13514,     0.13614,     0.13714,     0.13814,     0.13914,     0.14014,     0.14114,     0.14214,     0.14314,\n",
              "           0.14414,     0.14515,     0.14615,     0.14715,     0.14815,     0.14915,     0.15015,     0.15115,     0.15215,     0.15315,     0.15415,     0.15516,     0.15616,     0.15716,     0.15816,     0.15916,     0.16016,     0.16116,     0.16216,     0.16316,     0.16416,     0.16517,     0.16617,     0.16717,\n",
              "           0.16817,     0.16917,     0.17017,     0.17117,     0.17217,     0.17317,     0.17417,     0.17518,     0.17618,     0.17718,     0.17818,     0.17918,     0.18018,     0.18118,     0.18218,     0.18318,     0.18418,     0.18519,     0.18619,     0.18719,     0.18819,     0.18919,     0.19019,     0.19119,\n",
              "           0.19219,     0.19319,     0.19419,      0.1952,      0.1962,      0.1972,      0.1982,      0.1992,      0.2002,      0.2012,      0.2022,      0.2032,      0.2042,     0.20521,     0.20621,     0.20721,     0.20821,     0.20921,     0.21021,     0.21121,     0.21221,     0.21321,     0.21421,     0.21522,\n",
              "           0.21622,     0.21722,     0.21822,     0.21922,     0.22022,     0.22122,     0.22222,     0.22322,     0.22422,     0.22523,     0.22623,     0.22723,     0.22823,     0.22923,     0.23023,     0.23123,     0.23223,     0.23323,     0.23423,     0.23524,     0.23624,     0.23724,     0.23824,     0.23924,\n",
              "           0.24024,     0.24124,     0.24224,     0.24324,     0.24424,     0.24525,     0.24625,     0.24725,     0.24825,     0.24925,     0.25025,     0.25125,     0.25225,     0.25325,     0.25425,     0.25526,     0.25626,     0.25726,     0.25826,     0.25926,     0.26026,     0.26126,     0.26226,     0.26326,\n",
              "           0.26426,     0.26527,     0.26627,     0.26727,     0.26827,     0.26927,     0.27027,     0.27127,     0.27227,     0.27327,     0.27427,     0.27528,     0.27628,     0.27728,     0.27828,     0.27928,     0.28028,     0.28128,     0.28228,     0.28328,     0.28428,     0.28529,     0.28629,     0.28729,\n",
              "           0.28829,     0.28929,     0.29029,     0.29129,     0.29229,     0.29329,     0.29429,      0.2953,      0.2963,      0.2973,      0.2983,      0.2993,      0.3003,      0.3013,      0.3023,      0.3033,      0.3043,     0.30531,     0.30631,     0.30731,     0.30831,     0.30931,     0.31031,     0.31131,\n",
              "           0.31231,     0.31331,     0.31431,     0.31532,     0.31632,     0.31732,     0.31832,     0.31932,     0.32032,     0.32132,     0.32232,     0.32332,     0.32432,     0.32533,     0.32633,     0.32733,     0.32833,     0.32933,     0.33033,     0.33133,     0.33233,     0.33333,     0.33433,     0.33534,\n",
              "           0.33634,     0.33734,     0.33834,     0.33934,     0.34034,     0.34134,     0.34234,     0.34334,     0.34434,     0.34535,     0.34635,     0.34735,     0.34835,     0.34935,     0.35035,     0.35135,     0.35235,     0.35335,     0.35435,     0.35536,     0.35636,     0.35736,     0.35836,     0.35936,\n",
              "           0.36036,     0.36136,     0.36236,     0.36336,     0.36436,     0.36537,     0.36637,     0.36737,     0.36837,     0.36937,     0.37037,     0.37137,     0.37237,     0.37337,     0.37437,     0.37538,     0.37638,     0.37738,     0.37838,     0.37938,     0.38038,     0.38138,     0.38238,     0.38338,\n",
              "           0.38438,     0.38539,     0.38639,     0.38739,     0.38839,     0.38939,     0.39039,     0.39139,     0.39239,     0.39339,     0.39439,      0.3954,      0.3964,      0.3974,      0.3984,      0.3994,      0.4004,      0.4014,      0.4024,      0.4034,      0.4044,     0.40541,     0.40641,     0.40741,\n",
              "           0.40841,     0.40941,     0.41041,     0.41141,     0.41241,     0.41341,     0.41441,     0.41542,     0.41642,     0.41742,     0.41842,     0.41942,     0.42042,     0.42142,     0.42242,     0.42342,     0.42442,     0.42543,     0.42643,     0.42743,     0.42843,     0.42943,     0.43043,     0.43143,\n",
              "           0.43243,     0.43343,     0.43443,     0.43544,     0.43644,     0.43744,     0.43844,     0.43944,     0.44044,     0.44144,     0.44244,     0.44344,     0.44444,     0.44545,     0.44645,     0.44745,     0.44845,     0.44945,     0.45045,     0.45145,     0.45245,     0.45345,     0.45445,     0.45546,\n",
              "           0.45646,     0.45746,     0.45846,     0.45946,     0.46046,     0.46146,     0.46246,     0.46346,     0.46446,     0.46547,     0.46647,     0.46747,     0.46847,     0.46947,     0.47047,     0.47147,     0.47247,     0.47347,     0.47447,     0.47548,     0.47648,     0.47748,     0.47848,     0.47948,\n",
              "           0.48048,     0.48148,     0.48248,     0.48348,     0.48448,     0.48549,     0.48649,     0.48749,     0.48849,     0.48949,     0.49049,     0.49149,     0.49249,     0.49349,     0.49449,      0.4955,      0.4965,      0.4975,      0.4985,      0.4995,      0.5005,      0.5015,      0.5025,      0.5035,\n",
              "            0.5045,     0.50551,     0.50651,     0.50751,     0.50851,     0.50951,     0.51051,     0.51151,     0.51251,     0.51351,     0.51451,     0.51552,     0.51652,     0.51752,     0.51852,     0.51952,     0.52052,     0.52152,     0.52252,     0.52352,     0.52452,     0.52553,     0.52653,     0.52753,\n",
              "           0.52853,     0.52953,     0.53053,     0.53153,     0.53253,     0.53353,     0.53453,     0.53554,     0.53654,     0.53754,     0.53854,     0.53954,     0.54054,     0.54154,     0.54254,     0.54354,     0.54454,     0.54555,     0.54655,     0.54755,     0.54855,     0.54955,     0.55055,     0.55155,\n",
              "           0.55255,     0.55355,     0.55455,     0.55556,     0.55656,     0.55756,     0.55856,     0.55956,     0.56056,     0.56156,     0.56256,     0.56356,     0.56456,     0.56557,     0.56657,     0.56757,     0.56857,     0.56957,     0.57057,     0.57157,     0.57257,     0.57357,     0.57457,     0.57558,\n",
              "           0.57658,     0.57758,     0.57858,     0.57958,     0.58058,     0.58158,     0.58258,     0.58358,     0.58458,     0.58559,     0.58659,     0.58759,     0.58859,     0.58959,     0.59059,     0.59159,     0.59259,     0.59359,     0.59459,      0.5956,      0.5966,      0.5976,      0.5986,      0.5996,\n",
              "            0.6006,      0.6016,      0.6026,      0.6036,      0.6046,     0.60561,     0.60661,     0.60761,     0.60861,     0.60961,     0.61061,     0.61161,     0.61261,     0.61361,     0.61461,     0.61562,     0.61662,     0.61762,     0.61862,     0.61962,     0.62062,     0.62162,     0.62262,     0.62362,\n",
              "           0.62462,     0.62563,     0.62663,     0.62763,     0.62863,     0.62963,     0.63063,     0.63163,     0.63263,     0.63363,     0.63463,     0.63564,     0.63664,     0.63764,     0.63864,     0.63964,     0.64064,     0.64164,     0.64264,     0.64364,     0.64464,     0.64565,     0.64665,     0.64765,\n",
              "           0.64865,     0.64965,     0.65065,     0.65165,     0.65265,     0.65365,     0.65465,     0.65566,     0.65666,     0.65766,     0.65866,     0.65966,     0.66066,     0.66166,     0.66266,     0.66366,     0.66466,     0.66567,     0.66667,     0.66767,     0.66867,     0.66967,     0.67067,     0.67167,\n",
              "           0.67267,     0.67367,     0.67467,     0.67568,     0.67668,     0.67768,     0.67868,     0.67968,     0.68068,     0.68168,     0.68268,     0.68368,     0.68468,     0.68569,     0.68669,     0.68769,     0.68869,     0.68969,     0.69069,     0.69169,     0.69269,     0.69369,     0.69469,      0.6957,\n",
              "            0.6967,      0.6977,      0.6987,      0.6997,      0.7007,      0.7017,      0.7027,      0.7037,      0.7047,     0.70571,     0.70671,     0.70771,     0.70871,     0.70971,     0.71071,     0.71171,     0.71271,     0.71371,     0.71471,     0.71572,     0.71672,     0.71772,     0.71872,     0.71972,\n",
              "           0.72072,     0.72172,     0.72272,     0.72372,     0.72472,     0.72573,     0.72673,     0.72773,     0.72873,     0.72973,     0.73073,     0.73173,     0.73273,     0.73373,     0.73473,     0.73574,     0.73674,     0.73774,     0.73874,     0.73974,     0.74074,     0.74174,     0.74274,     0.74374,\n",
              "           0.74474,     0.74575,     0.74675,     0.74775,     0.74875,     0.74975,     0.75075,     0.75175,     0.75275,     0.75375,     0.75475,     0.75576,     0.75676,     0.75776,     0.75876,     0.75976,     0.76076,     0.76176,     0.76276,     0.76376,     0.76476,     0.76577,     0.76677,     0.76777,\n",
              "           0.76877,     0.76977,     0.77077,     0.77177,     0.77277,     0.77377,     0.77477,     0.77578,     0.77678,     0.77778,     0.77878,     0.77978,     0.78078,     0.78178,     0.78278,     0.78378,     0.78478,     0.78579,     0.78679,     0.78779,     0.78879,     0.78979,     0.79079,     0.79179,\n",
              "           0.79279,     0.79379,     0.79479,      0.7958,      0.7968,      0.7978,      0.7988,      0.7998,      0.8008,      0.8018,      0.8028,      0.8038,      0.8048,     0.80581,     0.80681,     0.80781,     0.80881,     0.80981,     0.81081,     0.81181,     0.81281,     0.81381,     0.81481,     0.81582,\n",
              "           0.81682,     0.81782,     0.81882,     0.81982,     0.82082,     0.82182,     0.82282,     0.82382,     0.82482,     0.82583,     0.82683,     0.82783,     0.82883,     0.82983,     0.83083,     0.83183,     0.83283,     0.83383,     0.83483,     0.83584,     0.83684,     0.83784,     0.83884,     0.83984,\n",
              "           0.84084,     0.84184,     0.84284,     0.84384,     0.84484,     0.84585,     0.84685,     0.84785,     0.84885,     0.84985,     0.85085,     0.85185,     0.85285,     0.85385,     0.85485,     0.85586,     0.85686,     0.85786,     0.85886,     0.85986,     0.86086,     0.86186,     0.86286,     0.86386,\n",
              "           0.86486,     0.86587,     0.86687,     0.86787,     0.86887,     0.86987,     0.87087,     0.87187,     0.87287,     0.87387,     0.87487,     0.87588,     0.87688,     0.87788,     0.87888,     0.87988,     0.88088,     0.88188,     0.88288,     0.88388,     0.88488,     0.88589,     0.88689,     0.88789,\n",
              "           0.88889,     0.88989,     0.89089,     0.89189,     0.89289,     0.89389,     0.89489,      0.8959,      0.8969,      0.8979,      0.8989,      0.8999,      0.9009,      0.9019,      0.9029,      0.9039,      0.9049,     0.90591,     0.90691,     0.90791,     0.90891,     0.90991,     0.91091,     0.91191,\n",
              "           0.91291,     0.91391,     0.91491,     0.91592,     0.91692,     0.91792,     0.91892,     0.91992,     0.92092,     0.92192,     0.92292,     0.92392,     0.92492,     0.92593,     0.92693,     0.92793,     0.92893,     0.92993,     0.93093,     0.93193,     0.93293,     0.93393,     0.93493,     0.93594,\n",
              "           0.93694,     0.93794,     0.93894,     0.93994,     0.94094,     0.94194,     0.94294,     0.94394,     0.94494,     0.94595,     0.94695,     0.94795,     0.94895,     0.94995,     0.95095,     0.95195,     0.95295,     0.95395,     0.95495,     0.95596,     0.95696,     0.95796,     0.95896,     0.95996,\n",
              "           0.96096,     0.96196,     0.96296,     0.96396,     0.96496,     0.96597,     0.96697,     0.96797,     0.96897,     0.96997,     0.97097,     0.97197,     0.97297,     0.97397,     0.97497,     0.97598,     0.97698,     0.97798,     0.97898,     0.97998,     0.98098,     0.98198,     0.98298,     0.98398,\n",
              "           0.98498,     0.98599,     0.98699,     0.98799,     0.98899,     0.98999,     0.99099,     0.99199,     0.99299,     0.99399,     0.99499,       0.996,       0.997,       0.998,       0.999,           1]), array([[          1,           1,           1,           1,           1,           1,           1,           1,           1,           1,           1,           1,           1,           1,           1,           1,           1,           1,           1,           1,           1,           1,           1,\n",
              "                  1,           1,           1,           1,           1,           1,           1,           1,           1,           1,           1,           1,           1,           1,           1,           1,           1,           1,           1,           1,           1,           1,           1,\n",
              "                  1,           1,           1,           1,           1,           1,           1,           1,           1,           1,           1,           1,           1,           1,           1,           1,           1,           1,           1,           1,           1,           1,           1,\n",
              "                  1,           1,           1,           1,           1,           1,           1,           1,           1,           1,           1,           1,           1,           1,           1,           1,           1,           1,           1,           1,           1,           1,           1,\n",
              "                  1,           1,           1,           1,           1,           1,           1,           1,           1,           1,           1,           1,           1,           1,           1,           1,           1,           1,           1,           1,           1,           1,           1,\n",
              "                  1,           1,           1,           1,           1,           1,           1,           1,           1,           1,           1,           1,           1,           1,           1,           1,           1,           1,           1,           1,           1,           1,           1,\n",
              "                  1,           1,           1,           1,           1,           1,           1,           1,           1,           1,           1,           1,           1,           1,           1,           1,           1,           1,           1,           1,           1,           1,           1,\n",
              "                  1,           1,           1,           1,           1,           1,           1,           1,           1,           1,           1,           1,           1,           1,           1,           1,           1,           1,           1,           1,           1,           1,           1,\n",
              "                  1,           1,           1,           1,           1,           1,           1,           1,           1,           1,           1,           1,           1,           1,           1,           1,           1,           1,           1,           1,           1,           1,           1,\n",
              "                  1,           1,           1,           1,           1,           1,           1,           1,           1,           1,           1,           1,           1,           1,           1,           1,           1,           1,           1,           1,           1,           1,           1,\n",
              "                  1,           1,           1,           1,           1,           1,           1,           1,           1,           1,           1,           1,           1,           1,           1,           1,           1,           1,           1,           1,           1,           1,           1,\n",
              "                  1,           1,           1,           1,           1,           1,           1,           1,           1,           1,           1,           1,           1,           1,           1,           1,           1,           1,           1,           1,           1,           1,           1,\n",
              "                  1,           1,           1,           1,           1,           1,           1,           1,           1,           1,           1,           1,           1,           1,           1,           1,           1,           1,           1,           1,           1,           1,           1,\n",
              "                  1,           1,           1,           1,           1,           1,           1,           1,           1,           1,     0.99167,     0.99167,     0.99167,     0.99167,     0.99167,     0.99167,     0.99167,     0.99167,     0.99167,     0.99167,     0.99167,     0.99167,     0.99167,\n",
              "            0.99167,     0.99167,     0.99167,     0.99167,     0.99167,     0.99167,     0.99167,     0.99167,     0.99167,     0.99167,     0.99167,     0.99167,     0.99167,     0.99167,     0.99167,     0.99167,     0.99167,     0.99167,     0.99167,     0.99167,     0.99167,     0.99167,     0.99167,\n",
              "            0.99167,     0.99167,     0.99167,     0.99167,     0.99167,     0.99167,     0.99167,     0.99167,     0.99167,     0.99167,     0.99167,     0.99167,     0.99167,     0.99167,     0.99167,     0.99167,     0.99167,     0.99167,     0.99167,     0.99167,     0.99167,     0.99167,     0.99167,\n",
              "            0.99167,     0.99167,     0.99167,     0.99167,     0.99167,     0.99167,     0.99167,     0.99167,     0.99167,     0.99167,     0.99167,     0.99167,     0.99167,     0.99167,     0.99167,     0.99167,     0.99167,     0.99167,     0.99167,     0.99167,     0.99167,     0.99167,     0.99167,\n",
              "            0.99167,     0.99167,     0.99167,     0.99167,     0.99167,     0.99167,     0.99167,     0.99167,     0.99167,     0.99167,     0.99167,     0.99167,     0.98485,     0.98485,     0.98485,     0.98485,     0.98485,     0.98485,     0.98485,     0.98485,     0.98485,     0.98485,     0.98485,\n",
              "            0.98485,     0.98485,     0.98485,     0.98485,     0.98485,     0.98485,     0.98485,     0.98485,     0.98485,     0.98485,     0.98485,     0.98485,     0.98485,     0.98485,     0.98485,     0.98485,     0.98485,     0.98485,     0.98485,     0.98485,     0.98485,     0.98485,     0.98485,\n",
              "            0.98485,     0.98485,     0.98485,     0.98485,     0.97917,     0.97917,     0.97917,     0.97917,     0.97917,     0.97917,     0.97917,     0.97917,     0.97917,     0.97917,     0.97917,     0.97917,     0.97917,     0.97917,     0.97917,     0.97917,     0.97917,     0.97917,     0.97917,\n",
              "            0.97917,     0.97917,     0.97917,     0.97917,     0.97917,     0.97917,     0.97917,     0.97917,     0.97917,     0.97917,     0.97917,     0.97917,     0.97917,     0.97917,     0.97917,     0.97917,     0.97917,     0.97917,     0.97419,     0.97419,     0.97419,     0.97419,     0.97419,\n",
              "            0.97419,     0.97419,     0.97419,     0.97419,     0.97419,     0.97419,     0.97419,     0.97419,     0.97419,     0.97419,     0.97419,     0.97419,     0.97419,     0.97419,     0.97419,     0.97419,     0.97419,     0.97419,     0.97419,     0.97419,     0.97419,     0.97419,     0.97419,\n",
              "            0.97419,     0.97419,     0.97419,     0.97419,     0.97419,     0.97419,     0.96914,     0.96914,     0.96914,     0.96914,     0.96914,     0.96914,     0.96914,     0.96914,     0.96914,     0.96914,     0.96914,     0.96914,     0.96914,     0.96914,     0.96914,     0.96914,     0.96914,\n",
              "            0.96914,     0.96914,     0.96914,     0.96859,     0.96859,     0.96859,     0.96859,     0.96859,     0.96859,     0.96859,     0.96859,     0.96859,     0.96859,     0.96859,     0.96859,     0.96859,     0.96859,     0.96859,     0.96859,     0.96859,     0.96859,     0.96859,     0.96859,\n",
              "            0.96859,     0.96859,     0.96859,     0.96859,     0.96859,     0.96859,     0.96859,     0.96859,     0.96859,     0.96859,     0.96859,     0.96859,     0.96859,     0.96859,     0.96859,     0.96859,     0.96859,     0.96859,     0.96859,     0.96859,     0.96859,     0.96859,     0.96859,\n",
              "            0.96859,     0.96859,     0.96859,     0.96859,     0.96859,     0.96859,     0.96859,     0.96859,     0.96859,     0.96859,     0.96859,     0.96859,     0.96859,     0.96859,     0.96859,     0.96859,     0.96859,     0.96859,     0.96859,     0.96859,     0.96859,     0.96859,     0.96859,\n",
              "            0.96859,     0.96859,     0.96859,     0.96859,     0.96859,     0.96859,     0.96859,     0.96859,     0.96859,     0.96859,     0.96859,     0.96859,     0.96859,     0.96859,     0.96859,     0.96859,     0.96859,     0.96859,     0.96859,     0.96859,     0.96859,     0.96859,     0.96859,\n",
              "            0.96859,     0.96859,     0.96859,     0.96859,     0.96859,     0.96859,     0.96698,     0.96698,     0.96698,     0.96698,     0.96698,     0.96698,     0.96698,     0.96698,     0.96698,     0.96698,     0.96698,     0.96698,     0.96698,     0.96698,     0.96698,     0.96698,     0.96698,\n",
              "            0.96698,     0.96698,     0.96698,     0.96698,     0.96698,     0.96698,     0.96698,     0.96698,     0.96698,     0.96698,     0.96698,     0.96698,     0.96698,     0.96698,     0.96698,     0.96698,     0.96698,     0.96698,     0.96698,     0.96698,     0.96698,     0.96698,     0.96698,\n",
              "            0.96698,     0.96698,     0.96698,     0.96698,     0.96698,     0.96698,     0.96698,     0.96698,     0.96698,     0.96698,     0.96698,     0.96698,     0.96698,     0.96698,     0.96698,     0.96698,     0.96698,     0.96698,     0.96698,     0.96698,     0.96698,     0.96698,     0.96698,\n",
              "            0.96698,     0.96698,     0.96698,     0.96698,     0.96698,     0.96262,     0.96262,     0.96262,      0.9589,      0.9589,      0.9589,      0.9589,      0.9589,      0.9589,      0.9589,      0.9589,      0.9589,      0.9589,      0.9589,      0.9589,      0.9589,      0.9589,     0.95495,\n",
              "            0.95495,     0.95495,     0.95495,     0.95495,     0.95495,      0.9469,      0.9469,      0.9469,      0.9469,      0.9469,      0.9469,      0.9469,     0.94298,     0.94298,     0.94298,     0.94298,     0.93191,     0.93191,     0.93191,     0.93191,     0.93191,     0.93191,     0.93191,\n",
              "            0.93191,     0.93191,     0.93191,     0.93191,     0.93191,     0.93191,     0.92917,     0.92917,     0.92917,     0.92917,     0.92917,     0.92917,     0.92917,     0.92917,     0.92917,     0.92917,     0.92917,     0.92917,     0.92917,     0.92917,     0.92593,     0.92593,     0.92593,\n",
              "            0.92593,     0.92593,     0.92593,      0.9243,      0.9243,      0.9243,      0.9243,      0.9243,      0.9243,      0.9243,      0.9243,      0.9243,      0.9243,      0.9243,      0.9243,      0.9243,      0.9243,      0.9243,      0.9243,      0.9243,      0.9243,      0.9243,      0.9243,\n",
              "             0.9243,      0.9243,      0.9243,      0.9243,     0.91732,     0.91732,     0.91732,     0.91732,     0.91506,     0.91506,     0.91506,     0.91506,     0.91506,     0.91506,     0.91506,     0.91506,     0.91506,     0.91506,     0.91506,     0.91506,     0.91506,      0.9084,      0.9084,\n",
              "             0.9084,     0.89179,     0.89179,     0.89179,     0.89179,     0.87273,     0.87273,     0.87273,     0.86691,     0.86691,     0.86691,     0.86691,     0.86121,     0.86121,     0.86121,     0.85915,     0.85915,     0.85915,     0.85915,     0.85915,     0.85915,     0.85915,     0.84192,\n",
              "            0.84192,     0.84192,     0.84014,     0.84014,     0.84014,     0.84014,     0.84014,     0.84014,     0.84014,     0.83784,     0.83784,     0.83784,      0.8245,      0.8245,      0.8245,      0.8245,     0.81759,     0.81759,     0.81759,     0.81759,     0.81759,     0.81759,     0.80769,\n",
              "            0.80769,     0.80769,     0.80769,     0.80317,     0.80317,     0.80317,     0.78638,     0.78638,     0.78638,     0.78638,     0.76807,     0.76807,     0.76807,     0.75516,     0.75516,     0.75516,     0.75367,     0.75367,     0.75367,     0.75367,     0.74352,     0.74352,     0.74352,\n",
              "            0.73164,     0.73164,     0.73164,     0.73164,     0.72222,     0.72222,     0.72222,     0.71901,     0.71901,     0.71901,     0.71858,     0.71858,     0.71858,     0.71858,     0.71858,     0.71858,     0.71858,     0.67519,     0.67519,     0.67519,     0.67519,     0.64951,     0.64951,\n",
              "            0.64951,      0.5817,      0.5817,      0.5817,      0.5817,      0.5817,      0.5817,      0.5817,     0.53069,     0.53069,     0.53069,      0.5183,      0.5183,      0.5183,     0.49453,     0.49453,     0.49453,     0.49453,     0.49453,     0.49453,     0.49453,     0.47304,     0.47304,\n",
              "            0.47304,     0.47304,     0.45124,     0.45124,     0.45124,     0.43286,     0.43286,     0.43286,     0.42658,     0.42658,     0.42658,     0.42658,     0.42658,     0.42658,     0.42658,     0.39347,     0.39347,     0.39347,     0.39347,     0.38451,     0.38451,     0.38451,     0.24647,\n",
              "            0.24647,     0.24647,     0.24263,     0.24263,     0.24263,     0.24263,      0.2292,      0.2292,      0.2292,     0.17311,     0.17311,     0.17311,     0.16676,     0.16676,     0.16676,     0.16676,     0.16473,     0.16473,     0.16473,     0.11021,     0.11021,     0.11021,     0.11021,\n",
              "            0.09993,     0.09993,     0.09993,    0.044469,    0.044469,    0.044469,    0.033255,    0.032024,    0.030792,     0.02956,    0.028329,    0.027097,    0.025865,    0.024634,    0.023402,     0.02217,    0.020939,    0.019707,    0.018475,    0.017244,    0.016012,     0.01478,    0.013549,\n",
              "           0.012317,    0.011085,   0.0098535,   0.0086218,   0.0073901,   0.0061584,   0.0049267,   0.0036951,   0.0024634,   0.0012317,           0]]), 'Recall', 'Precision'], [array([          0,    0.001001,    0.002002,    0.003003,    0.004004,    0.005005,    0.006006,    0.007007,    0.008008,    0.009009,     0.01001,    0.011011,    0.012012,    0.013013,    0.014014,    0.015015,    0.016016,    0.017017,    0.018018,    0.019019,     0.02002,    0.021021,    0.022022,    0.023023,\n",
              "          0.024024,    0.025025,    0.026026,    0.027027,    0.028028,    0.029029,     0.03003,    0.031031,    0.032032,    0.033033,    0.034034,    0.035035,    0.036036,    0.037037,    0.038038,    0.039039,     0.04004,    0.041041,    0.042042,    0.043043,    0.044044,    0.045045,    0.046046,    0.047047,\n",
              "          0.048048,    0.049049,     0.05005,    0.051051,    0.052052,    0.053053,    0.054054,    0.055055,    0.056056,    0.057057,    0.058058,    0.059059,     0.06006,    0.061061,    0.062062,    0.063063,    0.064064,    0.065065,    0.066066,    0.067067,    0.068068,    0.069069,     0.07007,    0.071071,\n",
              "          0.072072,    0.073073,    0.074074,    0.075075,    0.076076,    0.077077,    0.078078,    0.079079,     0.08008,    0.081081,    0.082082,    0.083083,    0.084084,    0.085085,    0.086086,    0.087087,    0.088088,    0.089089,     0.09009,    0.091091,    0.092092,    0.093093,    0.094094,    0.095095,\n",
              "          0.096096,    0.097097,    0.098098,    0.099099,      0.1001,      0.1011,      0.1021,      0.1031,      0.1041,     0.10511,     0.10611,     0.10711,     0.10811,     0.10911,     0.11011,     0.11111,     0.11211,     0.11311,     0.11411,     0.11512,     0.11612,     0.11712,     0.11812,     0.11912,\n",
              "           0.12012,     0.12112,     0.12212,     0.12312,     0.12412,     0.12513,     0.12613,     0.12713,     0.12813,     0.12913,     0.13013,     0.13113,     0.13213,     0.13313,     0.13413,     0.13514,     0.13614,     0.13714,     0.13814,     0.13914,     0.14014,     0.14114,     0.14214,     0.14314,\n",
              "           0.14414,     0.14515,     0.14615,     0.14715,     0.14815,     0.14915,     0.15015,     0.15115,     0.15215,     0.15315,     0.15415,     0.15516,     0.15616,     0.15716,     0.15816,     0.15916,     0.16016,     0.16116,     0.16216,     0.16316,     0.16416,     0.16517,     0.16617,     0.16717,\n",
              "           0.16817,     0.16917,     0.17017,     0.17117,     0.17217,     0.17317,     0.17417,     0.17518,     0.17618,     0.17718,     0.17818,     0.17918,     0.18018,     0.18118,     0.18218,     0.18318,     0.18418,     0.18519,     0.18619,     0.18719,     0.18819,     0.18919,     0.19019,     0.19119,\n",
              "           0.19219,     0.19319,     0.19419,      0.1952,      0.1962,      0.1972,      0.1982,      0.1992,      0.2002,      0.2012,      0.2022,      0.2032,      0.2042,     0.20521,     0.20621,     0.20721,     0.20821,     0.20921,     0.21021,     0.21121,     0.21221,     0.21321,     0.21421,     0.21522,\n",
              "           0.21622,     0.21722,     0.21822,     0.21922,     0.22022,     0.22122,     0.22222,     0.22322,     0.22422,     0.22523,     0.22623,     0.22723,     0.22823,     0.22923,     0.23023,     0.23123,     0.23223,     0.23323,     0.23423,     0.23524,     0.23624,     0.23724,     0.23824,     0.23924,\n",
              "           0.24024,     0.24124,     0.24224,     0.24324,     0.24424,     0.24525,     0.24625,     0.24725,     0.24825,     0.24925,     0.25025,     0.25125,     0.25225,     0.25325,     0.25425,     0.25526,     0.25626,     0.25726,     0.25826,     0.25926,     0.26026,     0.26126,     0.26226,     0.26326,\n",
              "           0.26426,     0.26527,     0.26627,     0.26727,     0.26827,     0.26927,     0.27027,     0.27127,     0.27227,     0.27327,     0.27427,     0.27528,     0.27628,     0.27728,     0.27828,     0.27928,     0.28028,     0.28128,     0.28228,     0.28328,     0.28428,     0.28529,     0.28629,     0.28729,\n",
              "           0.28829,     0.28929,     0.29029,     0.29129,     0.29229,     0.29329,     0.29429,      0.2953,      0.2963,      0.2973,      0.2983,      0.2993,      0.3003,      0.3013,      0.3023,      0.3033,      0.3043,     0.30531,     0.30631,     0.30731,     0.30831,     0.30931,     0.31031,     0.31131,\n",
              "           0.31231,     0.31331,     0.31431,     0.31532,     0.31632,     0.31732,     0.31832,     0.31932,     0.32032,     0.32132,     0.32232,     0.32332,     0.32432,     0.32533,     0.32633,     0.32733,     0.32833,     0.32933,     0.33033,     0.33133,     0.33233,     0.33333,     0.33433,     0.33534,\n",
              "           0.33634,     0.33734,     0.33834,     0.33934,     0.34034,     0.34134,     0.34234,     0.34334,     0.34434,     0.34535,     0.34635,     0.34735,     0.34835,     0.34935,     0.35035,     0.35135,     0.35235,     0.35335,     0.35435,     0.35536,     0.35636,     0.35736,     0.35836,     0.35936,\n",
              "           0.36036,     0.36136,     0.36236,     0.36336,     0.36436,     0.36537,     0.36637,     0.36737,     0.36837,     0.36937,     0.37037,     0.37137,     0.37237,     0.37337,     0.37437,     0.37538,     0.37638,     0.37738,     0.37838,     0.37938,     0.38038,     0.38138,     0.38238,     0.38338,\n",
              "           0.38438,     0.38539,     0.38639,     0.38739,     0.38839,     0.38939,     0.39039,     0.39139,     0.39239,     0.39339,     0.39439,      0.3954,      0.3964,      0.3974,      0.3984,      0.3994,      0.4004,      0.4014,      0.4024,      0.4034,      0.4044,     0.40541,     0.40641,     0.40741,\n",
              "           0.40841,     0.40941,     0.41041,     0.41141,     0.41241,     0.41341,     0.41441,     0.41542,     0.41642,     0.41742,     0.41842,     0.41942,     0.42042,     0.42142,     0.42242,     0.42342,     0.42442,     0.42543,     0.42643,     0.42743,     0.42843,     0.42943,     0.43043,     0.43143,\n",
              "           0.43243,     0.43343,     0.43443,     0.43544,     0.43644,     0.43744,     0.43844,     0.43944,     0.44044,     0.44144,     0.44244,     0.44344,     0.44444,     0.44545,     0.44645,     0.44745,     0.44845,     0.44945,     0.45045,     0.45145,     0.45245,     0.45345,     0.45445,     0.45546,\n",
              "           0.45646,     0.45746,     0.45846,     0.45946,     0.46046,     0.46146,     0.46246,     0.46346,     0.46446,     0.46547,     0.46647,     0.46747,     0.46847,     0.46947,     0.47047,     0.47147,     0.47247,     0.47347,     0.47447,     0.47548,     0.47648,     0.47748,     0.47848,     0.47948,\n",
              "           0.48048,     0.48148,     0.48248,     0.48348,     0.48448,     0.48549,     0.48649,     0.48749,     0.48849,     0.48949,     0.49049,     0.49149,     0.49249,     0.49349,     0.49449,      0.4955,      0.4965,      0.4975,      0.4985,      0.4995,      0.5005,      0.5015,      0.5025,      0.5035,\n",
              "            0.5045,     0.50551,     0.50651,     0.50751,     0.50851,     0.50951,     0.51051,     0.51151,     0.51251,     0.51351,     0.51451,     0.51552,     0.51652,     0.51752,     0.51852,     0.51952,     0.52052,     0.52152,     0.52252,     0.52352,     0.52452,     0.52553,     0.52653,     0.52753,\n",
              "           0.52853,     0.52953,     0.53053,     0.53153,     0.53253,     0.53353,     0.53453,     0.53554,     0.53654,     0.53754,     0.53854,     0.53954,     0.54054,     0.54154,     0.54254,     0.54354,     0.54454,     0.54555,     0.54655,     0.54755,     0.54855,     0.54955,     0.55055,     0.55155,\n",
              "           0.55255,     0.55355,     0.55455,     0.55556,     0.55656,     0.55756,     0.55856,     0.55956,     0.56056,     0.56156,     0.56256,     0.56356,     0.56456,     0.56557,     0.56657,     0.56757,     0.56857,     0.56957,     0.57057,     0.57157,     0.57257,     0.57357,     0.57457,     0.57558,\n",
              "           0.57658,     0.57758,     0.57858,     0.57958,     0.58058,     0.58158,     0.58258,     0.58358,     0.58458,     0.58559,     0.58659,     0.58759,     0.58859,     0.58959,     0.59059,     0.59159,     0.59259,     0.59359,     0.59459,      0.5956,      0.5966,      0.5976,      0.5986,      0.5996,\n",
              "            0.6006,      0.6016,      0.6026,      0.6036,      0.6046,     0.60561,     0.60661,     0.60761,     0.60861,     0.60961,     0.61061,     0.61161,     0.61261,     0.61361,     0.61461,     0.61562,     0.61662,     0.61762,     0.61862,     0.61962,     0.62062,     0.62162,     0.62262,     0.62362,\n",
              "           0.62462,     0.62563,     0.62663,     0.62763,     0.62863,     0.62963,     0.63063,     0.63163,     0.63263,     0.63363,     0.63463,     0.63564,     0.63664,     0.63764,     0.63864,     0.63964,     0.64064,     0.64164,     0.64264,     0.64364,     0.64464,     0.64565,     0.64665,     0.64765,\n",
              "           0.64865,     0.64965,     0.65065,     0.65165,     0.65265,     0.65365,     0.65465,     0.65566,     0.65666,     0.65766,     0.65866,     0.65966,     0.66066,     0.66166,     0.66266,     0.66366,     0.66466,     0.66567,     0.66667,     0.66767,     0.66867,     0.66967,     0.67067,     0.67167,\n",
              "           0.67267,     0.67367,     0.67467,     0.67568,     0.67668,     0.67768,     0.67868,     0.67968,     0.68068,     0.68168,     0.68268,     0.68368,     0.68468,     0.68569,     0.68669,     0.68769,     0.68869,     0.68969,     0.69069,     0.69169,     0.69269,     0.69369,     0.69469,      0.6957,\n",
              "            0.6967,      0.6977,      0.6987,      0.6997,      0.7007,      0.7017,      0.7027,      0.7037,      0.7047,     0.70571,     0.70671,     0.70771,     0.70871,     0.70971,     0.71071,     0.71171,     0.71271,     0.71371,     0.71471,     0.71572,     0.71672,     0.71772,     0.71872,     0.71972,\n",
              "           0.72072,     0.72172,     0.72272,     0.72372,     0.72472,     0.72573,     0.72673,     0.72773,     0.72873,     0.72973,     0.73073,     0.73173,     0.73273,     0.73373,     0.73473,     0.73574,     0.73674,     0.73774,     0.73874,     0.73974,     0.74074,     0.74174,     0.74274,     0.74374,\n",
              "           0.74474,     0.74575,     0.74675,     0.74775,     0.74875,     0.74975,     0.75075,     0.75175,     0.75275,     0.75375,     0.75475,     0.75576,     0.75676,     0.75776,     0.75876,     0.75976,     0.76076,     0.76176,     0.76276,     0.76376,     0.76476,     0.76577,     0.76677,     0.76777,\n",
              "           0.76877,     0.76977,     0.77077,     0.77177,     0.77277,     0.77377,     0.77477,     0.77578,     0.77678,     0.77778,     0.77878,     0.77978,     0.78078,     0.78178,     0.78278,     0.78378,     0.78478,     0.78579,     0.78679,     0.78779,     0.78879,     0.78979,     0.79079,     0.79179,\n",
              "           0.79279,     0.79379,     0.79479,      0.7958,      0.7968,      0.7978,      0.7988,      0.7998,      0.8008,      0.8018,      0.8028,      0.8038,      0.8048,     0.80581,     0.80681,     0.80781,     0.80881,     0.80981,     0.81081,     0.81181,     0.81281,     0.81381,     0.81481,     0.81582,\n",
              "           0.81682,     0.81782,     0.81882,     0.81982,     0.82082,     0.82182,     0.82282,     0.82382,     0.82482,     0.82583,     0.82683,     0.82783,     0.82883,     0.82983,     0.83083,     0.83183,     0.83283,     0.83383,     0.83483,     0.83584,     0.83684,     0.83784,     0.83884,     0.83984,\n",
              "           0.84084,     0.84184,     0.84284,     0.84384,     0.84484,     0.84585,     0.84685,     0.84785,     0.84885,     0.84985,     0.85085,     0.85185,     0.85285,     0.85385,     0.85485,     0.85586,     0.85686,     0.85786,     0.85886,     0.85986,     0.86086,     0.86186,     0.86286,     0.86386,\n",
              "           0.86486,     0.86587,     0.86687,     0.86787,     0.86887,     0.86987,     0.87087,     0.87187,     0.87287,     0.87387,     0.87487,     0.87588,     0.87688,     0.87788,     0.87888,     0.87988,     0.88088,     0.88188,     0.88288,     0.88388,     0.88488,     0.88589,     0.88689,     0.88789,\n",
              "           0.88889,     0.88989,     0.89089,     0.89189,     0.89289,     0.89389,     0.89489,      0.8959,      0.8969,      0.8979,      0.8989,      0.8999,      0.9009,      0.9019,      0.9029,      0.9039,      0.9049,     0.90591,     0.90691,     0.90791,     0.90891,     0.90991,     0.91091,     0.91191,\n",
              "           0.91291,     0.91391,     0.91491,     0.91592,     0.91692,     0.91792,     0.91892,     0.91992,     0.92092,     0.92192,     0.92292,     0.92392,     0.92492,     0.92593,     0.92693,     0.92793,     0.92893,     0.92993,     0.93093,     0.93193,     0.93293,     0.93393,     0.93493,     0.93594,\n",
              "           0.93694,     0.93794,     0.93894,     0.93994,     0.94094,     0.94194,     0.94294,     0.94394,     0.94494,     0.94595,     0.94695,     0.94795,     0.94895,     0.94995,     0.95095,     0.95195,     0.95295,     0.95395,     0.95495,     0.95596,     0.95696,     0.95796,     0.95896,     0.95996,\n",
              "           0.96096,     0.96196,     0.96296,     0.96396,     0.96496,     0.96597,     0.96697,     0.96797,     0.96897,     0.96997,     0.97097,     0.97197,     0.97297,     0.97397,     0.97497,     0.97598,     0.97698,     0.97798,     0.97898,     0.97998,     0.98098,     0.98198,     0.98298,     0.98398,\n",
              "           0.98498,     0.98599,     0.98699,     0.98799,     0.98899,     0.98999,     0.99099,     0.99199,     0.99299,     0.99399,     0.99499,       0.996,       0.997,       0.998,       0.999,           1]), array([[   0.064523,    0.064582,     0.24904,     0.37333,     0.43288,     0.47307,     0.50913,     0.53819,     0.56069,     0.58374,     0.58916,      0.6022,     0.61124,     0.61853,     0.62614,     0.63348,     0.64205,     0.64584,     0.65239,     0.65719,      0.6602,     0.66748,     0.67046,\n",
              "            0.67554,     0.68198,      0.6853,     0.69302,     0.69635,     0.69776,     0.70002,     0.70413,     0.70632,     0.70733,     0.71161,     0.71396,     0.71653,     0.72149,     0.72412,     0.72466,     0.72735,     0.72885,     0.73135,     0.73429,     0.73691,     0.73914,     0.74381,\n",
              "            0.74674,      0.7475,     0.74955,      0.7529,     0.75326,     0.75286,     0.75647,     0.75725,     0.75796,     0.75872,     0.76176,     0.76321,     0.76461,     0.76535,     0.76589,     0.76673,     0.76791,     0.76879,     0.76921,     0.76825,     0.76847,     0.76956,     0.77076,\n",
              "            0.77155,     0.77208,     0.77261,     0.77312,     0.77382,     0.77548,     0.77739,     0.77818,     0.77832,     0.77847,     0.77862,     0.77876,     0.77891,     0.77906,     0.77921,     0.78047,     0.78146,     0.78484,     0.78541,     0.78581,     0.78621,     0.78722,     0.78898,\n",
              "            0.78947,     0.79007,     0.79084,     0.79113,     0.79131,      0.7915,     0.79168,     0.79186,     0.79205,     0.79242,     0.79315,     0.79412,      0.7955,     0.79362,     0.79321,     0.79279,     0.79238,     0.79307,      0.7922,     0.79163,     0.79254,     0.79371,     0.79295,\n",
              "            0.79211,     0.79245,     0.79278,     0.79311,     0.79372,     0.79454,      0.7952,     0.79574,     0.79591,     0.79607,     0.79624,     0.79641,     0.79657,     0.79674,     0.79691,     0.79744,     0.79658,     0.79702,     0.79799,      0.7989,     0.80013,     0.80136,     0.80174,\n",
              "            0.80213,     0.80252,       0.803,     0.80347,     0.80339,     0.80257,      0.8019,     0.80205,      0.8022,     0.80236,     0.80251,     0.80266,     0.80282,     0.80297,     0.80312,     0.80387,      0.8048,     0.80683,     0.80817,      0.8079,     0.80764,     0.80737,     0.80711,\n",
              "            0.80684,     0.80658,     0.80631,     0.80656,     0.80683,     0.80709,     0.80736,     0.80732,     0.80617,      0.8059,     0.80628,     0.80665,     0.80701,     0.80729,     0.80757,     0.80785,     0.80812,     0.80834,     0.80851,     0.80868,     0.80886,     0.80903,      0.8092,\n",
              "            0.80937,     0.80999,      0.8117,     0.81261,     0.81338,     0.81157,     0.81244,     0.81293,     0.81316,     0.81338,     0.81361,     0.81384,     0.81406,     0.81516,     0.81557,     0.81577,     0.81597,     0.81617,     0.81637,     0.81657,     0.81678,     0.81701,     0.81723,\n",
              "            0.81746,     0.81769,     0.81791,     0.81823,     0.81866,     0.81908,      0.8199,      0.8207,     0.82076,     0.82081,     0.82086,     0.82091,     0.82096,     0.82102,     0.82107,     0.82112,     0.82117,     0.82123,     0.82128,     0.82133,     0.82138,     0.82143,     0.82149,\n",
              "            0.82154,     0.82159,     0.82164,      0.8217,     0.82175,      0.8218,     0.82185,      0.8219,     0.82196,     0.82124,     0.82056,     0.82104,     0.82145,     0.82159,     0.82173,     0.82187,       0.822,     0.82214,     0.82228,     0.82241,     0.82255,     0.82269,     0.82284,\n",
              "            0.82302,      0.8232,     0.82338,     0.82356,     0.82374,     0.82391,     0.82409,     0.82419,     0.82429,     0.82438,     0.82448,     0.82457,     0.82467,     0.82476,     0.82486,     0.82495,     0.82504,     0.82514,     0.82523,     0.82533,     0.82542,     0.82567,     0.82597,\n",
              "            0.82627,     0.82657,     0.82699,     0.82774,     0.82857,     0.82948,      0.8277,       0.828,     0.82843,     0.82887,      0.8292,      0.8295,      0.8298,      0.8301,     0.83013,     0.82953,     0.82894,     0.82841,      0.8288,     0.82919,     0.82958,     0.82992,     0.83021,\n",
              "             0.8305,     0.83079,     0.83108,     0.83148,     0.83189,     0.83231,     0.83297,     0.83386,     0.83364,     0.83338,     0.83312,     0.83286,      0.8326,     0.83235,     0.83209,     0.83122,     0.83027,     0.83139,     0.83149,      0.8316,     0.83171,     0.83181,     0.83192,\n",
              "            0.83203,     0.83213,     0.83224,     0.83234,     0.83245,     0.83256,     0.83266,     0.83277,     0.83289,     0.83302,     0.83314,     0.83327,     0.83339,     0.83352,     0.83364,     0.83376,     0.83389,     0.83401,     0.83414,     0.83384,     0.83338,     0.83292,     0.83246,\n",
              "            0.83341,     0.83382,     0.83404,     0.83426,     0.83448,     0.83469,     0.83491,     0.83509,     0.83522,     0.83536,     0.83549,     0.83563,     0.83576,      0.8359,     0.83603,     0.83617,      0.8363,     0.83648,     0.83704,     0.83759,     0.83802,     0.83834,     0.83866,\n",
              "            0.83897,     0.83922,     0.83896,      0.8387,     0.83844,     0.83817,     0.83791,     0.83765,     0.83738,     0.83752,     0.83788,     0.83824,     0.83861,     0.83832,     0.83778,     0.83724,     0.83661,     0.83502,     0.83545,     0.83609,     0.83542,     0.83475,     0.83424,\n",
              "            0.83455,     0.83486,     0.83516,     0.83547,     0.83627,     0.83707,     0.83714,     0.83721,     0.83728,     0.83735,     0.83742,     0.83749,     0.83756,     0.83763,      0.8377,     0.83777,     0.83784,     0.83791,     0.83798,     0.83804,     0.83811,     0.83818,     0.83825,\n",
              "            0.83832,     0.83839,     0.83846,     0.83859,     0.83876,     0.83894,     0.83911,     0.83929,     0.83946,     0.83963,     0.83981,     0.83996,     0.84008,     0.84019,      0.8403,     0.84041,     0.84053,     0.84064,     0.84075,     0.84086,     0.84097,     0.84109,      0.8412,\n",
              "            0.84131,     0.84171,     0.84255,     0.84218,     0.84122,     0.83886,     0.83916,     0.83945,     0.83975,     0.84005,     0.83957,     0.83837,     0.83855,     0.83874,     0.83893,     0.83911,      0.8393,     0.83948,     0.83967,     0.84007,     0.84056,     0.84104,     0.84051,\n",
              "            0.83954,     0.83919,     0.83923,     0.83928,     0.83933,     0.83937,     0.83942,     0.83946,     0.83951,     0.83956,      0.8396,     0.83965,     0.83969,     0.83974,     0.83979,     0.83983,     0.83988,     0.83992,     0.83997,     0.84002,     0.84006,     0.84011,     0.84015,\n",
              "             0.8402,     0.84025,     0.84029,     0.84034,     0.84038,     0.84043,     0.84048,     0.84052,     0.84057,     0.84061,     0.84131,     0.84152,     0.84018,      0.8405,     0.84083,     0.84115,     0.84148,     0.84207,     0.84273,     0.84528,     0.84711,     0.84766,     0.84785,\n",
              "            0.84805,     0.84825,     0.84844,     0.84864,     0.84883,     0.84902,     0.84887,     0.84872,     0.84857,     0.84842,     0.84827,     0.84812,     0.84797,     0.84782,     0.84767,     0.84752,     0.84737,     0.84722,     0.84707,     0.84874,     0.84956,     0.85085,     0.85166,\n",
              "            0.85188,      0.8521,     0.85233,     0.85255,     0.85277,     0.85299,     0.85311,      0.8532,     0.85328,     0.85337,     0.85346,     0.85354,     0.85363,     0.85371,      0.8538,     0.85388,     0.85397,     0.85406,     0.85414,     0.85423,     0.85431,      0.8544,     0.85448,\n",
              "            0.85457,     0.85442,     0.85424,     0.85407,     0.85389,     0.85371,     0.85353,     0.85336,     0.85318,       0.853,     0.85282,     0.85265,     0.85261,     0.85293,     0.85326,     0.85358,      0.8539,     0.85414,      0.8543,     0.85446,     0.85462,     0.85478,     0.85495,\n",
              "            0.85511,     0.85527,     0.85543,     0.85559,     0.85529,     0.85497,     0.85466,     0.85434,     0.85402,     0.85371,     0.85343,     0.85322,       0.853,     0.85278,     0.85256,     0.85235,     0.85213,     0.85191,     0.85169,     0.85148,     0.84931,       0.849,      0.8487,\n",
              "            0.84839,     0.84808,     0.84777,     0.84746,     0.84786,     0.84875,     0.84857,      0.8484,     0.84822,     0.84804,     0.84786,     0.84768,      0.8475,     0.84732,     0.84715,     0.84697,     0.84679,      0.8476,     0.84837,     0.84855,     0.84874,     0.84893,     0.84911,\n",
              "             0.8493,     0.84948,     0.84967,     0.84975,     0.84944,     0.84912,     0.84881,     0.84849,     0.84818,     0.84786,     0.84741,     0.84683,     0.84625,     0.84566,     0.84543,     0.84525,     0.84506,     0.84488,      0.8447,     0.84451,     0.84433,     0.84415,     0.84396,\n",
              "            0.84378,      0.8436,     0.84133,     0.84042,      0.8395,     0.83703,     0.83594,      0.8349,     0.83531,     0.83573,     0.83615,       0.836,     0.83469,     0.83335,      0.8321,     0.83226,     0.83241,     0.83257,     0.83273,     0.83288,     0.83304,     0.83319,     0.83335,\n",
              "            0.83351,     0.83361,     0.83327,     0.83294,      0.8326,     0.83226,     0.83193,     0.83159,     0.83129,       0.831,     0.83072,     0.83043,     0.83015,     0.82986,     0.82957,     0.82929,     0.82896,     0.82863,      0.8283,     0.82797,     0.82763,      0.8273,     0.82674,\n",
              "            0.82561,     0.82611,     0.82492,     0.82395,     0.82331,     0.82267,     0.82203,     0.82138,     0.82072,     0.82006,      0.8196,     0.81932,     0.81905,     0.81878,     0.81851,     0.81824,     0.81797,      0.8177,     0.81873,      0.8203,     0.82072,     0.82087,     0.82102,\n",
              "            0.82117,     0.82132,     0.82146,     0.82161,     0.82176,     0.82191,     0.82205,     0.82212,     0.82168,     0.82125,     0.82082,     0.82038,     0.81995,     0.82023,     0.82056,     0.82089,     0.82122,     0.82146,     0.82116,     0.82086,     0.82056,     0.82025,     0.81995,\n",
              "            0.81965,     0.81935,     0.81771,     0.81727,     0.81772,     0.81817,     0.81867,     0.81941,     0.82009,      0.8196,      0.8191,      0.8186,      0.8181,     0.81768,     0.81736,     0.81703,     0.81671,     0.81639,     0.81606,     0.81574,     0.81602,     0.81661,     0.81451,\n",
              "            0.81381,     0.81311,     0.81231,      0.8109,     0.80825,     0.80919,     0.80865,     0.80759,     0.80762,     0.80863,     0.80607,     0.80555,     0.80502,      0.8045,     0.80397,     0.80144,     0.80097,     0.80049,     0.80001,     0.79953,     0.79903,     0.79849,     0.79794,\n",
              "            0.79739,     0.79684,     0.79519,     0.79403,     0.79332,     0.79262,     0.79195,      0.7915,     0.79106,     0.79062,     0.79018,     0.78974,     0.78837,     0.78638,     0.78465,      0.7844,     0.78414,     0.78388,     0.78362,     0.78336,     0.78311,     0.78285,     0.78259,\n",
              "            0.78233,      0.7813,     0.77995,      0.7766,     0.77525,     0.77468,     0.77445,     0.77422,     0.77399,     0.77376,     0.77352,     0.77329,     0.77306,     0.77283,     0.77259,     0.77236,     0.77202,     0.77167,     0.77133,     0.77098,     0.77064,     0.77029,     0.76995,\n",
              "              0.768,     0.76642,     0.76517,     0.76422,     0.76338,     0.76254,     0.76084,     0.76009,      0.7608,     0.76092,     0.75948,     0.75534,     0.75047,     0.74856,     0.74054,     0.73655,     0.73414,     0.73294,     0.73202,      0.7312,     0.73038,     0.72746,     0.72663,\n",
              "            0.72596,     0.72529,     0.72462,     0.72263,     0.71652,     0.71597,     0.71551,     0.71505,     0.71459,     0.71413,     0.71363,     0.70991,     0.70838,     0.70468,     0.70024,     0.69701,      0.6903,     0.68678,      0.6867,     0.68503,     0.68316,     0.68101,     0.67467,\n",
              "            0.66984,     0.67052,     0.66711,     0.66251,     0.65828,      0.6566,     0.65087,     0.64751,     0.63311,     0.62958,     0.62844,     0.62729,     0.62264,     0.62083,     0.61913,     0.61747,     0.61374,     0.60774,     0.60151,     0.59743,     0.59045,     0.58487,     0.58012,\n",
              "            0.57381,     0.57093,      0.5594,     0.55718,     0.55348,     0.54523,     0.53047,     0.52845,     0.52401,     0.52176,     0.51906,     0.51374,     0.51059,     0.50809,     0.50602,     0.49935,     0.49349,       0.484,     0.47976,     0.47589,     0.46967,     0.46298,     0.45996,\n",
              "            0.44597,      0.4383,     0.42351,      0.4142,     0.41029,     0.39962,     0.38426,     0.36877,     0.35749,      0.3396,      0.3337,     0.32233,     0.31742,     0.31023,     0.28895,     0.28193,      0.2655,     0.26021,     0.25033,     0.24501,     0.22428,     0.21358,     0.20408,\n",
              "            0.19808,     0.18739,     0.18161,      0.1715,     0.16202,     0.13653,     0.12707,     0.11916,     0.11593,     0.10356,    0.086614,    0.064876,    0.056555,    0.053111,    0.042947,    0.036253,    0.031411,    0.027342,    0.020648,    0.019128,    0.018043,    0.016957,     0.01587,\n",
              "           0.014782,    0.013692,    0.012198,    0.010596,   0.0089925,   0.0073861,           0,           0,           0,           0,           0,           0,           0,           0,           0,           0,           0,           0,           0,           0,           0,           0,           0,\n",
              "                  0,           0,           0,           0,           0,           0,           0,           0,           0,           0,           0]]), 'Confidence', 'F1'], [array([          0,    0.001001,    0.002002,    0.003003,    0.004004,    0.005005,    0.006006,    0.007007,    0.008008,    0.009009,     0.01001,    0.011011,    0.012012,    0.013013,    0.014014,    0.015015,    0.016016,    0.017017,    0.018018,    0.019019,     0.02002,    0.021021,    0.022022,    0.023023,\n",
              "          0.024024,    0.025025,    0.026026,    0.027027,    0.028028,    0.029029,     0.03003,    0.031031,    0.032032,    0.033033,    0.034034,    0.035035,    0.036036,    0.037037,    0.038038,    0.039039,     0.04004,    0.041041,    0.042042,    0.043043,    0.044044,    0.045045,    0.046046,    0.047047,\n",
              "          0.048048,    0.049049,     0.05005,    0.051051,    0.052052,    0.053053,    0.054054,    0.055055,    0.056056,    0.057057,    0.058058,    0.059059,     0.06006,    0.061061,    0.062062,    0.063063,    0.064064,    0.065065,    0.066066,    0.067067,    0.068068,    0.069069,     0.07007,    0.071071,\n",
              "          0.072072,    0.073073,    0.074074,    0.075075,    0.076076,    0.077077,    0.078078,    0.079079,     0.08008,    0.081081,    0.082082,    0.083083,    0.084084,    0.085085,    0.086086,    0.087087,    0.088088,    0.089089,     0.09009,    0.091091,    0.092092,    0.093093,    0.094094,    0.095095,\n",
              "          0.096096,    0.097097,    0.098098,    0.099099,      0.1001,      0.1011,      0.1021,      0.1031,      0.1041,     0.10511,     0.10611,     0.10711,     0.10811,     0.10911,     0.11011,     0.11111,     0.11211,     0.11311,     0.11411,     0.11512,     0.11612,     0.11712,     0.11812,     0.11912,\n",
              "           0.12012,     0.12112,     0.12212,     0.12312,     0.12412,     0.12513,     0.12613,     0.12713,     0.12813,     0.12913,     0.13013,     0.13113,     0.13213,     0.13313,     0.13413,     0.13514,     0.13614,     0.13714,     0.13814,     0.13914,     0.14014,     0.14114,     0.14214,     0.14314,\n",
              "           0.14414,     0.14515,     0.14615,     0.14715,     0.14815,     0.14915,     0.15015,     0.15115,     0.15215,     0.15315,     0.15415,     0.15516,     0.15616,     0.15716,     0.15816,     0.15916,     0.16016,     0.16116,     0.16216,     0.16316,     0.16416,     0.16517,     0.16617,     0.16717,\n",
              "           0.16817,     0.16917,     0.17017,     0.17117,     0.17217,     0.17317,     0.17417,     0.17518,     0.17618,     0.17718,     0.17818,     0.17918,     0.18018,     0.18118,     0.18218,     0.18318,     0.18418,     0.18519,     0.18619,     0.18719,     0.18819,     0.18919,     0.19019,     0.19119,\n",
              "           0.19219,     0.19319,     0.19419,      0.1952,      0.1962,      0.1972,      0.1982,      0.1992,      0.2002,      0.2012,      0.2022,      0.2032,      0.2042,     0.20521,     0.20621,     0.20721,     0.20821,     0.20921,     0.21021,     0.21121,     0.21221,     0.21321,     0.21421,     0.21522,\n",
              "           0.21622,     0.21722,     0.21822,     0.21922,     0.22022,     0.22122,     0.22222,     0.22322,     0.22422,     0.22523,     0.22623,     0.22723,     0.22823,     0.22923,     0.23023,     0.23123,     0.23223,     0.23323,     0.23423,     0.23524,     0.23624,     0.23724,     0.23824,     0.23924,\n",
              "           0.24024,     0.24124,     0.24224,     0.24324,     0.24424,     0.24525,     0.24625,     0.24725,     0.24825,     0.24925,     0.25025,     0.25125,     0.25225,     0.25325,     0.25425,     0.25526,     0.25626,     0.25726,     0.25826,     0.25926,     0.26026,     0.26126,     0.26226,     0.26326,\n",
              "           0.26426,     0.26527,     0.26627,     0.26727,     0.26827,     0.26927,     0.27027,     0.27127,     0.27227,     0.27327,     0.27427,     0.27528,     0.27628,     0.27728,     0.27828,     0.27928,     0.28028,     0.28128,     0.28228,     0.28328,     0.28428,     0.28529,     0.28629,     0.28729,\n",
              "           0.28829,     0.28929,     0.29029,     0.29129,     0.29229,     0.29329,     0.29429,      0.2953,      0.2963,      0.2973,      0.2983,      0.2993,      0.3003,      0.3013,      0.3023,      0.3033,      0.3043,     0.30531,     0.30631,     0.30731,     0.30831,     0.30931,     0.31031,     0.31131,\n",
              "           0.31231,     0.31331,     0.31431,     0.31532,     0.31632,     0.31732,     0.31832,     0.31932,     0.32032,     0.32132,     0.32232,     0.32332,     0.32432,     0.32533,     0.32633,     0.32733,     0.32833,     0.32933,     0.33033,     0.33133,     0.33233,     0.33333,     0.33433,     0.33534,\n",
              "           0.33634,     0.33734,     0.33834,     0.33934,     0.34034,     0.34134,     0.34234,     0.34334,     0.34434,     0.34535,     0.34635,     0.34735,     0.34835,     0.34935,     0.35035,     0.35135,     0.35235,     0.35335,     0.35435,     0.35536,     0.35636,     0.35736,     0.35836,     0.35936,\n",
              "           0.36036,     0.36136,     0.36236,     0.36336,     0.36436,     0.36537,     0.36637,     0.36737,     0.36837,     0.36937,     0.37037,     0.37137,     0.37237,     0.37337,     0.37437,     0.37538,     0.37638,     0.37738,     0.37838,     0.37938,     0.38038,     0.38138,     0.38238,     0.38338,\n",
              "           0.38438,     0.38539,     0.38639,     0.38739,     0.38839,     0.38939,     0.39039,     0.39139,     0.39239,     0.39339,     0.39439,      0.3954,      0.3964,      0.3974,      0.3984,      0.3994,      0.4004,      0.4014,      0.4024,      0.4034,      0.4044,     0.40541,     0.40641,     0.40741,\n",
              "           0.40841,     0.40941,     0.41041,     0.41141,     0.41241,     0.41341,     0.41441,     0.41542,     0.41642,     0.41742,     0.41842,     0.41942,     0.42042,     0.42142,     0.42242,     0.42342,     0.42442,     0.42543,     0.42643,     0.42743,     0.42843,     0.42943,     0.43043,     0.43143,\n",
              "           0.43243,     0.43343,     0.43443,     0.43544,     0.43644,     0.43744,     0.43844,     0.43944,     0.44044,     0.44144,     0.44244,     0.44344,     0.44444,     0.44545,     0.44645,     0.44745,     0.44845,     0.44945,     0.45045,     0.45145,     0.45245,     0.45345,     0.45445,     0.45546,\n",
              "           0.45646,     0.45746,     0.45846,     0.45946,     0.46046,     0.46146,     0.46246,     0.46346,     0.46446,     0.46547,     0.46647,     0.46747,     0.46847,     0.46947,     0.47047,     0.47147,     0.47247,     0.47347,     0.47447,     0.47548,     0.47648,     0.47748,     0.47848,     0.47948,\n",
              "           0.48048,     0.48148,     0.48248,     0.48348,     0.48448,     0.48549,     0.48649,     0.48749,     0.48849,     0.48949,     0.49049,     0.49149,     0.49249,     0.49349,     0.49449,      0.4955,      0.4965,      0.4975,      0.4985,      0.4995,      0.5005,      0.5015,      0.5025,      0.5035,\n",
              "            0.5045,     0.50551,     0.50651,     0.50751,     0.50851,     0.50951,     0.51051,     0.51151,     0.51251,     0.51351,     0.51451,     0.51552,     0.51652,     0.51752,     0.51852,     0.51952,     0.52052,     0.52152,     0.52252,     0.52352,     0.52452,     0.52553,     0.52653,     0.52753,\n",
              "           0.52853,     0.52953,     0.53053,     0.53153,     0.53253,     0.53353,     0.53453,     0.53554,     0.53654,     0.53754,     0.53854,     0.53954,     0.54054,     0.54154,     0.54254,     0.54354,     0.54454,     0.54555,     0.54655,     0.54755,     0.54855,     0.54955,     0.55055,     0.55155,\n",
              "           0.55255,     0.55355,     0.55455,     0.55556,     0.55656,     0.55756,     0.55856,     0.55956,     0.56056,     0.56156,     0.56256,     0.56356,     0.56456,     0.56557,     0.56657,     0.56757,     0.56857,     0.56957,     0.57057,     0.57157,     0.57257,     0.57357,     0.57457,     0.57558,\n",
              "           0.57658,     0.57758,     0.57858,     0.57958,     0.58058,     0.58158,     0.58258,     0.58358,     0.58458,     0.58559,     0.58659,     0.58759,     0.58859,     0.58959,     0.59059,     0.59159,     0.59259,     0.59359,     0.59459,      0.5956,      0.5966,      0.5976,      0.5986,      0.5996,\n",
              "            0.6006,      0.6016,      0.6026,      0.6036,      0.6046,     0.60561,     0.60661,     0.60761,     0.60861,     0.60961,     0.61061,     0.61161,     0.61261,     0.61361,     0.61461,     0.61562,     0.61662,     0.61762,     0.61862,     0.61962,     0.62062,     0.62162,     0.62262,     0.62362,\n",
              "           0.62462,     0.62563,     0.62663,     0.62763,     0.62863,     0.62963,     0.63063,     0.63163,     0.63263,     0.63363,     0.63463,     0.63564,     0.63664,     0.63764,     0.63864,     0.63964,     0.64064,     0.64164,     0.64264,     0.64364,     0.64464,     0.64565,     0.64665,     0.64765,\n",
              "           0.64865,     0.64965,     0.65065,     0.65165,     0.65265,     0.65365,     0.65465,     0.65566,     0.65666,     0.65766,     0.65866,     0.65966,     0.66066,     0.66166,     0.66266,     0.66366,     0.66466,     0.66567,     0.66667,     0.66767,     0.66867,     0.66967,     0.67067,     0.67167,\n",
              "           0.67267,     0.67367,     0.67467,     0.67568,     0.67668,     0.67768,     0.67868,     0.67968,     0.68068,     0.68168,     0.68268,     0.68368,     0.68468,     0.68569,     0.68669,     0.68769,     0.68869,     0.68969,     0.69069,     0.69169,     0.69269,     0.69369,     0.69469,      0.6957,\n",
              "            0.6967,      0.6977,      0.6987,      0.6997,      0.7007,      0.7017,      0.7027,      0.7037,      0.7047,     0.70571,     0.70671,     0.70771,     0.70871,     0.70971,     0.71071,     0.71171,     0.71271,     0.71371,     0.71471,     0.71572,     0.71672,     0.71772,     0.71872,     0.71972,\n",
              "           0.72072,     0.72172,     0.72272,     0.72372,     0.72472,     0.72573,     0.72673,     0.72773,     0.72873,     0.72973,     0.73073,     0.73173,     0.73273,     0.73373,     0.73473,     0.73574,     0.73674,     0.73774,     0.73874,     0.73974,     0.74074,     0.74174,     0.74274,     0.74374,\n",
              "           0.74474,     0.74575,     0.74675,     0.74775,     0.74875,     0.74975,     0.75075,     0.75175,     0.75275,     0.75375,     0.75475,     0.75576,     0.75676,     0.75776,     0.75876,     0.75976,     0.76076,     0.76176,     0.76276,     0.76376,     0.76476,     0.76577,     0.76677,     0.76777,\n",
              "           0.76877,     0.76977,     0.77077,     0.77177,     0.77277,     0.77377,     0.77477,     0.77578,     0.77678,     0.77778,     0.77878,     0.77978,     0.78078,     0.78178,     0.78278,     0.78378,     0.78478,     0.78579,     0.78679,     0.78779,     0.78879,     0.78979,     0.79079,     0.79179,\n",
              "           0.79279,     0.79379,     0.79479,      0.7958,      0.7968,      0.7978,      0.7988,      0.7998,      0.8008,      0.8018,      0.8028,      0.8038,      0.8048,     0.80581,     0.80681,     0.80781,     0.80881,     0.80981,     0.81081,     0.81181,     0.81281,     0.81381,     0.81481,     0.81582,\n",
              "           0.81682,     0.81782,     0.81882,     0.81982,     0.82082,     0.82182,     0.82282,     0.82382,     0.82482,     0.82583,     0.82683,     0.82783,     0.82883,     0.82983,     0.83083,     0.83183,     0.83283,     0.83383,     0.83483,     0.83584,     0.83684,     0.83784,     0.83884,     0.83984,\n",
              "           0.84084,     0.84184,     0.84284,     0.84384,     0.84484,     0.84585,     0.84685,     0.84785,     0.84885,     0.84985,     0.85085,     0.85185,     0.85285,     0.85385,     0.85485,     0.85586,     0.85686,     0.85786,     0.85886,     0.85986,     0.86086,     0.86186,     0.86286,     0.86386,\n",
              "           0.86486,     0.86587,     0.86687,     0.86787,     0.86887,     0.86987,     0.87087,     0.87187,     0.87287,     0.87387,     0.87487,     0.87588,     0.87688,     0.87788,     0.87888,     0.87988,     0.88088,     0.88188,     0.88288,     0.88388,     0.88488,     0.88589,     0.88689,     0.88789,\n",
              "           0.88889,     0.88989,     0.89089,     0.89189,     0.89289,     0.89389,     0.89489,      0.8959,      0.8969,      0.8979,      0.8989,      0.8999,      0.9009,      0.9019,      0.9029,      0.9039,      0.9049,     0.90591,     0.90691,     0.90791,     0.90891,     0.90991,     0.91091,     0.91191,\n",
              "           0.91291,     0.91391,     0.91491,     0.91592,     0.91692,     0.91792,     0.91892,     0.91992,     0.92092,     0.92192,     0.92292,     0.92392,     0.92492,     0.92593,     0.92693,     0.92793,     0.92893,     0.92993,     0.93093,     0.93193,     0.93293,     0.93393,     0.93493,     0.93594,\n",
              "           0.93694,     0.93794,     0.93894,     0.93994,     0.94094,     0.94194,     0.94294,     0.94394,     0.94494,     0.94595,     0.94695,     0.94795,     0.94895,     0.94995,     0.95095,     0.95195,     0.95295,     0.95395,     0.95495,     0.95596,     0.95696,     0.95796,     0.95896,     0.95996,\n",
              "           0.96096,     0.96196,     0.96296,     0.96396,     0.96496,     0.96597,     0.96697,     0.96797,     0.96897,     0.96997,     0.97097,     0.97197,     0.97297,     0.97397,     0.97497,     0.97598,     0.97698,     0.97798,     0.97898,     0.97998,     0.98098,     0.98198,     0.98298,     0.98398,\n",
              "           0.98498,     0.98599,     0.98699,     0.98799,     0.98899,     0.98999,     0.99099,     0.99199,     0.99299,     0.99399,     0.99499,       0.996,       0.997,       0.998,       0.999,           1]), array([[   0.033368,      0.0334,     0.14302,     0.23236,     0.28097,      0.3158,     0.34878,     0.37665,     0.40029,     0.42421,     0.43206,     0.44632,     0.45715,     0.46535,     0.47492,     0.48342,     0.49445,     0.49998,     0.50787,     0.51371,      0.5185,     0.52754,     0.53243,\n",
              "            0.53887,     0.54712,     0.55141,     0.56147,     0.56586,     0.56772,     0.57071,      0.5762,     0.58069,     0.58332,     0.58916,     0.59239,     0.59594,     0.60283,     0.60651,     0.60727,     0.61107,     0.61319,     0.61673,     0.62092,     0.62467,     0.62789,     0.63467,\n",
              "            0.63894,     0.64005,     0.64306,     0.64801,     0.64919,     0.64973,     0.65512,     0.65629,     0.65736,      0.6585,      0.6631,     0.66529,     0.66742,     0.66855,     0.66939,     0.67067,     0.67248,     0.67383,     0.67497,     0.67453,     0.67526,     0.67695,     0.67881,\n",
              "            0.68004,     0.68086,     0.68168,     0.68248,     0.68357,     0.68616,     0.68915,      0.6904,     0.69063,     0.69086,     0.69109,     0.69133,     0.69156,     0.69179,     0.69202,     0.69401,     0.69558,     0.70095,     0.70186,      0.7025,     0.70314,     0.70476,     0.70759,\n",
              "            0.70839,     0.70935,     0.71059,     0.71106,     0.71135,     0.71165,     0.71195,     0.71225,     0.71254,     0.71315,     0.71433,      0.7159,     0.71847,     0.71767,      0.7175,     0.71732,     0.71715,     0.71891,     0.71854,     0.71849,     0.71999,     0.72192,     0.72183,\n",
              "            0.72156,     0.72211,     0.72266,     0.72321,     0.72422,     0.72559,     0.72669,     0.72759,     0.72787,     0.72815,     0.72843,     0.72871,     0.72899,     0.72927,     0.72955,     0.73135,       0.731,      0.7321,     0.73374,     0.73528,     0.73736,     0.73945,     0.74011,\n",
              "            0.74077,     0.74144,     0.74225,     0.74306,     0.74338,     0.74305,     0.74282,     0.74308,     0.74334,     0.74361,     0.74387,     0.74413,      0.7444,     0.74466,     0.74493,      0.7462,     0.74781,     0.75133,     0.75366,     0.75356,     0.75346,     0.75336,     0.75325,\n",
              "            0.75315,     0.75305,     0.75295,     0.75339,     0.75386,     0.75433,      0.7548,     0.75507,     0.75462,     0.75482,     0.75547,     0.75613,     0.75676,     0.75725,     0.75774,     0.75823,     0.75872,      0.7591,     0.75941,     0.75971,     0.76001,     0.76032,     0.76062,\n",
              "            0.76092,     0.76201,     0.76505,     0.76666,     0.76807,     0.76749,     0.76904,     0.76993,     0.77034,     0.77075,     0.77115,     0.77156,     0.77197,     0.77395,     0.77468,     0.77504,     0.77541,     0.77577,     0.77613,     0.77649,     0.77686,     0.77728,     0.77769,\n",
              "             0.7781,     0.77851,     0.77892,     0.77949,     0.78027,     0.78105,     0.78253,       0.784,     0.78409,     0.78419,     0.78428,     0.78438,     0.78447,     0.78457,     0.78466,     0.78476,     0.78485,     0.78495,     0.78505,     0.78514,     0.78524,     0.78533,     0.78543,\n",
              "            0.78552,     0.78562,     0.78571,     0.78581,      0.7859,       0.786,     0.78609,     0.78619,     0.78629,     0.78611,     0.78656,     0.78745,     0.78821,     0.78846,     0.78872,     0.78897,     0.78922,     0.78947,     0.78972,     0.78998,     0.79023,     0.79048,     0.79077,\n",
              "             0.7911,     0.79143,     0.79176,     0.79209,     0.79242,     0.79275,     0.79308,     0.79327,     0.79344,     0.79362,     0.79379,     0.79397,     0.79415,     0.79432,      0.7945,     0.79467,     0.79485,     0.79502,      0.7952,     0.79537,     0.79555,     0.79601,     0.79657,\n",
              "            0.79713,     0.79769,     0.79847,     0.79987,     0.80141,     0.80311,     0.80259,     0.80332,     0.80414,     0.80497,     0.80558,     0.80615,     0.80673,      0.8073,     0.80763,     0.80744,     0.80725,     0.80713,     0.80787,     0.80861,     0.80935,     0.80999,     0.81055,\n",
              "             0.8111,     0.81166,     0.81222,     0.81297,     0.81377,     0.81456,     0.81583,     0.81754,     0.81751,     0.81743,     0.81735,     0.81727,      0.8172,     0.81712,     0.81704,     0.81677,     0.81691,     0.81908,     0.81929,     0.81949,      0.8197,     0.81991,     0.82011,\n",
              "            0.82032,     0.82053,     0.82074,     0.82094,     0.82115,     0.82136,     0.82156,     0.82177,     0.82201,     0.82225,      0.8225,     0.82274,     0.82298,     0.82322,     0.82347,     0.82371,     0.82395,     0.82419,     0.82444,      0.8244,     0.82427,     0.82413,     0.82399,\n",
              "            0.82626,     0.82706,      0.8275,     0.82793,     0.82836,      0.8288,     0.82923,     0.82957,     0.82984,     0.83011,     0.83037,     0.83064,     0.83091,     0.83117,     0.83144,     0.83171,     0.83197,     0.83232,     0.83343,     0.83453,     0.83537,     0.83601,     0.83664,\n",
              "            0.83728,     0.83783,     0.83776,     0.83768,     0.83761,     0.83754,     0.83746,     0.83739,     0.83732,     0.83775,     0.83848,      0.8392,     0.83993,     0.84003,     0.83988,     0.83973,     0.83956,     0.83911,     0.84045,      0.8419,     0.84172,     0.84153,     0.84148,\n",
              "            0.84211,     0.84274,     0.84337,       0.844,     0.84562,     0.84727,     0.84742,     0.84756,      0.8477,     0.84784,     0.84798,     0.84813,     0.84827,     0.84841,     0.84855,     0.84869,     0.84884,     0.84898,     0.84912,     0.84926,      0.8494,     0.84955,     0.84969,\n",
              "            0.84983,     0.84997,     0.85012,     0.85038,     0.85074,      0.8511,     0.85146,     0.85182,     0.85217,     0.85253,     0.85289,     0.85321,     0.85344,     0.85368,     0.85391,     0.85414,     0.85437,     0.85461,     0.85484,     0.85507,      0.8553,     0.85553,     0.85577,\n",
              "              0.856,     0.85682,     0.85857,     0.85899,     0.85875,     0.85823,     0.85886,     0.85948,     0.86011,     0.86073,     0.86104,     0.86094,     0.86133,     0.86172,     0.86212,     0.86251,      0.8629,     0.86329,     0.86369,     0.86454,     0.86557,      0.8666,     0.86675,\n",
              "            0.86652,     0.86649,     0.86658,     0.86668,     0.86678,     0.86688,     0.86698,     0.86707,     0.86717,     0.86727,     0.86737,     0.86747,     0.86756,     0.86766,     0.86776,     0.86786,     0.86796,     0.86806,     0.86815,     0.86825,     0.86835,     0.86845,     0.86855,\n",
              "            0.86864,     0.86874,     0.86884,     0.86894,     0.86904,     0.86914,     0.86923,     0.86933,     0.86943,     0.86953,     0.87101,     0.87259,      0.8725,      0.8732,      0.8739,      0.8746,      0.8753,     0.87658,     0.87802,     0.88357,     0.88759,     0.88878,     0.88921,\n",
              "            0.88965,     0.89008,     0.89051,     0.89094,     0.89137,     0.89179,     0.89176,     0.89173,      0.8917,     0.89167,     0.89164,     0.89161,     0.89158,     0.89155,     0.89152,     0.89149,     0.89146,     0.89143,      0.8914,      0.8953,     0.89714,     0.90001,     0.90183,\n",
              "            0.90233,     0.90283,     0.90332,     0.90382,     0.90432,     0.90482,     0.90509,     0.90528,     0.90548,     0.90567,     0.90586,     0.90606,     0.90625,     0.90644,     0.90664,     0.90683,     0.90702,     0.90722,     0.90741,      0.9076,      0.9078,     0.90799,     0.90818,\n",
              "            0.90838,     0.90837,     0.90834,     0.90831,     0.90828,     0.90825,     0.90822,     0.90819,     0.90816,     0.90813,      0.9081,     0.90807,     0.90825,     0.90898,     0.90972,     0.91046,     0.91119,     0.91173,      0.9121,     0.91247,     0.91284,     0.91321,     0.91357,\n",
              "            0.91394,     0.91431,     0.91468,     0.91505,     0.91501,     0.91496,     0.91491,     0.91486,     0.91481,     0.91476,     0.91471,     0.91468,     0.91464,     0.91461,     0.91457,     0.91454,     0.91451,     0.91447,     0.91444,      0.9144,     0.91405,       0.914,     0.91395,\n",
              "             0.9139,     0.91386,     0.91381,     0.91376,     0.91509,     0.91731,     0.91729,     0.91726,     0.91723,      0.9172,     0.91717,     0.91715,     0.91712,     0.91709,     0.91706,     0.91704,     0.91701,     0.91908,     0.92088,     0.92132,     0.92176,      0.9222,     0.92264,\n",
              "            0.92308,     0.92352,     0.92396,     0.92429,     0.92425,      0.9242,     0.92416,     0.92411,     0.92407,     0.92402,     0.92396,     0.92387,     0.92379,     0.92371,     0.92367,     0.92365,     0.92362,     0.92359,     0.92357,     0.92354,     0.92351,     0.92349,     0.92346,\n",
              "            0.92343,     0.92341,     0.92308,     0.92294,     0.92281,     0.92245,     0.92229,     0.92217,     0.92319,     0.92422,     0.92524,     0.92587,     0.92568,     0.92549,     0.92534,     0.92573,     0.92611,      0.9265,     0.92689,     0.92727,     0.92766,     0.92805,     0.92844,\n",
              "            0.92882,     0.92916,     0.92912,     0.92907,     0.92902,     0.92898,     0.92893,     0.92889,     0.92885,     0.92881,     0.92877,     0.92873,     0.92869,     0.92865,     0.92861,     0.92857,     0.92853,     0.92848,     0.92844,     0.92839,     0.92835,      0.9283,     0.92822,\n",
              "            0.92807,     0.93187,     0.93172,     0.93159,     0.93151,     0.93142,     0.93134,     0.93125,     0.93116,     0.93108,     0.93102,     0.93098,     0.93094,     0.93091,     0.93087,     0.93084,      0.9308,     0.93076,     0.93396,     0.93805,     0.93916,     0.93955,     0.93994,\n",
              "            0.94033,     0.94071,      0.9411,     0.94149,     0.94188,     0.94226,     0.94265,     0.94298,     0.94293,     0.94288,     0.94283,     0.94278,     0.94273,     0.94355,     0.94442,     0.94529,     0.94616,      0.9469,     0.94687,     0.94684,      0.9468,     0.94677,     0.94674,\n",
              "            0.94671,     0.94668,     0.94651,     0.94728,     0.94848,     0.94968,     0.95103,     0.95304,     0.95495,     0.95491,     0.95486,     0.95482,     0.95478,     0.95474,     0.95471,     0.95468,     0.95465,     0.95462,     0.95459,     0.95456,     0.95588,     0.95886,     0.95869,\n",
              "            0.95863,     0.95858,     0.95851,     0.95839,     0.95928,     0.96193,     0.96256,     0.96248,     0.96395,     0.96685,     0.96681,     0.96677,     0.96674,      0.9667,     0.96667,      0.9665,     0.96647,     0.96643,      0.9664,     0.96637,     0.96633,      0.9663,     0.96626,\n",
              "            0.96622,     0.96619,     0.96607,     0.96599,     0.96594,      0.9659,     0.96585,     0.96582,     0.96579,     0.96576,     0.96573,      0.9657,      0.9656,     0.96546,     0.96534,     0.96532,     0.96531,     0.96529,     0.96527,     0.96525,     0.96523,     0.96522,      0.9652,\n",
              "            0.96518,     0.96511,     0.96501,     0.96477,     0.96468,     0.96463,     0.96462,      0.9646,     0.96458,     0.96457,     0.96455,     0.96453,     0.96452,      0.9645,     0.96448,     0.96447,     0.96444,     0.96442,     0.96439,     0.96437,     0.96434,     0.96432,     0.96429,\n",
              "            0.96415,     0.96403,     0.96394,     0.96387,     0.96381,     0.96375,     0.96362,     0.96463,     0.96693,     0.96856,     0.96847,      0.9682,     0.96788,     0.96775,     0.96721,     0.96694,     0.96677,     0.96669,     0.96662,     0.96657,     0.96651,     0.96631,     0.96625,\n",
              "             0.9662,     0.96615,     0.96611,     0.96596,     0.96552,     0.96548,     0.96545,     0.96542,     0.96538,     0.96535,     0.96531,     0.96504,     0.96493,     0.96465,     0.96432,     0.96407,     0.96356,     0.96328,     0.96911,       0.969,     0.96887,     0.96873,      0.9683,\n",
              "            0.96885,      0.9717,     0.97397,      0.9737,     0.97346,     0.97336,     0.97302,     0.97282,     0.97873,     0.97856,      0.9785,     0.97844,     0.97822,     0.97813,     0.97804,     0.97796,     0.97777,     0.98481,     0.98458,     0.98444,     0.98418,     0.98397,     0.98379,\n",
              "            0.98354,     0.99161,     0.99137,     0.99133,     0.99125,     0.99107,     0.99073,     0.99068,     0.99057,     0.99052,     0.99045,     0.99032,     0.99024,     0.99018,     0.99012,     0.98995,     0.98979,     0.98953,     0.98941,      0.9893,           1,           1,           1,\n",
              "                  1,           1,           1,           1,           1,           1,           1,           1,           1,           1,           1,           1,           1,           1,           1,           1,           1,           1,           1,           1,           1,           1,           1,\n",
              "                  1,           1,           1,           1,           1,           1,           1,           1,           1,           1,           1,           1,           1,           1,           1,           1,           1,           1,           1,           1,           1,           1,           1,\n",
              "                  1,           1,           1,           1,           1,           1,           1,           1,           1,           1,           1,           1,           1,           1,           1,           1,           1,           1,           1,           1,           1,           1,           1,\n",
              "                  1,           1,           1,           1,           1,           1,           1,           1,           1,           1,           1]]), 'Confidence', 'Precision'], [array([          0,    0.001001,    0.002002,    0.003003,    0.004004,    0.005005,    0.006006,    0.007007,    0.008008,    0.009009,     0.01001,    0.011011,    0.012012,    0.013013,    0.014014,    0.015015,    0.016016,    0.017017,    0.018018,    0.019019,     0.02002,    0.021021,    0.022022,    0.023023,\n",
              "          0.024024,    0.025025,    0.026026,    0.027027,    0.028028,    0.029029,     0.03003,    0.031031,    0.032032,    0.033033,    0.034034,    0.035035,    0.036036,    0.037037,    0.038038,    0.039039,     0.04004,    0.041041,    0.042042,    0.043043,    0.044044,    0.045045,    0.046046,    0.047047,\n",
              "          0.048048,    0.049049,     0.05005,    0.051051,    0.052052,    0.053053,    0.054054,    0.055055,    0.056056,    0.057057,    0.058058,    0.059059,     0.06006,    0.061061,    0.062062,    0.063063,    0.064064,    0.065065,    0.066066,    0.067067,    0.068068,    0.069069,     0.07007,    0.071071,\n",
              "          0.072072,    0.073073,    0.074074,    0.075075,    0.076076,    0.077077,    0.078078,    0.079079,     0.08008,    0.081081,    0.082082,    0.083083,    0.084084,    0.085085,    0.086086,    0.087087,    0.088088,    0.089089,     0.09009,    0.091091,    0.092092,    0.093093,    0.094094,    0.095095,\n",
              "          0.096096,    0.097097,    0.098098,    0.099099,      0.1001,      0.1011,      0.1021,      0.1031,      0.1041,     0.10511,     0.10611,     0.10711,     0.10811,     0.10911,     0.11011,     0.11111,     0.11211,     0.11311,     0.11411,     0.11512,     0.11612,     0.11712,     0.11812,     0.11912,\n",
              "           0.12012,     0.12112,     0.12212,     0.12312,     0.12412,     0.12513,     0.12613,     0.12713,     0.12813,     0.12913,     0.13013,     0.13113,     0.13213,     0.13313,     0.13413,     0.13514,     0.13614,     0.13714,     0.13814,     0.13914,     0.14014,     0.14114,     0.14214,     0.14314,\n",
              "           0.14414,     0.14515,     0.14615,     0.14715,     0.14815,     0.14915,     0.15015,     0.15115,     0.15215,     0.15315,     0.15415,     0.15516,     0.15616,     0.15716,     0.15816,     0.15916,     0.16016,     0.16116,     0.16216,     0.16316,     0.16416,     0.16517,     0.16617,     0.16717,\n",
              "           0.16817,     0.16917,     0.17017,     0.17117,     0.17217,     0.17317,     0.17417,     0.17518,     0.17618,     0.17718,     0.17818,     0.17918,     0.18018,     0.18118,     0.18218,     0.18318,     0.18418,     0.18519,     0.18619,     0.18719,     0.18819,     0.18919,     0.19019,     0.19119,\n",
              "           0.19219,     0.19319,     0.19419,      0.1952,      0.1962,      0.1972,      0.1982,      0.1992,      0.2002,      0.2012,      0.2022,      0.2032,      0.2042,     0.20521,     0.20621,     0.20721,     0.20821,     0.20921,     0.21021,     0.21121,     0.21221,     0.21321,     0.21421,     0.21522,\n",
              "           0.21622,     0.21722,     0.21822,     0.21922,     0.22022,     0.22122,     0.22222,     0.22322,     0.22422,     0.22523,     0.22623,     0.22723,     0.22823,     0.22923,     0.23023,     0.23123,     0.23223,     0.23323,     0.23423,     0.23524,     0.23624,     0.23724,     0.23824,     0.23924,\n",
              "           0.24024,     0.24124,     0.24224,     0.24324,     0.24424,     0.24525,     0.24625,     0.24725,     0.24825,     0.24925,     0.25025,     0.25125,     0.25225,     0.25325,     0.25425,     0.25526,     0.25626,     0.25726,     0.25826,     0.25926,     0.26026,     0.26126,     0.26226,     0.26326,\n",
              "           0.26426,     0.26527,     0.26627,     0.26727,     0.26827,     0.26927,     0.27027,     0.27127,     0.27227,     0.27327,     0.27427,     0.27528,     0.27628,     0.27728,     0.27828,     0.27928,     0.28028,     0.28128,     0.28228,     0.28328,     0.28428,     0.28529,     0.28629,     0.28729,\n",
              "           0.28829,     0.28929,     0.29029,     0.29129,     0.29229,     0.29329,     0.29429,      0.2953,      0.2963,      0.2973,      0.2983,      0.2993,      0.3003,      0.3013,      0.3023,      0.3033,      0.3043,     0.30531,     0.30631,     0.30731,     0.30831,     0.30931,     0.31031,     0.31131,\n",
              "           0.31231,     0.31331,     0.31431,     0.31532,     0.31632,     0.31732,     0.31832,     0.31932,     0.32032,     0.32132,     0.32232,     0.32332,     0.32432,     0.32533,     0.32633,     0.32733,     0.32833,     0.32933,     0.33033,     0.33133,     0.33233,     0.33333,     0.33433,     0.33534,\n",
              "           0.33634,     0.33734,     0.33834,     0.33934,     0.34034,     0.34134,     0.34234,     0.34334,     0.34434,     0.34535,     0.34635,     0.34735,     0.34835,     0.34935,     0.35035,     0.35135,     0.35235,     0.35335,     0.35435,     0.35536,     0.35636,     0.35736,     0.35836,     0.35936,\n",
              "           0.36036,     0.36136,     0.36236,     0.36336,     0.36436,     0.36537,     0.36637,     0.36737,     0.36837,     0.36937,     0.37037,     0.37137,     0.37237,     0.37337,     0.37437,     0.37538,     0.37638,     0.37738,     0.37838,     0.37938,     0.38038,     0.38138,     0.38238,     0.38338,\n",
              "           0.38438,     0.38539,     0.38639,     0.38739,     0.38839,     0.38939,     0.39039,     0.39139,     0.39239,     0.39339,     0.39439,      0.3954,      0.3964,      0.3974,      0.3984,      0.3994,      0.4004,      0.4014,      0.4024,      0.4034,      0.4044,     0.40541,     0.40641,     0.40741,\n",
              "           0.40841,     0.40941,     0.41041,     0.41141,     0.41241,     0.41341,     0.41441,     0.41542,     0.41642,     0.41742,     0.41842,     0.41942,     0.42042,     0.42142,     0.42242,     0.42342,     0.42442,     0.42543,     0.42643,     0.42743,     0.42843,     0.42943,     0.43043,     0.43143,\n",
              "           0.43243,     0.43343,     0.43443,     0.43544,     0.43644,     0.43744,     0.43844,     0.43944,     0.44044,     0.44144,     0.44244,     0.44344,     0.44444,     0.44545,     0.44645,     0.44745,     0.44845,     0.44945,     0.45045,     0.45145,     0.45245,     0.45345,     0.45445,     0.45546,\n",
              "           0.45646,     0.45746,     0.45846,     0.45946,     0.46046,     0.46146,     0.46246,     0.46346,     0.46446,     0.46547,     0.46647,     0.46747,     0.46847,     0.46947,     0.47047,     0.47147,     0.47247,     0.47347,     0.47447,     0.47548,     0.47648,     0.47748,     0.47848,     0.47948,\n",
              "           0.48048,     0.48148,     0.48248,     0.48348,     0.48448,     0.48549,     0.48649,     0.48749,     0.48849,     0.48949,     0.49049,     0.49149,     0.49249,     0.49349,     0.49449,      0.4955,      0.4965,      0.4975,      0.4985,      0.4995,      0.5005,      0.5015,      0.5025,      0.5035,\n",
              "            0.5045,     0.50551,     0.50651,     0.50751,     0.50851,     0.50951,     0.51051,     0.51151,     0.51251,     0.51351,     0.51451,     0.51552,     0.51652,     0.51752,     0.51852,     0.51952,     0.52052,     0.52152,     0.52252,     0.52352,     0.52452,     0.52553,     0.52653,     0.52753,\n",
              "           0.52853,     0.52953,     0.53053,     0.53153,     0.53253,     0.53353,     0.53453,     0.53554,     0.53654,     0.53754,     0.53854,     0.53954,     0.54054,     0.54154,     0.54254,     0.54354,     0.54454,     0.54555,     0.54655,     0.54755,     0.54855,     0.54955,     0.55055,     0.55155,\n",
              "           0.55255,     0.55355,     0.55455,     0.55556,     0.55656,     0.55756,     0.55856,     0.55956,     0.56056,     0.56156,     0.56256,     0.56356,     0.56456,     0.56557,     0.56657,     0.56757,     0.56857,     0.56957,     0.57057,     0.57157,     0.57257,     0.57357,     0.57457,     0.57558,\n",
              "           0.57658,     0.57758,     0.57858,     0.57958,     0.58058,     0.58158,     0.58258,     0.58358,     0.58458,     0.58559,     0.58659,     0.58759,     0.58859,     0.58959,     0.59059,     0.59159,     0.59259,     0.59359,     0.59459,      0.5956,      0.5966,      0.5976,      0.5986,      0.5996,\n",
              "            0.6006,      0.6016,      0.6026,      0.6036,      0.6046,     0.60561,     0.60661,     0.60761,     0.60861,     0.60961,     0.61061,     0.61161,     0.61261,     0.61361,     0.61461,     0.61562,     0.61662,     0.61762,     0.61862,     0.61962,     0.62062,     0.62162,     0.62262,     0.62362,\n",
              "           0.62462,     0.62563,     0.62663,     0.62763,     0.62863,     0.62963,     0.63063,     0.63163,     0.63263,     0.63363,     0.63463,     0.63564,     0.63664,     0.63764,     0.63864,     0.63964,     0.64064,     0.64164,     0.64264,     0.64364,     0.64464,     0.64565,     0.64665,     0.64765,\n",
              "           0.64865,     0.64965,     0.65065,     0.65165,     0.65265,     0.65365,     0.65465,     0.65566,     0.65666,     0.65766,     0.65866,     0.65966,     0.66066,     0.66166,     0.66266,     0.66366,     0.66466,     0.66567,     0.66667,     0.66767,     0.66867,     0.66967,     0.67067,     0.67167,\n",
              "           0.67267,     0.67367,     0.67467,     0.67568,     0.67668,     0.67768,     0.67868,     0.67968,     0.68068,     0.68168,     0.68268,     0.68368,     0.68468,     0.68569,     0.68669,     0.68769,     0.68869,     0.68969,     0.69069,     0.69169,     0.69269,     0.69369,     0.69469,      0.6957,\n",
              "            0.6967,      0.6977,      0.6987,      0.6997,      0.7007,      0.7017,      0.7027,      0.7037,      0.7047,     0.70571,     0.70671,     0.70771,     0.70871,     0.70971,     0.71071,     0.71171,     0.71271,     0.71371,     0.71471,     0.71572,     0.71672,     0.71772,     0.71872,     0.71972,\n",
              "           0.72072,     0.72172,     0.72272,     0.72372,     0.72472,     0.72573,     0.72673,     0.72773,     0.72873,     0.72973,     0.73073,     0.73173,     0.73273,     0.73373,     0.73473,     0.73574,     0.73674,     0.73774,     0.73874,     0.73974,     0.74074,     0.74174,     0.74274,     0.74374,\n",
              "           0.74474,     0.74575,     0.74675,     0.74775,     0.74875,     0.74975,     0.75075,     0.75175,     0.75275,     0.75375,     0.75475,     0.75576,     0.75676,     0.75776,     0.75876,     0.75976,     0.76076,     0.76176,     0.76276,     0.76376,     0.76476,     0.76577,     0.76677,     0.76777,\n",
              "           0.76877,     0.76977,     0.77077,     0.77177,     0.77277,     0.77377,     0.77477,     0.77578,     0.77678,     0.77778,     0.77878,     0.77978,     0.78078,     0.78178,     0.78278,     0.78378,     0.78478,     0.78579,     0.78679,     0.78779,     0.78879,     0.78979,     0.79079,     0.79179,\n",
              "           0.79279,     0.79379,     0.79479,      0.7958,      0.7968,      0.7978,      0.7988,      0.7998,      0.8008,      0.8018,      0.8028,      0.8038,      0.8048,     0.80581,     0.80681,     0.80781,     0.80881,     0.80981,     0.81081,     0.81181,     0.81281,     0.81381,     0.81481,     0.81582,\n",
              "           0.81682,     0.81782,     0.81882,     0.81982,     0.82082,     0.82182,     0.82282,     0.82382,     0.82482,     0.82583,     0.82683,     0.82783,     0.82883,     0.82983,     0.83083,     0.83183,     0.83283,     0.83383,     0.83483,     0.83584,     0.83684,     0.83784,     0.83884,     0.83984,\n",
              "           0.84084,     0.84184,     0.84284,     0.84384,     0.84484,     0.84585,     0.84685,     0.84785,     0.84885,     0.84985,     0.85085,     0.85185,     0.85285,     0.85385,     0.85485,     0.85586,     0.85686,     0.85786,     0.85886,     0.85986,     0.86086,     0.86186,     0.86286,     0.86386,\n",
              "           0.86486,     0.86587,     0.86687,     0.86787,     0.86887,     0.86987,     0.87087,     0.87187,     0.87287,     0.87387,     0.87487,     0.87588,     0.87688,     0.87788,     0.87888,     0.87988,     0.88088,     0.88188,     0.88288,     0.88388,     0.88488,     0.88589,     0.88689,     0.88789,\n",
              "           0.88889,     0.88989,     0.89089,     0.89189,     0.89289,     0.89389,     0.89489,      0.8959,      0.8969,      0.8979,      0.8989,      0.8999,      0.9009,      0.9019,      0.9029,      0.9039,      0.9049,     0.90591,     0.90691,     0.90791,     0.90891,     0.90991,     0.91091,     0.91191,\n",
              "           0.91291,     0.91391,     0.91491,     0.91592,     0.91692,     0.91792,     0.91892,     0.91992,     0.92092,     0.92192,     0.92292,     0.92392,     0.92492,     0.92593,     0.92693,     0.92793,     0.92893,     0.92993,     0.93093,     0.93193,     0.93293,     0.93393,     0.93493,     0.93594,\n",
              "           0.93694,     0.93794,     0.93894,     0.93994,     0.94094,     0.94194,     0.94294,     0.94394,     0.94494,     0.94595,     0.94695,     0.94795,     0.94895,     0.94995,     0.95095,     0.95195,     0.95295,     0.95395,     0.95495,     0.95596,     0.95696,     0.95796,     0.95896,     0.95996,\n",
              "           0.96096,     0.96196,     0.96296,     0.96396,     0.96496,     0.96597,     0.96697,     0.96797,     0.96897,     0.96997,     0.97097,     0.97197,     0.97297,     0.97397,     0.97497,     0.97598,     0.97698,     0.97798,     0.97898,     0.97998,     0.98098,     0.98198,     0.98298,     0.98398,\n",
              "           0.98498,     0.98599,     0.98699,     0.98799,     0.98899,     0.98999,     0.99099,     0.99199,     0.99299,     0.99399,     0.99499,       0.996,       0.997,       0.998,       0.999,           1]), array([[    0.97288,     0.97288,     0.96271,     0.94915,     0.94237,     0.94237,     0.94237,     0.94237,     0.93559,     0.93559,     0.92579,     0.92542,     0.92203,     0.92203,     0.91864,     0.91864,     0.91525,     0.91186,     0.91186,     0.91186,     0.90847,     0.90847,     0.90508,\n",
              "            0.90508,     0.90508,     0.90508,     0.90508,     0.90508,     0.90508,     0.90508,     0.90508,     0.90133,     0.89831,     0.89831,     0.89831,     0.89831,     0.89831,     0.89831,     0.89831,     0.89831,     0.89831,     0.89831,     0.89831,     0.89831,     0.89831,     0.89831,\n",
              "            0.89831,     0.89831,     0.89831,     0.89831,     0.89705,     0.89492,     0.89492,     0.89492,     0.89492,     0.89492,     0.89492,     0.89492,     0.89492,     0.89492,     0.89492,     0.89492,     0.89492,     0.89492,     0.89403,     0.89222,     0.89153,     0.89153,     0.89153,\n",
              "            0.89153,     0.89153,     0.89153,     0.89153,     0.89153,     0.89153,     0.89153,     0.89153,     0.89153,     0.89153,     0.89153,     0.89153,     0.89153,     0.89153,     0.89153,     0.89153,     0.89153,     0.89153,     0.89153,     0.89153,     0.89153,     0.89153,     0.89153,\n",
              "            0.89153,     0.89153,     0.89153,     0.89153,     0.89153,     0.89153,     0.89153,     0.89153,     0.89153,     0.89153,     0.89153,     0.89153,     0.89103,     0.88754,     0.88678,     0.88601,     0.88525,      0.8843,     0.88269,     0.88136,     0.88136,     0.88136,     0.87962,\n",
              "            0.87797,     0.87797,     0.87797,     0.87797,     0.87797,     0.87797,     0.87797,     0.87797,     0.87797,     0.87797,     0.87797,     0.87797,     0.87797,     0.87797,     0.87797,     0.87667,      0.8751,     0.87458,     0.87458,     0.87458,     0.87458,     0.87458,     0.87458,\n",
              "            0.87458,     0.87458,     0.87458,     0.87458,     0.87394,     0.87245,     0.87119,     0.87119,     0.87119,     0.87119,     0.87119,     0.87119,     0.87119,     0.87119,     0.87119,     0.87119,     0.87119,     0.87119,     0.87117,     0.87069,     0.87021,     0.86973,     0.86925,\n",
              "            0.86877,     0.86829,     0.86781,      0.8678,      0.8678,      0.8678,      0.8678,     0.86734,     0.86527,     0.86441,     0.86441,     0.86441,     0.86441,     0.86441,     0.86441,     0.86441,     0.86441,     0.86441,     0.86441,     0.86441,     0.86441,     0.86441,     0.86441,\n",
              "            0.86441,     0.86441,     0.86441,     0.86441,     0.86437,     0.86102,     0.86102,     0.86102,     0.86102,     0.86102,     0.86102,     0.86102,     0.86102,     0.86102,     0.86102,     0.86102,     0.86102,     0.86102,     0.86102,     0.86102,     0.86102,     0.86102,     0.86102,\n",
              "            0.86102,     0.86102,     0.86102,     0.86102,     0.86102,     0.86102,     0.86102,     0.86102,     0.86102,     0.86102,     0.86102,     0.86102,     0.86102,     0.86102,     0.86102,     0.86102,     0.86102,     0.86102,     0.86102,     0.86102,     0.86102,     0.86102,     0.86102,\n",
              "            0.86102,     0.86102,     0.86102,     0.86102,     0.86102,     0.86102,     0.86102,     0.86102,     0.86102,     0.85965,     0.85763,     0.85763,     0.85763,     0.85763,     0.85763,     0.85763,     0.85763,     0.85763,     0.85763,     0.85763,     0.85763,     0.85763,     0.85763,\n",
              "            0.85763,     0.85763,     0.85763,     0.85763,     0.85763,     0.85763,     0.85763,     0.85763,     0.85763,     0.85763,     0.85763,     0.85763,     0.85763,     0.85763,     0.85763,     0.85763,     0.85763,     0.85763,     0.85763,     0.85763,     0.85763,     0.85763,     0.85763,\n",
              "            0.85763,     0.85763,     0.85763,     0.85763,     0.85763,     0.85763,     0.85445,     0.85424,     0.85424,     0.85424,     0.85424,     0.85424,     0.85424,     0.85424,     0.85392,     0.85287,     0.85182,     0.85085,     0.85085,     0.85085,     0.85085,     0.85085,     0.85085,\n",
              "            0.85085,     0.85085,     0.85085,     0.85085,     0.85085,     0.85085,     0.85085,     0.85085,     0.85041,     0.84996,     0.84951,     0.84906,     0.84861,     0.84815,      0.8477,     0.84619,     0.84407,     0.84407,     0.84407,     0.84407,     0.84407,     0.84407,     0.84407,\n",
              "            0.84407,     0.84407,     0.84407,     0.84407,     0.84407,     0.84407,     0.84407,     0.84407,     0.84407,     0.84407,     0.84407,     0.84407,     0.84407,     0.84407,     0.84407,     0.84407,     0.84407,     0.84407,     0.84407,     0.84349,     0.84269,      0.8419,      0.8411,\n",
              "            0.84068,     0.84068,     0.84068,     0.84068,     0.84068,     0.84068,     0.84068,     0.84068,     0.84068,     0.84068,     0.84068,     0.84068,     0.84068,     0.84068,     0.84068,     0.84068,     0.84068,     0.84068,     0.84068,     0.84068,     0.84068,     0.84068,     0.84068,\n",
              "            0.84068,     0.84062,     0.84017,     0.83972,     0.83927,     0.83881,     0.83836,     0.83791,     0.83745,     0.83729,     0.83729,     0.83729,     0.83729,     0.83662,     0.83569,     0.83476,     0.83369,     0.83096,     0.83051,     0.83037,     0.82922,     0.82807,     0.82712,\n",
              "            0.82712,     0.82712,     0.82712,     0.82712,     0.82712,     0.82712,     0.82712,     0.82712,     0.82712,     0.82712,     0.82712,     0.82712,     0.82712,     0.82712,     0.82712,     0.82712,     0.82712,     0.82712,     0.82712,     0.82712,     0.82712,     0.82712,     0.82712,\n",
              "            0.82712,     0.82712,     0.82712,     0.82712,     0.82712,     0.82712,     0.82712,     0.82712,     0.82712,     0.82712,     0.82712,     0.82712,     0.82712,     0.82712,     0.82712,     0.82712,     0.82712,     0.82712,     0.82712,     0.82712,     0.82712,     0.82712,     0.82712,\n",
              "            0.82712,     0.82712,     0.82712,     0.82602,     0.82438,     0.82034,     0.82034,     0.82034,     0.82034,     0.82034,     0.81915,     0.81695,     0.81695,     0.81695,     0.81695,     0.81695,     0.81695,     0.81695,     0.81695,     0.81695,     0.81695,     0.81695,     0.81581,\n",
              "            0.81419,     0.81356,     0.81356,     0.81356,     0.81356,     0.81356,     0.81356,     0.81356,     0.81356,     0.81356,     0.81356,     0.81356,     0.81356,     0.81356,     0.81356,     0.81356,     0.81356,     0.81356,     0.81356,     0.81356,     0.81356,     0.81356,     0.81356,\n",
              "            0.81356,     0.81356,     0.81356,     0.81356,     0.81356,     0.81356,     0.81356,     0.81356,     0.81356,     0.81356,     0.81356,     0.81259,     0.81017,     0.81017,     0.81017,     0.81017,     0.81017,     0.81017,     0.81017,     0.81017,     0.81017,     0.81017,     0.81017,\n",
              "            0.81017,     0.81017,     0.81017,     0.81017,     0.81017,     0.81016,     0.80991,     0.80966,     0.80942,     0.80917,     0.80892,     0.80867,     0.80842,     0.80817,     0.80793,     0.80768,     0.80743,     0.80718,     0.80693,     0.80678,     0.80678,     0.80678,     0.80678,\n",
              "            0.80678,     0.80678,     0.80678,     0.80678,     0.80678,     0.80678,     0.80678,     0.80678,     0.80678,     0.80678,     0.80678,     0.80678,     0.80678,     0.80678,     0.80678,     0.80678,     0.80678,     0.80678,     0.80678,     0.80678,     0.80678,     0.80678,     0.80678,\n",
              "            0.80678,     0.80652,     0.80623,     0.80593,     0.80564,     0.80535,     0.80506,     0.80477,     0.80448,     0.80418,     0.80389,      0.8036,     0.80339,     0.80339,     0.80339,     0.80339,     0.80339,     0.80339,     0.80339,     0.80339,     0.80339,     0.80339,     0.80339,\n",
              "            0.80339,     0.80339,     0.80339,     0.80339,     0.80289,     0.80237,     0.80185,     0.80133,     0.80081,     0.80029,     0.79985,     0.79949,     0.79914,     0.79878,     0.79843,     0.79807,     0.79772,     0.79736,     0.79701,     0.79665,     0.79313,     0.79263,     0.79213,\n",
              "            0.79163,     0.79113,     0.79063,     0.79013,     0.78983,     0.78973,     0.78944,     0.78915,     0.78886,     0.78857,     0.78829,       0.788,     0.78771,     0.78742,     0.78713,     0.78685,     0.78656,     0.78644,     0.78644,     0.78644,     0.78644,     0.78644,     0.78644,\n",
              "            0.78644,     0.78644,     0.78644,     0.78633,     0.78583,     0.78532,     0.78482,     0.78431,     0.78381,      0.7833,     0.78258,     0.78165,     0.78071,     0.77978,     0.77941,     0.77911,     0.77882,     0.77853,     0.77824,     0.77795,     0.77765,     0.77736,     0.77707,\n",
              "            0.77678,     0.77648,     0.77288,     0.77144,     0.76999,      0.7661,     0.76437,     0.76271,     0.76271,     0.76271,     0.76271,     0.76204,     0.75999,     0.75789,     0.75593,     0.75593,     0.75593,     0.75593,     0.75593,     0.75593,     0.75593,     0.75593,     0.75593,\n",
              "            0.75593,     0.75587,     0.75535,     0.75483,     0.75431,     0.75379,     0.75327,     0.75274,     0.75227,     0.75183,     0.75139,     0.75095,     0.75051,     0.75007,     0.74963,     0.74919,     0.74868,     0.74817,     0.74766,     0.74715,     0.74663,     0.74612,     0.74525,\n",
              "            0.74353,      0.7419,     0.74009,     0.73861,     0.73763,     0.73666,     0.73569,     0.73469,     0.73369,     0.73269,     0.73199,     0.73158,     0.73117,     0.73077,     0.73036,     0.72995,     0.72954,     0.72913,     0.72881,     0.72881,     0.72881,     0.72881,     0.72881,\n",
              "            0.72881,     0.72881,     0.72881,     0.72881,     0.72881,     0.72881,     0.72881,     0.72872,     0.72807,     0.72741,     0.72676,     0.72611,     0.72546,     0.72542,     0.72542,     0.72542,     0.72542,     0.72536,     0.72491,     0.72446,     0.72401,     0.72356,     0.72311,\n",
              "            0.72267,     0.72222,     0.71977,     0.71864,     0.71864,     0.71864,     0.71864,     0.71864,     0.71861,     0.71787,     0.71713,     0.71639,     0.71565,     0.71504,     0.71456,     0.71408,      0.7136,     0.71312,     0.71264,     0.71216,     0.71186,     0.71111,     0.70802,\n",
              "              0.707,     0.70597,      0.7048,     0.70275,     0.69831,     0.69831,     0.69717,     0.69565,     0.69492,     0.69492,     0.69116,     0.69041,     0.68966,      0.6889,     0.68815,     0.68454,     0.68386,     0.68318,      0.6825,     0.68182,     0.68111,     0.68034,     0.67956,\n",
              "            0.67878,     0.67801,     0.67567,     0.67403,     0.67304,     0.67205,     0.67111,     0.67049,     0.66987,     0.66926,     0.66864,     0.66802,      0.6661,     0.66334,     0.66094,     0.66058,     0.66023,     0.65987,     0.65951,     0.65916,      0.6588,     0.65844,     0.65809,\n",
              "            0.65773,      0.6563,     0.65445,     0.64985,       0.648,     0.64723,     0.64692,      0.6466,     0.64629,     0.64597,     0.64565,     0.64534,     0.64502,      0.6447,     0.64439,     0.64407,     0.64361,     0.64314,     0.64267,      0.6422,     0.64173,     0.64127,      0.6408,\n",
              "            0.63817,     0.63604,     0.63436,     0.63309,     0.63196,     0.63084,     0.62857,     0.62712,     0.62712,     0.62659,     0.62467,      0.6192,     0.61282,     0.61032,     0.59994,     0.59483,     0.59175,     0.59022,     0.58906,     0.58802,     0.58697,     0.58329,     0.58224,\n",
              "             0.5814,     0.58056,     0.57972,     0.57723,     0.56962,     0.56893,     0.56836,      0.5678,     0.56723,     0.56666,     0.56604,     0.56147,     0.55959,     0.55508,      0.5497,     0.54581,     0.53779,     0.53361,     0.53175,     0.52978,     0.52759,     0.52506,     0.51769,\n",
              "            0.51186,     0.51186,     0.50729,     0.50205,     0.49727,     0.49538,     0.48898,     0.48525,     0.46789,     0.46408,     0.46285,     0.46162,     0.45665,     0.45473,     0.45292,     0.45116,     0.44724,     0.43947,     0.43303,     0.42884,     0.42174,      0.4161,     0.41134,\n",
              "            0.40507,     0.40087,     0.38962,     0.38748,     0.38393,     0.37606,     0.36221,     0.36032,     0.35623,     0.35415,     0.35168,     0.34683,     0.34398,     0.34172,     0.33986,     0.33388,     0.32868,     0.32035,     0.31665,      0.3133,     0.30691,     0.30122,     0.29867,\n",
              "            0.28698,     0.28065,     0.26864,     0.26119,     0.25809,      0.2497,     0.23782,     0.22607,     0.21765,     0.20453,     0.20026,     0.19213,     0.18865,     0.18359,     0.16887,      0.1641,     0.15307,     0.14957,     0.14307,     0.13961,      0.1263,     0.11956,     0.11364,\n",
              "            0.10993,     0.10338,    0.099873,    0.093795,    0.088154,    0.073268,    0.067846,    0.063355,     0.06153,     0.05461,    0.045268,    0.033525,    0.029101,     0.02728,    0.021945,    0.018461,    0.015956,    0.013861,    0.010431,   0.0096565,   0.0091038,   0.0085511,   0.0079985,\n",
              "          0.0074458,   0.0068932,   0.0061362,   0.0053264,   0.0045166,   0.0037067,           0,           0,           0,           0,           0,           0,           0,           0,           0,           0,           0,           0,           0,           0,           0,           0,           0,\n",
              "                  0,           0,           0,           0,           0,           0,           0,           0,           0,           0,           0]]), 'Confidence', 'Recall']]\n",
              "fitness: 0.6900393960689131\n",
              "keys: ['metrics/precision(B)', 'metrics/recall(B)', 'metrics/mAP50(B)', 'metrics/mAP50-95(B)']\n",
              "maps: array([    0.66786])\n",
              "names: {0: 'person'}\n",
              "plot: True\n",
              "results_dict: {'metrics/precision(B)': 0.9143096539280456, 'metrics/recall(B)': 0.8033898305084746, 'metrics/mAP50(B)': 0.8896776060014989, 'metrics/mAP50-95(B)': 0.6678573727430702, 'fitness': 0.6900393960689131}\n",
              "save_dir: PosixPath('runs/detect/person_detection')\n",
              "speed: {'preprocess': 4.423348676590692, 'inference': 249.6044607389541, 'loss': 0.00012488592238653275, 'postprocess': 0.7006894974481492}\n",
              "task: 'detect'"
            ]
          },
          "metadata": {},
          "execution_count": 4
        }
      ],
      "source": [
        "from ultralytics import YOLO\n",
        "\n",
        "# Load a pretrained YOLOv8 model (YOLOv8n is a small model)\n",
        "model = YOLO('yolov8n.pt')\n",
        "\n",
        "# Traiing the model\n",
        "model.train(\n",
        "    data='/content/dataset.yaml',  # Path to dataset.yaml\n",
        "    epochs=50,  # Number of epochs to train\n",
        "    imgsz=640,  # Image size\n",
        "    batch=16,  # Batch size\n",
        "    name='person_detection',  # Name of the training session\n",
        "    workers=4  # Number of workers\n",
        ")\n"
      ]
    },
    {
      "cell_type": "code",
      "source": [
        "# Evaluate the model on the validation set\n",
        "%pip install ultralytics\n",
        "import ultralytics\n",
        "from ultralytics import YOLO\n",
        "metrics = model.val()\n",
        "print(metrics)"
      ],
      "metadata": {
        "id": "rtjuBQLV-oUn",
        "colab": {
          "base_uri": "https://localhost:8080/"
        },
        "outputId": "679f268f-2469-4f9c-9d8e-bc3d1a03e95a"
      },
      "execution_count": null,
      "outputs": [
        {
          "output_type": "stream",
          "name": "stdout",
          "text": [
            "Requirement already satisfied: ultralytics in /usr/local/lib/python3.10/dist-packages (8.2.81)\n",
            "Requirement already satisfied: numpy<2.0.0,>=1.23.0 in /usr/local/lib/python3.10/dist-packages (from ultralytics) (1.26.4)\n",
            "Requirement already satisfied: matplotlib>=3.3.0 in /usr/local/lib/python3.10/dist-packages (from ultralytics) (3.7.1)\n",
            "Requirement already satisfied: opencv-python>=4.6.0 in /usr/local/lib/python3.10/dist-packages (from ultralytics) (4.10.0.84)\n",
            "Requirement already satisfied: pillow>=7.1.2 in /usr/local/lib/python3.10/dist-packages (from ultralytics) (9.4.0)\n",
            "Requirement already satisfied: pyyaml>=5.3.1 in /usr/local/lib/python3.10/dist-packages (from ultralytics) (6.0.2)\n",
            "Requirement already satisfied: requests>=2.23.0 in /usr/local/lib/python3.10/dist-packages (from ultralytics) (2.32.3)\n",
            "Requirement already satisfied: scipy>=1.4.1 in /usr/local/lib/python3.10/dist-packages (from ultralytics) (1.13.1)\n",
            "Requirement already satisfied: torch>=1.8.0 in /usr/local/lib/python3.10/dist-packages (from ultralytics) (2.3.1+cu121)\n",
            "Requirement already satisfied: torchvision>=0.9.0 in /usr/local/lib/python3.10/dist-packages (from ultralytics) (0.18.1+cu121)\n",
            "Requirement already satisfied: tqdm>=4.64.0 in /usr/local/lib/python3.10/dist-packages (from ultralytics) (4.66.5)\n",
            "Requirement already satisfied: psutil in /usr/local/lib/python3.10/dist-packages (from ultralytics) (5.9.5)\n",
            "Requirement already satisfied: py-cpuinfo in /usr/local/lib/python3.10/dist-packages (from ultralytics) (9.0.0)\n",
            "Requirement already satisfied: pandas>=1.1.4 in /usr/local/lib/python3.10/dist-packages (from ultralytics) (2.1.4)\n",
            "Requirement already satisfied: seaborn>=0.11.0 in /usr/local/lib/python3.10/dist-packages (from ultralytics) (0.13.1)\n",
            "Requirement already satisfied: ultralytics-thop>=2.0.0 in /usr/local/lib/python3.10/dist-packages (from ultralytics) (2.0.5)\n",
            "Requirement already satisfied: contourpy>=1.0.1 in /usr/local/lib/python3.10/dist-packages (from matplotlib>=3.3.0->ultralytics) (1.2.1)\n",
            "Requirement already satisfied: cycler>=0.10 in /usr/local/lib/python3.10/dist-packages (from matplotlib>=3.3.0->ultralytics) (0.12.1)\n",
            "Requirement already satisfied: fonttools>=4.22.0 in /usr/local/lib/python3.10/dist-packages (from matplotlib>=3.3.0->ultralytics) (4.53.1)\n",
            "Requirement already satisfied: kiwisolver>=1.0.1 in /usr/local/lib/python3.10/dist-packages (from matplotlib>=3.3.0->ultralytics) (1.4.5)\n",
            "Requirement already satisfied: packaging>=20.0 in /usr/local/lib/python3.10/dist-packages (from matplotlib>=3.3.0->ultralytics) (24.1)\n",
            "Requirement already satisfied: pyparsing>=2.3.1 in /usr/local/lib/python3.10/dist-packages (from matplotlib>=3.3.0->ultralytics) (3.1.2)\n",
            "Requirement already satisfied: python-dateutil>=2.7 in /usr/local/lib/python3.10/dist-packages (from matplotlib>=3.3.0->ultralytics) (2.8.2)\n",
            "Requirement already satisfied: pytz>=2020.1 in /usr/local/lib/python3.10/dist-packages (from pandas>=1.1.4->ultralytics) (2024.1)\n",
            "Requirement already satisfied: tzdata>=2022.1 in /usr/local/lib/python3.10/dist-packages (from pandas>=1.1.4->ultralytics) (2024.1)\n",
            "Requirement already satisfied: charset-normalizer<4,>=2 in /usr/local/lib/python3.10/dist-packages (from requests>=2.23.0->ultralytics) (3.3.2)\n",
            "Requirement already satisfied: idna<4,>=2.5 in /usr/local/lib/python3.10/dist-packages (from requests>=2.23.0->ultralytics) (3.7)\n",
            "Requirement already satisfied: urllib3<3,>=1.21.1 in /usr/local/lib/python3.10/dist-packages (from requests>=2.23.0->ultralytics) (2.0.7)\n",
            "Requirement already satisfied: certifi>=2017.4.17 in /usr/local/lib/python3.10/dist-packages (from requests>=2.23.0->ultralytics) (2024.7.4)\n",
            "Requirement already satisfied: filelock in /usr/local/lib/python3.10/dist-packages (from torch>=1.8.0->ultralytics) (3.15.4)\n",
            "Requirement already satisfied: typing-extensions>=4.8.0 in /usr/local/lib/python3.10/dist-packages (from torch>=1.8.0->ultralytics) (4.12.2)\n",
            "Requirement already satisfied: sympy in /usr/local/lib/python3.10/dist-packages (from torch>=1.8.0->ultralytics) (1.13.2)\n",
            "Requirement already satisfied: networkx in /usr/local/lib/python3.10/dist-packages (from torch>=1.8.0->ultralytics) (3.3)\n",
            "Requirement already satisfied: jinja2 in /usr/local/lib/python3.10/dist-packages (from torch>=1.8.0->ultralytics) (3.1.4)\n",
            "Requirement already satisfied: fsspec in /usr/local/lib/python3.10/dist-packages (from torch>=1.8.0->ultralytics) (2024.6.1)\n",
            "Requirement already satisfied: nvidia-cuda-nvrtc-cu12==12.1.105 in /usr/local/lib/python3.10/dist-packages (from torch>=1.8.0->ultralytics) (12.1.105)\n",
            "Requirement already satisfied: nvidia-cuda-runtime-cu12==12.1.105 in /usr/local/lib/python3.10/dist-packages (from torch>=1.8.0->ultralytics) (12.1.105)\n",
            "Requirement already satisfied: nvidia-cuda-cupti-cu12==12.1.105 in /usr/local/lib/python3.10/dist-packages (from torch>=1.8.0->ultralytics) (12.1.105)\n",
            "Requirement already satisfied: nvidia-cudnn-cu12==8.9.2.26 in /usr/local/lib/python3.10/dist-packages (from torch>=1.8.0->ultralytics) (8.9.2.26)\n",
            "Requirement already satisfied: nvidia-cublas-cu12==12.1.3.1 in /usr/local/lib/python3.10/dist-packages (from torch>=1.8.0->ultralytics) (12.1.3.1)\n",
            "Requirement already satisfied: nvidia-cufft-cu12==11.0.2.54 in /usr/local/lib/python3.10/dist-packages (from torch>=1.8.0->ultralytics) (11.0.2.54)\n",
            "Requirement already satisfied: nvidia-curand-cu12==10.3.2.106 in /usr/local/lib/python3.10/dist-packages (from torch>=1.8.0->ultralytics) (10.3.2.106)\n",
            "Requirement already satisfied: nvidia-cusolver-cu12==11.4.5.107 in /usr/local/lib/python3.10/dist-packages (from torch>=1.8.0->ultralytics) (11.4.5.107)\n",
            "Requirement already satisfied: nvidia-cusparse-cu12==12.1.0.106 in /usr/local/lib/python3.10/dist-packages (from torch>=1.8.0->ultralytics) (12.1.0.106)\n",
            "Requirement already satisfied: nvidia-nccl-cu12==2.20.5 in /usr/local/lib/python3.10/dist-packages (from torch>=1.8.0->ultralytics) (2.20.5)\n",
            "Requirement already satisfied: nvidia-nvtx-cu12==12.1.105 in /usr/local/lib/python3.10/dist-packages (from torch>=1.8.0->ultralytics) (12.1.105)\n",
            "Requirement already satisfied: triton==2.3.1 in /usr/local/lib/python3.10/dist-packages (from torch>=1.8.0->ultralytics) (2.3.1)\n",
            "Requirement already satisfied: nvidia-nvjitlink-cu12 in /usr/local/lib/python3.10/dist-packages (from nvidia-cusolver-cu12==11.4.5.107->torch>=1.8.0->ultralytics) (12.6.20)\n",
            "Requirement already satisfied: six>=1.5 in /usr/local/lib/python3.10/dist-packages (from python-dateutil>=2.7->matplotlib>=3.3.0->ultralytics) (1.16.0)\n",
            "Requirement already satisfied: MarkupSafe>=2.0 in /usr/local/lib/python3.10/dist-packages (from jinja2->torch>=1.8.0->ultralytics) (2.1.5)\n",
            "Requirement already satisfied: mpmath<1.4,>=1.1.0 in /usr/local/lib/python3.10/dist-packages (from sympy->torch>=1.8.0->ultralytics) (1.3.0)\n",
            "Ultralytics YOLOv8.2.81 🚀 Python-3.10.12 torch-2.3.1+cu121 CPU (Intel Xeon 2.20GHz)\n",
            "Model summary (fused): 168 layers, 3,005,843 parameters, 0 gradients, 8.1 GFLOPs\n"
          ]
        },
        {
          "output_type": "stream",
          "name": "stderr",
          "text": [
            "\u001b[34m\u001b[1mval: \u001b[0mScanning /content/dataset/val/labels.cache... 84 images, 1 backgrounds, 0 corrupt: 100%|██████████| 84/84 [00:00<?, ?it/s]\n",
            "                 Class     Images  Instances      Box(P          R      mAP50  mAP50-95): 100%|██████████| 6/6 [00:22<00:00,  3.83s/it]\n"
          ]
        },
        {
          "output_type": "stream",
          "name": "stdout",
          "text": [
            "                   all         84        295      0.911        0.8       0.89      0.669\n",
            "Speed: 3.0ms preprocess, 258.4ms inference, 0.0ms loss, 0.6ms postprocess per image\n",
            "Results saved to \u001b[1mruns/detect/person_detection2\u001b[0m\n",
            "ultralytics.utils.metrics.DetMetrics object with attributes:\n",
            "\n",
            "ap_class_index: array([0])\n",
            "box: ultralytics.utils.metrics.Metric object\n",
            "confusion_matrix: <ultralytics.utils.metrics.ConfusionMatrix object at 0x7f91b2e18550>\n",
            "curves: ['Precision-Recall(B)', 'F1-Confidence(B)', 'Precision-Confidence(B)', 'Recall-Confidence(B)']\n",
            "curves_results: [[array([          0,    0.001001,    0.002002,    0.003003,    0.004004,    0.005005,    0.006006,    0.007007,    0.008008,    0.009009,     0.01001,    0.011011,    0.012012,    0.013013,    0.014014,    0.015015,    0.016016,    0.017017,    0.018018,    0.019019,     0.02002,    0.021021,    0.022022,    0.023023,\n",
            "          0.024024,    0.025025,    0.026026,    0.027027,    0.028028,    0.029029,     0.03003,    0.031031,    0.032032,    0.033033,    0.034034,    0.035035,    0.036036,    0.037037,    0.038038,    0.039039,     0.04004,    0.041041,    0.042042,    0.043043,    0.044044,    0.045045,    0.046046,    0.047047,\n",
            "          0.048048,    0.049049,     0.05005,    0.051051,    0.052052,    0.053053,    0.054054,    0.055055,    0.056056,    0.057057,    0.058058,    0.059059,     0.06006,    0.061061,    0.062062,    0.063063,    0.064064,    0.065065,    0.066066,    0.067067,    0.068068,    0.069069,     0.07007,    0.071071,\n",
            "          0.072072,    0.073073,    0.074074,    0.075075,    0.076076,    0.077077,    0.078078,    0.079079,     0.08008,    0.081081,    0.082082,    0.083083,    0.084084,    0.085085,    0.086086,    0.087087,    0.088088,    0.089089,     0.09009,    0.091091,    0.092092,    0.093093,    0.094094,    0.095095,\n",
            "          0.096096,    0.097097,    0.098098,    0.099099,      0.1001,      0.1011,      0.1021,      0.1031,      0.1041,     0.10511,     0.10611,     0.10711,     0.10811,     0.10911,     0.11011,     0.11111,     0.11211,     0.11311,     0.11411,     0.11512,     0.11612,     0.11712,     0.11812,     0.11912,\n",
            "           0.12012,     0.12112,     0.12212,     0.12312,     0.12412,     0.12513,     0.12613,     0.12713,     0.12813,     0.12913,     0.13013,     0.13113,     0.13213,     0.13313,     0.13413,     0.13514,     0.13614,     0.13714,     0.13814,     0.13914,     0.14014,     0.14114,     0.14214,     0.14314,\n",
            "           0.14414,     0.14515,     0.14615,     0.14715,     0.14815,     0.14915,     0.15015,     0.15115,     0.15215,     0.15315,     0.15415,     0.15516,     0.15616,     0.15716,     0.15816,     0.15916,     0.16016,     0.16116,     0.16216,     0.16316,     0.16416,     0.16517,     0.16617,     0.16717,\n",
            "           0.16817,     0.16917,     0.17017,     0.17117,     0.17217,     0.17317,     0.17417,     0.17518,     0.17618,     0.17718,     0.17818,     0.17918,     0.18018,     0.18118,     0.18218,     0.18318,     0.18418,     0.18519,     0.18619,     0.18719,     0.18819,     0.18919,     0.19019,     0.19119,\n",
            "           0.19219,     0.19319,     0.19419,      0.1952,      0.1962,      0.1972,      0.1982,      0.1992,      0.2002,      0.2012,      0.2022,      0.2032,      0.2042,     0.20521,     0.20621,     0.20721,     0.20821,     0.20921,     0.21021,     0.21121,     0.21221,     0.21321,     0.21421,     0.21522,\n",
            "           0.21622,     0.21722,     0.21822,     0.21922,     0.22022,     0.22122,     0.22222,     0.22322,     0.22422,     0.22523,     0.22623,     0.22723,     0.22823,     0.22923,     0.23023,     0.23123,     0.23223,     0.23323,     0.23423,     0.23524,     0.23624,     0.23724,     0.23824,     0.23924,\n",
            "           0.24024,     0.24124,     0.24224,     0.24324,     0.24424,     0.24525,     0.24625,     0.24725,     0.24825,     0.24925,     0.25025,     0.25125,     0.25225,     0.25325,     0.25425,     0.25526,     0.25626,     0.25726,     0.25826,     0.25926,     0.26026,     0.26126,     0.26226,     0.26326,\n",
            "           0.26426,     0.26527,     0.26627,     0.26727,     0.26827,     0.26927,     0.27027,     0.27127,     0.27227,     0.27327,     0.27427,     0.27528,     0.27628,     0.27728,     0.27828,     0.27928,     0.28028,     0.28128,     0.28228,     0.28328,     0.28428,     0.28529,     0.28629,     0.28729,\n",
            "           0.28829,     0.28929,     0.29029,     0.29129,     0.29229,     0.29329,     0.29429,      0.2953,      0.2963,      0.2973,      0.2983,      0.2993,      0.3003,      0.3013,      0.3023,      0.3033,      0.3043,     0.30531,     0.30631,     0.30731,     0.30831,     0.30931,     0.31031,     0.31131,\n",
            "           0.31231,     0.31331,     0.31431,     0.31532,     0.31632,     0.31732,     0.31832,     0.31932,     0.32032,     0.32132,     0.32232,     0.32332,     0.32432,     0.32533,     0.32633,     0.32733,     0.32833,     0.32933,     0.33033,     0.33133,     0.33233,     0.33333,     0.33433,     0.33534,\n",
            "           0.33634,     0.33734,     0.33834,     0.33934,     0.34034,     0.34134,     0.34234,     0.34334,     0.34434,     0.34535,     0.34635,     0.34735,     0.34835,     0.34935,     0.35035,     0.35135,     0.35235,     0.35335,     0.35435,     0.35536,     0.35636,     0.35736,     0.35836,     0.35936,\n",
            "           0.36036,     0.36136,     0.36236,     0.36336,     0.36436,     0.36537,     0.36637,     0.36737,     0.36837,     0.36937,     0.37037,     0.37137,     0.37237,     0.37337,     0.37437,     0.37538,     0.37638,     0.37738,     0.37838,     0.37938,     0.38038,     0.38138,     0.38238,     0.38338,\n",
            "           0.38438,     0.38539,     0.38639,     0.38739,     0.38839,     0.38939,     0.39039,     0.39139,     0.39239,     0.39339,     0.39439,      0.3954,      0.3964,      0.3974,      0.3984,      0.3994,      0.4004,      0.4014,      0.4024,      0.4034,      0.4044,     0.40541,     0.40641,     0.40741,\n",
            "           0.40841,     0.40941,     0.41041,     0.41141,     0.41241,     0.41341,     0.41441,     0.41542,     0.41642,     0.41742,     0.41842,     0.41942,     0.42042,     0.42142,     0.42242,     0.42342,     0.42442,     0.42543,     0.42643,     0.42743,     0.42843,     0.42943,     0.43043,     0.43143,\n",
            "           0.43243,     0.43343,     0.43443,     0.43544,     0.43644,     0.43744,     0.43844,     0.43944,     0.44044,     0.44144,     0.44244,     0.44344,     0.44444,     0.44545,     0.44645,     0.44745,     0.44845,     0.44945,     0.45045,     0.45145,     0.45245,     0.45345,     0.45445,     0.45546,\n",
            "           0.45646,     0.45746,     0.45846,     0.45946,     0.46046,     0.46146,     0.46246,     0.46346,     0.46446,     0.46547,     0.46647,     0.46747,     0.46847,     0.46947,     0.47047,     0.47147,     0.47247,     0.47347,     0.47447,     0.47548,     0.47648,     0.47748,     0.47848,     0.47948,\n",
            "           0.48048,     0.48148,     0.48248,     0.48348,     0.48448,     0.48549,     0.48649,     0.48749,     0.48849,     0.48949,     0.49049,     0.49149,     0.49249,     0.49349,     0.49449,      0.4955,      0.4965,      0.4975,      0.4985,      0.4995,      0.5005,      0.5015,      0.5025,      0.5035,\n",
            "            0.5045,     0.50551,     0.50651,     0.50751,     0.50851,     0.50951,     0.51051,     0.51151,     0.51251,     0.51351,     0.51451,     0.51552,     0.51652,     0.51752,     0.51852,     0.51952,     0.52052,     0.52152,     0.52252,     0.52352,     0.52452,     0.52553,     0.52653,     0.52753,\n",
            "           0.52853,     0.52953,     0.53053,     0.53153,     0.53253,     0.53353,     0.53453,     0.53554,     0.53654,     0.53754,     0.53854,     0.53954,     0.54054,     0.54154,     0.54254,     0.54354,     0.54454,     0.54555,     0.54655,     0.54755,     0.54855,     0.54955,     0.55055,     0.55155,\n",
            "           0.55255,     0.55355,     0.55455,     0.55556,     0.55656,     0.55756,     0.55856,     0.55956,     0.56056,     0.56156,     0.56256,     0.56356,     0.56456,     0.56557,     0.56657,     0.56757,     0.56857,     0.56957,     0.57057,     0.57157,     0.57257,     0.57357,     0.57457,     0.57558,\n",
            "           0.57658,     0.57758,     0.57858,     0.57958,     0.58058,     0.58158,     0.58258,     0.58358,     0.58458,     0.58559,     0.58659,     0.58759,     0.58859,     0.58959,     0.59059,     0.59159,     0.59259,     0.59359,     0.59459,      0.5956,      0.5966,      0.5976,      0.5986,      0.5996,\n",
            "            0.6006,      0.6016,      0.6026,      0.6036,      0.6046,     0.60561,     0.60661,     0.60761,     0.60861,     0.60961,     0.61061,     0.61161,     0.61261,     0.61361,     0.61461,     0.61562,     0.61662,     0.61762,     0.61862,     0.61962,     0.62062,     0.62162,     0.62262,     0.62362,\n",
            "           0.62462,     0.62563,     0.62663,     0.62763,     0.62863,     0.62963,     0.63063,     0.63163,     0.63263,     0.63363,     0.63463,     0.63564,     0.63664,     0.63764,     0.63864,     0.63964,     0.64064,     0.64164,     0.64264,     0.64364,     0.64464,     0.64565,     0.64665,     0.64765,\n",
            "           0.64865,     0.64965,     0.65065,     0.65165,     0.65265,     0.65365,     0.65465,     0.65566,     0.65666,     0.65766,     0.65866,     0.65966,     0.66066,     0.66166,     0.66266,     0.66366,     0.66466,     0.66567,     0.66667,     0.66767,     0.66867,     0.66967,     0.67067,     0.67167,\n",
            "           0.67267,     0.67367,     0.67467,     0.67568,     0.67668,     0.67768,     0.67868,     0.67968,     0.68068,     0.68168,     0.68268,     0.68368,     0.68468,     0.68569,     0.68669,     0.68769,     0.68869,     0.68969,     0.69069,     0.69169,     0.69269,     0.69369,     0.69469,      0.6957,\n",
            "            0.6967,      0.6977,      0.6987,      0.6997,      0.7007,      0.7017,      0.7027,      0.7037,      0.7047,     0.70571,     0.70671,     0.70771,     0.70871,     0.70971,     0.71071,     0.71171,     0.71271,     0.71371,     0.71471,     0.71572,     0.71672,     0.71772,     0.71872,     0.71972,\n",
            "           0.72072,     0.72172,     0.72272,     0.72372,     0.72472,     0.72573,     0.72673,     0.72773,     0.72873,     0.72973,     0.73073,     0.73173,     0.73273,     0.73373,     0.73473,     0.73574,     0.73674,     0.73774,     0.73874,     0.73974,     0.74074,     0.74174,     0.74274,     0.74374,\n",
            "           0.74474,     0.74575,     0.74675,     0.74775,     0.74875,     0.74975,     0.75075,     0.75175,     0.75275,     0.75375,     0.75475,     0.75576,     0.75676,     0.75776,     0.75876,     0.75976,     0.76076,     0.76176,     0.76276,     0.76376,     0.76476,     0.76577,     0.76677,     0.76777,\n",
            "           0.76877,     0.76977,     0.77077,     0.77177,     0.77277,     0.77377,     0.77477,     0.77578,     0.77678,     0.77778,     0.77878,     0.77978,     0.78078,     0.78178,     0.78278,     0.78378,     0.78478,     0.78579,     0.78679,     0.78779,     0.78879,     0.78979,     0.79079,     0.79179,\n",
            "           0.79279,     0.79379,     0.79479,      0.7958,      0.7968,      0.7978,      0.7988,      0.7998,      0.8008,      0.8018,      0.8028,      0.8038,      0.8048,     0.80581,     0.80681,     0.80781,     0.80881,     0.80981,     0.81081,     0.81181,     0.81281,     0.81381,     0.81481,     0.81582,\n",
            "           0.81682,     0.81782,     0.81882,     0.81982,     0.82082,     0.82182,     0.82282,     0.82382,     0.82482,     0.82583,     0.82683,     0.82783,     0.82883,     0.82983,     0.83083,     0.83183,     0.83283,     0.83383,     0.83483,     0.83584,     0.83684,     0.83784,     0.83884,     0.83984,\n",
            "           0.84084,     0.84184,     0.84284,     0.84384,     0.84484,     0.84585,     0.84685,     0.84785,     0.84885,     0.84985,     0.85085,     0.85185,     0.85285,     0.85385,     0.85485,     0.85586,     0.85686,     0.85786,     0.85886,     0.85986,     0.86086,     0.86186,     0.86286,     0.86386,\n",
            "           0.86486,     0.86587,     0.86687,     0.86787,     0.86887,     0.86987,     0.87087,     0.87187,     0.87287,     0.87387,     0.87487,     0.87588,     0.87688,     0.87788,     0.87888,     0.87988,     0.88088,     0.88188,     0.88288,     0.88388,     0.88488,     0.88589,     0.88689,     0.88789,\n",
            "           0.88889,     0.88989,     0.89089,     0.89189,     0.89289,     0.89389,     0.89489,      0.8959,      0.8969,      0.8979,      0.8989,      0.8999,      0.9009,      0.9019,      0.9029,      0.9039,      0.9049,     0.90591,     0.90691,     0.90791,     0.90891,     0.90991,     0.91091,     0.91191,\n",
            "           0.91291,     0.91391,     0.91491,     0.91592,     0.91692,     0.91792,     0.91892,     0.91992,     0.92092,     0.92192,     0.92292,     0.92392,     0.92492,     0.92593,     0.92693,     0.92793,     0.92893,     0.92993,     0.93093,     0.93193,     0.93293,     0.93393,     0.93493,     0.93594,\n",
            "           0.93694,     0.93794,     0.93894,     0.93994,     0.94094,     0.94194,     0.94294,     0.94394,     0.94494,     0.94595,     0.94695,     0.94795,     0.94895,     0.94995,     0.95095,     0.95195,     0.95295,     0.95395,     0.95495,     0.95596,     0.95696,     0.95796,     0.95896,     0.95996,\n",
            "           0.96096,     0.96196,     0.96296,     0.96396,     0.96496,     0.96597,     0.96697,     0.96797,     0.96897,     0.96997,     0.97097,     0.97197,     0.97297,     0.97397,     0.97497,     0.97598,     0.97698,     0.97798,     0.97898,     0.97998,     0.98098,     0.98198,     0.98298,     0.98398,\n",
            "           0.98498,     0.98599,     0.98699,     0.98799,     0.98899,     0.98999,     0.99099,     0.99199,     0.99299,     0.99399,     0.99499,       0.996,       0.997,       0.998,       0.999,           1]), array([[          1,           1,           1,           1,           1,           1,           1,           1,           1,           1,           1,           1,           1,           1,           1,           1,           1,           1,           1,           1,           1,           1,           1,\n",
            "                  1,           1,           1,           1,           1,           1,           1,           1,           1,           1,           1,           1,           1,           1,           1,           1,           1,           1,           1,           1,           1,           1,           1,\n",
            "                  1,           1,           1,           1,           1,           1,           1,           1,           1,           1,           1,           1,           1,           1,           1,           1,           1,           1,           1,           1,           1,           1,           1,\n",
            "                  1,           1,           1,           1,           1,           1,           1,           1,           1,           1,           1,           1,           1,           1,           1,           1,           1,           1,           1,           1,           1,           1,           1,\n",
            "                  1,           1,           1,           1,           1,           1,           1,           1,           1,           1,           1,           1,           1,           1,           1,           1,           1,           1,           1,           1,           1,           1,           1,\n",
            "                  1,           1,           1,           1,           1,           1,           1,           1,           1,           1,           1,           1,           1,           1,           1,           1,           1,           1,           1,           1,           1,           1,           1,\n",
            "                  1,           1,           1,           1,           1,           1,           1,           1,           1,           1,           1,           1,           1,           1,           1,           1,           1,           1,           1,           1,           1,           1,           1,\n",
            "                  1,           1,           1,           1,           1,           1,           1,           1,           1,           1,           1,           1,           1,           1,           1,           1,           1,           1,           1,           1,           1,           1,           1,\n",
            "                  1,           1,           1,           1,           1,           1,           1,           1,           1,           1,           1,           1,           1,           1,           1,           1,           1,           1,           1,           1,           1,           1,           1,\n",
            "                  1,           1,           1,           1,           1,           1,           1,           1,           1,           1,           1,           1,           1,           1,           1,           1,           1,           1,           1,           1,           1,           1,           1,\n",
            "                  1,           1,           1,           1,           1,           1,           1,           1,           1,           1,           1,           1,           1,           1,           1,           1,           1,           1,           1,           1,           1,           1,           1,\n",
            "                  1,           1,           1,           1,           1,           1,           1,           1,           1,           1,           1,           1,           1,           1,           1,           1,           1,           1,           1,           1,           1,           1,           1,\n",
            "                  1,           1,           1,           1,           1,           1,           1,           1,           1,           1,           1,           1,           1,           1,           1,           1,           1,           1,           1,           1,           1,           1,           1,\n",
            "                  1,           1,           1,           1,           1,           1,           1,           1,           1,           1,           1,           1,           1,           1,           1,           1,      0.9916,      0.9916,      0.9916,      0.9916,      0.9916,      0.9916,      0.9916,\n",
            "             0.9916,      0.9916,      0.9916,      0.9916,      0.9916,      0.9916,      0.9916,      0.9916,      0.9916,      0.9916,      0.9916,      0.9916,      0.9916,      0.9916,      0.9916,      0.9916,      0.9916,      0.9916,      0.9916,      0.9916,      0.9916,      0.9916,      0.9916,\n",
            "             0.9916,      0.9916,      0.9916,      0.9916,      0.9916,      0.9916,      0.9916,      0.9916,      0.9916,      0.9916,      0.9916,      0.9916,      0.9916,      0.9916,      0.9916,      0.9916,      0.9916,      0.9916,      0.9916,      0.9916,      0.9916,      0.9916,      0.9916,\n",
            "             0.9916,      0.9916,      0.9916,      0.9916,      0.9916,      0.9916,      0.9916,      0.9916,      0.9916,      0.9916,      0.9916,      0.9916,      0.9916,      0.9916,      0.9916,      0.9916,      0.9916,      0.9916,      0.9916,      0.9916,      0.9916,      0.9916,      0.9916,\n",
            "             0.9916,      0.9916,      0.9916,      0.9916,      0.9916,      0.9916,      0.9916,      0.9916,      0.9916,     0.98693,     0.98693,     0.98693,     0.98693,     0.98693,     0.98693,     0.98693,     0.98693,     0.98693,     0.98693,     0.98693,     0.98693,     0.98693,     0.98693,\n",
            "            0.98693,     0.98693,     0.98693,     0.98693,     0.98693,     0.98693,     0.98693,     0.98693,     0.98693,     0.98693,     0.98693,     0.98693,     0.98693,     0.98693,     0.98693,     0.98693,     0.98693,     0.98693,     0.98693,     0.98693,     0.98693,     0.98693,     0.98693,\n",
            "            0.98693,     0.98693,     0.98693,     0.98693,     0.98693,     0.98693,     0.98693,     0.98693,     0.98693,     0.98693,     0.98693,     0.98693,     0.98693,     0.98693,     0.98693,     0.98693,     0.98693,     0.98693,     0.98693,     0.98693,     0.98693,     0.98693,     0.98693,\n",
            "            0.98693,     0.98693,     0.98693,     0.98693,     0.98693,     0.98693,     0.98693,     0.98693,     0.98693,     0.98693,     0.98693,     0.98693,     0.98693,     0.98693,     0.98693,     0.98693,     0.98693,     0.98693,     0.98693,     0.98693,     0.98693,     0.98693,     0.98693,\n",
            "            0.98693,     0.98693,     0.98693,     0.98693,     0.98693,     0.98693,     0.98693,     0.98693,     0.98693,     0.98693,     0.98693,     0.98693,     0.98693,     0.98693,     0.98693,     0.98693,     0.98693,     0.98693,     0.98693,     0.98693,     0.98693,     0.98693,     0.98693,\n",
            "            0.98693,     0.98693,     0.98693,     0.98693,     0.98693,     0.98693,     0.98077,     0.98077,     0.98077,     0.98077,     0.98077,     0.98077,     0.98077,       0.975,       0.975,       0.975,       0.975,       0.975,       0.975,       0.975,       0.975,       0.975,       0.975,\n",
            "             0.9711,      0.9711,      0.9711,      0.9711,      0.9711,      0.9711,      0.9711,      0.9711,      0.9711,      0.9711,      0.9711,      0.9711,      0.9711,      0.9711,      0.9711,      0.9711,      0.9711,      0.9711,      0.9711,      0.9711,      0.9711,      0.9711,      0.9711,\n",
            "             0.9711,      0.9711,      0.9711,      0.9711,      0.9711,      0.9711,      0.9711,      0.9711,      0.9711,      0.9711,      0.9711,      0.9711,      0.9711,      0.9711,      0.9711,      0.9711,      0.9711,     0.96954,     0.96954,     0.96954,     0.96954,     0.96954,     0.96954,\n",
            "            0.96954,     0.96954,     0.96954,     0.96954,     0.96954,     0.96954,     0.96954,     0.96954,     0.96954,     0.96954,     0.96954,     0.96954,     0.96954,     0.96954,     0.96954,     0.96954,     0.96954,     0.96954,     0.96954,     0.96954,     0.96954,     0.96954,     0.96954,\n",
            "            0.96954,     0.96954,     0.96954,     0.96954,     0.96954,     0.96954,     0.96954,     0.96954,     0.96954,     0.96954,     0.96954,     0.96954,     0.96954,     0.96954,     0.96954,     0.96954,     0.96954,     0.96954,     0.96954,     0.96954,     0.96954,     0.96954,     0.96954,\n",
            "            0.96954,     0.96954,     0.96954,     0.96954,     0.96954,     0.96954,     0.96954,     0.96954,     0.96954,     0.96954,     0.96954,     0.96954,     0.96954,     0.96954,     0.96954,     0.96954,     0.96954,     0.96954,     0.96954,     0.96954,     0.96954,     0.96954,     0.96954,\n",
            "            0.96954,     0.96954,     0.96954,     0.96698,     0.96698,     0.96698,     0.96698,     0.96698,     0.96698,     0.96698,     0.96698,     0.96698,     0.96698,     0.96698,     0.96698,     0.96698,     0.96698,     0.96698,     0.96698,     0.96698,     0.96698,     0.96698,     0.96698,\n",
            "            0.96698,     0.96698,     0.96698,     0.96698,     0.96698,     0.96698,     0.96698,     0.96698,     0.96698,     0.96698,     0.96698,     0.96698,     0.96698,     0.96698,     0.96698,     0.96698,     0.96698,     0.96698,     0.96698,     0.96698,     0.96698,     0.96698,     0.96698,\n",
            "            0.96698,     0.96698,     0.96698,     0.96698,     0.96698,     0.96262,     0.96262,     0.96262,      0.9589,      0.9589,      0.9589,      0.9589,      0.9589,      0.9589,      0.9589,      0.9589,      0.9589,      0.9589,      0.9589,      0.9589,      0.9589,      0.9589,     0.95495,\n",
            "            0.95495,     0.95495,     0.95495,     0.95495,     0.95495,     0.94714,     0.94714,     0.94714,     0.94714,     0.94714,     0.94714,     0.94714,     0.94714,     0.94714,     0.94714,     0.94714,     0.93191,     0.93191,     0.93191,     0.93191,     0.93191,     0.93191,     0.93191,\n",
            "            0.93191,     0.93191,     0.93191,     0.93191,     0.93191,     0.93191,     0.92975,     0.92975,     0.92975,     0.92975,     0.92975,     0.92975,     0.92975,     0.92975,     0.92975,     0.92975,     0.92975,     0.92975,     0.92975,     0.92975,     0.92975,     0.92975,     0.92975,\n",
            "            0.92975,     0.92975,     0.92975,     0.92653,     0.92653,     0.92653,     0.92653,     0.92653,     0.92653,     0.92653,      0.9243,      0.9243,      0.9243,      0.9243,      0.9243,      0.9243,      0.9243,      0.9243,      0.9243,      0.9243,      0.9243,      0.9243,      0.9243,\n",
            "             0.9243,      0.9243,      0.9243,      0.9243,     0.91765,     0.91765,     0.91765,     0.91765,     0.91765,     0.91765,     0.91765,      0.9112,      0.9112,      0.9112,      0.9112,      0.9112,      0.9112,      0.9112,     0.90805,     0.90805,     0.90805,     0.90152,     0.90152,\n",
            "            0.90152,     0.87912,     0.87912,     0.87912,     0.87912,     0.87912,     0.87912,     0.87912,     0.86691,     0.86691,     0.86691,     0.86691,     0.85512,     0.85512,     0.85512,     0.85017,     0.85017,     0.85017,     0.85017,     0.85017,     0.85017,     0.85017,     0.84775,\n",
            "            0.84775,     0.84775,     0.83673,     0.83673,     0.83673,     0.83673,     0.83502,     0.83502,     0.83502,     0.83502,     0.83502,     0.83502,     0.83278,     0.83278,     0.83278,     0.83278,     0.82508,     0.82508,     0.82508,     0.81553,     0.81553,     0.81553,     0.81553,\n",
            "            0.81553,     0.81553,     0.81553,     0.80573,     0.80573,     0.80573,     0.79375,     0.79375,     0.79375,     0.79375,     0.77744,     0.77744,     0.77744,     0.75964,     0.75964,     0.75964,     0.74709,     0.74709,     0.74709,     0.74709,     0.73504,     0.73504,     0.73504,\n",
            "            0.73164,     0.73164,     0.73164,     0.73164,     0.72222,     0.72222,     0.72222,     0.71703,     0.71703,     0.71703,      0.7062,      0.7062,      0.7062,      0.7062,     0.68668,     0.68668,     0.68668,     0.66667,     0.66667,     0.66667,     0.66667,     0.59685,     0.59685,\n",
            "            0.59685,     0.57701,     0.57701,     0.57701,     0.57667,     0.57667,     0.57667,     0.57667,     0.51341,     0.51341,     0.51341,     0.51044,     0.51044,     0.51044,         0.5,         0.5,         0.5,         0.5,     0.49362,     0.49362,     0.49362,      0.4714,      0.4714,\n",
            "             0.4714,      0.4714,     0.44535,     0.44535,     0.44535,     0.43286,     0.43286,     0.43286,     0.43036,     0.43036,     0.43036,     0.43036,     0.42527,     0.42527,     0.42527,     0.42485,     0.42485,     0.42485,     0.42485,     0.39377,     0.39377,     0.39377,        0.25,\n",
            "               0.25,        0.25,      0.2454,      0.2454,      0.2454,      0.2454,     0.23223,     0.23223,     0.23223,     0.17714,     0.17714,     0.17714,     0.17079,     0.17079,     0.17079,     0.17079,     0.16905,     0.16905,     0.16905,     0.11395,     0.11395,     0.11395,     0.11395,\n",
            "            0.10389,     0.10389,     0.10389,    0.045913,    0.045913,    0.045913,    0.036437,    0.036437,    0.036437,    0.036437,     0.03323,    0.031786,    0.030341,    0.028896,    0.027451,    0.026006,    0.024562,    0.023117,    0.021672,    0.020227,    0.018782,    0.017338,    0.015893,\n",
            "           0.014448,    0.013003,    0.011558,    0.010114,   0.0086688,    0.007224,   0.0057792,   0.0043344,   0.0028896,   0.0014448,           0]]), 'Recall', 'Precision'], [array([          0,    0.001001,    0.002002,    0.003003,    0.004004,    0.005005,    0.006006,    0.007007,    0.008008,    0.009009,     0.01001,    0.011011,    0.012012,    0.013013,    0.014014,    0.015015,    0.016016,    0.017017,    0.018018,    0.019019,     0.02002,    0.021021,    0.022022,    0.023023,\n",
            "          0.024024,    0.025025,    0.026026,    0.027027,    0.028028,    0.029029,     0.03003,    0.031031,    0.032032,    0.033033,    0.034034,    0.035035,    0.036036,    0.037037,    0.038038,    0.039039,     0.04004,    0.041041,    0.042042,    0.043043,    0.044044,    0.045045,    0.046046,    0.047047,\n",
            "          0.048048,    0.049049,     0.05005,    0.051051,    0.052052,    0.053053,    0.054054,    0.055055,    0.056056,    0.057057,    0.058058,    0.059059,     0.06006,    0.061061,    0.062062,    0.063063,    0.064064,    0.065065,    0.066066,    0.067067,    0.068068,    0.069069,     0.07007,    0.071071,\n",
            "          0.072072,    0.073073,    0.074074,    0.075075,    0.076076,    0.077077,    0.078078,    0.079079,     0.08008,    0.081081,    0.082082,    0.083083,    0.084084,    0.085085,    0.086086,    0.087087,    0.088088,    0.089089,     0.09009,    0.091091,    0.092092,    0.093093,    0.094094,    0.095095,\n",
            "          0.096096,    0.097097,    0.098098,    0.099099,      0.1001,      0.1011,      0.1021,      0.1031,      0.1041,     0.10511,     0.10611,     0.10711,     0.10811,     0.10911,     0.11011,     0.11111,     0.11211,     0.11311,     0.11411,     0.11512,     0.11612,     0.11712,     0.11812,     0.11912,\n",
            "           0.12012,     0.12112,     0.12212,     0.12312,     0.12412,     0.12513,     0.12613,     0.12713,     0.12813,     0.12913,     0.13013,     0.13113,     0.13213,     0.13313,     0.13413,     0.13514,     0.13614,     0.13714,     0.13814,     0.13914,     0.14014,     0.14114,     0.14214,     0.14314,\n",
            "           0.14414,     0.14515,     0.14615,     0.14715,     0.14815,     0.14915,     0.15015,     0.15115,     0.15215,     0.15315,     0.15415,     0.15516,     0.15616,     0.15716,     0.15816,     0.15916,     0.16016,     0.16116,     0.16216,     0.16316,     0.16416,     0.16517,     0.16617,     0.16717,\n",
            "           0.16817,     0.16917,     0.17017,     0.17117,     0.17217,     0.17317,     0.17417,     0.17518,     0.17618,     0.17718,     0.17818,     0.17918,     0.18018,     0.18118,     0.18218,     0.18318,     0.18418,     0.18519,     0.18619,     0.18719,     0.18819,     0.18919,     0.19019,     0.19119,\n",
            "           0.19219,     0.19319,     0.19419,      0.1952,      0.1962,      0.1972,      0.1982,      0.1992,      0.2002,      0.2012,      0.2022,      0.2032,      0.2042,     0.20521,     0.20621,     0.20721,     0.20821,     0.20921,     0.21021,     0.21121,     0.21221,     0.21321,     0.21421,     0.21522,\n",
            "           0.21622,     0.21722,     0.21822,     0.21922,     0.22022,     0.22122,     0.22222,     0.22322,     0.22422,     0.22523,     0.22623,     0.22723,     0.22823,     0.22923,     0.23023,     0.23123,     0.23223,     0.23323,     0.23423,     0.23524,     0.23624,     0.23724,     0.23824,     0.23924,\n",
            "           0.24024,     0.24124,     0.24224,     0.24324,     0.24424,     0.24525,     0.24625,     0.24725,     0.24825,     0.24925,     0.25025,     0.25125,     0.25225,     0.25325,     0.25425,     0.25526,     0.25626,     0.25726,     0.25826,     0.25926,     0.26026,     0.26126,     0.26226,     0.26326,\n",
            "           0.26426,     0.26527,     0.26627,     0.26727,     0.26827,     0.26927,     0.27027,     0.27127,     0.27227,     0.27327,     0.27427,     0.27528,     0.27628,     0.27728,     0.27828,     0.27928,     0.28028,     0.28128,     0.28228,     0.28328,     0.28428,     0.28529,     0.28629,     0.28729,\n",
            "           0.28829,     0.28929,     0.29029,     0.29129,     0.29229,     0.29329,     0.29429,      0.2953,      0.2963,      0.2973,      0.2983,      0.2993,      0.3003,      0.3013,      0.3023,      0.3033,      0.3043,     0.30531,     0.30631,     0.30731,     0.30831,     0.30931,     0.31031,     0.31131,\n",
            "           0.31231,     0.31331,     0.31431,     0.31532,     0.31632,     0.31732,     0.31832,     0.31932,     0.32032,     0.32132,     0.32232,     0.32332,     0.32432,     0.32533,     0.32633,     0.32733,     0.32833,     0.32933,     0.33033,     0.33133,     0.33233,     0.33333,     0.33433,     0.33534,\n",
            "           0.33634,     0.33734,     0.33834,     0.33934,     0.34034,     0.34134,     0.34234,     0.34334,     0.34434,     0.34535,     0.34635,     0.34735,     0.34835,     0.34935,     0.35035,     0.35135,     0.35235,     0.35335,     0.35435,     0.35536,     0.35636,     0.35736,     0.35836,     0.35936,\n",
            "           0.36036,     0.36136,     0.36236,     0.36336,     0.36436,     0.36537,     0.36637,     0.36737,     0.36837,     0.36937,     0.37037,     0.37137,     0.37237,     0.37337,     0.37437,     0.37538,     0.37638,     0.37738,     0.37838,     0.37938,     0.38038,     0.38138,     0.38238,     0.38338,\n",
            "           0.38438,     0.38539,     0.38639,     0.38739,     0.38839,     0.38939,     0.39039,     0.39139,     0.39239,     0.39339,     0.39439,      0.3954,      0.3964,      0.3974,      0.3984,      0.3994,      0.4004,      0.4014,      0.4024,      0.4034,      0.4044,     0.40541,     0.40641,     0.40741,\n",
            "           0.40841,     0.40941,     0.41041,     0.41141,     0.41241,     0.41341,     0.41441,     0.41542,     0.41642,     0.41742,     0.41842,     0.41942,     0.42042,     0.42142,     0.42242,     0.42342,     0.42442,     0.42543,     0.42643,     0.42743,     0.42843,     0.42943,     0.43043,     0.43143,\n",
            "           0.43243,     0.43343,     0.43443,     0.43544,     0.43644,     0.43744,     0.43844,     0.43944,     0.44044,     0.44144,     0.44244,     0.44344,     0.44444,     0.44545,     0.44645,     0.44745,     0.44845,     0.44945,     0.45045,     0.45145,     0.45245,     0.45345,     0.45445,     0.45546,\n",
            "           0.45646,     0.45746,     0.45846,     0.45946,     0.46046,     0.46146,     0.46246,     0.46346,     0.46446,     0.46547,     0.46647,     0.46747,     0.46847,     0.46947,     0.47047,     0.47147,     0.47247,     0.47347,     0.47447,     0.47548,     0.47648,     0.47748,     0.47848,     0.47948,\n",
            "           0.48048,     0.48148,     0.48248,     0.48348,     0.48448,     0.48549,     0.48649,     0.48749,     0.48849,     0.48949,     0.49049,     0.49149,     0.49249,     0.49349,     0.49449,      0.4955,      0.4965,      0.4975,      0.4985,      0.4995,      0.5005,      0.5015,      0.5025,      0.5035,\n",
            "            0.5045,     0.50551,     0.50651,     0.50751,     0.50851,     0.50951,     0.51051,     0.51151,     0.51251,     0.51351,     0.51451,     0.51552,     0.51652,     0.51752,     0.51852,     0.51952,     0.52052,     0.52152,     0.52252,     0.52352,     0.52452,     0.52553,     0.52653,     0.52753,\n",
            "           0.52853,     0.52953,     0.53053,     0.53153,     0.53253,     0.53353,     0.53453,     0.53554,     0.53654,     0.53754,     0.53854,     0.53954,     0.54054,     0.54154,     0.54254,     0.54354,     0.54454,     0.54555,     0.54655,     0.54755,     0.54855,     0.54955,     0.55055,     0.55155,\n",
            "           0.55255,     0.55355,     0.55455,     0.55556,     0.55656,     0.55756,     0.55856,     0.55956,     0.56056,     0.56156,     0.56256,     0.56356,     0.56456,     0.56557,     0.56657,     0.56757,     0.56857,     0.56957,     0.57057,     0.57157,     0.57257,     0.57357,     0.57457,     0.57558,\n",
            "           0.57658,     0.57758,     0.57858,     0.57958,     0.58058,     0.58158,     0.58258,     0.58358,     0.58458,     0.58559,     0.58659,     0.58759,     0.58859,     0.58959,     0.59059,     0.59159,     0.59259,     0.59359,     0.59459,      0.5956,      0.5966,      0.5976,      0.5986,      0.5996,\n",
            "            0.6006,      0.6016,      0.6026,      0.6036,      0.6046,     0.60561,     0.60661,     0.60761,     0.60861,     0.60961,     0.61061,     0.61161,     0.61261,     0.61361,     0.61461,     0.61562,     0.61662,     0.61762,     0.61862,     0.61962,     0.62062,     0.62162,     0.62262,     0.62362,\n",
            "           0.62462,     0.62563,     0.62663,     0.62763,     0.62863,     0.62963,     0.63063,     0.63163,     0.63263,     0.63363,     0.63463,     0.63564,     0.63664,     0.63764,     0.63864,     0.63964,     0.64064,     0.64164,     0.64264,     0.64364,     0.64464,     0.64565,     0.64665,     0.64765,\n",
            "           0.64865,     0.64965,     0.65065,     0.65165,     0.65265,     0.65365,     0.65465,     0.65566,     0.65666,     0.65766,     0.65866,     0.65966,     0.66066,     0.66166,     0.66266,     0.66366,     0.66466,     0.66567,     0.66667,     0.66767,     0.66867,     0.66967,     0.67067,     0.67167,\n",
            "           0.67267,     0.67367,     0.67467,     0.67568,     0.67668,     0.67768,     0.67868,     0.67968,     0.68068,     0.68168,     0.68268,     0.68368,     0.68468,     0.68569,     0.68669,     0.68769,     0.68869,     0.68969,     0.69069,     0.69169,     0.69269,     0.69369,     0.69469,      0.6957,\n",
            "            0.6967,      0.6977,      0.6987,      0.6997,      0.7007,      0.7017,      0.7027,      0.7037,      0.7047,     0.70571,     0.70671,     0.70771,     0.70871,     0.70971,     0.71071,     0.71171,     0.71271,     0.71371,     0.71471,     0.71572,     0.71672,     0.71772,     0.71872,     0.71972,\n",
            "           0.72072,     0.72172,     0.72272,     0.72372,     0.72472,     0.72573,     0.72673,     0.72773,     0.72873,     0.72973,     0.73073,     0.73173,     0.73273,     0.73373,     0.73473,     0.73574,     0.73674,     0.73774,     0.73874,     0.73974,     0.74074,     0.74174,     0.74274,     0.74374,\n",
            "           0.74474,     0.74575,     0.74675,     0.74775,     0.74875,     0.74975,     0.75075,     0.75175,     0.75275,     0.75375,     0.75475,     0.75576,     0.75676,     0.75776,     0.75876,     0.75976,     0.76076,     0.76176,     0.76276,     0.76376,     0.76476,     0.76577,     0.76677,     0.76777,\n",
            "           0.76877,     0.76977,     0.77077,     0.77177,     0.77277,     0.77377,     0.77477,     0.77578,     0.77678,     0.77778,     0.77878,     0.77978,     0.78078,     0.78178,     0.78278,     0.78378,     0.78478,     0.78579,     0.78679,     0.78779,     0.78879,     0.78979,     0.79079,     0.79179,\n",
            "           0.79279,     0.79379,     0.79479,      0.7958,      0.7968,      0.7978,      0.7988,      0.7998,      0.8008,      0.8018,      0.8028,      0.8038,      0.8048,     0.80581,     0.80681,     0.80781,     0.80881,     0.80981,     0.81081,     0.81181,     0.81281,     0.81381,     0.81481,     0.81582,\n",
            "           0.81682,     0.81782,     0.81882,     0.81982,     0.82082,     0.82182,     0.82282,     0.82382,     0.82482,     0.82583,     0.82683,     0.82783,     0.82883,     0.82983,     0.83083,     0.83183,     0.83283,     0.83383,     0.83483,     0.83584,     0.83684,     0.83784,     0.83884,     0.83984,\n",
            "           0.84084,     0.84184,     0.84284,     0.84384,     0.84484,     0.84585,     0.84685,     0.84785,     0.84885,     0.84985,     0.85085,     0.85185,     0.85285,     0.85385,     0.85485,     0.85586,     0.85686,     0.85786,     0.85886,     0.85986,     0.86086,     0.86186,     0.86286,     0.86386,\n",
            "           0.86486,     0.86587,     0.86687,     0.86787,     0.86887,     0.86987,     0.87087,     0.87187,     0.87287,     0.87387,     0.87487,     0.87588,     0.87688,     0.87788,     0.87888,     0.87988,     0.88088,     0.88188,     0.88288,     0.88388,     0.88488,     0.88589,     0.88689,     0.88789,\n",
            "           0.88889,     0.88989,     0.89089,     0.89189,     0.89289,     0.89389,     0.89489,      0.8959,      0.8969,      0.8979,      0.8989,      0.8999,      0.9009,      0.9019,      0.9029,      0.9039,      0.9049,     0.90591,     0.90691,     0.90791,     0.90891,     0.90991,     0.91091,     0.91191,\n",
            "           0.91291,     0.91391,     0.91491,     0.91592,     0.91692,     0.91792,     0.91892,     0.91992,     0.92092,     0.92192,     0.92292,     0.92392,     0.92492,     0.92593,     0.92693,     0.92793,     0.92893,     0.92993,     0.93093,     0.93193,     0.93293,     0.93393,     0.93493,     0.93594,\n",
            "           0.93694,     0.93794,     0.93894,     0.93994,     0.94094,     0.94194,     0.94294,     0.94394,     0.94494,     0.94595,     0.94695,     0.94795,     0.94895,     0.94995,     0.95095,     0.95195,     0.95295,     0.95395,     0.95495,     0.95596,     0.95696,     0.95796,     0.95896,     0.95996,\n",
            "           0.96096,     0.96196,     0.96296,     0.96396,     0.96496,     0.96597,     0.96697,     0.96797,     0.96897,     0.96997,     0.97097,     0.97197,     0.97297,     0.97397,     0.97497,     0.97598,     0.97698,     0.97798,     0.97898,     0.97998,     0.98098,     0.98198,     0.98298,     0.98398,\n",
            "           0.98498,     0.98599,     0.98699,     0.98799,     0.98899,     0.98999,     0.99099,     0.99199,     0.99299,     0.99399,     0.99499,       0.996,       0.997,       0.998,       0.999,           1]), array([[   0.066176,    0.066261,     0.25637,     0.37862,     0.43389,     0.47388,     0.51042,     0.53767,     0.56035,     0.58278,     0.58752,     0.60022,      0.6058,     0.61433,      0.6253,     0.63346,     0.64212,     0.64515,     0.64924,     0.65408,     0.65568,     0.66333,     0.66749,\n",
            "            0.67778,     0.68372,     0.68707,     0.69319,     0.69635,     0.69776,     0.70002,     0.70408,      0.7021,     0.70638,     0.71064,     0.71277,      0.7146,     0.71779,     0.71942,     0.71996,     0.72167,     0.72356,     0.72659,      0.7295,     0.73135,      0.7323,      0.7379,\n",
            "            0.74181,     0.74249,     0.74359,     0.74493,     0.74559,     0.74648,     0.74895,      0.7496,     0.75058,     0.75223,     0.75523,      0.7565,     0.75718,     0.75875,     0.75929,     0.76011,     0.76197,     0.76324,     0.76243,     0.76315,     0.76376,      0.7643,     0.76515,\n",
            "            0.76593,     0.76646,     0.76697,     0.76748,     0.76817,     0.76941,     0.77055,     0.77161,     0.77234,     0.77278,     0.77319,     0.77364,     0.77423,     0.77509,     0.77516,     0.77405,     0.77503,     0.77837,     0.77893,     0.77933,     0.77972,     0.78072,     0.78258,\n",
            "            0.78324,     0.78471,     0.78547,     0.78596,      0.7864,     0.78674,     0.78625,     0.78577,     0.78528,     0.78521,     0.78594,     0.78689,     0.78797,     0.78982,     0.79012,     0.79041,     0.79071,     0.79186,     0.79098,     0.79163,     0.79254,     0.79371,     0.79214,\n",
            "            0.79331,     0.79355,     0.79379,     0.79402,     0.79426,     0.79454,      0.7952,     0.79592,     0.79687,     0.79783,     0.79783,     0.79734,     0.79685,     0.79636,     0.79741,     0.79805,     0.79719,     0.79763,      0.7986,     0.79952,     0.80075,     0.80199,     0.80238,\n",
            "            0.80277,     0.80316,     0.80364,     0.80411,     0.80378,     0.80263,     0.80379,     0.80395,      0.8041,     0.80426,     0.80441,     0.80457,     0.80472,     0.80488,     0.80503,     0.80578,     0.80672,     0.80877,     0.81012,     0.80985,     0.80959,     0.80932,     0.80905,\n",
            "            0.80878,     0.80852,     0.80825,     0.80843,     0.80864,     0.80884,     0.80904,     0.80924,     0.80944,     0.81086,     0.81103,      0.8112,     0.81136,     0.81153,      0.8117,     0.81187,     0.81203,      0.8122,     0.81238,     0.81255,     0.81272,      0.8129,     0.81307,\n",
            "            0.81324,     0.81349,     0.81437,     0.81502,     0.81553,     0.81601,     0.81619,     0.81637,     0.81656,     0.81674,     0.81692,      0.8171,     0.81728,     0.81712,     0.81688,     0.81708,     0.81728,     0.81749,     0.81769,     0.81789,     0.81807,     0.81822,     0.81837,\n",
            "            0.81852,     0.81867,     0.81882,     0.81896,     0.81911,     0.81926,      0.8199,      0.8207,     0.82076,     0.82081,     0.82086,     0.82091,     0.82096,     0.82102,     0.82107,     0.82112,     0.82117,     0.82122,     0.82128,     0.82133,     0.82138,     0.82143,     0.82148,\n",
            "            0.82154,     0.82159,     0.82164,     0.82169,     0.82174,      0.8218,     0.82185,      0.8219,     0.82195,       0.822,     0.82247,     0.82295,     0.82337,      0.8235,     0.82364,     0.82378,     0.82391,     0.82405,     0.82419,     0.82432,     0.82446,      0.8246,      0.8248,\n",
            "            0.82508,     0.82536,     0.82564,     0.82593,     0.82554,     0.82485,     0.82415,     0.82419,     0.82429,     0.82438,     0.82448,     0.82457,     0.82467,     0.82476,     0.82486,     0.82495,     0.82504,     0.82514,     0.82523,     0.82533,     0.82542,     0.82567,     0.82597,\n",
            "            0.82627,     0.82657,     0.82693,     0.82747,       0.828,     0.82835,     0.82863,     0.82891,     0.82918,     0.82946,     0.82976,     0.83006,     0.83036,     0.83066,     0.83026,     0.82915,     0.82975,     0.83032,     0.83049,     0.83066,     0.83083,     0.83099,     0.83116,\n",
            "            0.83133,     0.83149,     0.83166,     0.83204,     0.83245,     0.83286,     0.83352,     0.83441,     0.83419,     0.83393,     0.83367,     0.83342,     0.83316,      0.8329,     0.83264,     0.83178,     0.83083,     0.83195,     0.83205,     0.83216,     0.83227,     0.83237,     0.83248,\n",
            "            0.83258,     0.83269,      0.8328,      0.8329,     0.83301,     0.83311,     0.83322,     0.83333,     0.83481,     0.83493,     0.83506,     0.83519,     0.83532,     0.83545,     0.83557,      0.8357,     0.83583,     0.83596,     0.83609,     0.83579,     0.83533,     0.83487,     0.83442,\n",
            "            0.83426,     0.83447,     0.83467,     0.83487,     0.83507,     0.83527,     0.83548,     0.83563,     0.83574,     0.83584,     0.83595,     0.83606,     0.83617,     0.83628,     0.83639,     0.83649,      0.8366,     0.83671,     0.83682,     0.83693,     0.83715,     0.83747,     0.83779,\n",
            "             0.8381,     0.83835,     0.83809,     0.83783,     0.83757,     0.83731,     0.83704,     0.83678,     0.83652,     0.83665,     0.83701,     0.83738,     0.83774,     0.83745,     0.83691,     0.83637,     0.83575,     0.83416,     0.83459,     0.83523,     0.83456,     0.83389,     0.83337,\n",
            "            0.83362,     0.83386,     0.83411,     0.83435,      0.8346,     0.83478,     0.83485,     0.83491,     0.83498,     0.83505,     0.83512,     0.83519,     0.83526,     0.83533,      0.8354,     0.83546,     0.83553,      0.8356,     0.83567,     0.83574,     0.83581,     0.83588,     0.83594,\n",
            "            0.83601,     0.83608,     0.83615,     0.83628,     0.83645,     0.83662,      0.8368,     0.83697,     0.83714,     0.83731,     0.83748,     0.83763,     0.83772,      0.8378,     0.83789,     0.83798,     0.83806,     0.83815,     0.83823,     0.83832,     0.83841,     0.83849,     0.83858,\n",
            "            0.83866,     0.83875,     0.83884,     0.83892,     0.83901,     0.83709,     0.83738,     0.83768,     0.83797,     0.83826,     0.83758,     0.83459,     0.83477,     0.83495,     0.83514,     0.83532,     0.83551,     0.83569,     0.83587,     0.83627,     0.83675,     0.83723,     0.83669,\n",
            "            0.83573,     0.83543,     0.83554,     0.83566,     0.83577,     0.83589,       0.836,     0.83611,     0.83623,     0.83634,     0.83646,     0.83657,     0.83669,      0.8368,     0.83689,     0.83698,     0.83708,     0.83717,     0.83726,     0.83735,     0.83744,     0.83753,     0.83762,\n",
            "            0.83771,      0.8378,     0.83789,     0.83798,     0.83807,     0.83816,     0.83825,     0.83865,      0.8391,     0.83955,     0.84039,     0.84061,     0.83927,     0.83959,     0.83991,     0.84024,     0.84056,     0.84114,      0.8418,     0.84362,     0.84378,     0.84395,     0.84411,\n",
            "            0.84427,     0.84443,     0.84459,     0.84475,     0.84491,     0.84502,     0.84376,     0.84296,     0.84279,     0.84262,     0.84245,     0.84228,     0.84211,     0.84194,     0.84177,      0.8416,     0.84143,     0.84126,     0.84109,     0.84273,     0.84354,     0.84481,     0.84561,\n",
            "            0.84583,     0.84605,     0.84627,     0.84648,      0.8467,     0.84692,     0.84858,     0.84877,     0.84897,     0.84916,     0.84936,     0.84955,     0.84975,     0.84994,     0.85011,     0.85026,     0.85042,     0.85057,     0.85073,     0.85088,     0.85104,     0.85119,     0.85135,\n",
            "             0.8515,     0.85141,     0.85128,     0.85116,     0.85103,     0.85091,     0.85078,     0.85065,     0.85053,      0.8504,     0.85028,     0.85015,     0.85003,      0.8499,     0.84977,     0.84965,     0.84952,     0.84971,     0.85018,     0.85065,     0.85105,      0.8513,     0.85154,\n",
            "            0.85178,     0.85203,     0.85227,     0.85251,      0.8522,     0.85188,     0.85155,     0.85122,     0.85089,     0.85057,      0.8519,      0.8517,     0.85149,     0.85129,     0.85109,     0.85089,     0.85068,     0.85048,     0.85028,     0.85008,     0.84985,     0.84949,     0.84914,\n",
            "            0.84879,     0.84843,     0.84808,     0.84833,     0.84995,     0.85075,     0.85032,     0.84989,     0.84946,     0.84903,     0.84866,     0.84836,     0.84806,     0.84775,     0.84745,     0.84714,     0.84684,      0.8476,     0.84837,     0.84855,     0.84874,     0.84893,     0.84911,\n",
            "             0.8493,     0.84948,     0.84967,      0.8498,      0.8497,      0.8496,     0.84951,     0.84941,     0.84932,     0.84922,     0.84912,     0.84903,     0.84893,     0.84884,     0.84874,     0.84864,     0.84855,     0.84845,     0.84835,     0.84826,     0.84816,     0.84807,     0.84797,\n",
            "            0.84787,     0.84778,     0.84559,     0.84468,     0.84378,     0.84133,     0.84024,      0.8392,     0.83962,     0.84004,     0.84046,     0.84032,     0.83901,     0.83768,      0.8367,     0.83783,     0.83759,     0.83734,      0.8371,     0.83685,     0.83661,     0.83636,     0.83612,\n",
            "            0.83587,     0.83361,     0.83327,     0.83294,      0.8326,     0.83226,     0.83193,     0.83159,     0.83129,       0.831,     0.83072,     0.83043,     0.83015,     0.82986,     0.82957,     0.82929,     0.82896,     0.82863,      0.8283,     0.82797,     0.82763,      0.8273,     0.82674,\n",
            "            0.82561,     0.82611,     0.82492,     0.82395,     0.82331,     0.82267,     0.82203,     0.82138,     0.82072,     0.82006,     0.81755,     0.81774,     0.81794,     0.81813,     0.81832,     0.81851,     0.81871,      0.8189,     0.82029,     0.82187,     0.82252,     0.82296,      0.8234,\n",
            "            0.82373,      0.8236,     0.82346,     0.82333,      0.8232,     0.82307,     0.82294,      0.8228,     0.82267,     0.82254,     0.82241,     0.82227,     0.82214,     0.82201,     0.82188,     0.82174,     0.82161,     0.82146,     0.82116,     0.82086,     0.82056,     0.82025,     0.81995,\n",
            "            0.81965,     0.81935,     0.81771,     0.81727,     0.81772,     0.81817,     0.81867,     0.81941,     0.82009,      0.8196,      0.8191,      0.8186,      0.8181,     0.81768,     0.81736,     0.81703,     0.81671,     0.81639,     0.81606,     0.81574,     0.81602,     0.81661,     0.81451,\n",
            "            0.81381,     0.81311,     0.81231,      0.8109,     0.80825,     0.80919,     0.80865,     0.80759,     0.80762,     0.80863,     0.80607,     0.80555,     0.80502,      0.8045,     0.80397,     0.80144,     0.80097,     0.80049,     0.80001,     0.79953,     0.79903,     0.79849,     0.79794,\n",
            "            0.79739,     0.79684,     0.79519,     0.79403,     0.79332,     0.79262,     0.79195,      0.7915,     0.79106,     0.79062,     0.79018,     0.78974,     0.78837,     0.78665,     0.78526,     0.78457,     0.78434,     0.78411,     0.78389,     0.78366,     0.78343,      0.7832,     0.78297,\n",
            "            0.78274,     0.78251,     0.78228,     0.78126,     0.78013,      0.7796,     0.77933,     0.77905,     0.77878,      0.7785,     0.77823,     0.77795,     0.77768,      0.7774,     0.77485,     0.77629,     0.77596,     0.77564,     0.77532,     0.77499,     0.77467,     0.77434,     0.77402,\n",
            "            0.77208,     0.77051,     0.76926,     0.76831,     0.76748,     0.76664,     0.76351,      0.7626,     0.76169,     0.75828,     0.75654,     0.75017,     0.74535,     0.74372,     0.74054,      0.7375,     0.73406,     0.73213,     0.72935,     0.72852,      0.7277,     0.72668,     0.72546,\n",
            "            0.72415,     0.72259,     0.71947,     0.71747,     0.71255,     0.71207,     0.71168,      0.7113,     0.71091,     0.71053,     0.71014,     0.70976,     0.70837,      0.7062,     0.70176,     0.69573,     0.68895,     0.68541,     0.68465,     0.68537,     0.68509,     0.68387,     0.68194,\n",
            "             0.6781,     0.67431,     0.67244,     0.66548,     0.66124,     0.65956,     0.65382,     0.65038,      0.6377,     0.63395,     0.63195,     0.62675,     0.62137,      0.6205,     0.61963,     0.61876,     0.61517,     0.60774,     0.59982,     0.59669,      0.5908,     0.58487,     0.57952,\n",
            "            0.57038,     0.56747,     0.55253,     0.55092,     0.54931,     0.54165,     0.52967,     0.52698,     0.52621,     0.52544,     0.52467,     0.52391,     0.52168,      0.5125,      0.5088,     0.50244,     0.49349,     0.48919,     0.48744,      0.4848,     0.47456,     0.46264,     0.45665,\n",
            "            0.44597,     0.42998,     0.42335,     0.41406,     0.40573,     0.38649,     0.37536,      0.3597,     0.34842,      0.3396,     0.33417,     0.31825,     0.31261,     0.30538,      0.2793,     0.26317,     0.25513,     0.24989,      0.2449,     0.23941,     0.21503,     0.20293,      0.1976,\n",
            "            0.19206,      0.1832,     0.18064,      0.1715,     0.16202,     0.13789,     0.11519,     0.10636,     0.10086,    0.091293,    0.085427,    0.064876,    0.056555,    0.053111,    0.048139,    0.036347,     0.02664,    0.025568,    0.024495,    0.023422,    0.022347,    0.021271,    0.020193,\n",
            "           0.013408,    0.012178,    0.010946,   0.0097124,   0.0084775,    0.007241,           0,           0,           0,           0,           0,           0,           0,           0,           0,           0,           0,           0,           0,           0,           0,           0,           0,\n",
            "                  0,           0,           0,           0,           0,           0,           0,           0,           0,           0,           0]]), 'Confidence', 'F1'], [array([          0,    0.001001,    0.002002,    0.003003,    0.004004,    0.005005,    0.006006,    0.007007,    0.008008,    0.009009,     0.01001,    0.011011,    0.012012,    0.013013,    0.014014,    0.015015,    0.016016,    0.017017,    0.018018,    0.019019,     0.02002,    0.021021,    0.022022,    0.023023,\n",
            "          0.024024,    0.025025,    0.026026,    0.027027,    0.028028,    0.029029,     0.03003,    0.031031,    0.032032,    0.033033,    0.034034,    0.035035,    0.036036,    0.037037,    0.038038,    0.039039,     0.04004,    0.041041,    0.042042,    0.043043,    0.044044,    0.045045,    0.046046,    0.047047,\n",
            "          0.048048,    0.049049,     0.05005,    0.051051,    0.052052,    0.053053,    0.054054,    0.055055,    0.056056,    0.057057,    0.058058,    0.059059,     0.06006,    0.061061,    0.062062,    0.063063,    0.064064,    0.065065,    0.066066,    0.067067,    0.068068,    0.069069,     0.07007,    0.071071,\n",
            "          0.072072,    0.073073,    0.074074,    0.075075,    0.076076,    0.077077,    0.078078,    0.079079,     0.08008,    0.081081,    0.082082,    0.083083,    0.084084,    0.085085,    0.086086,    0.087087,    0.088088,    0.089089,     0.09009,    0.091091,    0.092092,    0.093093,    0.094094,    0.095095,\n",
            "          0.096096,    0.097097,    0.098098,    0.099099,      0.1001,      0.1011,      0.1021,      0.1031,      0.1041,     0.10511,     0.10611,     0.10711,     0.10811,     0.10911,     0.11011,     0.11111,     0.11211,     0.11311,     0.11411,     0.11512,     0.11612,     0.11712,     0.11812,     0.11912,\n",
            "           0.12012,     0.12112,     0.12212,     0.12312,     0.12412,     0.12513,     0.12613,     0.12713,     0.12813,     0.12913,     0.13013,     0.13113,     0.13213,     0.13313,     0.13413,     0.13514,     0.13614,     0.13714,     0.13814,     0.13914,     0.14014,     0.14114,     0.14214,     0.14314,\n",
            "           0.14414,     0.14515,     0.14615,     0.14715,     0.14815,     0.14915,     0.15015,     0.15115,     0.15215,     0.15315,     0.15415,     0.15516,     0.15616,     0.15716,     0.15816,     0.15916,     0.16016,     0.16116,     0.16216,     0.16316,     0.16416,     0.16517,     0.16617,     0.16717,\n",
            "           0.16817,     0.16917,     0.17017,     0.17117,     0.17217,     0.17317,     0.17417,     0.17518,     0.17618,     0.17718,     0.17818,     0.17918,     0.18018,     0.18118,     0.18218,     0.18318,     0.18418,     0.18519,     0.18619,     0.18719,     0.18819,     0.18919,     0.19019,     0.19119,\n",
            "           0.19219,     0.19319,     0.19419,      0.1952,      0.1962,      0.1972,      0.1982,      0.1992,      0.2002,      0.2012,      0.2022,      0.2032,      0.2042,     0.20521,     0.20621,     0.20721,     0.20821,     0.20921,     0.21021,     0.21121,     0.21221,     0.21321,     0.21421,     0.21522,\n",
            "           0.21622,     0.21722,     0.21822,     0.21922,     0.22022,     0.22122,     0.22222,     0.22322,     0.22422,     0.22523,     0.22623,     0.22723,     0.22823,     0.22923,     0.23023,     0.23123,     0.23223,     0.23323,     0.23423,     0.23524,     0.23624,     0.23724,     0.23824,     0.23924,\n",
            "           0.24024,     0.24124,     0.24224,     0.24324,     0.24424,     0.24525,     0.24625,     0.24725,     0.24825,     0.24925,     0.25025,     0.25125,     0.25225,     0.25325,     0.25425,     0.25526,     0.25626,     0.25726,     0.25826,     0.25926,     0.26026,     0.26126,     0.26226,     0.26326,\n",
            "           0.26426,     0.26527,     0.26627,     0.26727,     0.26827,     0.26927,     0.27027,     0.27127,     0.27227,     0.27327,     0.27427,     0.27528,     0.27628,     0.27728,     0.27828,     0.27928,     0.28028,     0.28128,     0.28228,     0.28328,     0.28428,     0.28529,     0.28629,     0.28729,\n",
            "           0.28829,     0.28929,     0.29029,     0.29129,     0.29229,     0.29329,     0.29429,      0.2953,      0.2963,      0.2973,      0.2983,      0.2993,      0.3003,      0.3013,      0.3023,      0.3033,      0.3043,     0.30531,     0.30631,     0.30731,     0.30831,     0.30931,     0.31031,     0.31131,\n",
            "           0.31231,     0.31331,     0.31431,     0.31532,     0.31632,     0.31732,     0.31832,     0.31932,     0.32032,     0.32132,     0.32232,     0.32332,     0.32432,     0.32533,     0.32633,     0.32733,     0.32833,     0.32933,     0.33033,     0.33133,     0.33233,     0.33333,     0.33433,     0.33534,\n",
            "           0.33634,     0.33734,     0.33834,     0.33934,     0.34034,     0.34134,     0.34234,     0.34334,     0.34434,     0.34535,     0.34635,     0.34735,     0.34835,     0.34935,     0.35035,     0.35135,     0.35235,     0.35335,     0.35435,     0.35536,     0.35636,     0.35736,     0.35836,     0.35936,\n",
            "           0.36036,     0.36136,     0.36236,     0.36336,     0.36436,     0.36537,     0.36637,     0.36737,     0.36837,     0.36937,     0.37037,     0.37137,     0.37237,     0.37337,     0.37437,     0.37538,     0.37638,     0.37738,     0.37838,     0.37938,     0.38038,     0.38138,     0.38238,     0.38338,\n",
            "           0.38438,     0.38539,     0.38639,     0.38739,     0.38839,     0.38939,     0.39039,     0.39139,     0.39239,     0.39339,     0.39439,      0.3954,      0.3964,      0.3974,      0.3984,      0.3994,      0.4004,      0.4014,      0.4024,      0.4034,      0.4044,     0.40541,     0.40641,     0.40741,\n",
            "           0.40841,     0.40941,     0.41041,     0.41141,     0.41241,     0.41341,     0.41441,     0.41542,     0.41642,     0.41742,     0.41842,     0.41942,     0.42042,     0.42142,     0.42242,     0.42342,     0.42442,     0.42543,     0.42643,     0.42743,     0.42843,     0.42943,     0.43043,     0.43143,\n",
            "           0.43243,     0.43343,     0.43443,     0.43544,     0.43644,     0.43744,     0.43844,     0.43944,     0.44044,     0.44144,     0.44244,     0.44344,     0.44444,     0.44545,     0.44645,     0.44745,     0.44845,     0.44945,     0.45045,     0.45145,     0.45245,     0.45345,     0.45445,     0.45546,\n",
            "           0.45646,     0.45746,     0.45846,     0.45946,     0.46046,     0.46146,     0.46246,     0.46346,     0.46446,     0.46547,     0.46647,     0.46747,     0.46847,     0.46947,     0.47047,     0.47147,     0.47247,     0.47347,     0.47447,     0.47548,     0.47648,     0.47748,     0.47848,     0.47948,\n",
            "           0.48048,     0.48148,     0.48248,     0.48348,     0.48448,     0.48549,     0.48649,     0.48749,     0.48849,     0.48949,     0.49049,     0.49149,     0.49249,     0.49349,     0.49449,      0.4955,      0.4965,      0.4975,      0.4985,      0.4995,      0.5005,      0.5015,      0.5025,      0.5035,\n",
            "            0.5045,     0.50551,     0.50651,     0.50751,     0.50851,     0.50951,     0.51051,     0.51151,     0.51251,     0.51351,     0.51451,     0.51552,     0.51652,     0.51752,     0.51852,     0.51952,     0.52052,     0.52152,     0.52252,     0.52352,     0.52452,     0.52553,     0.52653,     0.52753,\n",
            "           0.52853,     0.52953,     0.53053,     0.53153,     0.53253,     0.53353,     0.53453,     0.53554,     0.53654,     0.53754,     0.53854,     0.53954,     0.54054,     0.54154,     0.54254,     0.54354,     0.54454,     0.54555,     0.54655,     0.54755,     0.54855,     0.54955,     0.55055,     0.55155,\n",
            "           0.55255,     0.55355,     0.55455,     0.55556,     0.55656,     0.55756,     0.55856,     0.55956,     0.56056,     0.56156,     0.56256,     0.56356,     0.56456,     0.56557,     0.56657,     0.56757,     0.56857,     0.56957,     0.57057,     0.57157,     0.57257,     0.57357,     0.57457,     0.57558,\n",
            "           0.57658,     0.57758,     0.57858,     0.57958,     0.58058,     0.58158,     0.58258,     0.58358,     0.58458,     0.58559,     0.58659,     0.58759,     0.58859,     0.58959,     0.59059,     0.59159,     0.59259,     0.59359,     0.59459,      0.5956,      0.5966,      0.5976,      0.5986,      0.5996,\n",
            "            0.6006,      0.6016,      0.6026,      0.6036,      0.6046,     0.60561,     0.60661,     0.60761,     0.60861,     0.60961,     0.61061,     0.61161,     0.61261,     0.61361,     0.61461,     0.61562,     0.61662,     0.61762,     0.61862,     0.61962,     0.62062,     0.62162,     0.62262,     0.62362,\n",
            "           0.62462,     0.62563,     0.62663,     0.62763,     0.62863,     0.62963,     0.63063,     0.63163,     0.63263,     0.63363,     0.63463,     0.63564,     0.63664,     0.63764,     0.63864,     0.63964,     0.64064,     0.64164,     0.64264,     0.64364,     0.64464,     0.64565,     0.64665,     0.64765,\n",
            "           0.64865,     0.64965,     0.65065,     0.65165,     0.65265,     0.65365,     0.65465,     0.65566,     0.65666,     0.65766,     0.65866,     0.65966,     0.66066,     0.66166,     0.66266,     0.66366,     0.66466,     0.66567,     0.66667,     0.66767,     0.66867,     0.66967,     0.67067,     0.67167,\n",
            "           0.67267,     0.67367,     0.67467,     0.67568,     0.67668,     0.67768,     0.67868,     0.67968,     0.68068,     0.68168,     0.68268,     0.68368,     0.68468,     0.68569,     0.68669,     0.68769,     0.68869,     0.68969,     0.69069,     0.69169,     0.69269,     0.69369,     0.69469,      0.6957,\n",
            "            0.6967,      0.6977,      0.6987,      0.6997,      0.7007,      0.7017,      0.7027,      0.7037,      0.7047,     0.70571,     0.70671,     0.70771,     0.70871,     0.70971,     0.71071,     0.71171,     0.71271,     0.71371,     0.71471,     0.71572,     0.71672,     0.71772,     0.71872,     0.71972,\n",
            "           0.72072,     0.72172,     0.72272,     0.72372,     0.72472,     0.72573,     0.72673,     0.72773,     0.72873,     0.72973,     0.73073,     0.73173,     0.73273,     0.73373,     0.73473,     0.73574,     0.73674,     0.73774,     0.73874,     0.73974,     0.74074,     0.74174,     0.74274,     0.74374,\n",
            "           0.74474,     0.74575,     0.74675,     0.74775,     0.74875,     0.74975,     0.75075,     0.75175,     0.75275,     0.75375,     0.75475,     0.75576,     0.75676,     0.75776,     0.75876,     0.75976,     0.76076,     0.76176,     0.76276,     0.76376,     0.76476,     0.76577,     0.76677,     0.76777,\n",
            "           0.76877,     0.76977,     0.77077,     0.77177,     0.77277,     0.77377,     0.77477,     0.77578,     0.77678,     0.77778,     0.77878,     0.77978,     0.78078,     0.78178,     0.78278,     0.78378,     0.78478,     0.78579,     0.78679,     0.78779,     0.78879,     0.78979,     0.79079,     0.79179,\n",
            "           0.79279,     0.79379,     0.79479,      0.7958,      0.7968,      0.7978,      0.7988,      0.7998,      0.8008,      0.8018,      0.8028,      0.8038,      0.8048,     0.80581,     0.80681,     0.80781,     0.80881,     0.80981,     0.81081,     0.81181,     0.81281,     0.81381,     0.81481,     0.81582,\n",
            "           0.81682,     0.81782,     0.81882,     0.81982,     0.82082,     0.82182,     0.82282,     0.82382,     0.82482,     0.82583,     0.82683,     0.82783,     0.82883,     0.82983,     0.83083,     0.83183,     0.83283,     0.83383,     0.83483,     0.83584,     0.83684,     0.83784,     0.83884,     0.83984,\n",
            "           0.84084,     0.84184,     0.84284,     0.84384,     0.84484,     0.84585,     0.84685,     0.84785,     0.84885,     0.84985,     0.85085,     0.85185,     0.85285,     0.85385,     0.85485,     0.85586,     0.85686,     0.85786,     0.85886,     0.85986,     0.86086,     0.86186,     0.86286,     0.86386,\n",
            "           0.86486,     0.86587,     0.86687,     0.86787,     0.86887,     0.86987,     0.87087,     0.87187,     0.87287,     0.87387,     0.87487,     0.87588,     0.87688,     0.87788,     0.87888,     0.87988,     0.88088,     0.88188,     0.88288,     0.88388,     0.88488,     0.88589,     0.88689,     0.88789,\n",
            "           0.88889,     0.88989,     0.89089,     0.89189,     0.89289,     0.89389,     0.89489,      0.8959,      0.8969,      0.8979,      0.8989,      0.8999,      0.9009,      0.9019,      0.9029,      0.9039,      0.9049,     0.90591,     0.90691,     0.90791,     0.90891,     0.90991,     0.91091,     0.91191,\n",
            "           0.91291,     0.91391,     0.91491,     0.91592,     0.91692,     0.91792,     0.91892,     0.91992,     0.92092,     0.92192,     0.92292,     0.92392,     0.92492,     0.92593,     0.92693,     0.92793,     0.92893,     0.92993,     0.93093,     0.93193,     0.93293,     0.93393,     0.93493,     0.93594,\n",
            "           0.93694,     0.93794,     0.93894,     0.93994,     0.94094,     0.94194,     0.94294,     0.94394,     0.94494,     0.94595,     0.94695,     0.94795,     0.94895,     0.94995,     0.95095,     0.95195,     0.95295,     0.95395,     0.95495,     0.95596,     0.95696,     0.95796,     0.95896,     0.95996,\n",
            "           0.96096,     0.96196,     0.96296,     0.96396,     0.96496,     0.96597,     0.96697,     0.96797,     0.96897,     0.96997,     0.97097,     0.97197,     0.97297,     0.97397,     0.97497,     0.97598,     0.97698,     0.97798,     0.97898,     0.97998,     0.98098,     0.98198,     0.98298,     0.98398,\n",
            "           0.98498,     0.98599,     0.98699,     0.98799,     0.98899,     0.98999,     0.99099,     0.99199,     0.99299,     0.99399,     0.99499,       0.996,       0.997,       0.998,       0.999,           1]), array([[   0.034249,    0.034294,     0.14788,     0.23648,     0.28183,     0.31652,        0.35,     0.37614,     0.39932,      0.4225,     0.42956,     0.44414,     0.45108,     0.46062,     0.47396,      0.4834,     0.49355,     0.49814,     0.50406,     0.50992,     0.51404,     0.52349,      0.5287,\n",
            "            0.54172,     0.54936,     0.55369,     0.56168,     0.56586,     0.56772,     0.57071,     0.57646,     0.57624,     0.58203,     0.58784,     0.59076,     0.59327,     0.59919,     0.60147,     0.60222,     0.60462,     0.60728,     0.61156,     0.61569,     0.61834,      0.6197,     0.62776,\n",
            "            0.63344,     0.63444,     0.63603,       0.638,     0.63896,     0.64027,     0.64393,     0.64489,     0.64633,     0.64879,     0.65326,     0.65517,     0.65619,     0.65854,     0.65936,      0.6606,     0.66341,     0.66534,     0.66599,     0.66709,     0.66802,     0.66885,     0.67016,\n",
            "            0.67136,     0.67216,     0.67296,     0.67374,      0.6748,     0.67672,     0.67849,     0.68012,     0.68127,     0.68195,     0.68259,     0.68329,     0.68422,     0.68555,     0.68639,     0.68595,     0.68748,     0.69275,     0.69364,     0.69427,     0.69489,     0.69648,     0.69945,\n",
            "             0.7005,     0.70286,     0.70408,     0.70487,     0.70557,     0.70618,     0.70597,     0.70576,     0.70554,     0.70581,     0.70698,     0.70853,     0.71028,     0.71329,     0.71377,     0.71426,     0.71475,     0.71693,     0.71655,     0.71849,     0.71999,     0.72192,     0.72161,\n",
            "            0.72354,     0.72394,     0.72434,     0.72473,     0.72513,     0.72559,     0.72669,      0.7279,     0.72948,      0.7311,     0.73151,     0.73131,     0.73111,     0.73091,     0.73277,     0.73475,      0.7344,     0.73553,     0.73719,     0.73874,     0.74086,     0.74297,     0.74364,\n",
            "            0.74431,     0.74499,     0.74581,     0.74663,     0.74686,     0.74658,     0.74858,     0.74885,     0.74912,     0.74939,     0.74966,     0.74992,     0.75019,     0.75046,     0.75073,     0.75203,     0.75368,     0.75726,     0.75964,     0.75954,     0.75944,     0.75934,     0.75924,\n",
            "            0.75913,     0.75903,     0.75893,     0.75927,     0.75963,     0.75998,     0.76034,     0.76069,     0.76105,     0.76356,     0.76386,     0.76416,     0.76445,     0.76475,     0.76505,     0.76534,     0.76564,     0.76595,     0.76625,     0.76656,     0.76687,     0.76718,     0.76749,\n",
            "             0.7678,     0.76824,     0.76981,     0.77097,     0.77188,     0.77275,     0.77308,      0.7734,     0.77372,     0.77405,     0.77437,      0.7747,     0.77502,      0.7769,     0.77705,     0.77742,     0.77778,     0.77814,     0.77851,     0.77887,     0.77921,     0.77948,     0.77975,\n",
            "            0.78002,     0.78029,     0.78056,     0.78083,      0.7811,     0.78137,     0.78253,       0.784,     0.78409,     0.78419,     0.78428,     0.78438,     0.78447,     0.78457,     0.78466,     0.78476,     0.78485,     0.78495,     0.78504,     0.78514,     0.78523,     0.78533,     0.78542,\n",
            "            0.78552,     0.78561,     0.78571,      0.7858,      0.7859,     0.78599,     0.78609,     0.78618,     0.78628,     0.78637,     0.78722,     0.78811,     0.78887,     0.78912,     0.78937,     0.78962,     0.78988,     0.79013,     0.79038,     0.79063,     0.79088,     0.79113,      0.7915,\n",
            "            0.79202,     0.79254,     0.79306,     0.79358,     0.79359,     0.79335,     0.79312,     0.79327,     0.79344,     0.79362,     0.79379,     0.79397,     0.79415,     0.79432,      0.7945,     0.79467,     0.79485,     0.79502,      0.7952,     0.79537,     0.79555,     0.79601,     0.79657,\n",
            "            0.79713,     0.79769,     0.79836,     0.79936,     0.80035,     0.80101,     0.80153,     0.80204,     0.80256,     0.80308,     0.80364,     0.80421,     0.80477,     0.80534,     0.80554,     0.80549,     0.80663,     0.80771,     0.80803,     0.80835,     0.80866,     0.80898,      0.8093,\n",
            "            0.80961,     0.80993,     0.81024,     0.81096,     0.81174,     0.81253,     0.81379,     0.81548,     0.81546,     0.81538,      0.8153,     0.81522,     0.81514,     0.81506,     0.81498,     0.81471,     0.81484,       0.817,      0.8172,     0.81741,     0.81761,     0.81782,     0.81802,\n",
            "            0.81822,     0.81843,     0.81863,     0.81884,     0.81904,     0.81925,     0.81945,     0.81966,     0.82253,     0.82278,     0.82303,     0.82327,     0.82352,     0.82377,     0.82402,     0.82427,     0.82452,     0.82477,     0.82502,     0.82498,     0.82485,     0.82471,     0.82458,\n",
            "            0.82469,     0.82508,     0.82548,     0.82587,     0.82627,     0.82666,     0.82706,     0.82736,     0.82757,     0.82778,     0.82799,     0.82821,     0.82842,     0.82863,     0.82884,     0.82906,     0.82927,     0.82948,     0.82969,     0.82991,     0.83035,     0.83097,      0.8316,\n",
            "            0.83223,     0.83277,     0.83269,     0.83262,     0.83254,     0.83247,     0.83239,     0.83232,     0.83224,     0.83267,     0.83338,      0.8341,     0.83481,     0.83491,     0.83475,      0.8346,     0.83443,     0.83397,     0.83528,     0.83671,     0.83652,     0.83633,     0.83626,\n",
            "            0.83675,     0.83725,     0.83774,     0.83823,     0.83872,     0.83909,     0.83923,     0.83937,     0.83951,     0.83965,     0.83978,     0.83992,     0.84006,      0.8402,     0.84034,     0.84048,     0.84062,     0.84076,      0.8409,     0.84103,     0.84117,     0.84131,     0.84145,\n",
            "            0.84159,     0.84173,     0.84187,     0.84213,     0.84248,     0.84283,     0.84318,     0.84353,     0.84388,     0.84423,     0.84458,     0.84488,     0.84505,     0.84523,      0.8454,     0.84558,     0.84575,     0.84593,      0.8461,     0.84628,     0.84645,     0.84663,     0.84681,\n",
            "            0.84698,     0.84716,     0.84733,     0.84751,     0.84768,      0.8473,      0.8479,      0.8485,     0.84911,     0.84971,     0.84994,     0.84934,     0.84972,      0.8501,     0.85048,     0.85086,     0.85124,     0.85162,       0.852,     0.85283,     0.85383,     0.85483,     0.85495,\n",
            "            0.85471,     0.85476,       0.855,     0.85524,     0.85548,     0.85572,     0.85596,      0.8562,     0.85644,     0.85668,     0.85692,     0.85717,     0.85741,     0.85765,     0.85784,     0.85803,     0.85822,     0.85841,      0.8586,     0.85879,     0.85898,     0.85917,     0.85936,\n",
            "            0.85955,     0.85974,     0.85993,     0.86012,     0.86031,      0.8605,     0.86069,     0.86153,     0.86248,     0.86343,     0.86522,     0.86677,     0.86665,     0.86734,     0.86803,     0.86872,     0.86941,     0.87067,     0.87208,     0.87599,     0.87634,     0.87669,     0.87704,\n",
            "            0.87739,     0.87774,     0.87809,     0.87843,     0.87878,     0.87911,     0.87884,     0.87866,     0.87862,     0.87859,     0.87855,     0.87851,     0.87847,     0.87844,      0.8784,     0.87836,     0.87833,     0.87829,     0.87825,     0.88203,     0.88381,      0.8866,     0.88836,\n",
            "            0.88885,     0.88933,     0.88982,      0.8903,     0.89078,     0.89127,     0.89494,     0.89538,     0.89581,     0.89624,     0.89668,     0.89711,     0.89755,     0.89798,     0.89835,      0.8987,     0.89905,      0.8994,     0.89974,     0.90009,     0.90044,     0.90078,     0.90113,\n",
            "            0.90148,     0.90149,     0.90147,     0.90145,     0.90143,      0.9014,     0.90138,     0.90136,     0.90133,     0.90131,     0.90129,     0.90127,     0.90124,     0.90122,      0.9012,     0.90117,     0.90115,      0.9017,     0.90276,     0.90381,     0.90473,     0.90528,     0.90583,\n",
            "            0.90638,     0.90693,     0.90748,     0.90803,     0.90799,     0.90794,     0.90788,     0.90782,     0.90777,     0.90771,     0.91118,     0.91115,     0.91112,     0.91108,     0.91105,     0.91101,     0.91098,     0.91095,     0.91091,     0.91088,     0.91084,     0.91078,     0.91072,\n",
            "            0.91067,     0.91061,     0.91055,     0.91166,     0.91542,     0.91762,     0.91756,     0.91749,     0.91742,     0.91736,      0.9173,     0.91725,      0.9172,     0.91716,     0.91711,     0.91706,     0.91702,     0.91908,     0.92088,     0.92132,     0.92176,      0.9222,     0.92264,\n",
            "            0.92308,     0.92352,     0.92396,      0.9243,     0.92429,     0.92427,     0.92426,     0.92424,     0.92423,     0.92422,      0.9242,     0.92419,     0.92418,     0.92416,     0.92415,     0.92413,     0.92412,     0.92411,     0.92409,     0.92408,     0.92407,     0.92405,     0.92404,\n",
            "            0.92402,     0.92401,     0.92369,     0.92356,     0.92343,     0.92308,     0.92292,      0.9228,     0.92382,     0.92483,     0.92585,     0.92647,     0.92629,      0.9261,     0.92658,     0.92973,      0.9297,     0.92966,     0.92963,      0.9296,     0.92957,     0.92953,      0.9295,\n",
            "            0.92947,     0.92916,     0.92912,     0.92907,     0.92902,     0.92898,     0.92893,     0.92889,     0.92885,     0.92881,     0.92877,     0.92873,     0.92869,     0.92865,     0.92861,     0.92857,     0.92853,     0.92848,     0.92844,     0.92839,     0.92835,      0.9283,     0.92822,\n",
            "            0.92807,     0.93187,     0.93172,     0.93159,     0.93151,     0.93142,     0.93134,     0.93125,     0.93116,     0.93108,     0.93089,     0.93139,     0.93189,     0.93239,     0.93289,      0.9334,      0.9339,      0.9344,     0.93803,     0.94216,     0.94387,     0.94504,     0.94621,\n",
            "            0.94713,     0.94712,     0.94711,     0.94709,     0.94708,     0.94707,     0.94705,     0.94704,     0.94702,     0.94701,       0.947,     0.94698,     0.94697,     0.94696,     0.94694,     0.94693,     0.94691,      0.9469,     0.94687,     0.94684,      0.9468,     0.94677,     0.94674,\n",
            "            0.94671,     0.94668,     0.94651,     0.94728,     0.94848,     0.94968,     0.95103,     0.95304,     0.95495,     0.95491,     0.95486,     0.95482,     0.95478,     0.95474,     0.95471,     0.95468,     0.95465,     0.95462,     0.95459,     0.95456,     0.95588,     0.95886,     0.95869,\n",
            "            0.95863,     0.95858,     0.95851,     0.95839,     0.95928,     0.96193,     0.96256,     0.96248,     0.96395,     0.96685,     0.96681,     0.96677,     0.96674,      0.9667,     0.96667,      0.9665,     0.96647,     0.96643,      0.9664,     0.96637,     0.96633,      0.9663,     0.96626,\n",
            "            0.96622,     0.96619,     0.96607,     0.96599,     0.96594,      0.9659,     0.96585,     0.96582,     0.96579,     0.96576,     0.96573,      0.9657,      0.9656,     0.96548,     0.96538,     0.96534,     0.96532,      0.9653,     0.96529,     0.96527,     0.96526,     0.96524,     0.96522,\n",
            "            0.96521,     0.96519,     0.96518,      0.9651,     0.96502,     0.96499,     0.96497,     0.96495,     0.96493,     0.96491,     0.96489,     0.96487,     0.96485,     0.96483,     0.96465,     0.96953,     0.96951,     0.96949,     0.96947,     0.96945,     0.96943,     0.96941,     0.96939,\n",
            "            0.96927,     0.96917,     0.96909,     0.96903,     0.96898,     0.96893,     0.96873,     0.96867,     0.96861,     0.96839,     0.96828,     0.96786,     0.96754,     0.96743,     0.96721,       0.967,     0.96677,     0.96663,     0.96644,     0.96638,     0.96632,     0.96625,     0.96616,\n",
            "            0.96607,     0.96596,     0.96574,     0.96934,     0.97077,     0.97074,     0.97071,     0.97069,     0.97066,     0.97064,     0.97062,     0.97059,     0.97051,     0.97037,     0.97009,      0.9697,     0.96926,     0.96902,     0.97072,     0.97359,     0.97497,      0.9749,     0.97479,\n",
            "            0.97913,     0.98059,     0.98688,     0.98668,     0.98655,      0.9865,     0.98632,     0.98622,     0.98582,      0.9857,     0.98563,     0.98546,     0.98528,     0.98525,     0.98522,     0.98519,     0.98507,     0.98481,     0.98452,     0.98441,     0.98419,     0.98397,     0.98376,\n",
            "             0.9834,     0.99154,     0.99123,     0.99119,     0.99116,     0.99099,     0.99071,     0.99064,     0.99063,     0.99061,     0.99059,     0.99057,     0.99052,     0.99029,      0.9902,     0.99003,     0.98979,     0.98967,     0.98963,     0.98955,           1,           1,           1,\n",
            "                  1,           1,           1,           1,           1,           1,           1,           1,           1,           1,           1,           1,           1,           1,           1,           1,           1,           1,           1,           1,           1,           1,           1,\n",
            "                  1,           1,           1,           1,           1,           1,           1,           1,           1,           1,           1,           1,           1,           1,           1,           1,           1,           1,           1,           1,           1,           1,           1,\n",
            "                  1,           1,           1,           1,           1,           1,           1,           1,           1,           1,           1,           1,           1,           1,           1,           1,           1,           1,           1,           1,           1,           1,           1,\n",
            "                  1,           1,           1,           1,           1,           1,           1,           1,           1,           1,           1]]), 'Confidence', 'Precision'], [array([          0,    0.001001,    0.002002,    0.003003,    0.004004,    0.005005,    0.006006,    0.007007,    0.008008,    0.009009,     0.01001,    0.011011,    0.012012,    0.013013,    0.014014,    0.015015,    0.016016,    0.017017,    0.018018,    0.019019,     0.02002,    0.021021,    0.022022,    0.023023,\n",
            "          0.024024,    0.025025,    0.026026,    0.027027,    0.028028,    0.029029,     0.03003,    0.031031,    0.032032,    0.033033,    0.034034,    0.035035,    0.036036,    0.037037,    0.038038,    0.039039,     0.04004,    0.041041,    0.042042,    0.043043,    0.044044,    0.045045,    0.046046,    0.047047,\n",
            "          0.048048,    0.049049,     0.05005,    0.051051,    0.052052,    0.053053,    0.054054,    0.055055,    0.056056,    0.057057,    0.058058,    0.059059,     0.06006,    0.061061,    0.062062,    0.063063,    0.064064,    0.065065,    0.066066,    0.067067,    0.068068,    0.069069,     0.07007,    0.071071,\n",
            "          0.072072,    0.073073,    0.074074,    0.075075,    0.076076,    0.077077,    0.078078,    0.079079,     0.08008,    0.081081,    0.082082,    0.083083,    0.084084,    0.085085,    0.086086,    0.087087,    0.088088,    0.089089,     0.09009,    0.091091,    0.092092,    0.093093,    0.094094,    0.095095,\n",
            "          0.096096,    0.097097,    0.098098,    0.099099,      0.1001,      0.1011,      0.1021,      0.1031,      0.1041,     0.10511,     0.10611,     0.10711,     0.10811,     0.10911,     0.11011,     0.11111,     0.11211,     0.11311,     0.11411,     0.11512,     0.11612,     0.11712,     0.11812,     0.11912,\n",
            "           0.12012,     0.12112,     0.12212,     0.12312,     0.12412,     0.12513,     0.12613,     0.12713,     0.12813,     0.12913,     0.13013,     0.13113,     0.13213,     0.13313,     0.13413,     0.13514,     0.13614,     0.13714,     0.13814,     0.13914,     0.14014,     0.14114,     0.14214,     0.14314,\n",
            "           0.14414,     0.14515,     0.14615,     0.14715,     0.14815,     0.14915,     0.15015,     0.15115,     0.15215,     0.15315,     0.15415,     0.15516,     0.15616,     0.15716,     0.15816,     0.15916,     0.16016,     0.16116,     0.16216,     0.16316,     0.16416,     0.16517,     0.16617,     0.16717,\n",
            "           0.16817,     0.16917,     0.17017,     0.17117,     0.17217,     0.17317,     0.17417,     0.17518,     0.17618,     0.17718,     0.17818,     0.17918,     0.18018,     0.18118,     0.18218,     0.18318,     0.18418,     0.18519,     0.18619,     0.18719,     0.18819,     0.18919,     0.19019,     0.19119,\n",
            "           0.19219,     0.19319,     0.19419,      0.1952,      0.1962,      0.1972,      0.1982,      0.1992,      0.2002,      0.2012,      0.2022,      0.2032,      0.2042,     0.20521,     0.20621,     0.20721,     0.20821,     0.20921,     0.21021,     0.21121,     0.21221,     0.21321,     0.21421,     0.21522,\n",
            "           0.21622,     0.21722,     0.21822,     0.21922,     0.22022,     0.22122,     0.22222,     0.22322,     0.22422,     0.22523,     0.22623,     0.22723,     0.22823,     0.22923,     0.23023,     0.23123,     0.23223,     0.23323,     0.23423,     0.23524,     0.23624,     0.23724,     0.23824,     0.23924,\n",
            "           0.24024,     0.24124,     0.24224,     0.24324,     0.24424,     0.24525,     0.24625,     0.24725,     0.24825,     0.24925,     0.25025,     0.25125,     0.25225,     0.25325,     0.25425,     0.25526,     0.25626,     0.25726,     0.25826,     0.25926,     0.26026,     0.26126,     0.26226,     0.26326,\n",
            "           0.26426,     0.26527,     0.26627,     0.26727,     0.26827,     0.26927,     0.27027,     0.27127,     0.27227,     0.27327,     0.27427,     0.27528,     0.27628,     0.27728,     0.27828,     0.27928,     0.28028,     0.28128,     0.28228,     0.28328,     0.28428,     0.28529,     0.28629,     0.28729,\n",
            "           0.28829,     0.28929,     0.29029,     0.29129,     0.29229,     0.29329,     0.29429,      0.2953,      0.2963,      0.2973,      0.2983,      0.2993,      0.3003,      0.3013,      0.3023,      0.3033,      0.3043,     0.30531,     0.30631,     0.30731,     0.30831,     0.30931,     0.31031,     0.31131,\n",
            "           0.31231,     0.31331,     0.31431,     0.31532,     0.31632,     0.31732,     0.31832,     0.31932,     0.32032,     0.32132,     0.32232,     0.32332,     0.32432,     0.32533,     0.32633,     0.32733,     0.32833,     0.32933,     0.33033,     0.33133,     0.33233,     0.33333,     0.33433,     0.33534,\n",
            "           0.33634,     0.33734,     0.33834,     0.33934,     0.34034,     0.34134,     0.34234,     0.34334,     0.34434,     0.34535,     0.34635,     0.34735,     0.34835,     0.34935,     0.35035,     0.35135,     0.35235,     0.35335,     0.35435,     0.35536,     0.35636,     0.35736,     0.35836,     0.35936,\n",
            "           0.36036,     0.36136,     0.36236,     0.36336,     0.36436,     0.36537,     0.36637,     0.36737,     0.36837,     0.36937,     0.37037,     0.37137,     0.37237,     0.37337,     0.37437,     0.37538,     0.37638,     0.37738,     0.37838,     0.37938,     0.38038,     0.38138,     0.38238,     0.38338,\n",
            "           0.38438,     0.38539,     0.38639,     0.38739,     0.38839,     0.38939,     0.39039,     0.39139,     0.39239,     0.39339,     0.39439,      0.3954,      0.3964,      0.3974,      0.3984,      0.3994,      0.4004,      0.4014,      0.4024,      0.4034,      0.4044,     0.40541,     0.40641,     0.40741,\n",
            "           0.40841,     0.40941,     0.41041,     0.41141,     0.41241,     0.41341,     0.41441,     0.41542,     0.41642,     0.41742,     0.41842,     0.41942,     0.42042,     0.42142,     0.42242,     0.42342,     0.42442,     0.42543,     0.42643,     0.42743,     0.42843,     0.42943,     0.43043,     0.43143,\n",
            "           0.43243,     0.43343,     0.43443,     0.43544,     0.43644,     0.43744,     0.43844,     0.43944,     0.44044,     0.44144,     0.44244,     0.44344,     0.44444,     0.44545,     0.44645,     0.44745,     0.44845,     0.44945,     0.45045,     0.45145,     0.45245,     0.45345,     0.45445,     0.45546,\n",
            "           0.45646,     0.45746,     0.45846,     0.45946,     0.46046,     0.46146,     0.46246,     0.46346,     0.46446,     0.46547,     0.46647,     0.46747,     0.46847,     0.46947,     0.47047,     0.47147,     0.47247,     0.47347,     0.47447,     0.47548,     0.47648,     0.47748,     0.47848,     0.47948,\n",
            "           0.48048,     0.48148,     0.48248,     0.48348,     0.48448,     0.48549,     0.48649,     0.48749,     0.48849,     0.48949,     0.49049,     0.49149,     0.49249,     0.49349,     0.49449,      0.4955,      0.4965,      0.4975,      0.4985,      0.4995,      0.5005,      0.5015,      0.5025,      0.5035,\n",
            "            0.5045,     0.50551,     0.50651,     0.50751,     0.50851,     0.50951,     0.51051,     0.51151,     0.51251,     0.51351,     0.51451,     0.51552,     0.51652,     0.51752,     0.51852,     0.51952,     0.52052,     0.52152,     0.52252,     0.52352,     0.52452,     0.52553,     0.52653,     0.52753,\n",
            "           0.52853,     0.52953,     0.53053,     0.53153,     0.53253,     0.53353,     0.53453,     0.53554,     0.53654,     0.53754,     0.53854,     0.53954,     0.54054,     0.54154,     0.54254,     0.54354,     0.54454,     0.54555,     0.54655,     0.54755,     0.54855,     0.54955,     0.55055,     0.55155,\n",
            "           0.55255,     0.55355,     0.55455,     0.55556,     0.55656,     0.55756,     0.55856,     0.55956,     0.56056,     0.56156,     0.56256,     0.56356,     0.56456,     0.56557,     0.56657,     0.56757,     0.56857,     0.56957,     0.57057,     0.57157,     0.57257,     0.57357,     0.57457,     0.57558,\n",
            "           0.57658,     0.57758,     0.57858,     0.57958,     0.58058,     0.58158,     0.58258,     0.58358,     0.58458,     0.58559,     0.58659,     0.58759,     0.58859,     0.58959,     0.59059,     0.59159,     0.59259,     0.59359,     0.59459,      0.5956,      0.5966,      0.5976,      0.5986,      0.5996,\n",
            "            0.6006,      0.6016,      0.6026,      0.6036,      0.6046,     0.60561,     0.60661,     0.60761,     0.60861,     0.60961,     0.61061,     0.61161,     0.61261,     0.61361,     0.61461,     0.61562,     0.61662,     0.61762,     0.61862,     0.61962,     0.62062,     0.62162,     0.62262,     0.62362,\n",
            "           0.62462,     0.62563,     0.62663,     0.62763,     0.62863,     0.62963,     0.63063,     0.63163,     0.63263,     0.63363,     0.63463,     0.63564,     0.63664,     0.63764,     0.63864,     0.63964,     0.64064,     0.64164,     0.64264,     0.64364,     0.64464,     0.64565,     0.64665,     0.64765,\n",
            "           0.64865,     0.64965,     0.65065,     0.65165,     0.65265,     0.65365,     0.65465,     0.65566,     0.65666,     0.65766,     0.65866,     0.65966,     0.66066,     0.66166,     0.66266,     0.66366,     0.66466,     0.66567,     0.66667,     0.66767,     0.66867,     0.66967,     0.67067,     0.67167,\n",
            "           0.67267,     0.67367,     0.67467,     0.67568,     0.67668,     0.67768,     0.67868,     0.67968,     0.68068,     0.68168,     0.68268,     0.68368,     0.68468,     0.68569,     0.68669,     0.68769,     0.68869,     0.68969,     0.69069,     0.69169,     0.69269,     0.69369,     0.69469,      0.6957,\n",
            "            0.6967,      0.6977,      0.6987,      0.6997,      0.7007,      0.7017,      0.7027,      0.7037,      0.7047,     0.70571,     0.70671,     0.70771,     0.70871,     0.70971,     0.71071,     0.71171,     0.71271,     0.71371,     0.71471,     0.71572,     0.71672,     0.71772,     0.71872,     0.71972,\n",
            "           0.72072,     0.72172,     0.72272,     0.72372,     0.72472,     0.72573,     0.72673,     0.72773,     0.72873,     0.72973,     0.73073,     0.73173,     0.73273,     0.73373,     0.73473,     0.73574,     0.73674,     0.73774,     0.73874,     0.73974,     0.74074,     0.74174,     0.74274,     0.74374,\n",
            "           0.74474,     0.74575,     0.74675,     0.74775,     0.74875,     0.74975,     0.75075,     0.75175,     0.75275,     0.75375,     0.75475,     0.75576,     0.75676,     0.75776,     0.75876,     0.75976,     0.76076,     0.76176,     0.76276,     0.76376,     0.76476,     0.76577,     0.76677,     0.76777,\n",
            "           0.76877,     0.76977,     0.77077,     0.77177,     0.77277,     0.77377,     0.77477,     0.77578,     0.77678,     0.77778,     0.77878,     0.77978,     0.78078,     0.78178,     0.78278,     0.78378,     0.78478,     0.78579,     0.78679,     0.78779,     0.78879,     0.78979,     0.79079,     0.79179,\n",
            "           0.79279,     0.79379,     0.79479,      0.7958,      0.7968,      0.7978,      0.7988,      0.7998,      0.8008,      0.8018,      0.8028,      0.8038,      0.8048,     0.80581,     0.80681,     0.80781,     0.80881,     0.80981,     0.81081,     0.81181,     0.81281,     0.81381,     0.81481,     0.81582,\n",
            "           0.81682,     0.81782,     0.81882,     0.81982,     0.82082,     0.82182,     0.82282,     0.82382,     0.82482,     0.82583,     0.82683,     0.82783,     0.82883,     0.82983,     0.83083,     0.83183,     0.83283,     0.83383,     0.83483,     0.83584,     0.83684,     0.83784,     0.83884,     0.83984,\n",
            "           0.84084,     0.84184,     0.84284,     0.84384,     0.84484,     0.84585,     0.84685,     0.84785,     0.84885,     0.84985,     0.85085,     0.85185,     0.85285,     0.85385,     0.85485,     0.85586,     0.85686,     0.85786,     0.85886,     0.85986,     0.86086,     0.86186,     0.86286,     0.86386,\n",
            "           0.86486,     0.86587,     0.86687,     0.86787,     0.86887,     0.86987,     0.87087,     0.87187,     0.87287,     0.87387,     0.87487,     0.87588,     0.87688,     0.87788,     0.87888,     0.87988,     0.88088,     0.88188,     0.88288,     0.88388,     0.88488,     0.88589,     0.88689,     0.88789,\n",
            "           0.88889,     0.88989,     0.89089,     0.89189,     0.89289,     0.89389,     0.89489,      0.8959,      0.8969,      0.8979,      0.8989,      0.8999,      0.9009,      0.9019,      0.9029,      0.9039,      0.9049,     0.90591,     0.90691,     0.90791,     0.90891,     0.90991,     0.91091,     0.91191,\n",
            "           0.91291,     0.91391,     0.91491,     0.91592,     0.91692,     0.91792,     0.91892,     0.91992,     0.92092,     0.92192,     0.92292,     0.92392,     0.92492,     0.92593,     0.92693,     0.92793,     0.92893,     0.92993,     0.93093,     0.93193,     0.93293,     0.93393,     0.93493,     0.93594,\n",
            "           0.93694,     0.93794,     0.93894,     0.93994,     0.94094,     0.94194,     0.94294,     0.94394,     0.94494,     0.94595,     0.94695,     0.94795,     0.94895,     0.94995,     0.95095,     0.95195,     0.95295,     0.95395,     0.95495,     0.95596,     0.95696,     0.95796,     0.95896,     0.95996,\n",
            "           0.96096,     0.96196,     0.96296,     0.96396,     0.96496,     0.96597,     0.96697,     0.96797,     0.96897,     0.96997,     0.97097,     0.97197,     0.97297,     0.97397,     0.97497,     0.97598,     0.97698,     0.97798,     0.97898,     0.97998,     0.98098,     0.98198,     0.98298,     0.98398,\n",
            "           0.98498,     0.98599,     0.98699,     0.98799,     0.98899,     0.98999,     0.99099,     0.99199,     0.99299,     0.99399,     0.99499,       0.996,       0.997,       0.998,       0.999,           1]), array([[    0.97627,     0.97627,     0.96271,     0.94915,     0.94237,     0.94237,     0.94237,     0.94237,     0.93898,     0.93898,     0.92918,     0.92542,     0.92203,     0.92203,     0.91864,     0.91864,     0.91864,     0.91525,     0.91186,     0.91186,     0.90508,     0.90508,     0.90508,\n",
            "            0.90508,     0.90508,     0.90508,     0.90508,     0.90508,     0.90508,     0.90508,     0.90428,     0.89831,     0.89831,     0.89831,     0.89831,     0.89831,     0.89492,     0.89492,     0.89492,     0.89492,     0.89492,     0.89492,     0.89492,     0.89492,     0.89492,     0.89492,\n",
            "            0.89492,     0.89492,     0.89492,     0.89492,     0.89492,     0.89492,     0.89492,     0.89492,     0.89492,     0.89492,     0.89492,     0.89492,     0.89492,     0.89492,     0.89492,     0.89492,     0.89492,     0.89492,     0.89153,     0.89153,     0.89153,     0.89153,     0.89153,\n",
            "            0.89153,     0.89153,     0.89153,     0.89153,     0.89153,     0.89153,     0.89153,     0.89153,     0.89153,     0.89153,     0.89153,     0.89153,     0.89153,     0.89153,     0.89031,     0.88814,     0.88814,     0.88814,     0.88814,     0.88814,     0.88814,     0.88814,     0.88814,\n",
            "            0.88814,     0.88814,     0.88814,     0.88814,     0.88814,     0.88805,     0.88714,     0.88624,     0.88534,     0.88475,     0.88475,     0.88475,     0.88475,     0.88475,     0.88475,     0.88475,     0.88475,     0.88429,     0.88266,     0.88136,     0.88136,     0.88136,     0.87797,\n",
            "            0.87797,     0.87797,     0.87797,     0.87797,     0.87797,     0.87797,     0.87797,     0.87797,     0.87797,     0.87797,     0.87737,     0.87648,     0.87559,      0.8747,     0.87458,     0.87328,     0.87171,     0.87119,     0.87119,     0.87119,     0.87119,     0.87119,     0.87119,\n",
            "            0.87119,     0.87119,     0.87119,     0.87119,      0.8701,      0.8678,      0.8678,      0.8678,      0.8678,      0.8678,      0.8678,      0.8678,      0.8678,      0.8678,      0.8678,      0.8678,      0.8678,      0.8678,     0.86778,      0.8673,     0.86682,     0.86634,     0.86586,\n",
            "            0.86538,      0.8649,     0.86442,     0.86441,     0.86441,     0.86441,     0.86441,     0.86441,     0.86441,     0.86441,     0.86441,     0.86441,     0.86441,     0.86441,     0.86441,     0.86441,     0.86441,     0.86441,     0.86441,     0.86441,     0.86441,     0.86441,     0.86441,\n",
            "            0.86441,     0.86441,     0.86441,     0.86441,     0.86441,     0.86441,     0.86441,     0.86441,     0.86441,     0.86441,     0.86441,     0.86441,     0.86441,     0.86173,     0.86102,     0.86102,     0.86102,     0.86102,     0.86102,     0.86102,     0.86102,     0.86102,     0.86102,\n",
            "            0.86102,     0.86102,     0.86102,     0.86102,     0.86102,     0.86102,     0.86102,     0.86102,     0.86102,     0.86102,     0.86102,     0.86102,     0.86102,     0.86102,     0.86102,     0.86102,     0.86102,     0.86102,     0.86102,     0.86102,     0.86102,     0.86102,     0.86102,\n",
            "            0.86102,     0.86102,     0.86102,     0.86102,     0.86102,     0.86102,     0.86102,     0.86102,     0.86102,     0.86102,     0.86102,     0.86102,     0.86102,     0.86102,     0.86102,     0.86102,     0.86102,     0.86102,     0.86102,     0.86102,     0.86102,     0.86102,     0.86102,\n",
            "            0.86102,     0.86102,     0.86102,     0.86102,     0.86018,     0.85895,     0.85771,     0.85763,     0.85763,     0.85763,     0.85763,     0.85763,     0.85763,     0.85763,     0.85763,     0.85763,     0.85763,     0.85763,     0.85763,     0.85763,     0.85763,     0.85763,     0.85763,\n",
            "            0.85763,     0.85763,     0.85763,     0.85763,     0.85763,     0.85763,     0.85763,     0.85763,     0.85763,     0.85763,     0.85763,     0.85763,     0.85763,     0.85763,     0.85656,     0.85424,     0.85424,     0.85424,     0.85424,     0.85424,     0.85424,     0.85424,     0.85424,\n",
            "            0.85424,     0.85424,     0.85424,     0.85424,     0.85424,     0.85424,     0.85424,     0.85424,      0.8538,     0.85335,      0.8529,     0.85245,       0.852,     0.85154,     0.85109,     0.84958,     0.84746,     0.84746,     0.84746,     0.84746,     0.84746,     0.84746,     0.84746,\n",
            "            0.84746,     0.84746,     0.84746,     0.84746,     0.84746,     0.84746,     0.84746,     0.84746,     0.84746,     0.84746,     0.84746,     0.84746,     0.84746,     0.84746,     0.84746,     0.84746,     0.84746,     0.84746,     0.84746,     0.84688,     0.84608,     0.84529,     0.84449,\n",
            "            0.84407,     0.84407,     0.84407,     0.84407,     0.84407,     0.84407,     0.84407,     0.84407,     0.84407,     0.84407,     0.84407,     0.84407,     0.84407,     0.84407,     0.84407,     0.84407,     0.84407,     0.84407,     0.84407,     0.84407,     0.84407,     0.84407,     0.84407,\n",
            "            0.84407,     0.84401,     0.84356,     0.84311,     0.84265,      0.8422,     0.84175,      0.8413,     0.84084,     0.84068,     0.84068,     0.84068,     0.84068,     0.84001,     0.83908,     0.83815,     0.83708,     0.83435,      0.8339,     0.83375,     0.83261,     0.83146,     0.83051,\n",
            "            0.83051,     0.83051,     0.83051,     0.83051,     0.83051,     0.83051,     0.83051,     0.83051,     0.83051,     0.83051,     0.83051,     0.83051,     0.83051,     0.83051,     0.83051,     0.83051,     0.83051,     0.83051,     0.83051,     0.83051,     0.83051,     0.83051,     0.83051,\n",
            "            0.83051,     0.83051,     0.83051,     0.83051,     0.83051,     0.83051,     0.83051,     0.83051,     0.83051,     0.83051,     0.83051,     0.83051,     0.83051,     0.83051,     0.83051,     0.83051,     0.83051,     0.83051,     0.83051,     0.83051,     0.83051,     0.83051,     0.83051,\n",
            "            0.83051,     0.83051,     0.83051,     0.83051,     0.83051,     0.82712,     0.82712,     0.82712,     0.82712,     0.82712,     0.82558,     0.82034,     0.82034,     0.82034,     0.82034,     0.82034,     0.82034,     0.82034,     0.82034,     0.82034,     0.82034,     0.82034,      0.8192,\n",
            "            0.81758,     0.81695,     0.81695,     0.81695,     0.81695,     0.81695,     0.81695,     0.81695,     0.81695,     0.81695,     0.81695,     0.81695,     0.81695,     0.81695,     0.81695,     0.81695,     0.81695,     0.81695,     0.81695,     0.81695,     0.81695,     0.81695,     0.81695,\n",
            "            0.81695,     0.81695,     0.81695,     0.81695,     0.81695,     0.81695,     0.81695,     0.81695,     0.81695,     0.81695,     0.81695,     0.81598,     0.81356,     0.81356,     0.81356,     0.81356,     0.81356,     0.81356,     0.81356,     0.81356,     0.81356,     0.81356,     0.81356,\n",
            "            0.81356,     0.81356,     0.81356,     0.81356,     0.81356,     0.81348,     0.81138,     0.81005,     0.80977,     0.80949,     0.80921,     0.80892,     0.80864,     0.80836,     0.80808,      0.8078,     0.80752,     0.80724,     0.80695,     0.80678,     0.80678,     0.80678,     0.80678,\n",
            "            0.80678,     0.80678,     0.80678,     0.80678,     0.80678,     0.80678,     0.80678,     0.80678,     0.80678,     0.80678,     0.80678,     0.80678,     0.80678,     0.80678,     0.80678,     0.80678,     0.80678,     0.80678,     0.80678,     0.80678,     0.80678,     0.80678,     0.80678,\n",
            "            0.80678,     0.80659,     0.80639,     0.80618,     0.80597,     0.80577,     0.80556,     0.80535,     0.80514,     0.80494,     0.80473,     0.80452,     0.80432,     0.80411,      0.8039,     0.80369,     0.80349,     0.80339,     0.80339,     0.80339,     0.80339,     0.80339,     0.80339,\n",
            "            0.80339,     0.80339,     0.80339,     0.80339,     0.80287,     0.80234,      0.8018,     0.80126,     0.80073,     0.80019,     0.79986,     0.79953,      0.7992,     0.79887,     0.79854,     0.79821,     0.79787,     0.79754,     0.79721,     0.79688,     0.79651,     0.79593,     0.79536,\n",
            "            0.79478,      0.7942,     0.79363,     0.79322,     0.79322,     0.79297,     0.79227,     0.79157,     0.79087,     0.79018,     0.78958,     0.78909,      0.7886,     0.78811,     0.78762,     0.78713,     0.78664,     0.78644,     0.78644,     0.78644,     0.78644,     0.78644,     0.78644,\n",
            "            0.78644,     0.78644,     0.78644,     0.78641,     0.78625,      0.7861,     0.78594,     0.78579,     0.78564,     0.78548,     0.78533,     0.78517,     0.78502,     0.78486,     0.78471,     0.78455,      0.7844,     0.78425,     0.78409,     0.78394,     0.78378,     0.78363,     0.78347,\n",
            "            0.78332,     0.78316,     0.77966,     0.77822,     0.77677,     0.77288,     0.77115,     0.76949,     0.76949,     0.76949,     0.76949,     0.76882,     0.76677,     0.76467,     0.76271,     0.76246,     0.76208,      0.7617,     0.76132,     0.76093,     0.76055,     0.76017,     0.75979,\n",
            "             0.7594,     0.75587,     0.75535,     0.75483,     0.75431,     0.75379,     0.75327,     0.75274,     0.75227,     0.75183,     0.75139,     0.75095,     0.75051,     0.75007,     0.74963,     0.74919,     0.74868,     0.74817,     0.74766,     0.74715,     0.74663,     0.74612,     0.74525,\n",
            "            0.74353,      0.7419,     0.74009,     0.73861,     0.73763,     0.73666,     0.73569,     0.73469,     0.73369,     0.73269,     0.72881,     0.72881,     0.72881,     0.72881,     0.72881,     0.72881,     0.72881,     0.72881,     0.72881,     0.72881,     0.72881,     0.72881,     0.72881,\n",
            "            0.72877,     0.72857,     0.72838,     0.72818,     0.72798,     0.72778,     0.72758,     0.72738,     0.72718,     0.72699,     0.72679,     0.72659,     0.72639,     0.72619,     0.72599,     0.72579,     0.72559,     0.72536,     0.72491,     0.72446,     0.72401,     0.72356,     0.72311,\n",
            "            0.72267,     0.72222,     0.71977,     0.71864,     0.71864,     0.71864,     0.71864,     0.71864,     0.71861,     0.71787,     0.71713,     0.71639,     0.71565,     0.71504,     0.71456,     0.71408,      0.7136,     0.71312,     0.71264,     0.71216,     0.71186,     0.71111,     0.70802,\n",
            "              0.707,     0.70597,      0.7048,     0.70275,     0.69831,     0.69831,     0.69717,     0.69565,     0.69492,     0.69492,     0.69116,     0.69041,     0.68966,      0.6889,     0.68815,     0.68454,     0.68386,     0.68318,      0.6825,     0.68182,     0.68111,     0.68034,     0.67956,\n",
            "            0.67878,     0.67801,     0.67567,     0.67403,     0.67304,     0.67205,     0.67111,     0.67049,     0.66987,     0.66926,     0.66864,     0.66802,      0.6661,     0.66371,     0.66178,     0.66083,     0.66051,     0.66019,     0.65988,     0.65956,     0.65924,     0.65893,     0.65861,\n",
            "             0.6583,     0.65798,     0.65766,     0.65625,      0.6547,     0.65397,     0.65359,     0.65322,     0.65284,     0.65246,     0.65208,     0.65171,     0.65133,     0.65095,     0.64746,     0.64727,     0.64683,     0.64639,     0.64595,     0.64551,     0.64507,     0.64462,     0.64418,\n",
            "            0.64156,     0.63943,     0.63775,     0.63648,     0.63535,     0.63423,     0.63004,     0.62883,     0.62762,     0.62309,     0.62078,     0.61242,     0.60616,     0.60404,     0.59994,     0.59604,     0.59165,      0.5892,     0.58567,     0.58463,     0.58358,      0.5823,     0.58077,\n",
            "            0.57913,     0.57717,     0.57328,     0.56949,     0.56284,     0.56225,     0.56177,      0.5613,     0.56083,     0.56036,     0.55989,     0.55942,     0.55772,     0.55508,      0.5497,     0.54247,      0.5344,     0.53022,     0.52881,     0.52881,     0.52808,     0.52665,     0.52439,\n",
            "            0.51864,     0.51382,     0.50996,     0.50205,     0.49727,     0.49538,     0.48898,     0.48517,     0.47128,     0.46723,     0.46506,     0.45949,     0.45377,     0.45285,     0.45193,     0.45101,     0.44724,     0.43947,      0.4313,     0.42809,     0.42209,      0.4161,     0.41074,\n",
            "            0.40168,     0.39748,     0.38302,     0.38148,     0.37994,     0.37267,     0.36146,     0.35896,     0.35826,     0.35755,     0.35684,     0.35613,     0.35408,      0.3457,     0.34236,     0.33664,     0.32868,     0.32489,     0.32335,     0.32104,      0.3111,     0.30093,     0.29588,\n",
            "            0.28698,     0.27387,     0.26851,     0.26108,      0.2545,     0.23953,     0.23104,     0.21929,     0.21096,     0.20453,      0.2006,     0.18924,     0.18526,      0.1802,     0.16232,     0.15152,     0.14622,     0.14279,     0.13954,     0.13598,     0.12047,     0.11292,     0.10963,\n",
            "            0.10623,     0.10084,    0.099289,    0.093795,    0.088154,    0.074048,    0.061116,    0.056168,    0.053109,     0.04783,    0.044619,    0.033525,    0.029101,     0.02728,    0.024663,     0.01851,      0.0135,     0.01295,      0.0124,     0.01185,      0.0113,     0.01075,      0.0102,\n",
            "          0.0067492,   0.0061261,    0.005503,   0.0048799,   0.0042568,   0.0036337,           0,           0,           0,           0,           0,           0,           0,           0,           0,           0,           0,           0,           0,           0,           0,           0,           0,\n",
            "                  0,           0,           0,           0,           0,           0,           0,           0,           0,           0,           0]]), 'Confidence', 'Recall']]\n",
            "fitness: 0.6910501830524409\n",
            "keys: ['metrics/precision(B)', 'metrics/recall(B)', 'metrics/mAP50(B)', 'metrics/mAP50-95(B)']\n",
            "maps: array([    0.66889])\n",
            "names: {0: 'person'}\n",
            "plot: True\n",
            "results_dict: {'metrics/precision(B)': 0.9111488805819128, 'metrics/recall(B)': 0.799526971001412, 'metrics/mAP50(B)': 0.8904489375424024, 'metrics/mAP50-95(B)': 0.6688947658868896, 'fitness': 0.6910501830524409}\n",
            "save_dir: PosixPath('runs/detect/person_detection2')\n",
            "speed: {'preprocess': 2.978319213503883, 'inference': 258.42605034510296, 'loss': 0.00019584383283342634, 'postprocess': 0.628922666822161}\n",
            "task: 'detect'\n"
          ]
        }
      ]
    },
    {
      "cell_type": "code",
      "source": [
        "# Validate the model\n",
        "from ultralytics import YOLO\n",
        "metrics = model.val()  # no arguments needed, dataset and settings remembered\n",
        "metrics.box.map  # map50-95\n",
        "metrics.box.map50  # map50\n",
        "metrics.box.map75  # map75\n",
        "metrics.box.maps  # a list contains map50-95 of each category"
      ],
      "metadata": {
        "colab": {
          "base_uri": "https://localhost:8080/"
        },
        "id": "riujWhPxOEvA",
        "outputId": "31b99142-cb10-4654-f8c6-63ece633550f"
      },
      "execution_count": null,
      "outputs": [
        {
          "output_type": "stream",
          "name": "stdout",
          "text": [
            "Ultralytics YOLOv8.2.81 🚀 Python-3.10.12 torch-2.3.1+cu121 CPU (Intel Xeon 2.20GHz)\n"
          ]
        },
        {
          "output_type": "stream",
          "name": "stderr",
          "text": [
            "\u001b[34m\u001b[1mval: \u001b[0mScanning /content/dataset/val/labels.cache... 84 images, 1 backgrounds, 0 corrupt: 100%|██████████| 84/84 [00:00<?, ?it/s]\n",
            "                 Class     Images  Instances      Box(P          R      mAP50  mAP50-95): 100%|██████████| 6/6 [00:28<00:00,  4.80s/it]\n"
          ]
        },
        {
          "output_type": "stream",
          "name": "stdout",
          "text": [
            "                   all         84        295      0.911        0.8       0.89      0.669\n",
            "Speed: 4.6ms preprocess, 320.9ms inference, 0.0ms loss, 0.9ms postprocess per image\n",
            "Results saved to \u001b[1mruns/detect/val\u001b[0m\n"
          ]
        },
        {
          "output_type": "execute_result",
          "data": {
            "text/plain": [
              "array([    0.66889])"
            ]
          },
          "metadata": {},
          "execution_count": 8
        }
      ]
    },
    {
      "cell_type": "code",
      "execution_count": null,
      "metadata": {
        "id": "L_6un1sHiX-U",
        "colab": {
          "base_uri": "https://localhost:8080/"
        },
        "outputId": "6b78b360-701c-4181-8b43-74157f2d07d6"
      },
      "outputs": [
        {
          "output_type": "stream",
          "name": "stdout",
          "text": [
            "\n",
            "image 1/1 /content/test_image.jpg: 640x640 6 persons, 397.0ms\n",
            "Speed: 8.2ms preprocess, 397.0ms inference, 1.6ms postprocess per image at shape (1, 3, 640, 640)\n",
            "Results saved to \u001b[1mruns/detect/predict2\u001b[0m\n",
            "1 label saved to runs/detect/predict2/labels\n",
            "[ultralytics.engine.results.Results object with attributes:\n",
            "\n",
            "boxes: ultralytics.engine.results.Boxes object\n",
            "keypoints: None\n",
            "masks: None\n",
            "names: {0: 'person'}\n",
            "obb: None\n",
            "orig_img: array([[[214, 211, 203],\n",
            "        [214, 211, 203],\n",
            "        [214, 211, 203],\n",
            "        ...,\n",
            "        [201, 201, 189],\n",
            "        [201, 201, 189],\n",
            "        [201, 201, 189]],\n",
            "\n",
            "       [[214, 211, 203],\n",
            "        [214, 211, 203],\n",
            "        [214, 211, 203],\n",
            "        ...,\n",
            "        [201, 201, 189],\n",
            "        [201, 201, 189],\n",
            "        [201, 201, 189]],\n",
            "\n",
            "       [[214, 211, 203],\n",
            "        [214, 211, 203],\n",
            "        [214, 211, 203],\n",
            "        ...,\n",
            "        [201, 201, 189],\n",
            "        [201, 201, 189],\n",
            "        [201, 201, 189]],\n",
            "\n",
            "       ...,\n",
            "\n",
            "       [[ 77,  93, 100],\n",
            "        [ 75,  91,  98],\n",
            "        [ 73,  89,  96],\n",
            "        ...,\n",
            "        [ 67,  86,  99],\n",
            "        [ 68,  87, 100],\n",
            "        [ 68,  87, 100]],\n",
            "\n",
            "       [[ 76,  92,  99],\n",
            "        [ 75,  91,  98],\n",
            "        [ 73,  89,  96],\n",
            "        ...,\n",
            "        [ 68,  87, 100],\n",
            "        [ 69,  88, 101],\n",
            "        [ 69,  88, 101]],\n",
            "\n",
            "       [[ 75,  91,  98],\n",
            "        [ 74,  90,  97],\n",
            "        [ 72,  88,  95],\n",
            "        ...,\n",
            "        [ 69,  88, 101],\n",
            "        [ 69,  88, 101],\n",
            "        [ 70,  89, 102]]], dtype=uint8)\n",
            "orig_shape: (640, 640)\n",
            "path: '/content/test_image.jpg'\n",
            "probs: None\n",
            "save_dir: 'runs/detect/predict2'\n",
            "speed: {'preprocess': 8.189916610717773, 'inference': 396.9540596008301, 'postprocess': 1.6484260559082031}]\n"
          ]
        }
      ],
      "source": [
        "from ultralytics import YOLO\n",
        "\n",
        "# Load the best-trained model\n",
        "model = YOLO('/content/runs/detect/person_detection/weights/best.pt') # Path to the best model weights\n",
        "\n",
        "# Run inference on an image\n",
        "results = model.predict(source='/content/test_image.jpg', save=True, save_txt=True)\n",
        "\n",
        "# Print the results\n",
        "print(results)"
      ]
    },
    {
      "cell_type": "code",
      "execution_count": null,
      "metadata": {
        "id": "ExtaThe5iYBu",
        "colab": {
          "base_uri": "https://localhost:8080/",
          "height": 489
        },
        "outputId": "9ef6470a-ea43-44e8-c670-aaf22e7f7a45"
      },
      "outputs": [
        {
          "output_type": "stream",
          "name": "stdout",
          "text": [
            "Ultralytics YOLOv8.2.81 🚀 Python-3.10.12 torch-2.3.1+cu121 CPU (Intel Xeon 2.20GHz)\n",
            "\n",
            "\u001b[34m\u001b[1mPyTorch:\u001b[0m starting from '/content/runs/detect/person_detection/weights/best.pt' with input shape (1, 3, 640, 640) BCHW and output shape(s) (1, 5, 8400) (6.0 MB)\n",
            "\u001b[31m\u001b[1mrequirements:\u001b[0m Ultralytics requirement ['onnx>=1.12.0'] not found, attempting AutoUpdate...\n",
            "Collecting onnx>=1.12.0\n",
            "  Downloading onnx-1.16.2-cp310-cp310-manylinux_2_17_x86_64.manylinux2014_x86_64.whl.metadata (16 kB)\n",
            "Requirement already satisfied: numpy>=1.20 in /usr/local/lib/python3.10/dist-packages (from onnx>=1.12.0) (1.26.4)\n",
            "Requirement already satisfied: protobuf>=3.20.2 in /usr/local/lib/python3.10/dist-packages (from onnx>=1.12.0) (3.20.3)\n",
            "Downloading onnx-1.16.2-cp310-cp310-manylinux_2_17_x86_64.manylinux2014_x86_64.whl (15.9 MB)\n",
            "   ━━━━━━━━━━━━━━━━━━━━━━━━━━━━━━━━━━━━━━━━ 15.9/15.9 MB 103.1 MB/s eta 0:00:00\n",
            "Installing collected packages: onnx\n",
            "Successfully installed onnx-1.16.2\n",
            "\n",
            "\u001b[31m\u001b[1mrequirements:\u001b[0m AutoUpdate success ✅ 15.3s, installed 1 package: ['onnx>=1.12.0']\n",
            "\u001b[31m\u001b[1mrequirements:\u001b[0m ⚠️ \u001b[1mRestart runtime or rerun command for updates to take effect\u001b[0m\n",
            "\n",
            "\n",
            "\u001b[34m\u001b[1mONNX:\u001b[0m starting export with onnx 1.16.2 opset 17...\n",
            "\u001b[34m\u001b[1mONNX:\u001b[0m export success ✅ 16.9s, saved as '/content/runs/detect/person_detection/weights/best.onnx' (11.7 MB)\n",
            "\n",
            "Export complete (19.2s)\n",
            "Results saved to \u001b[1m/content/runs/detect/person_detection/weights\u001b[0m\n",
            "Predict:         yolo predict task=detect model=/content/runs/detect/person_detection/weights/best.onnx imgsz=640  \n",
            "Validate:        yolo val task=detect model=/content/runs/detect/person_detection/weights/best.onnx imgsz=640 data=/content/dataset.yaml  \n",
            "Visualize:       https://netron.app\n"
          ]
        },
        {
          "output_type": "execute_result",
          "data": {
            "text/plain": [
              "'/content/runs/detect/person_detection/weights/best.onnx'"
            ],
            "application/vnd.google.colaboratory.intrinsic+json": {
              "type": "string"
            }
          },
          "metadata": {},
          "execution_count": 7
        }
      ],
      "source": [
        "# Export the model to ONNX format\n",
        "model.export(format='onnx')\n",
        "\n"
      ]
    }
  ],
  "metadata": {
    "colab": {
      "provenance": []
    },
    "kernelspec": {
      "display_name": "Python 3",
      "name": "python3"
    },
    "language_info": {
      "name": "python"
    }
  },
  "nbformat": 4,
  "nbformat_minor": 0
}